{
 "cells": [
  {
   "cell_type": "markdown",
   "metadata": {},
   "source": [
    "<img width=\"50\" src=\"https://carbonplan-assets.s3.amazonaws.com/monogram/dark-small.png\" style=\"margin-left:0px;margin-top:20px\"/>\n",
    "\n",
    "# FIA Biomass Model\n",
    "\n",
    "_by Jeremy Freeman (CarbonPlan), September 19, 2020_\n",
    "\n",
    "This notebook show examples of fitting predictive biomass growth curves from FIA\n",
    "data\n"
   ]
  },
  {
   "cell_type": "code",
   "execution_count": 1,
   "metadata": {},
   "outputs": [],
   "source": [
    "import numpy as np\n",
    "import pandas as pd\n",
    "from carbonplan_forest_risks import load, setup, plot, fit"
   ]
  },
  {
   "cell_type": "code",
   "execution_count": 2,
   "metadata": {},
   "outputs": [],
   "source": [
    "setup.plotting(remote=True)"
   ]
  },
  {
   "cell_type": "markdown",
   "metadata": {},
   "source": [
    "First we load the data. To speed things up, we'll just load data from\n",
    "California. We load the raw FIA data, as well as two climatic variables `tavg`\n",
    "and `ppt` from the terraclim dataset.\n"
   ]
  },
  {
   "cell_type": "code",
   "execution_count": 3,
   "metadata": {},
   "outputs": [],
   "source": [
    "df = load.fia(store=\"az\", states=\"CA\")\n",
    "df = load.terraclim(\n",
    "    store=\"az\",\n",
    "    tlim=(2000, 2020),\n",
    "    variables=[\"tmean\", \"ppt\"],\n",
    "    df=df,\n",
    ")"
   ]
  },
  {
   "cell_type": "markdown",
   "metadata": {},
   "source": [
    "We'll now pick a single forest type and plot biomass vs age colored by our\n",
    "climatic variables\n"
   ]
  },
  {
   "cell_type": "code",
   "execution_count": 30,
   "metadata": {},
   "outputs": [
    {
     "data": {
      "text/html": [
       "\n",
       "<div id=\"altair-viz-716564c40a2c487a9356d0f5679d29d8\"></div>\n",
       "<script type=\"text/javascript\">\n",
       "  (function(spec, embedOpt){\n",
       "    let outputDiv = document.currentScript.previousElementSibling;\n",
       "    if (outputDiv.id !== \"altair-viz-716564c40a2c487a9356d0f5679d29d8\") {\n",
       "      outputDiv = document.getElementById(\"altair-viz-716564c40a2c487a9356d0f5679d29d8\");\n",
       "    }\n",
       "    const paths = {\n",
       "      \"vega\": \"https://cdn.jsdelivr.net/npm//vega@5?noext\",\n",
       "      \"vega-lib\": \"https://cdn.jsdelivr.net/npm//vega-lib?noext\",\n",
       "      \"vega-lite\": \"https://cdn.jsdelivr.net/npm//vega-lite@4.8.1?noext\",\n",
       "      \"vega-embed\": \"https://cdn.jsdelivr.net/npm//vega-embed@6?noext\",\n",
       "    };\n",
       "\n",
       "    function loadScript(lib) {\n",
       "      return new Promise(function(resolve, reject) {\n",
       "        var s = document.createElement('script');\n",
       "        s.src = paths[lib];\n",
       "        s.async = true;\n",
       "        s.onload = () => resolve(paths[lib]);\n",
       "        s.onerror = () => reject(`Error loading script: ${paths[lib]}`);\n",
       "        document.getElementsByTagName(\"head\")[0].appendChild(s);\n",
       "      });\n",
       "    }\n",
       "\n",
       "    function showError(err) {\n",
       "      outputDiv.innerHTML = `<div class=\"error\" style=\"color:red;\">${err}</div>`;\n",
       "      throw err;\n",
       "    }\n",
       "\n",
       "    function displayChart(vegaEmbed) {\n",
       "      vegaEmbed(outputDiv, spec, embedOpt)\n",
       "        .catch(err => showError(`Javascript Error: ${err.message}<br>This usually means there's a typo in your chart specification. See the javascript console for the full traceback.`));\n",
       "    }\n",
       "\n",
       "    if(typeof define === \"function\" && define.amd) {\n",
       "      requirejs.config({paths});\n",
       "      require([\"vega-embed\"], displayChart, err => showError(`Error loading script: ${err.message}`));\n",
       "    } else if (typeof vegaEmbed === \"function\") {\n",
       "      displayChart(vegaEmbed);\n",
       "    } else {\n",
       "      loadScript(\"vega\")\n",
       "        .then(() => loadScript(\"vega-lite\"))\n",
       "        .then(() => loadScript(\"vega-embed\"))\n",
       "        .catch(showError)\n",
       "        .then(() => displayChart(vegaEmbed));\n",
       "    }\n",
       "  })({\"config\": {\"view\": {\"continuousWidth\": 400, \"continuousHeight\": 300}}, \"hconcat\": [{\"data\": {\"url\": \"/user-redirect/proxy/19159/067b5e63bcef66640af25e1b33676435.json\"}, \"mark\": {\"type\": \"circle\", \"opacity\": 1, \"size\": 42}, \"encoding\": {\"color\": {\"type\": \"quantitative\", \"field\": \"color\", \"legend\": {\"title\": \"tmean_mean\"}, \"scale\": {\"scheme\": \"magma\"}}, \"x\": {\"type\": \"quantitative\", \"axis\": {\"title\": \"age\"}, \"field\": \"x\", \"scale\": {\"clamp\": true, \"domain\": [0, 250]}}, \"y\": {\"type\": \"quantitative\", \"axis\": {\"title\": \"biomass\"}, \"field\": \"y\", \"scale\": {\"clamp\": true, \"domain\": [0, 600]}}}, \"height\": 200, \"width\": 350}, {\"data\": {\"url\": \"/user-redirect/proxy/19159/42e97eb76c49b4ddfe243d42283a689f.json\"}, \"mark\": {\"type\": \"circle\", \"opacity\": 1, \"size\": 42}, \"encoding\": {\"color\": {\"type\": \"quantitative\", \"field\": \"color\", \"legend\": {\"title\": \"ppt_mean\"}, \"scale\": {\"scheme\": \"viridis\"}}, \"x\": {\"type\": \"quantitative\", \"axis\": {\"title\": \"age\"}, \"field\": \"x\", \"scale\": {\"clamp\": true, \"domain\": [0, 250]}}, \"y\": {\"type\": \"quantitative\", \"axis\": {\"title\": \"biomass\"}, \"field\": \"y\", \"scale\": {\"clamp\": true, \"domain\": [0, 600]}}}, \"height\": 200, \"width\": 350}], \"resolve\": {\"scale\": {\"color\": \"independent\"}}, \"$schema\": \"https://vega.github.io/schema/vega-lite/v4.8.1.json\"}, {\"actions\": false, \"mode\": \"vega-lite\"});\n",
       "</script>"
      ],
      "text/plain": [
       "alt.HConcatChart(...)"
      ]
     },
     "execution_count": 30,
     "metadata": {},
     "output_type": "execute_result"
    }
   ],
   "source": [
    "inds = df[\"type_code\"] == 221\n",
    "x = df[inds][\"age\"]\n",
    "y = df[inds][\"biomass\"]\n",
    "f = [df[inds][\"tmean_mean\"], df[inds][\"ppt_mean\"]]\n",
    "(\n",
    "    plot.xy(x=x, y=y, color=f[0], cmap=\"magma\", xlim=[0, 250], ylim=[0, 600])\n",
    "    | plot.xy(\n",
    "        x=x, y=y, color=f[1], cmap=\"viridis\", xlim=[0, 250], ylim=[0, 600]\n",
    "    )\n",
    ").resolve_scale(color=\"independent\")"
   ]
  },
  {
   "cell_type": "markdown",
   "metadata": {},
   "source": [
    "To fit the model to these data we use the `fit.biomass` method\n"
   ]
  },
  {
   "cell_type": "code",
   "execution_count": 31,
   "metadata": {},
   "outputs": [],
   "source": [
    "model = fit.biomass(x=x, y=y, f=f, noise=\"gamma\")"
   ]
  },
  {
   "cell_type": "markdown",
   "metadata": {},
   "source": [
    "We can evaluate `r2` on the training data\n"
   ]
  },
  {
   "cell_type": "code",
   "execution_count": 32,
   "metadata": {},
   "outputs": [
    {
     "data": {
      "text/plain": [
       "0.24534992472586492"
      ]
     },
     "execution_count": 32,
     "metadata": {},
     "output_type": "execute_result"
    }
   ],
   "source": [
    "model.r2(x, f, y)"
   ]
  },
  {
   "cell_type": "markdown",
   "metadata": {},
   "source": [
    "And we can plot the fitted curves. When plotting, we show curves for different\n",
    "levels of the climatic variables, to show the form of dependency.\n"
   ]
  },
  {
   "cell_type": "code",
   "execution_count": 37,
   "metadata": {},
   "outputs": [
    {
     "data": {
      "text/html": [
       "\n",
       "<div id=\"altair-viz-716aa2b962dc4b1990d4ac4d525dc61d\"></div>\n",
       "<script type=\"text/javascript\">\n",
       "  (function(spec, embedOpt){\n",
       "    let outputDiv = document.currentScript.previousElementSibling;\n",
       "    if (outputDiv.id !== \"altair-viz-716aa2b962dc4b1990d4ac4d525dc61d\") {\n",
       "      outputDiv = document.getElementById(\"altair-viz-716aa2b962dc4b1990d4ac4d525dc61d\");\n",
       "    }\n",
       "    const paths = {\n",
       "      \"vega\": \"https://cdn.jsdelivr.net/npm//vega@5?noext\",\n",
       "      \"vega-lib\": \"https://cdn.jsdelivr.net/npm//vega-lib?noext\",\n",
       "      \"vega-lite\": \"https://cdn.jsdelivr.net/npm//vega-lite@4.8.1?noext\",\n",
       "      \"vega-embed\": \"https://cdn.jsdelivr.net/npm//vega-embed@6?noext\",\n",
       "    };\n",
       "\n",
       "    function loadScript(lib) {\n",
       "      return new Promise(function(resolve, reject) {\n",
       "        var s = document.createElement('script');\n",
       "        s.src = paths[lib];\n",
       "        s.async = true;\n",
       "        s.onload = () => resolve(paths[lib]);\n",
       "        s.onerror = () => reject(`Error loading script: ${paths[lib]}`);\n",
       "        document.getElementsByTagName(\"head\")[0].appendChild(s);\n",
       "      });\n",
       "    }\n",
       "\n",
       "    function showError(err) {\n",
       "      outputDiv.innerHTML = `<div class=\"error\" style=\"color:red;\">${err}</div>`;\n",
       "      throw err;\n",
       "    }\n",
       "\n",
       "    function displayChart(vegaEmbed) {\n",
       "      vegaEmbed(outputDiv, spec, embedOpt)\n",
       "        .catch(err => showError(`Javascript Error: ${err.message}<br>This usually means there's a typo in your chart specification. See the javascript console for the full traceback.`));\n",
       "    }\n",
       "\n",
       "    if(typeof define === \"function\" && define.amd) {\n",
       "      requirejs.config({paths});\n",
       "      require([\"vega-embed\"], displayChart, err => showError(`Error loading script: ${err.message}`));\n",
       "    } else if (typeof vegaEmbed === \"function\") {\n",
       "      displayChart(vegaEmbed);\n",
       "    } else {\n",
       "      loadScript(\"vega\")\n",
       "        .then(() => loadScript(\"vega-lite\"))\n",
       "        .then(() => loadScript(\"vega-embed\"))\n",
       "        .catch(showError)\n",
       "        .then(() => displayChart(vegaEmbed));\n",
       "    }\n",
       "  })({\"config\": {\"view\": {\"continuousWidth\": 400, \"continuousHeight\": 300}}, \"hconcat\": [{\"layer\": [{\"data\": {\"url\": \"/user-redirect/proxy/19159/067b5e63bcef66640af25e1b33676435.json\"}, \"mark\": {\"type\": \"circle\", \"opacity\": 1, \"size\": 42}, \"encoding\": {\"color\": {\"type\": \"quantitative\", \"field\": \"color\", \"legend\": {\"title\": \"tmean_mean\"}, \"scale\": {\"scheme\": \"magma\"}}, \"x\": {\"type\": \"quantitative\", \"axis\": {\"title\": \"age\"}, \"field\": \"x\", \"scale\": {\"clamp\": true, \"domain\": [0, 250]}}, \"y\": {\"type\": \"quantitative\", \"axis\": {\"title\": \"biomass\"}, \"field\": \"y\", \"scale\": {\"clamp\": true, \"domain\": [0, 700]}}}, \"height\": 200, \"width\": 350}, {\"data\": {\"url\": \"/user-redirect/proxy/19159/9320d812a47155877864c689f0681047.json\"}, \"mark\": {\"type\": \"line\", \"opacity\": 1, \"strokeWidth\": 2}, \"encoding\": {\"color\": {\"type\": \"quantitative\", \"field\": \"color\", \"scale\": {\"scheme\": \"viridis\"}}, \"x\": {\"type\": \"quantitative\", \"axis\": {\"title\": \"age\"}, \"field\": \"x\"}, \"y\": {\"type\": \"quantitative\", \"axis\": {\"title\": \"age\"}, \"field\": \"y\"}}, \"height\": 200, \"width\": 350}, {\"data\": {\"url\": \"/user-redirect/proxy/19159/f3fc71647d1f8688ca04eca5f88a8f12.json\"}, \"mark\": {\"type\": \"line\", \"opacity\": 1, \"strokeWidth\": 2}, \"encoding\": {\"color\": {\"type\": \"quantitative\", \"field\": \"color\", \"scale\": {\"scheme\": \"viridis\"}}, \"x\": {\"type\": \"quantitative\", \"axis\": {\"title\": \"age\"}, \"field\": \"x\"}, \"y\": {\"type\": \"quantitative\", \"axis\": {\"title\": \"age\"}, \"field\": \"y\"}}, \"height\": 200, \"width\": 350}]}, {\"layer\": [{\"data\": {\"url\": \"/user-redirect/proxy/19159/42e97eb76c49b4ddfe243d42283a689f.json\"}, \"mark\": {\"type\": \"circle\", \"opacity\": 1, \"size\": 42}, \"encoding\": {\"color\": {\"type\": \"quantitative\", \"field\": \"color\", \"legend\": {\"title\": \"ppt_mean\"}, \"scale\": {\"scheme\": \"viridis\"}}, \"x\": {\"type\": \"quantitative\", \"axis\": {\"title\": \"age\"}, \"field\": \"x\", \"scale\": {\"clamp\": true, \"domain\": [0, 250]}}, \"y\": {\"type\": \"quantitative\", \"axis\": {\"title\": \"biomass\"}, \"field\": \"y\", \"scale\": {\"clamp\": true, \"domain\": [0, 700]}}}, \"height\": 200, \"width\": 350}, {\"data\": {\"url\": \"/user-redirect/proxy/19159/a138d5baf77526328e5e1278e37098fb.json\"}, \"mark\": {\"type\": \"line\", \"opacity\": 1, \"strokeWidth\": 2}, \"encoding\": {\"color\": {\"type\": \"quantitative\", \"field\": \"color\", \"scale\": {\"scheme\": \"viridis\"}}, \"x\": {\"type\": \"quantitative\", \"axis\": {\"title\": \"age\"}, \"field\": \"x\"}, \"y\": {\"type\": \"quantitative\", \"axis\": {\"title\": \"age\"}, \"field\": \"y\"}}, \"height\": 200, \"width\": 350}, {\"data\": {\"url\": \"/user-redirect/proxy/19159/4c6ef8d43114bfaf64227f440baf7320.json\"}, \"mark\": {\"type\": \"line\", \"opacity\": 1, \"strokeWidth\": 2}, \"encoding\": {\"color\": {\"type\": \"quantitative\", \"field\": \"color\", \"scale\": {\"scheme\": \"viridis\"}}, \"x\": {\"type\": \"quantitative\", \"axis\": {\"title\": \"age\"}, \"field\": \"x\"}, \"y\": {\"type\": \"quantitative\", \"axis\": {\"title\": \"age\"}, \"field\": \"y\"}}, \"height\": 200, \"width\": 350}]}], \"resolve\": {\"scale\": {\"color\": \"independent\"}}, \"$schema\": \"https://vega.github.io/schema/vega-lite/v4.8.1.json\"}, {\"actions\": false, \"mode\": \"vega-lite\"});\n",
       "</script>"
      ],
      "text/plain": [
       "alt.HConcatChart(...)"
      ]
     },
     "execution_count": 37,
     "metadata": {},
     "output_type": "execute_result"
    }
   ],
   "source": [
    "xlim = [0, 250]\n",
    "ylim = [0, 700]\n",
    "(\n",
    "    (\n",
    "        plot.xy(x=x, y=y, color=f[0], cmap=\"magma\", xlim=xlim, ylim=ylim)\n",
    "        + plot.line(\n",
    "            x=x,\n",
    "            y=model.predict(x, f, [90, 50]),\n",
    "            color=np.nanpercentile(f[0], 90),\n",
    "        )\n",
    "        + plot.line(\n",
    "            x=x,\n",
    "            y=model.predict(x, f, [10, 50]),\n",
    "            color=np.nanpercentile(f[0], 10),\n",
    "        )\n",
    "    )\n",
    "    | (\n",
    "        plot.xy(x=x, y=y, color=f[1], cmap=\"viridis\", xlim=xlim, ylim=ylim)\n",
    "        + plot.line(\n",
    "            x=x,\n",
    "            y=model.predict(x, f, [50, 10]),\n",
    "            color=np.nanpercentile(f[1], 10),\n",
    "        )\n",
    "        + plot.line(\n",
    "            x=x,\n",
    "            y=model.predict(x, f, [50, 90]),\n",
    "            color=np.nanpercentile(f[1], 90),\n",
    "        )\n",
    "    )\n",
    ").resolve_scale(color=\"independent\")"
   ]
  },
  {
   "cell_type": "markdown",
   "metadata": {},
   "source": [
    "As an inspection of model validity, we can plot the raw data and a sample from\n",
    "the generative process underlying the model using the fitted parameters\n",
    "(specifically, the fitted growth curve, and the Gamma noise model). It should\n",
    "look qualatatively similar to the actual data. In particular, note how the noise\n",
    "grows with age, and there are no negative values.\n"
   ]
  },
  {
   "cell_type": "code",
   "execution_count": 35,
   "metadata": {},
   "outputs": [
    {
     "data": {
      "text/html": [
       "\n",
       "<div id=\"altair-viz-bc49578f2680456887c8c80f50142829\"></div>\n",
       "<script type=\"text/javascript\">\n",
       "  (function(spec, embedOpt){\n",
       "    let outputDiv = document.currentScript.previousElementSibling;\n",
       "    if (outputDiv.id !== \"altair-viz-bc49578f2680456887c8c80f50142829\") {\n",
       "      outputDiv = document.getElementById(\"altair-viz-bc49578f2680456887c8c80f50142829\");\n",
       "    }\n",
       "    const paths = {\n",
       "      \"vega\": \"https://cdn.jsdelivr.net/npm//vega@5?noext\",\n",
       "      \"vega-lib\": \"https://cdn.jsdelivr.net/npm//vega-lib?noext\",\n",
       "      \"vega-lite\": \"https://cdn.jsdelivr.net/npm//vega-lite@4.8.1?noext\",\n",
       "      \"vega-embed\": \"https://cdn.jsdelivr.net/npm//vega-embed@6?noext\",\n",
       "    };\n",
       "\n",
       "    function loadScript(lib) {\n",
       "      return new Promise(function(resolve, reject) {\n",
       "        var s = document.createElement('script');\n",
       "        s.src = paths[lib];\n",
       "        s.async = true;\n",
       "        s.onload = () => resolve(paths[lib]);\n",
       "        s.onerror = () => reject(`Error loading script: ${paths[lib]}`);\n",
       "        document.getElementsByTagName(\"head\")[0].appendChild(s);\n",
       "      });\n",
       "    }\n",
       "\n",
       "    function showError(err) {\n",
       "      outputDiv.innerHTML = `<div class=\"error\" style=\"color:red;\">${err}</div>`;\n",
       "      throw err;\n",
       "    }\n",
       "\n",
       "    function displayChart(vegaEmbed) {\n",
       "      vegaEmbed(outputDiv, spec, embedOpt)\n",
       "        .catch(err => showError(`Javascript Error: ${err.message}<br>This usually means there's a typo in your chart specification. See the javascript console for the full traceback.`));\n",
       "    }\n",
       "\n",
       "    if(typeof define === \"function\" && define.amd) {\n",
       "      requirejs.config({paths});\n",
       "      require([\"vega-embed\"], displayChart, err => showError(`Error loading script: ${err.message}`));\n",
       "    } else if (typeof vegaEmbed === \"function\") {\n",
       "      displayChart(vegaEmbed);\n",
       "    } else {\n",
       "      loadScript(\"vega\")\n",
       "        .then(() => loadScript(\"vega-lite\"))\n",
       "        .then(() => loadScript(\"vega-embed\"))\n",
       "        .catch(showError)\n",
       "        .then(() => displayChart(vegaEmbed));\n",
       "    }\n",
       "  })({\"config\": {\"view\": {\"continuousWidth\": 400, \"continuousHeight\": 300}}, \"hconcat\": [{\"layer\": [{\"data\": {\"url\": \"/user-redirect/proxy/19159/c66e89fbf40ffcd12f0116b2aec5300c.json\"}, \"mark\": {\"type\": \"circle\", \"color\": \"black\", \"fill\": \"black\", \"opacity\": 1, \"size\": 42}, \"encoding\": {\"x\": {\"type\": \"quantitative\", \"axis\": {\"title\": \"age\"}, \"field\": \"x\", \"scale\": {\"clamp\": true, \"domain\": [0, 250]}}, \"y\": {\"type\": \"quantitative\", \"axis\": {\"title\": \"biomass\"}, \"field\": \"y\", \"scale\": {\"clamp\": true, \"domain\": [-200, 700]}}}, \"height\": 200, \"width\": 350}, {\"data\": {\"url\": \"/user-redirect/proxy/19159/b383524b34316f95c14e203bfc6a2cb0.json\"}, \"mark\": {\"type\": \"line\", \"color\": \"#EA9755\", \"opacity\": 1, \"strokeWidth\": 2}, \"encoding\": {\"x\": {\"type\": \"quantitative\", \"axis\": {\"title\": \"age\"}, \"field\": \"x\"}, \"y\": {\"type\": \"quantitative\", \"axis\": {\"title\": \"age\"}, \"field\": \"y\"}}, \"height\": 200, \"width\": 350}]}, {\"layer\": [{\"data\": {\"url\": \"/user-redirect/proxy/19159/b7dcac9b5212b868471d2bb984bc8163.json\"}, \"mark\": {\"type\": \"circle\", \"color\": \"black\", \"fill\": \"black\", \"opacity\": 1, \"size\": 42}, \"encoding\": {\"x\": {\"type\": \"quantitative\", \"axis\": {\"title\": \"age\"}, \"field\": \"x\", \"scale\": {\"clamp\": true, \"domain\": [0, 250]}}, \"y\": {\"type\": \"quantitative\", \"axis\": {\"title\": \"y\"}, \"field\": \"y\", \"scale\": {\"clamp\": true, \"domain\": [-200, 700]}}}, \"height\": 200, \"width\": 350}, {\"data\": {\"url\": \"/user-redirect/proxy/19159/b383524b34316f95c14e203bfc6a2cb0.json\"}, \"mark\": {\"type\": \"line\", \"color\": \"#EA9755\", \"opacity\": 1, \"strokeWidth\": 2}, \"encoding\": {\"x\": {\"type\": \"quantitative\", \"axis\": {\"title\": \"age\"}, \"field\": \"x\"}, \"y\": {\"type\": \"quantitative\", \"axis\": {\"title\": \"age\"}, \"field\": \"y\"}}, \"height\": 200, \"width\": 350}]}], \"$schema\": \"https://vega.github.io/schema/vega-lite/v4.8.1.json\"}, {\"actions\": false, \"mode\": \"vega-lite\"});\n",
       "</script>"
      ],
      "text/plain": [
       "alt.HConcatChart(...)"
      ]
     },
     "execution_count": 35,
     "metadata": {},
     "output_type": "execute_result"
    }
   ],
   "source": [
    "xlim = [0, 250]\n",
    "ylim = [-200, 700]\n",
    "(\n",
    "    (\n",
    "        plot.xy(x=x, y=y, xlim=xlim, ylim=ylim)\n",
    "        + plot.line(x=x, y=model.predict(x, f, [50, 50]))\n",
    "    )\n",
    "    | (\n",
    "        plot.xy(x=x, y=model.sample(x, f), xlim=xlim, ylim=ylim)\n",
    "        + plot.line(x=x, y=model.predict(x, f, [50, 50]))\n",
    "    )\n",
    ")"
   ]
  },
  {
   "cell_type": "markdown",
   "metadata": {},
   "source": [
    "We can set the noise to `'normal'` instead of `'gamma'` and see that the sampled\n",
    "data no longer matches the real data. While the fitted curve is similar, the\n",
    "variability is too high for low ages, and there are negative predictions where\n",
    "there shouldn't be! These behaviors help justify the choice of Gamma\n",
    "distribution.\n"
   ]
  },
  {
   "cell_type": "code",
   "execution_count": 46,
   "metadata": {},
   "outputs": [
    {
     "name": "stdout",
     "output_type": "stream",
     "text": [
      "optimization failed\n"
     ]
    }
   ],
   "source": [
    "model = fit.biomass(x=x, y=y, f=f, noise=\"normal\")"
   ]
  },
  {
   "cell_type": "code",
   "execution_count": 36,
   "metadata": {},
   "outputs": [
    {
     "data": {
      "text/html": [
       "\n",
       "<div id=\"altair-viz-fbccf9688db141f689d5ab4501694eb6\"></div>\n",
       "<script type=\"text/javascript\">\n",
       "  (function(spec, embedOpt){\n",
       "    let outputDiv = document.currentScript.previousElementSibling;\n",
       "    if (outputDiv.id !== \"altair-viz-fbccf9688db141f689d5ab4501694eb6\") {\n",
       "      outputDiv = document.getElementById(\"altair-viz-fbccf9688db141f689d5ab4501694eb6\");\n",
       "    }\n",
       "    const paths = {\n",
       "      \"vega\": \"https://cdn.jsdelivr.net/npm//vega@5?noext\",\n",
       "      \"vega-lib\": \"https://cdn.jsdelivr.net/npm//vega-lib?noext\",\n",
       "      \"vega-lite\": \"https://cdn.jsdelivr.net/npm//vega-lite@4.8.1?noext\",\n",
       "      \"vega-embed\": \"https://cdn.jsdelivr.net/npm//vega-embed@6?noext\",\n",
       "    };\n",
       "\n",
       "    function loadScript(lib) {\n",
       "      return new Promise(function(resolve, reject) {\n",
       "        var s = document.createElement('script');\n",
       "        s.src = paths[lib];\n",
       "        s.async = true;\n",
       "        s.onload = () => resolve(paths[lib]);\n",
       "        s.onerror = () => reject(`Error loading script: ${paths[lib]}`);\n",
       "        document.getElementsByTagName(\"head\")[0].appendChild(s);\n",
       "      });\n",
       "    }\n",
       "\n",
       "    function showError(err) {\n",
       "      outputDiv.innerHTML = `<div class=\"error\" style=\"color:red;\">${err}</div>`;\n",
       "      throw err;\n",
       "    }\n",
       "\n",
       "    function displayChart(vegaEmbed) {\n",
       "      vegaEmbed(outputDiv, spec, embedOpt)\n",
       "        .catch(err => showError(`Javascript Error: ${err.message}<br>This usually means there's a typo in your chart specification. See the javascript console for the full traceback.`));\n",
       "    }\n",
       "\n",
       "    if(typeof define === \"function\" && define.amd) {\n",
       "      requirejs.config({paths});\n",
       "      require([\"vega-embed\"], displayChart, err => showError(`Error loading script: ${err.message}`));\n",
       "    } else if (typeof vegaEmbed === \"function\") {\n",
       "      displayChart(vegaEmbed);\n",
       "    } else {\n",
       "      loadScript(\"vega\")\n",
       "        .then(() => loadScript(\"vega-lite\"))\n",
       "        .then(() => loadScript(\"vega-embed\"))\n",
       "        .catch(showError)\n",
       "        .then(() => displayChart(vegaEmbed));\n",
       "    }\n",
       "  })({\"config\": {\"view\": {\"continuousWidth\": 400, \"continuousHeight\": 300}}, \"hconcat\": [{\"layer\": [{\"data\": {\"url\": \"/user-redirect/proxy/19159/c66e89fbf40ffcd12f0116b2aec5300c.json\"}, \"mark\": {\"type\": \"circle\", \"color\": \"black\", \"fill\": \"black\", \"opacity\": 1, \"size\": 42}, \"encoding\": {\"x\": {\"type\": \"quantitative\", \"axis\": {\"title\": \"age\"}, \"field\": \"x\", \"scale\": {\"clamp\": true, \"domain\": [0, 250]}}, \"y\": {\"type\": \"quantitative\", \"axis\": {\"title\": \"biomass\"}, \"field\": \"y\", \"scale\": {\"clamp\": true, \"domain\": [-200, 700]}}}, \"height\": 200, \"width\": 350}, {\"data\": {\"url\": \"/user-redirect/proxy/19159/b383524b34316f95c14e203bfc6a2cb0.json\"}, \"mark\": {\"type\": \"line\", \"color\": \"#EA9755\", \"opacity\": 1, \"strokeWidth\": 2}, \"encoding\": {\"x\": {\"type\": \"quantitative\", \"axis\": {\"title\": \"age\"}, \"field\": \"x\"}, \"y\": {\"type\": \"quantitative\", \"axis\": {\"title\": \"age\"}, \"field\": \"y\"}}, \"height\": 200, \"width\": 350}]}, {\"layer\": [{\"data\": {\"url\": \"/user-redirect/proxy/19159/efba5f728af78dcb0dcc33fe410fa857.json\"}, \"mark\": {\"type\": \"circle\", \"color\": \"black\", \"fill\": \"black\", \"opacity\": 1, \"size\": 42}, \"encoding\": {\"x\": {\"type\": \"quantitative\", \"axis\": {\"title\": \"age\"}, \"field\": \"x\", \"scale\": {\"clamp\": true, \"domain\": [0, 250]}}, \"y\": {\"type\": \"quantitative\", \"axis\": {\"title\": \"y\"}, \"field\": \"y\", \"scale\": {\"clamp\": true, \"domain\": [-200, 700]}}}, \"height\": 200, \"width\": 350}, {\"data\": {\"url\": \"/user-redirect/proxy/19159/b383524b34316f95c14e203bfc6a2cb0.json\"}, \"mark\": {\"type\": \"line\", \"color\": \"#EA9755\", \"opacity\": 1, \"strokeWidth\": 2}, \"encoding\": {\"x\": {\"type\": \"quantitative\", \"axis\": {\"title\": \"age\"}, \"field\": \"x\"}, \"y\": {\"type\": \"quantitative\", \"axis\": {\"title\": \"age\"}, \"field\": \"y\"}}, \"height\": 200, \"width\": 350}]}], \"$schema\": \"https://vega.github.io/schema/vega-lite/v4.8.1.json\"}, {\"actions\": false, \"mode\": \"vega-lite\"});\n",
       "</script>"
      ],
      "text/plain": [
       "alt.HConcatChart(...)"
      ]
     },
     "execution_count": 36,
     "metadata": {},
     "output_type": "execute_result"
    }
   ],
   "source": [
    "xlim = [0, 250]\n",
    "ylim = [-200, 700]\n",
    "(\n",
    "    (\n",
    "        plot.xy(x=x, y=y, xlim=xlim, ylim=ylim)\n",
    "        + plot.line(x=x, y=model.predict(x, f, [50, 50]))\n",
    "    )\n",
    "    | (\n",
    "        plot.xy(x=x, y=model.sample(x, f), xlim=xlim, ylim=ylim)\n",
    "        + plot.line(x=x, y=model.predict(x, f, [50, 50]))\n",
    "    )\n",
    ")"
   ]
  },
  {
   "cell_type": "code",
   "execution_count": null,
   "metadata": {},
   "outputs": [],
   "source": []
  }
 ],
 "metadata": {
  "kernelspec": {
   "display_name": "Python 3",
   "language": "python",
   "name": "python3"
  },
  "language_info": {
   "codemirror_mode": {
    "name": "ipython",
    "version": 3
   },
   "file_extension": ".py",
   "mimetype": "text/x-python",
   "name": "python",
   "nbconvert_exporter": "python",
   "pygments_lexer": "ipython3",
   "version": "3.8.8"
  }
 },
 "nbformat": 4,
 "nbformat_minor": 4
}
