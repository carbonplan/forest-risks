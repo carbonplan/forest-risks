{
 "cells": [
  {
   "cell_type": "markdown",
   "id": "settled-printing",
   "metadata": {},
   "source": [
    "<img width=\"50\" src=\"https://carbonplan-assets.s3.amazonaws.com/monogram/dark-small.png\" style=\"margin-left:0px;margin-top:20px\"/>\n",
    "\n",
    "# Figure 4: Future projections\n",
    "\n",
    "_Authors: Oriana Chegwidden and Jeremy Freeman_\n",
    "\n",
    "The methods below conduct the analyses to recreate Figure 4 included the\n",
    "manuscript <<< insert doi >>>. Future risks for fire. We show median changes in\n",
    "risk with respect to the historic.\n"
   ]
  },
  {
   "cell_type": "code",
   "execution_count": null,
   "id": "crucial-meeting",
   "metadata": {},
   "outputs": [],
   "source": [
    "%load_ext autoreload\n",
    "%autoreload 2\n",
    "\n",
    "import numpy as np\n",
    "import pandas as pd\n",
    "import scipy as sp\n",
    "from carbonplan_forests import load, setup, plot, fit, utils, prepare, collect\n",
    "import xarray as xr\n",
    "from carbonplan_forests.utils import get_store\n"
   ]
  },
  {
   "cell_type": "code",
   "execution_count": null,
   "id": "greenhouse-enforcement",
   "metadata": {},
   "outputs": [],
   "source": [
    "%matplotlib inline\n",
    "import matplotlib.pyplot as plt\n",
    "from carbonplan_forests import load, setup, plot, fit, utils, prepare, collect\n",
    "from showit import image\n",
    "import scipy as sp\n",
    "import numpy as np\n",
    "import pandas as pd\n",
    "import xarray as xr\n",
    "import geopandas as gpd\n",
    "import regionmask as rm\n",
    "from scipy.stats import binom\n",
    "import altair as alt\n",
    "\n",
    "from palettable.colorbrewer.sequential import YlOrRd_9\n",
    "import altair as alt\n",
    "\n",
    "alt.themes.enable(\"carbonplan_light\")"
   ]
  },
  {
   "cell_type": "code",
   "execution_count": null,
   "id": "korean-material",
   "metadata": {},
   "outputs": [],
   "source": [
    "coarsen = 8\n",
    "store = \"az\"\n",
    "tlim = (\"1984\", \"2018\")"
   ]
  },
  {
   "cell_type": "code",
   "execution_count": null,
   "id": "circular-oracle",
   "metadata": {},
   "outputs": [],
   "source": [
    "mask = load.mask(store=store, year=2001)"
   ]
  },
  {
   "cell_type": "code",
   "execution_count": null,
   "id": "hourly-philosophy",
   "metadata": {},
   "outputs": [],
   "source": [
    "nlcd = load.nlcd(store=store, year=2001, coarsen=coarsen, mask=mask)\n",
    "nftd = load.nftd(store=store, area_threshold=1500, coarsen=coarsen, mask=mask)"
   ]
  },
  {
   "cell_type": "code",
   "execution_count": null,
   "id": "theoretical-assignment",
   "metadata": {},
   "outputs": [],
   "source": [
    "mask_coarsened = load.mask(store=store, year=2001, coarsen=coarsen)"
   ]
  },
  {
   "cell_type": "code",
   "execution_count": null,
   "id": "republican-marshall",
   "metadata": {},
   "outputs": [],
   "source": [
    "mtbs = load.mtbs(store=store, coarsen=coarsen, tlim=tlim, mask=mask)\n",
    "# give it the same x/y coords as nftd (and nlcd and climate)\n",
    "# this re-assignment will help us with some masking lower down\n",
    "mtbs = mtbs.assign_coords({\"x\": nftd.x, \"y\": nftd.y})"
   ]
  },
  {
   "cell_type": "code",
   "execution_count": null,
   "id": "irish-madison",
   "metadata": {},
   "outputs": [],
   "source": [
    "alt.data_transformers.disable_max_rows()"
   ]
  },
  {
   "cell_type": "code",
   "execution_count": null,
   "id": "included-terror",
   "metadata": {},
   "outputs": [],
   "source": [
    "for setup in [\"_temp_precip\"]:  # , '']:\n",
    "    simulation = xr.open_zarr(\n",
    "        get_store(\"carbonplan-scratch\", \"data/fire_future{}.zarr\".format(setup))\n",
    "    ).assign_coords({\"x\": mask_coarsened.x, \"y\": mask_coarsened.y})\n",
    "    #     historical_ds = xr.open_zarr(get_store(\"carbonplan-scratch\", \"data/fire{}.zarr\".format(setup))).assign_coords({\"x\": mask_coarsened.x, \"y\": mask_coarsened.y})\n",
    "    coarsened_historical = (\n",
    "        historical_ds.sel(time=slice(\"1989\", \"2018\"))\n",
    "        .coarsen(time=120)\n",
    "        .sum()\n",
    "        .load()\n",
    "        / 10\n",
    "    )\n",
    "    historical_df = coarsened_historical.mean(dim=[\"x\", \"y\"]).to_dataframe()\n",
    "    decadal_averages = plot.fire.calc_decadal_averages(simulation)\n",
    "    plot.fire.future_ts(\n",
    "        decadal_averages.where(mask_coarsened),\n",
    "        historical=historical_df,\n",
    "        domain=(0, 0.05),\n",
    "    )"
   ]
  },
  {
   "cell_type": "markdown",
   "id": "featured-harmony",
   "metadata": {},
   "source": [
    "# Original\n"
   ]
  },
  {
   "cell_type": "code",
   "execution_count": null,
   "id": "standing-catholic",
   "metadata": {},
   "outputs": [],
   "source": [
    "plot.fire.future_ts(\n",
    "    decadal_averages.where(mask_coarsened),\n",
    "    historical=historical_df,\n",
    "    domain=(0, 0.05),\n",
    ")"
   ]
  },
  {
   "cell_type": "markdown",
   "id": "intellectual-speech",
   "metadata": {},
   "source": [
    "# Just temp\n"
   ]
  },
  {
   "cell_type": "code",
   "execution_count": null,
   "id": "mysterious-transfer",
   "metadata": {},
   "outputs": [],
   "source": [
    "plot.fire.future_ts(\n",
    "    decadal_averages.where(mask_coarsened),\n",
    "    historical=historical_df,\n",
    "    domain=(0, 0.2),\n",
    ")"
   ]
  },
  {
   "cell_type": "markdown",
   "id": "rubber-episode",
   "metadata": {},
   "source": [
    "# Temp + Precip\n"
   ]
  },
  {
   "cell_type": "code",
   "execution_count": null,
   "id": "separate-sampling",
   "metadata": {},
   "outputs": [],
   "source": [
    "plot.fire.future_ts(\n",
    "    decadal_averages.where(mask_coarsened),\n",
    "    historical=historical_df,\n",
    "    domain=(0, 0.02),\n",
    ")"
   ]
  },
  {
   "cell_type": "markdown",
   "id": "animal-millennium",
   "metadata": {},
   "source": [
    "# Temp + Precip + CWD\n"
   ]
  },
  {
   "cell_type": "code",
   "execution_count": null,
   "id": "young-short",
   "metadata": {},
   "outputs": [],
   "source": [
    "plot.fire.future_ts(\n",
    "    decadal_averages.where(mask_coarsened),\n",
    "    historical=historical_df,\n",
    "    domain=(0, 0.015),\n",
    ")"
   ]
  }
 ],
 "metadata": {
  "kernelspec": {
   "display_name": "Python [conda env:notebook] *",
   "language": "python",
   "name": "conda-env-notebook-py"
  },
  "language_info": {
   "codemirror_mode": {
    "name": "ipython",
    "version": 3
   },
   "file_extension": ".py",
   "mimetype": "text/x-python",
   "name": "python",
   "nbconvert_exporter": "python",
   "pygments_lexer": "ipython3",
   "version": "3.7.9"
  }
 },
 "nbformat": 4,
 "nbformat_minor": 5
}
