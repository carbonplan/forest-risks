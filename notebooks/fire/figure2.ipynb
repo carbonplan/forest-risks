{
 "cells": [
  {
   "cell_type": "markdown",
   "id": "stopped-width",
   "metadata": {},
   "source": [
    "<img width=\"50\" src=\"https://carbonplan-assets.s3.amazonaws.com/monogram/dark-small.png\" style=\"margin-left:0px;margin-top:20px\"/>\n",
    "\n",
    "# Figure 2: Comparing impact-specific measures of performance\n",
    "\n",
    "_Authors: Oriana Chegwidden and Jeremy Freeman_\n",
    "\n",
    "The methods below conduct the analyses to recreate Figure 2 included the\n",
    "manuscript <<< insert doi >>>.\n"
   ]
  },
  {
   "cell_type": "code",
   "execution_count": null,
   "id": "efficient-education",
   "metadata": {},
   "outputs": [],
   "source": [
    "%load_ext autoreload\n",
    "%autoreload 2\n",
    "\n",
    "import numpy as np\n",
    "import pandas as pd\n",
    "import scipy as sp\n",
    "from carbonplan_forests import load, setup, plot, fit, utils, prepare, collect\n",
    "import xarray as xr\n",
    "from carbonplan_forests.utils import get_store\n",
    "import altair as alt"
   ]
  },
  {
   "cell_type": "code",
   "execution_count": null,
   "id": "frank-quilt",
   "metadata": {},
   "outputs": [],
   "source": [
    "import warnings\n",
    "\n",
    "warnings.filterwarnings(\"ignore\")"
   ]
  },
  {
   "cell_type": "code",
   "execution_count": null,
   "id": "deluxe-aurora",
   "metadata": {},
   "outputs": [],
   "source": [
    "coarsen = 4\n",
    "\n",
    "store = \"az\"\n",
    "tlim = (\"1984\", \"2018\")"
   ]
  },
  {
   "cell_type": "markdown",
   "id": "facial-toner",
   "metadata": {},
   "source": [
    "## Load in the fire timeseries data\n",
    "\n",
    "#### Observations\n"
   ]
  },
  {
   "cell_type": "code",
   "execution_count": null,
   "id": "lyric-complement",
   "metadata": {},
   "outputs": [],
   "source": [
    "mask = mask = (\n",
    "    load.nlcd(store=store, year=2001).sel(band=[41, 42, 43, 90]).sum(\"band\")\n",
    "    > 0.25\n",
    ").astype(\"float\")"
   ]
  },
  {
   "cell_type": "code",
   "execution_count": null,
   "id": "specific-participation",
   "metadata": {},
   "outputs": [],
   "source": [
    "nlcd = load.nlcd(store=store, year=2001, coarsen=coarsen, mask=mask)\n",
    "nftd = load.nftd(store=store, area_threshold=1500, coarsen=coarsen, mask=mask)"
   ]
  },
  {
   "cell_type": "code",
   "execution_count": null,
   "id": "infectious-filename",
   "metadata": {},
   "outputs": [],
   "source": [
    "mtbs = load.mtbs(store=store, coarsen=coarsen, tlim=tlim, mask=mask)\n",
    "# give it the same x/y coords as nftd (and nlcd and climate)\n",
    "# this re-assignment will help us with some masking lower down\n",
    "mtbs = mtbs.assign_coords({\"x\": nftd.x, \"y\": nftd.y})"
   ]
  },
  {
   "cell_type": "code",
   "execution_count": null,
   "id": "usual-trigger",
   "metadata": {},
   "outputs": [],
   "source": [
    "alt.data_transformers.disable_max_rows()"
   ]
  },
  {
   "cell_type": "markdown",
   "id": "generous-calgary",
   "metadata": {},
   "source": [
    "#### Historical\n"
   ]
  },
  {
   "cell_type": "code",
   "execution_count": null,
   "id": "alpha-wallet",
   "metadata": {},
   "outputs": [],
   "source": [
    "historical_ds = xr.open_zarr(\n",
    "    get_store(\"carbonplan-scratch\", \"data/fire_historical_v2.zarr\")\n",
    ")"
   ]
  },
  {
   "cell_type": "markdown",
   "id": "cordless-burden",
   "metadata": {},
   "source": [
    "## Load in the drought and biotic agent forest type analyses\n"
   ]
  },
  {
   "cell_type": "markdown",
   "id": "least-welding",
   "metadata": {},
   "source": [
    "#### Observations\n"
   ]
  },
  {
   "cell_type": "markdown",
   "id": "ceramic-reference",
   "metadata": {},
   "source": [
    "#### Historical simulation\n"
   ]
  },
  {
   "cell_type": "markdown",
   "id": "serious-wireless",
   "metadata": {},
   "source": [
    "## Plot the joint figure\n"
   ]
  },
  {
   "cell_type": "code",
   "execution_count": null,
   "id": "distributed-central",
   "metadata": {},
   "outputs": [],
   "source": [
    "figure = alt.hconcat()\n",
    "fire_ts = plot.fire.evaluation(\n",
    "    mtbs,\n",
    "    historical_ds,\n",
    "    data_var=\"monthly\",\n",
    "    model_var=\"historical\",\n",
    "    clim=(0.0001, 0.005),\n",
    "    add_map=False,\n",
    ")\n",
    "figure |= fire_ts"
   ]
  },
  {
   "cell_type": "code",
   "execution_count": null,
   "id": "minute-knitting",
   "metadata": {},
   "outputs": [],
   "source": [
    "figure.configure_axis(grid=False)"
   ]
  }
 ],
 "metadata": {
  "kernelspec": {
   "display_name": "Python [conda env:notebook] *",
   "language": "python",
   "name": "conda-env-notebook-py"
  },
  "language_info": {
   "codemirror_mode": {
    "name": "ipython",
    "version": 3
   },
   "file_extension": ".py",
   "mimetype": "text/x-python",
   "name": "python",
   "nbconvert_exporter": "python",
   "pygments_lexer": "ipython3",
   "version": "3.8.8"
  }
 },
 "nbformat": 4,
 "nbformat_minor": 5
}
