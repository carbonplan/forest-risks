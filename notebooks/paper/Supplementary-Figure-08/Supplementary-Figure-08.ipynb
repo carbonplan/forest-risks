{
 "cells": [
  {
   "cell_type": "code",
   "execution_count": null,
   "id": "sustained-barrier",
   "metadata": {},
   "outputs": [],
   "source": [
    "%load_ext autoreload\n",
    "%autoreload 2\n",
    "\n",
    "import numpy as np\n",
    "import pandas as pd\n",
    "import scipy as sp\n",
    "from carbonplan_forest_risks import load, setup, plot, fit, utils, prepare, collect\n",
    "import xarray as xr\n",
    "from carbonplan_forest_risks.utils import get_store\n",
    "import altair as alt\n",
    "from carbonplan.data import cat\n",
    "import rioxarray\n",
    "import cartopy.crs as ccrs\n",
    "import cartopy\n",
    "import cartopy.feature as cfeature\n",
    "import matplotlib.pyplot as plt\n",
    "import warnings\n",
    "\n",
    "warnings.filterwarnings('ignore')\n",
    "import matplotlib\n",
    "from carbonplan_data import utils\n",
    "\n",
    "alt.themes.enable(\"carbonplan_light\")"
   ]
  },
  {
   "cell_type": "code",
   "execution_count": null,
   "id": "bizarre-semester",
   "metadata": {},
   "outputs": [],
   "source": [
    "alt.data_transformers.disable_max_rows()"
   ]
  },
  {
   "cell_type": "code",
   "execution_count": null,
   "id": "administrative-tours",
   "metadata": {},
   "outputs": [],
   "source": [
    "coarsen = 4\n",
    "mask = (\n",
    "    (load.nlcd(store=\"az\", year=2001).sel(band=[41, 42, 43, 90]).sum(\"band\") > 0.25)\n",
    "    .astype(\"float\")\n",
    "    .coarsen(x=coarsen, y=coarsen, boundary=\"trim\")\n",
    "    .mean()\n",
    ")"
   ]
  },
  {
   "cell_type": "markdown",
   "id": "1d62ddf5-7993-4bde-ae05-eb6761b8472e",
   "metadata": {},
   "source": [
    "### load in fire data\n"
   ]
  },
  {
   "cell_type": "code",
   "execution_count": null,
   "id": "black-michigan",
   "metadata": {},
   "outputs": [],
   "source": [
    "historical_fire = xr.open_zarr(\n",
    "    \"https://carbonplan.blob.core.windows.net/carbonplan-forests/risks/results/paper/fire_terraclimate.zarr\"\n",
    ").load()\n",
    "fire_mask = ~np.isnan(historical_fire.historical.isel(time=0).drop(\"time\"))"
   ]
  },
  {
   "cell_type": "code",
   "execution_count": null,
   "id": "legendary-module",
   "metadata": {},
   "outputs": [],
   "source": [
    "ds = (\n",
    "    xr.open_zarr(\n",
    "        \"https://carbonplan.blob.core.windows.net/carbonplan-forests/risks/results/paper/fire_cmip.zarr\"\n",
    "    )\n",
    "    .assign_coords({\"x\": mask.x, \"y\": mask.y})\n",
    "    .where(fire_mask)\n",
    "    .groupby(\"time.year\")\n",
    "    .sum()\n",
    "    .where(fire_mask)\n",
    "    .compute()\n",
    ") * 100  # scale to percent"
   ]
  },
  {
   "cell_type": "code",
   "execution_count": null,
   "id": "invalid-navigator",
   "metadata": {},
   "outputs": [],
   "source": [
    "maps = {}\n",
    "maps[\"Fire\"] = (\n",
    "    ds.sel(scenario=\"ssp370\", year=slice(\"2080\", \"2099\"))\n",
    "    .mean(dim=\"year\")\n",
    "    .mean(dim=\"gcm\")\n",
    "    .drop(\"scenario\")\n",
    "    .compute()\n",
    "    .probability\n",
    ")"
   ]
  },
  {
   "cell_type": "markdown",
   "id": "focused-quest",
   "metadata": {},
   "source": [
    "### load insects and drought\n"
   ]
  },
  {
   "cell_type": "code",
   "execution_count": null,
   "id": "final-bailey",
   "metadata": {},
   "outputs": [],
   "source": [
    "for variable in [\"drought\", \"insects\"]:\n",
    "    maps[variable.capitalize()] = (\n",
    "        xr.open_zarr(\n",
    "            \"https://carbonplan.blob.core.windows.net/carbonplan-forests/risks/results/paper/{}_cmip.zarr\".format(\n",
    "                variable\n",
    "            )\n",
    "        )\n",
    "        .assign_coords({\"year\": np.arange(1975, 2100, 10)})\n",
    "        .sel(year=slice(2080, 2099))\n",
    "        .mean(dim=\"year\")\n",
    "        .probability.sel(scenario=\"ssp370\")\n",
    "        .mean(dim=\"gcm\")\n",
    "        .drop(\"scenario\")\n",
    "    )"
   ]
  },
  {
   "cell_type": "code",
   "execution_count": null,
   "id": "photographic-label",
   "metadata": {},
   "outputs": [],
   "source": [
    "gcms = [\n",
    "    (\"MRI-ESM2-0\", (0, 0)),\n",
    "    (\"MIROC-ES2L\", (1, 0)),\n",
    "    (\"MPI-ESM1-2-LR\", (2, 0)),\n",
    "    (\"ACCESS-ESM1-5\", (3, 0)),\n",
    "    (\"ACCESS-CM2\", (4, 0)),\n",
    "    (\"CanESM5-CanOE\", (5, 0)),\n",
    "]\n",
    "titles = [\n",
    "    \"Burn area\\n[%/year]\",\n",
    "    \"Drought mortality\\n[]\",\n",
    "    \"Biotic agent mortality\\n[]\",\n",
    "]"
   ]
  },
  {
   "cell_type": "markdown",
   "id": "ca6db507-9958-460c-96c5-bf86d8ef4322",
   "metadata": {},
   "source": [
    "### Load in biomass data from National biomass and carbon database\n"
   ]
  },
  {
   "cell_type": "code",
   "execution_count": null,
   "id": "8e7baa3f-cca5-43f9-894f-2aba3939f6b7",
   "metadata": {},
   "outputs": [],
   "source": [
    "biomass = xr.open_rasterio(\n",
    "    \"https://carbonplan.blob.core.windows.net/carbonplan-data/raw/nbcd/NBCD_countrywide_biomass_mosaic.tif\"\n",
    ")"
   ]
  },
  {
   "cell_type": "code",
   "execution_count": null,
   "id": "2a8a8263-dc0a-4d61-8a13-ef7ca000d58c",
   "metadata": {},
   "outputs": [],
   "source": [
    "reprojected_biomass = biomass.rio.reproject(plot.cartopy_proj_albers())"
   ]
  },
  {
   "cell_type": "code",
   "execution_count": null,
   "id": "edea4770-28af-49ef-a94c-4f46b7cc87c7",
   "metadata": {},
   "outputs": [],
   "source": [
    "# convert from tons per pixel to tons/hectare by dividing by 5.76 (the # hectares in a 240 m pixel) per the readme\n",
    "maps[\"Biomass\"] = reprojected_biomass / 5.76\n",
    "# aggregate 64x64 240m cells for plotting\n",
    "maps[\"Biomass\"] = (\n",
    "    maps[\"Biomass\"]\n",
    "    .coarsen(y=64, x=64, boundary=\"trim\")\n",
    "    .mean()\n",
    "    .isel(band=0)\n",
    "    .drop([\"band\", \"spatial_ref\"])\n",
    ")"
   ]
  },
  {
   "cell_type": "code",
   "execution_count": null,
   "id": "9edc71f0-84d2-456a-8b50-086ab30d7459",
   "metadata": {},
   "outputs": [],
   "source": [
    "# for plotting purposes mask out anywhere that is less than 1 ton/ha\n",
    "maps[\"Biomass\"] = maps[\"Biomass\"].where(maps[\"Biomass\"] > 1)"
   ]
  },
  {
   "cell_type": "code",
   "execution_count": null,
   "id": "absent-concern",
   "metadata": {},
   "outputs": [],
   "source": [
    "plot_params = {\n",
    "    \"Fire\": {\n",
    "        \"cmap\": get_colormap(\"reds\"),\n",
    "        \"var_lims\": (0, 3),\n",
    "        \"label\": \"Burn area\\n(%/year)\",\n",
    "        \"panel\": \"A\",\n",
    "        \"cbar_ylocation\": 0.55,\n",
    "        \"cbar_xlocation\": 0.44,\n",
    "        \"panel_location\": (0, 0),\n",
    "    },\n",
    "    \"Insects\": {\n",
    "        \"cmap\": get_colormap(\"blues\"),\n",
    "        \"var_lims\": (0, 0.8),\n",
    "        \"label\": \"Insect-related\\nmortality (%/year)\",\n",
    "        \"panel\": \"B\",\n",
    "        \"cbar_ylocation\": 0.55,\n",
    "        \"cbar_xlocation\": 0.96,\n",
    "        \"panel_location\": (0, 1),\n",
    "    },\n",
    "    \"Drought\": {\n",
    "        \"cmap\": get_colormap(\"pinks\"),\n",
    "        \"var_lims\": (0, 4),\n",
    "        \"label\": \"Drought-related\\nmortality (%/year)\",\n",
    "        \"panel\": \"C\",\n",
    "        \"cbar_ylocation\": 0.05,\n",
    "        \"cbar_xlocation\": 0.44,\n",
    "        \"panel_location\": (1, 0),\n",
    "    },\n",
    "    \"Biomass\": {\n",
    "        \"cmap\": get_colormap(\"greens\"),\n",
    "        \"var_lims\": (0, 300),\n",
    "        \"label\": \"Biomass (tons/ha)\",\n",
    "        \"panel\": \"D\",\n",
    "        \"cbar_ylocation\": 0.05,\n",
    "        \"cbar_xlocation\": 0.96,\n",
    "        \"panel_location\": (1, 1),\n",
    "    },\n",
    "}"
   ]
  },
  {
   "cell_type": "code",
   "execution_count": null,
   "id": "e11da3f3-b015-4e1a-a825-6e6acab424e6",
   "metadata": {},
   "outputs": [],
   "source": [
    "def get_colormap(name):\n",
    "    if name == \"blues\":\n",
    "        return get_continuous_cmap([\"#CFE0F9\", \"#588EF9\", \"#0432A5\"])\n",
    "    elif name == \"pinks\":\n",
    "        return get_continuous_cmap([\"#F9C7ED\", \"#E563BA\", \"#770361\"])\n",
    "    elif name == \"reds\":\n",
    "        return get_continuous_cmap([\"#F9D3BD\", \"#E87A3D\", \"#752003\"])\n",
    "    elif name == \"greens\":\n",
    "        return get_continuous_cmap([\"#C9E4BF\", \"#76BA74\", \"#36763C\"])"
   ]
  },
  {
   "cell_type": "code",
   "execution_count": null,
   "id": "sweet-arena",
   "metadata": {},
   "outputs": [],
   "source": [
    "matplotlib.rc(\"font\", family=\"sans-serif\")\n",
    "matplotlib.rc(\"font\", serif=\"Helvetica Neue\")\n",
    "matplotlib.rc(\"text\", usetex=\"false\")\n",
    "matplotlib.rcParams.update({\"font.size\": 14, \"svg.fonttype\": \"none\"})"
   ]
  },
  {
   "cell_type": "code",
   "execution_count": null,
   "id": "headed-employee",
   "metadata": {},
   "outputs": [],
   "source": [
    "state_borders, us_border = plot.cartopy_borders()\n",
    "fig, axarr = plt.subplots(\n",
    "    nrows=2,\n",
    "    ncols=2,\n",
    "    figsize=(10, 6),\n",
    "    subplot_kw={\"projection\": plot.cartopy_proj_albers()},\n",
    ")\n",
    "from mpl_toolkits.axes_grid1 import make_axes_locatable\n",
    "\n",
    "for row, variable in enumerate([\"Fire\", \"Drought\", \"Insects\", \"Biomass\"]):\n",
    "    vmin, vmax = (\n",
    "        plot_params[variable][\"var_lims\"][0],\n",
    "        plot_params[variable][\"var_lims\"][1],\n",
    "    )\n",
    "    map_plot = maps[variable].plot.imshow(\n",
    "        ax=axarr[plot_params[variable][\"panel_location\"]],\n",
    "        cmap=plot_params[variable][\"cmap\"],\n",
    "        vmin=vmin,\n",
    "        vmax=vmax,\n",
    "        add_colorbar=False,\n",
    "    )\n",
    "    plot.map_pretty(axarr[plot_params[variable][\"panel_location\"]], title=\"\")\n",
    "\n",
    "    axarr[plot_params[variable][\"panel_location\"]].text(\n",
    "        0.12,\n",
    "        1.05,\n",
    "        plot_params[variable][\"panel\"],\n",
    "        transform=axarr[plot_params[variable][\"panel_location\"]].transAxes,\n",
    "        fontsize=18,\n",
    "    )\n",
    "    cax = fig.add_axes(\n",
    "        [\n",
    "            plot_params[variable][\"cbar_xlocation\"],\n",
    "            plot_params[variable][\"cbar_ylocation\"],\n",
    "            0.018,\n",
    "            0.14,\n",
    "        ]\n",
    "    )\n",
    "    cbar = fig.colorbar(map_plot, cax=cax, orientation=\"vertical\")\n",
    "\n",
    "    cax.text(\n",
    "        0.5,\n",
    "        -0.22,\n",
    "        plot_params[variable][\"var_lims\"][0],\n",
    "        transform=cax.transAxes,\n",
    "        horizontalalignment=\"center\",\n",
    "    )\n",
    "    cax.text(\n",
    "        0.5,\n",
    "        1.05,\n",
    "        plot_params[variable][\"var_lims\"][1],\n",
    "        transform=cax.transAxes,\n",
    "        horizontalalignment=\"center\",\n",
    "    )\n",
    "    cax.text(\n",
    "        1.8,\n",
    "        0.5,\n",
    "        plot_params[variable][\"label\"],\n",
    "        transform=cax.transAxes,\n",
    "        verticalalignment=\"center\",\n",
    "        multialignment=\"center\",\n",
    "        rotation=-90,\n",
    "    )\n",
    "    print(variable)\n",
    "    cbar = fig.colorbar(map_plot, cax=cax, orientation=\"vertical\")\n",
    "    cbar.outline.set_visible(False)\n",
    "    cbar.set_ticks([])\n",
    "plt.tight_layout(pad=-2)\n",
    "for format_string in [\"svg\", \"png\"]:\n",
    "    fig.savefig(\n",
    "        \"Figure-Supp8.\" + format_string,\n",
    "        format=format_string,\n",
    "        bbox_inches=\"tight\",\n",
    "    )"
   ]
  }
 ],
 "metadata": {
  "kernelspec": {
   "display_name": "Python [conda env:notebook] *",
   "language": "python",
   "name": "conda-env-notebook-py"
  },
  "language_info": {
   "codemirror_mode": {
    "name": "ipython",
    "version": 3
   },
   "file_extension": ".py",
   "mimetype": "text/x-python",
   "name": "python",
   "nbconvert_exporter": "python",
   "pygments_lexer": "ipython3",
   "version": "3.9.12"
  }
 },
 "nbformat": 4,
 "nbformat_minor": 5
}
