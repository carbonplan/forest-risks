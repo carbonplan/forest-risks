{
 "cells": [
  {
   "cell_type": "markdown",
   "id": "secondary-period",
   "metadata": {},
   "source": [
    "<img width=\"50\" src=\"https://carbonplan-assets.s3.amazonaws.com/monogram/dark-small.png\" style=\"margin-left:0px;margin-top:20px\"/>\n",
    "\n",
    "# Figure 3: Future projections for each impact\n",
    "\n",
    "_Authors: Oriana Chegwidden and Jeremy Freeman_\n",
    "\n",
    "The methods below conduct the analyses to recreate Figure 4 included the\n",
    "manuscript <<< insert doi >>>. Future risks for fire. We show median changes in\n",
    "risk with respect to the historic.\n"
   ]
  },
  {
   "cell_type": "code",
   "execution_count": null,
   "id": "right-committee",
   "metadata": {},
   "outputs": [],
   "source": [
    "%load_ext autoreload\n",
    "%autoreload 2\n",
    "\n",
    "import numpy as np\n",
    "import pandas as pd\n",
    "import scipy as sp\n",
    "from carbonplan_forest_risks import load, setup, plot, fit, utils, prepare, collect\n",
    "import xarray as xr\n",
    "from carbonplan_forest_risks.utils import get_store\n",
    "import rioxarray\n",
    "from carbonplan.data import cat\n"
   ]
  },
  {
   "cell_type": "code",
   "execution_count": null,
   "id": "innocent-chest",
   "metadata": {},
   "outputs": [],
   "source": [
    "%matplotlib inline\n",
    "import matplotlib.pyplot as plt\n",
    "from showit import image\n",
    "import scipy as sp\n",
    "import geopandas as gpd\n",
    "import regionmask as rm\n",
    "import altair as alt\n",
    "alt.themes.enable(\"carbonplan_light\")"
   ]
  },
  {
   "cell_type": "code",
   "execution_count": null,
   "id": "neural-spank",
   "metadata": {},
   "outputs": [],
   "source": [
    "import warnings\n",
    "\n",
    "warnings.filterwarnings(\"ignore\")"
   ]
  },
  {
   "cell_type": "code",
   "execution_count": null,
   "id": "genuine-manor",
   "metadata": {},
   "outputs": [],
   "source": [
    "alt.data_transformers.disable_max_rows()"
   ]
  },
  {
   "cell_type": "code",
   "execution_count": null,
   "id": "wireless-edinburgh",
   "metadata": {},
   "outputs": [],
   "source": [
    "coarsen = 4"
   ]
  },
  {
   "cell_type": "code",
   "execution_count": null,
   "id": "polar-constitutional",
   "metadata": {},
   "outputs": [],
   "source": [
    "mask = (\n",
    "    (\n",
    "        load.nlcd(store=\"az\", year=2001).sel(band=[41, 42, 43, 90]).sum(\"band\")\n",
    "        > 0.25\n",
    "    )\n",
    "    .astype(\"float\")\n",
    "    .coarsen(x=coarsen, y=coarsen, boundary=\"trim\")\n",
    "    .mean()\n",
    ")"
   ]
  },
  {
   "cell_type": "code",
   "execution_count": null,
   "id": "educated-knife",
   "metadata": {},
   "outputs": [],
   "source": [
    "historical_fire = xr.open_zarr(\n",
    "    get_store(\"carbonplan-scratch\", \"data/fire_historical_v3.zarr\")\n",
    ").load()\n",
    "fire_mask = ~np.isnan(historical_fire.historical.isel(time=0).drop(\"time\"))"
   ]
  },
  {
   "cell_type": "code",
   "execution_count": null,
   "id": "ultimate-physiology",
   "metadata": {},
   "outputs": [],
   "source": [
    "ds = (\n",
    "    xr.open_zarr(get_store(\"carbonplan-scratch\", \"data/fire_future_v3.zarr\"))\n",
    "    .assign_coords({\"x\": mask.x, \"y\": mask.y})\n",
    "    .where(fire_mask)\n",
    "    .groupby(\"time.year\")\n",
    "    .sum()\n",
    "    .where(fire_mask)\n",
    "    .compute()\n",
    ")"
   ]
  },
  {
   "cell_type": "code",
   "execution_count": null,
   "id": "decimal-investment",
   "metadata": {},
   "outputs": [],
   "source": [
    "ds_remaining = (\n",
    "    xr.open_zarr(\n",
    "        get_store(\"carbonplan-scratch\", \"data/fire_future_v3_remaining.zarr\")\n",
    "    )\n",
    "    .assign_coords({\"x\": mask.x, \"y\": mask.y})\n",
    "    .groupby(\"time.year\")\n",
    "    .sum()\n",
    "    .where(fire_mask)\n",
    "    .compute()\n",
    ")"
   ]
  },
  {
   "cell_type": "code",
   "execution_count": null,
   "id": "primary-ecology",
   "metadata": {},
   "outputs": [],
   "source": [
    "ds = xr.merge([ds, ds_remaining])"
   ]
  },
  {
   "cell_type": "code",
   "execution_count": null,
   "id": "directed-clock",
   "metadata": {},
   "outputs": [],
   "source": [
    "historical_annual = (\n",
    "    xr.open_zarr(\n",
    "        get_store(\"carbonplan-scratch\", \"data/fire_historical_v3.zarr\")\n",
    "    )\n",
    "    .assign_coords({\"x\": mask.x, \"y\": mask.y})\n",
    "    .groupby(\"time.year\")\n",
    "    .sum()\n",
    "    .where(fire_mask)\n",
    "    .mean(dim=[\"x\", \"y\"])\n",
    "    .compute()\n",
    ")"
   ]
  },
  {
   "cell_type": "code",
   "execution_count": null,
   "id": "dominant-cargo",
   "metadata": {},
   "outputs": [],
   "source": [
    "future_ts = {}\n",
    "future_ts[\"fire\"] = (\n",
    "    ds.mean(dim=[\"x\", \"y\"]).rolling(dim={\"year\": 10}).mean().compute()\n",
    ")"
   ]
  },
  {
   "cell_type": "code",
   "execution_count": null,
   "id": "adjustable-bonus",
   "metadata": {},
   "outputs": [],
   "source": [
    "gcms = [\n",
    "    (\"ACCESS-CM2\", \"r1i1p1f1\"),\n",
    "    (\"ACCESS-ESM1-5\", \"r10i1p1f1\"),\n",
    "    (\"MRI-ESM2-0\", \"r1i1p1f1\"),\n",
    "    (\"MIROC-ES2L\", \"r1i1p1f2\"),\n",
    "    (\"MPI-ESM1-2-LR\", \"r10i1p1f1\"),\n",
    "    (\"CanESM5-CanOE\", \"r3i1p2f1\"),\n",
    "]"
   ]
  },
  {
   "cell_type": "code",
   "execution_count": null,
   "id": "lovely-florida",
   "metadata": {},
   "outputs": [],
   "source": [
    "def load_bill(url, lat_coords, lon_coords, x_coords, y_coords):\n",
    "    target = cat.nlcd.raster.to_dask()\n",
    "    source = xr.open_rasterio(url)\n",
    "    source = source.where(source > -1)\n",
    "    ds = source.rio.reproject_match(target)\n",
    "    ds = (\n",
    "        ds.where(ds > -1)\n",
    "        .coarsen(x=coarsen, y=coarsen, boundary=\"trim\")\n",
    "        .mean()\n",
    "        .sel(band=1)\n",
    "    )\n",
    "    # make sure that the coordinates are *exactly* aligned- otherwise you'll have\n",
    "    # pesky plotting peculiarities\n",
    "    ds = ds.assign_coords({\"x\": x_coords, \"y\": y_coords})\n",
    "    ds = (\n",
    "        ds.assign_coords({\"lat\": lat_coords, \"lon\": lon_coords})\n",
    "        .drop(\"spatial_ref\")\n",
    "        .drop(\"band\")\n",
    "    )\n",
    "\n",
    "    return ds"
   ]
  },
  {
   "cell_type": "markdown",
   "id": "accurate-dressing",
   "metadata": {},
   "source": [
    "### Load in insect data\n"
   ]
  },
  {
   "cell_type": "code",
   "execution_count": null,
   "id": "alternate-birthday",
   "metadata": {},
   "outputs": [],
   "source": [
    "base_url_tempate = (\n",
    "    \"https://carbonplan.blob.core.windows.net/carbonplan-scratch/from_bill/{}\"\n",
    "    #     \"https://carbonplan.blob.core.windows.net/carbonplan-scratch/from-bill-04-09-2021/Fig1_4-9-21/{}\"\n",
    ")\n",
    "dataset_urls = {\n",
    "    \"Drought\": {\n",
    "        \"modeled\": base_url_tempate.format(\n",
    "            \"Fig1D_DroughtModel_ModeledFIAlongHistMort_3-30-2021.tif\"\n",
    "            #             \"Fig1D_DroughtModel_ModeledFIAlongEnsembleHistMort_04-09-2021.tif\"\n",
    "        ),\n",
    "        \"observed\": base_url_tempate.format(\n",
    "            \"Fig1C_DroughtModel_ObservedHistMort_3-30-2021.tif\"\n",
    "            #             \"Fig1C_DroughtModel_ObservedHistMort_04-09-2021.tif\"\n",
    "        ),\n",
    "    },\n",
    "    \"Insects\": {\n",
    "        \"modeled\": base_url_tempate.format(\n",
    "            \"Fig1F_InsectModel_ModeledFIAlongHistMort_3-30-2021.tif\"\n",
    "            #              \"Fig1F_InsectModel_ModeledFIAlongEnsembleHistMort_04-09-2021.tif\"\n",
    "        ),\n",
    "        \"observed\": base_url_tempate.format(\n",
    "            \"Fig1E_InsectModel_ObservedHistMort_3-30-2021.tif\"\n",
    "            #             \"Fig1E_InsectModel_ObservedHistMort_04-09-2021.tif\"\n",
    "        ),\n",
    "    },\n",
    "}\n",
    "\n",
    "future_templates = {\n",
    "    \"insects\": \"https://carbonplan.blob.core.windows.net/carbonplan-scratch/from_bill/InsectProjections_3-30/InsectModelProjection_{}.{}.{}-{}.{}-v14climate_3-30-2021.tif\",\n",
    "    #     'insects': \"https://carbonplan.blob.core.windows.net/carbonplan-scratch/from-bill-04-09-2021/InsectProjections_EnsembleBaseline_4-8-21/InsectModelProjection_{}.{}.{}-{}.{}-v15climate_{}.tif\",\n",
    "    \"drought\": \"https://carbonplan.blob.core.windows.net/carbonplan-scratch/from_bill/DroughtProjections_3-31/DroughtModelProjection_{}.{}.{}-{}.{}-v14climate_3-30-2021.tif\"\n",
    "    #                     'drought': \"https://carbonplan.blob.core.windows.net/carbonplan-scratch/from-bill-04-09-2021/DroughtProjections_EnsembleBaseline_4-8-21/DroughtModelProjection_{}.{}.{}-{}.{}-v15climate_{}.tif\"\n",
    "}"
   ]
  },
  {
   "cell_type": "code",
   "execution_count": null,
   "id": "adjusted-monaco",
   "metadata": {},
   "outputs": [],
   "source": [
    "historical_impacts = {}\n",
    "for impact in [\"drought\", \"insects\"]:\n",
    "    historical_impacts[impact] = (\n",
    "        load_bill(\n",
    "            dataset_urls[impact.capitalize()][\"modeled\"],\n",
    "            historical_fire.lat,\n",
    "            historical_fire.lon,\n",
    "            historical_fire.x.values,\n",
    "            historical_fire.y.values,\n",
    "        )\n",
    "        * 100\n",
    "    )\n",
    "    impact_ds = load.impacts(\n",
    "        future_templates[impact], historical_fire, coarsen=coarsen\n",
    "    ).assign_coords({\"year\": np.arange(1975, 2100, 10)})\n",
    "    future_ts[impact] = impact_ds.mean(dim=[\"x\", \"y\"]).compute() * 100"
   ]
  },
  {
   "cell_type": "markdown",
   "id": "selective-transparency",
   "metadata": {},
   "source": [
    "## Plot the figure\n"
   ]
  },
  {
   "cell_type": "code",
   "execution_count": null,
   "id": "alone-collection",
   "metadata": {},
   "outputs": [],
   "source": [
    "gcms = [\n",
    "    (\"MRI-ESM2-0\", (0, 0)),\n",
    "    (\"MIROC-ES2L\", (1, 0)),\n",
    "    (\"MPI-ESM1-2-LR\", (2, 0)),\n",
    "    (\"ACCESS-ESM1-5\", (3, 0)),\n",
    "    (\"ACCESS-CM2\", (4, 0)),\n",
    "    (\"CanESM5-CanOE\", (5, 0)),\n",
    "]\n",
    "scenario_colors = {\n",
    "    \"ssp245\": \"#59A82F\",\n",
    "    \"ssp370\": \"#D8B525\",\n",
    "    \"ssp585\": \"#D83232\",\n",
    "}\n",
    "scenario_colors_light = {\n",
    "    \"ssp245\": \"#DEEED5\",\n",
    "    \"ssp370\": \"#F7F0D3\",\n",
    "    \"ssp585\": \"#F7D6D6\",\n",
    "}\n",
    "titles = {\n",
    "    \"fire\": \"Burn area\\n(fraction/year)\",\n",
    "    \"drought\": \"Drought-related\\nmortality (%/year)\",\n",
    "    \"insects\": \"Insect-related\\nmortality (%/year)\",\n",
    "}\n",
    "ylims = {\n",
    "    \"fire\": (0, 0.015),\n",
    "    \"drought\": (0, 3),\n",
    "    \"insects\": (0, 0.5),\n",
    "}\n",
    "ssp_rename = {\"ssp245\": \"SSP2-4.5\", \"ssp370\": \"SSP3-7.0\", \"ssp585\": \"SSP5-8.5\"}"
   ]
  },
  {
   "cell_type": "code",
   "execution_count": null,
   "id": "animated-harris",
   "metadata": {},
   "outputs": [],
   "source": [
    "plt.rcParams.update({\"font.size\": 14, \"svg.fonttype\": \"none\"})\n",
    "\n",
    "fig, axarr = plt.subplots(nrows=3, figsize=(6, 10), sharex=True)\n",
    "\n",
    "## Fire\n",
    "\n",
    "for scenario in [\"ssp245\", \"ssp370\", \"ssp585\"]:\n",
    "    for (gcm, location) in gcms:\n",
    "        future_ts[\"fire\"][\"{}_{}\".format(gcm, scenario)].sel(\n",
    "            year=slice(\"1970\", \"2099\")\n",
    "        ).plot(ax=axarr[0], color=scenario_colors_light[scenario], alpha=1)\n",
    "\n",
    "for scenario in [\"ssp245\", \"ssp370\", \"ssp585\"]:\n",
    "    future_ts[\"fire\"][\n",
    "        [\"{}_{}\".format(gcm[0], scenario) for gcm in gcms]\n",
    "    ].to_array(dim=\"vars\").mean(\"vars\").plot(\n",
    "        ax=axarr[0], color=scenario_colors[scenario], label=ssp_rename[scenario]\n",
    "    )\n",
    "historical_annual[\"historical\"].rolling(dim={\"year\": 10}).mean().plot(\n",
    "    ax=axarr[0], color=\"k\", linestyle=\"-\", label=\"Historical\"\n",
    ")\n",
    "\n",
    "axarr[0].legend()\n",
    "## Drought and insects\n",
    "for i, impact in enumerate([\"drought\", \"insects\"]):\n",
    "    # axarr[1].plot(2005, historical_impacts[impact].mean(dim=['x', 'y']).values, marker='s', color='k', zorder=50)\n",
    "    axarr[i + 1].hlines(\n",
    "        historical_impacts[impact].mean(dim=[\"x\", \"y\"]).values,\n",
    "        2000,\n",
    "        2018,\n",
    "        color=\"k\",\n",
    "        zorder=50,\n",
    "    )\n",
    "    for scenario in [\"ssp245\", \"ssp370\", \"ssp585\"]:\n",
    "        for (gcm, location) in gcms:\n",
    "            future_ts[impact].sel(scenario=scenario)[gcm].sel(\n",
    "                year=slice(1970, 2099)\n",
    "            ).plot(\n",
    "                ax=axarr[i + 1],\n",
    "                color=scenario_colors_light[scenario],\n",
    "            )\n",
    "\n",
    "    for scenario in [\"ssp245\", \"ssp370\", \"ssp585\"]:\n",
    "        future_ts[impact].sel(scenario=scenario).to_array(dim=\"vars\").mean(\n",
    "            \"vars\"\n",
    "        ).plot(\n",
    "            ax=axarr[i + 1],\n",
    "            color=scenario_colors[scenario],\n",
    "            label=ssp_rename[scenario],\n",
    "        )\n",
    "for i, (impact, title) in enumerate(titles.items()):\n",
    "    axarr[i].set_ylabel(title)\n",
    "    axarr[i].set_xlabel(\"\")\n",
    "    axarr[i].set_ylim(ylims[impact])\n",
    "    axarr[i].set_title(\"\")\n",
    "plt.tight_layout()\n",
    "for format_string in [\"svg\", \"png\"]:\n",
    "    plt.savefig(\"fig2_v15.\" + format_string, format=format_string)"
   ]
  },
  {
   "cell_type": "code",
   "execution_count": null,
   "id": "formal-packet",
   "metadata": {},
   "outputs": [],
   "source": [
    "for scenario in [\"ssp245\", \"ssp370\", \"ssp585\"]:\n",
    "    ts = (\n",
    "        future_ts[\"fire\"][[\"{}_{}\".format(gcm[0], scenario) for gcm in gcms]]\n",
    "        .to_array(dim=\"vars\")\n",
    "        .mean(\"vars\")\n",
    "    )\n",
    "    hist_slice = slice(1980, 2014)\n",
    "    fut_slice = slice(2080, 2099)\n",
    "    change = ts.sel(year=fut_slice).mean(dim=\"year\") / ts.sel(\n",
    "        year=hist_slice\n",
    "    ).mean(dim=\"year\")\n",
    "    print(\"change in {} is {}x\".format(scenario, change))"
   ]
  }
 ],
 "metadata": {
  "kernelspec": {
   "display_name": "Python [conda env:notebook] *",
   "language": "python",
   "name": "conda-env-notebook-py"
  },
  "language_info": {
   "codemirror_mode": {
    "name": "ipython",
    "version": 3
   },
   "file_extension": ".py",
   "mimetype": "text/x-python",
   "name": "python",
   "nbconvert_exporter": "python",
   "pygments_lexer": "ipython3",
   "version": "3.8.8"
  }
 },
 "nbformat": 4,
 "nbformat_minor": 5
}
