{
 "cells": [
  {
   "cell_type": "code",
   "execution_count": null,
   "id": "sustained-barrier",
   "metadata": {},
   "outputs": [],
   "source": [
    "%load_ext autoreload\n",
    "%autoreload 2\n",
    "\n",
    "import numpy as np\n",
    "import pandas as pd\n",
    "import scipy as sp\n",
    "from carbonplan_forest_risks import load, setup, plot, fit, utils, prepare, collect\n",
    "import xarray as xr\n",
    "from carbonplan_forest_risks.utils import get_store\n",
    "import altair as alt\n",
    "from carbonplan.data import cat\n",
    "import rioxarray\n",
    "import cartopy.crs as ccrs\n",
    "import cartopy\n",
    "import cartopy.feature as cfeature\n",
    "import matplotlib.pyplot as plt\n",
    "from carbonplan_styles.mpl import get_colormap\n",
    "import warnings\n",
    "warnings.filterwarnings('ignore')\n",
    "import matplotlib\n",
    "from carbonplan_data import utils\n",
    "\n",
    "alt.themes.enable(\"carbonplan_light\")"
   ]
  },
  {
   "cell_type": "code",
   "execution_count": null,
   "id": "bizarre-semester",
   "metadata": {},
   "outputs": [],
   "source": [
    "alt.data_transformers.disable_max_rows()"
   ]
  },
  {
   "cell_type": "code",
   "execution_count": null,
   "id": "administrative-tours",
   "metadata": {},
   "outputs": [],
   "source": [
    "coarsen = 4\n",
    "mask = (\n",
    "    (\n",
    "        load.nlcd(store=\"az\", year=2001).sel(band=[41, 42, 43, 90]).sum(\"band\")\n",
    "        > 0.25\n",
    "    )\n",
    "    .astype(\"float\")\n",
    "    .coarsen(x=coarsen, y=coarsen, boundary=\"trim\")\n",
    "    .mean()\n",
    ")"
   ]
  },
  {
   "cell_type": "code",
   "execution_count": null,
   "id": "black-michigan",
   "metadata": {},
   "outputs": [],
   "source": [
    "historical_fire = xr.open_zarr(\n",
    "    get_store(\n",
    "        \"carbonplan-forests\", \"risks/results/paper/fire_terraclimate.zarr\"\n",
    "    )\n",
    ").load()\n",
    "fire_mask = ~np.isnan(historical_fire.historical.isel(time=0).drop(\"time\"))"
   ]
  },
  {
   "cell_type": "code",
   "execution_count": null,
   "id": "legendary-module",
   "metadata": {},
   "outputs": [],
   "source": [
    "ds = (\n",
    "    xr.open_zarr(\n",
    "        get_store(\"carbonplan-forests\", \"risks/results/paper/fire_cmip.zarr\")\n",
    "    )\n",
    "    .assign_coords({\"x\": mask.x, \"y\": mask.y})\n",
    "    .where(fire_mask)\n",
    "    .groupby(\"time.year\")\n",
    "    .sum()\n",
    "    .where(fire_mask)\n",
    "    .compute()\n",
    ")"
   ]
  },
  {
   "cell_type": "code",
   "execution_count": null,
   "id": "invalid-navigator",
   "metadata": {},
   "outputs": [],
   "source": [
    "future_maps = {}\n",
    "future_maps[\"Fire\"] = (\n",
    "    ds.sel(year=slice(\"2080\", \"2099\")).mean(dim=\"year\").compute()\n",
    ")"
   ]
  },
  {
   "cell_type": "markdown",
   "id": "focused-quest",
   "metadata": {},
   "source": [
    "### load insects and drought\n"
   ]
  },
  {
   "cell_type": "code",
   "execution_count": null,
   "id": "final-bailey",
   "metadata": {},
   "outputs": [],
   "source": [
    "for impact in [\"drought\", \"insects\"]:\n",
    "    future_maps[impact.capitalize()] = (\n",
    "        xr.open_zarr(\n",
    "            get_store(\n",
    "                \"carbonplan-forests\",\n",
    "                \"risks/results/paper/{}_cmip.zarr\".format(impact),\n",
    "            )\n",
    "        )\n",
    "        .assign_coords({\"year\": np.arange(1975, 2100, 10)})\n",
    "        .sel(year=slice(2080, 2099))\n",
    "        .mean(dim=\"year\")\n",
    "    )"
   ]
  },
  {
   "cell_type": "code",
   "execution_count": null,
   "id": "photographic-label",
   "metadata": {},
   "outputs": [],
   "source": [
    "gcms = [\n",
    "    (\"MRI-ESM2-0\", (0, 0)),\n",
    "    (\"MIROC-ES2L\", (1, 0)),\n",
    "    (\"MPI-ESM1-2-LR\", (2, 0)),\n",
    "    (\"ACCESS-ESM1-5\", (3, 0)),\n",
    "    (\"ACCESS-CM2\", (4, 0)),\n",
    "    (\"CanESM5-CanOE\", (5, 0)),\n",
    "]\n",
    "titles = [\n",
    "    \"Burn area\\n[fraction/year]\",\n",
    "    \"Drought mortality\\n[]\",\n",
    "    \"Biotic agent mortality\\n[]\",\n",
    "]"
   ]
  },
  {
   "cell_type": "code",
   "execution_count": null,
   "id": "deadly-newman",
   "metadata": {},
   "outputs": [],
   "source": [
    "scenario_dict = {}\n",
    "for risk in [\"Fire\", \"Insects\", \"Drought\"]:\n",
    "    scenario_dict[risk] = {}\n",
    "    for scenario in [\"ssp245\", \"ssp370\", \"ssp585\"]:\n",
    "        scenario_dict[risk][scenario] = (\n",
    "            future_maps[risk]\n",
    "            .probability.sel(scenario=scenario)\n",
    "            .mean(dim=\"gcm\")\n",
    "            .drop(\"scenario\")\n",
    "        )"
   ]
  },
  {
   "cell_type": "code",
   "execution_count": null,
   "id": "absent-concern",
   "metadata": {},
   "outputs": [],
   "source": [
    "plot_params = {\n",
    "    \"Fire\": {\n",
    "        \"cmap\": get_colormap(\"reds\"),\n",
    "        \"var_lims\": (0, 0.03),\n",
    "        \"label\": \"Burn area\\n(fraction/year)\",\n",
    "        \"panel\": [\"A\", \"B\", \"C\"],\n",
    "        \"cbar_ylocation\": 0.76,\n",
    "    },\n",
    "    \"Drought\": {\n",
    "        \"cmap\": get_colormap(\"pinks\"),\n",
    "        \"var_lims\": (0, 4),\n",
    "        \"label\": \"Drought-related\\nmortality (%/year)\",\n",
    "        \"panel\": [\"D\", \"E\", \"F\"],\n",
    "        \"cbar_ylocation\": 0.4,\n",
    "    },\n",
    "    \"Insects\": {\n",
    "        \"cmap\": get_colormap(\"blues\"),\n",
    "        \"var_lims\": (0, 0.8),\n",
    "        \"label\": \"Insect-related\\nmortality (%/year)\",\n",
    "        \"panel\": [\"G\", \"H\", \"I\"],\n",
    "        \"cbar_ylocation\": 0.04,\n",
    "    },\n",
    "}"
   ]
  },
  {
   "cell_type": "code",
   "execution_count": null,
   "id": "sweet-arena",
   "metadata": {},
   "outputs": [],
   "source": [
    "matplotlib.rc(\"font\", family=\"sans-serif\")\n",
    "matplotlib.rc(\"font\", serif=\"Helvetica Neue\")\n",
    "matplotlib.rc(\"text\", usetex=\"false\")\n",
    "matplotlib.rcParams.update({\"font.size\": 14, \"svg.fonttype\": \"none\"})"
   ]
  },
  {
   "cell_type": "code",
   "execution_count": null,
   "id": "critical-indicator",
   "metadata": {},
   "outputs": [],
   "source": [
    "ssp_rename = {\"ssp245\": \"SSP2-4.5\", \"ssp370\": \"SSP3-7.0\", \"ssp585\": \"SSP5-8.5\"}"
   ]
  },
  {
   "cell_type": "code",
   "execution_count": null,
   "id": "headed-employee",
   "metadata": {},
   "outputs": [],
   "source": [
    "state_borders, us_border = plot.cartopy_borders()\n",
    "fig, axarr = plt.subplots(\n",
    "    nrows=3,\n",
    "    ncols=3,\n",
    "    figsize=(15, 12),\n",
    "    subplot_kw={\"projection\": plot.cartopy_proj_albers()},\n",
    ")\n",
    "from mpl_toolkits.axes_grid1 import make_axes_locatable\n",
    "\n",
    "for row, impact in enumerate([\"Fire\", \"Drought\", \"Insects\"]):\n",
    "    for column, scenario in enumerate([\"ssp245\", \"ssp370\", \"ssp585\"]):\n",
    "        vmin, vmax = (\n",
    "            plot_params[impact][\"var_lims\"][0],\n",
    "            plot_params[impact][\"var_lims\"][1],\n",
    "        )\n",
    "\n",
    "        map_plot = scenario_dict[impact][scenario].plot.imshow(\n",
    "            ax=axarr[row, column],\n",
    "            cmap=plot_params[impact][\"cmap\"],\n",
    "            vmin=vmin,\n",
    "            vmax=vmax,\n",
    "            add_colorbar=False,\n",
    "        )\n",
    "\n",
    "        plot.map_pretty(axarr[row, column], title=ssp_rename[scenario])\n",
    "        axarr[row, column].text(\n",
    "            0.12,\n",
    "            1.05,\n",
    "            plot_params[impact][\"panel\"][column],\n",
    "            transform=axarr[row, column].transAxes,\n",
    "            fontsize=18,\n",
    "        )\n",
    "    cax = fig.add_axes(\n",
    "        [1.03, plot_params[impact][\"cbar_ylocation\"], 0.018, 0.12]\n",
    "    )\n",
    "    cax.text(\n",
    "        0.5,\n",
    "        -0.12,\n",
    "        plot_params[impact][\"var_lims\"][0],\n",
    "        transform=cax.transAxes,\n",
    "        horizontalalignment=\"center\",\n",
    "    )\n",
    "    cax.text(\n",
    "        0.5,\n",
    "        1.05,\n",
    "        plot_params[impact][\"var_lims\"][1],\n",
    "        transform=cax.transAxes,\n",
    "        horizontalalignment=\"center\",\n",
    "    )\n",
    "    cax.text(\n",
    "        1.8,\n",
    "        0.5,\n",
    "        plot_params[impact][\"label\"],\n",
    "        transform=cax.transAxes,\n",
    "        verticalalignment=\"center\",\n",
    "        multialignment=\"center\",\n",
    "        rotation=-90,\n",
    "    )\n",
    "    cbar = fig.colorbar(map_plot, cax=cax, orientation=\"vertical\")\n",
    "    cbar.outline.set_visible(False)\n",
    "    cbar.set_ticks([])\n",
    "plt.tight_layout(pad=-6)\n",
    "# for format_string in [\"svg\", \"png\"]:\n",
    "#     fig.savefig(\n",
    "#         \"Figure-3.\" + format_string, format=format_string, bbox_inches=\"tight\"\n",
    "#     )"
   ]
  }
 ],
 "metadata": {
  "kernelspec": {
   "display_name": "Python [conda env:notebook] *",
   "language": "python",
   "name": "conda-env-notebook-py"
  },
  "language_info": {
   "codemirror_mode": {
    "name": "ipython",
    "version": 3
   },
   "file_extension": ".py",
   "mimetype": "text/x-python",
   "name": "python",
   "nbconvert_exporter": "python",
   "pygments_lexer": "ipython3",
   "version": "3.8.8"
  }
 },
 "nbformat": 4,
 "nbformat_minor": 5
}
