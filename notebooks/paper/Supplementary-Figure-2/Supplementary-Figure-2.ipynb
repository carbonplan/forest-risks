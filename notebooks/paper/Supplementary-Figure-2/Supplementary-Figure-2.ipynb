{
 "cells": [
  {
   "cell_type": "code",
   "execution_count": null,
   "id": "unlike-defendant",
   "metadata": {},
   "outputs": [],
   "source": [
    "import numpy as np\n",
    "import pandas as pd\n",
    "import xarray as xr\n",
    "import rioxarray\n",
    "import matplotlib\n",
    "import matplotlib.pyplot as plt\n",
    "from rasterio.enums import Resampling\n",
    "from carbonplan_forest_risks import (\n",
    "    load,\n",
    "    setup,\n",
    "    plot,\n",
    "    fit,\n",
    "    utils,\n",
    "    prepare,\n",
    "    collect,\n",
    ")\n",
    "from carbonplan.data import cat\n",
    "from carbonplan_styles.mpl import get_colormap"
   ]
  },
  {
   "cell_type": "code",
   "execution_count": null,
   "id": "drawn-thirty",
   "metadata": {},
   "outputs": [],
   "source": [
    "def load_bill(url):\n",
    "    target = cat.nlcd.raster.to_dask()\n",
    "    source = xr.open_rasterio(url)\n",
    "    source = source.where(source > -1)\n",
    "    ds = source.rio.reproject_match(target, resampling=Resampling.bilinear)\n",
    "    ds = ds.where(ds > -1).sel(band=1)\n",
    "\n",
    "    return ds"
   ]
  },
  {
   "cell_type": "code",
   "execution_count": null,
   "id": "sophisticated-uganda",
   "metadata": {},
   "outputs": [],
   "source": [
    "base_url_tempate = \"https://carbonplan.blob.core.windows.net/carbonplan-scratch/from-bill-05-03-2021/Fig1_4-22-21/{}\"\n",
    "dataset_urls = {\n",
    "    \"Insects\": {\n",
    "        \"modeled\": base_url_tempate.format(\n",
    "            \"Fig1F_InsectModel_ModeledFIAlongEnsembleHistMort_04-22-2021.tif\"\n",
    "        ),\n",
    "        \"observed\": base_url_tempate.format(\n",
    "            \"Fig1E_InsectModel_FIAwide-ObsMort_05-08-2021.tif\"\n",
    "        ),\n",
    "        \"reference\": \"SuppFig_Williamsetal2016_BarkBeetleOccurrenceMap_04-19-2021.tif\",\n",
    "    },\n",
    "}"
   ]
  },
  {
   "cell_type": "code",
   "execution_count": null,
   "id": "dominican-conviction",
   "metadata": {},
   "outputs": [],
   "source": [
    "ds_dict = {}\n",
    "ds_dict[\"modeled\"] = load_bill(dataset_urls[\"Insects\"][\"modeled\"]) * 100\n",
    "ds_dict[\"observed\"] = load_bill(dataset_urls[\"Insects\"][\"observed\"]) * 100\n",
    "ds_dict[\"reference\"] = load_bill(dataset_urls[\"Insects\"][\"reference\"])"
   ]
  },
  {
   "cell_type": "code",
   "execution_count": null,
   "id": "royal-prairie",
   "metadata": {},
   "outputs": [],
   "source": [
    "plot_params = {\n",
    "    \"modeled\": {\n",
    "        \"cmap\": get_colormap(\"blues\"),\n",
    "        \"var_lims\": (0, 0.4),\n",
    "        \"label\": \"Insect-related\\nmortality (%/year)\",\n",
    "        \"panel\": [\"E\", \"F\"],\n",
    "        \"cbar_ylocation\": 0.76,\n",
    "    },\n",
    "    \"observed\": {\n",
    "        \"cmap\": get_colormap(\"blues\"),\n",
    "        \"var_lims\": (0, 0.4),\n",
    "        \"label\": \"Insect-related\\nmortality (%/year)\",\n",
    "        \"panel\": [\"E\", \"F\"],\n",
    "        \"cbar_ylocation\": 0.4,\n",
    "    },\n",
    "    \"reference\": {\n",
    "        \"cmap\": get_colormap(\"blues\"),\n",
    "        \"var_lims\": (0, 0.5),\n",
    "        \"label\": \"Area affected\\n(% grid cell/year)\",\n",
    "        \"panel\": [\"E\", \"F\"],\n",
    "        \"cbar_ylocation\": 0.04,\n",
    "    },\n",
    "}"
   ]
  },
  {
   "cell_type": "code",
   "execution_count": null,
   "id": "together-enlargement",
   "metadata": {},
   "outputs": [],
   "source": [
    "matplotlib.rc(\"font\", family=\"sans-serif\")\n",
    "matplotlib.rc(\"font\", serif=\"Helvetica Neue\")\n",
    "matplotlib.rc(\"text\", usetex=\"false\")\n",
    "matplotlib.rcParams.update({\"font.size\": 14, \"svg.fonttype\": \"none\"})"
   ]
  },
  {
   "cell_type": "code",
   "execution_count": null,
   "id": "prescribed-overhead",
   "metadata": {},
   "outputs": [],
   "source": [
    "fig, axarr = plt.subplots(\n",
    "    nrows=3,\n",
    "    ncols=1,\n",
    "    figsize=(5, 12),\n",
    "    subplot_kw={\"projection\": plot.cartopy_proj_albers()},\n",
    ")\n",
    "for row, setup in enumerate([\"observed\", \"modeled\", \"reference\"]):\n",
    "    vmin, vmax = (\n",
    "        plot_params[setup][\"var_lims\"][0],\n",
    "        plot_params[setup][\"var_lims\"][1],\n",
    "    )\n",
    "    map_plot = ds_dict[\"{}\".format(setup)].plot.imshow(\n",
    "        ax=axarr[row],\n",
    "        cmap=plot_params[setup][\"cmap\"],\n",
    "        vmin=vmin,\n",
    "        vmax=vmax,\n",
    "        add_colorbar=False,\n",
    "        add_labels=False,\n",
    "    )\n",
    "    plot.map_pretty(axarr[row], title=setup.capitalize())\n",
    "    plot.add_colorbar(\n",
    "        fig,\n",
    "        to_plot=map_plot,\n",
    "        y_location=plot_params[setup][\"cbar_ylocation\"],\n",
    "        vmin=plot_params[setup][\"var_lims\"][0],\n",
    "        vmax=plot_params[setup][\"var_lims\"][1],\n",
    "        cbar_label=plot_params[setup][\"label\"],\n",
    "    )\n",
    "plt.tight_layout(pad=-6)\n",
    "fig.savefig(\"Supplementary-Figure-2.svg\", format=\"svg\", bbox_inches=\"tight\")"
   ]
  }
 ],
 "metadata": {
  "kernelspec": {
   "display_name": "Python 3",
   "language": "python",
   "name": "python3"
  },
  "language_info": {
   "codemirror_mode": {
    "name": "ipython",
    "version": 3
   },
   "file_extension": ".py",
   "mimetype": "text/x-python",
   "name": "python",
   "nbconvert_exporter": "python",
   "pygments_lexer": "ipython3",
   "version": "3.8.8"
  }
 },
 "nbformat": 4,
 "nbformat_minor": 5
}
