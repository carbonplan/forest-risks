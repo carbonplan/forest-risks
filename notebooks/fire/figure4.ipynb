{
 "cells": [
  {
   "cell_type": "markdown",
   "id": "deluxe-edwards",
   "metadata": {},
   "source": [
    "<img width=\"50\" src=\"https://carbonplan-assets.s3.amazonaws.com/monogram/dark-small.png\" style=\"margin-left:0px;margin-top:20px\"/>\n",
    "\n",
    "# Figure 4: Future projections\n",
    "\n",
    "_Authors: Oriana Chegwidden and Jeremy Freeman_\n",
    "\n",
    "The methods below conduct the analyses to recreate Figure 4 included the\n",
    "manuscript <<< insert doi >>>. Future risks for fire. We show median changes in\n",
    "risk with respect to the historic.\n"
   ]
  },
  {
   "cell_type": "code",
   "execution_count": null,
   "id": "impressive-ceremony",
   "metadata": {},
   "outputs": [],
   "source": [
    "%load_ext autoreload\n",
    "%autoreload 2\n",
    "\n",
    "import numpy as np\n",
    "import pandas as pd\n",
    "import scipy as sp\n",
    "from carbonplan_forests import load, setup, plot, fit, utils, prepare, collect\n",
    "import xarray as xr\n",
    "from carbonplan_forests.utils import get_store\n"
   ]
  },
  {
   "cell_type": "code",
   "execution_count": null,
   "id": "foreign-violin",
   "metadata": {},
   "outputs": [],
   "source": [
    "%matplotlib inline\n",
    "import matplotlib.pyplot as plt\n",
    "from carbonplan_forests import load, setup, plot, fit, utils, prepare, collect\n",
    "from showit import image\n",
    "import scipy as sp\n",
    "import numpy as np\n",
    "import pandas as pd\n",
    "import xarray as xr\n",
    "import geopandas as gpd\n",
    "import regionmask as rm\n",
    "from scipy.stats import binom\n",
    "import altair as alt\n",
    "\n",
    "from palettable.colorbrewer.sequential import YlOrRd_9"
   ]
  },
  {
   "cell_type": "code",
   "execution_count": null,
   "id": "introductory-hudson",
   "metadata": {},
   "outputs": [],
   "source": [
    "coarsen = 4\n",
    "store = \"az\"\n",
    "tlim = (\"1984\", \"2018\")"
   ]
  },
  {
   "cell_type": "code",
   "execution_count": null,
   "id": "separated-amino",
   "metadata": {},
   "outputs": [],
   "source": [
    "mask = load.mask(store=store, year=2001)"
   ]
  },
  {
   "cell_type": "code",
   "execution_count": null,
   "id": "supreme-diabetes",
   "metadata": {},
   "outputs": [],
   "source": [
    "nlcd = load.nlcd(store=store, year=2001, coarsen=coarsen, mask=mask)\n",
    "nftd = load.nftd(store=store, area_threshold=1500, coarsen=coarsen, mask=mask)"
   ]
  },
  {
   "cell_type": "code",
   "execution_count": null,
   "id": "designing-oxide",
   "metadata": {},
   "outputs": [],
   "source": [
    "mask_coarsened = load.mask(store=store, year=2001, coarsen=coarsen)"
   ]
  },
  {
   "cell_type": "code",
   "execution_count": null,
   "id": "limited-formation",
   "metadata": {},
   "outputs": [],
   "source": [
    "simulation = xr.open_zarr(\n",
    "    get_store(\"carbonplan-scratch\", \"data/fire_future.zarr\")\n",
    ").assign_coords({\"x\": mask_coarsened.x, \"y\": mask_coarsened.y})"
   ]
  },
  {
   "cell_type": "code",
   "execution_count": null,
   "id": "correct-commitment",
   "metadata": {},
   "outputs": [],
   "source": [
    "mtbs = load.mtbs(store=store, coarsen=coarsen, tlim=tlim, mask=mask)\n",
    "# give it the same x/y coords as nftd (and nlcd and climate)\n",
    "# this re-assignment will help us with some masking lower down\n",
    "mtbs = mtbs.assign_coords({\"x\": nftd.x, \"y\": nftd.y})"
   ]
  },
  {
   "cell_type": "code",
   "execution_count": null,
   "id": "alpine-bundle",
   "metadata": {},
   "outputs": [],
   "source": [
    "alt.data_transformers.disable_max_rows()"
   ]
  },
  {
   "cell_type": "markdown",
   "id": "front-lender",
   "metadata": {},
   "source": [
    "insert pseudocode\n"
   ]
  },
  {
   "cell_type": "code",
   "execution_count": null,
   "id": "common-marsh",
   "metadata": {},
   "outputs": [],
   "source": [
    "variables = {\n",
    "    \"ssp245\": [\n",
    "        \"CanESM5\",\n",
    "        \"FGOALS-g3\",\n",
    "        \"HadGEM3-GC31-LL\",\n",
    "        \"MIROC-ES2L\",\n",
    "        \"MRI-ESM2-0\",\n",
    "    ],\n",
    "    \"ssp370\": [\"CanESM5\", \"MIROC-ES2L\", \"MRI-ESM2-0\"],\n",
    "    \"ssp585\": [\"FGOALS-g3\", \"MIROC-ES2L\", \"MRI-ESM2-0\"],\n",
    "}"
   ]
  },
  {
   "cell_type": "code",
   "execution_count": null,
   "id": "partial-hardware",
   "metadata": {},
   "outputs": [],
   "source": [
    "# HOT TIP: coarsen is your friend! don't use resample! it does funky stuff with the first timechunk and you can't trust it boooo\n",
    "# divide by 10 because you've grabbed 10 years but we still want it in annual averages (just at the decadal timestep)\n",
    "decadal_averages = (\n",
    "    simulation.sel(time=slice(\"2020\", \"2099\")).coarsen(time=120).sum().load()\n",
    "    / 10\n",
    ")"
   ]
  },
  {
   "cell_type": "code",
   "execution_count": null,
   "id": "rental-reading",
   "metadata": {},
   "outputs": [],
   "source": [
    "df = decadal_averages.where(mask_coarsened).mean(dim=[\"x\", \"y\"]).to_dataframe()"
   ]
  },
  {
   "cell_type": "code",
   "execution_count": null,
   "id": "noted-donor",
   "metadata": {},
   "outputs": [],
   "source": [
    "df[\"time\"] = df.index\n",
    "df_toplot = df.melt(\"time\", var_name=\"gcm_scenario\", value_name=\"probability\")"
   ]
  },
  {
   "cell_type": "code",
   "execution_count": null,
   "id": "needed-causing",
   "metadata": {},
   "outputs": [],
   "source": [
    "df_toplot[\"gcm\"] = df_toplot.apply(\n",
    "    lambda row: row.gcm_scenario.split(\"_\")[0], axis=1\n",
    ")\n",
    "df_toplot[\"scenario\"] = df_toplot.apply(\n",
    "    lambda row: row.gcm_scenario.split(\"_\")[1], axis=1\n",
    ")"
   ]
  },
  {
   "cell_type": "code",
   "execution_count": null,
   "id": "clear-edition",
   "metadata": {},
   "outputs": [],
   "source": [
    "import altair as alt\n",
    "\n",
    "alt.themes.enable(\"carbonplan_light\")"
   ]
  },
  {
   "cell_type": "code",
   "execution_count": null,
   "id": "accomplished-ordinance",
   "metadata": {},
   "outputs": [],
   "source": [
    "historical_ds = xr.open_zarr(\n",
    "    get_store(\"carbonplan-scratch\", \"data/fire.zarr\")\n",
    ").assign_coords({\"x\": mask_coarsened.x, \"y\": mask_coarsened.y})"
   ]
  },
  {
   "cell_type": "code",
   "execution_count": null,
   "id": "through-disney",
   "metadata": {},
   "outputs": [],
   "source": [
    "coarsened_historical = (\n",
    "    historical_ds.sel(time=slice(\"1989\", \"2018\")).coarsen(time=120).sum().load()\n",
    "    / 10\n",
    ")\n",
    "historical_df = coarsened_historical.mean(dim=[\"x\", \"y\"]).to_dataframe()"
   ]
  },
  {
   "cell_type": "code",
   "execution_count": null,
   "id": "agricultural-mechanics",
   "metadata": {},
   "outputs": [],
   "source": [
    "decadal_averages = plot.fire.calc_decadal_averages(simulation)"
   ]
  },
  {
   "cell_type": "code",
   "execution_count": null,
   "id": "mexican-scroll",
   "metadata": {},
   "outputs": [],
   "source": [
    "plot.fire.future_ts(\n",
    "    decadal_averages.where(mask_coarsened), historical=historical_df\n",
    ")"
   ]
  }
 ],
 "metadata": {
  "kernelspec": {
   "display_name": "Python [conda env:notebook] *",
   "language": "python",
   "name": "conda-env-notebook-py"
  },
  "language_info": {
   "codemirror_mode": {
    "name": "ipython",
    "version": 3
   },
   "file_extension": ".py",
   "mimetype": "text/x-python",
   "name": "python",
   "nbconvert_exporter": "python",
   "pygments_lexer": "ipython3",
   "version": "3.7.9"
  }
 },
 "nbformat": 4,
 "nbformat_minor": 5
}
