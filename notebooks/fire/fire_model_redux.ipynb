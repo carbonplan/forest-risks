{
 "cells": [
  {
   "cell_type": "markdown",
   "metadata": {},
   "source": [
    "<img width=\"50\" src=\"https://carbonplan-assets.s3.amazonaws.com/monogram/dark-small.png\" style=\"margin-left:0px;margin-top:20px\"/>\n",
    "\n",
    "# MTBS Fire Model\n",
    "\n",
    "_by Jeremy Freeman (CarbonPlan), September 19, 2020_\n",
    "\n",
    "This notebook loads downsampled MTBS fire data and TerraClimate climate data and\n",
    "fits a logistical regression model.\n"
   ]
  },
  {
   "cell_type": "code",
   "execution_count": null,
   "metadata": {},
   "outputs": [],
   "source": [
    "import numpy as np\n",
    "import pandas as pd\n",
    "import scipy as sp\n",
    "from carbonplan_forests import load, setup, plot, fit, utils, prepare, collect"
   ]
  },
  {
   "cell_type": "code",
   "execution_count": null,
   "metadata": {},
   "outputs": [],
   "source": [
    "%matplotlib inline\n",
    "import matplotlib.pyplot as plt\n",
    "from showit import image, tile"
   ]
  },
  {
   "cell_type": "code",
   "execution_count": null,
   "metadata": {},
   "outputs": [],
   "source": [
    "setup.plotting(remote=False)"
   ]
  },
  {
   "cell_type": "code",
   "execution_count": null,
   "metadata": {},
   "outputs": [],
   "source": [
    "%load_ext autoreload\n",
    "%autoreload 2"
   ]
  },
  {
   "cell_type": "markdown",
   "metadata": {},
   "source": [
    "First we set some top-level parameters: the level of spatial coarsening (which\n",
    "can speed up fitting substantially, especially useful when testing), the time\n",
    "range (MTBS spans 1984 to 2018), and the climatic variables we'll use in the\n",
    "model.\n"
   ]
  },
  {
   "cell_type": "code",
   "execution_count": null,
   "metadata": {},
   "outputs": [],
   "source": [
    "coarsen = 16\n",
    "tlim = (1984, 2018)\n",
    "variables = [\"ppt\", \"tmean\", \"cwd\", \"pdsi\", \"tmax\", \"tmin\"]\n",
    "store = \"local\""
   ]
  },
  {
   "cell_type": "markdown",
   "metadata": {},
   "source": [
    "First we load data from `nlcd` which we will use to mask out non-land areas and\n",
    "data from `nftd` to use a regressors for forest type groups.\n"
   ]
  },
  {
   "cell_type": "code",
   "execution_count": null,
   "metadata": {},
   "outputs": [],
   "source": [
    "mask = load.mask(store=store, year=2001)"
   ]
  },
  {
   "cell_type": "code",
   "execution_count": null,
   "metadata": {},
   "outputs": [],
   "source": [
    "nlcd = load.nlcd(store=store, year=2001, coarsen=coarsen, mask=mask)\n",
    "nftd = load.nftd(store=store, area_threshold=1500, coarsen=coarsen, mask=mask)"
   ]
  },
  {
   "cell_type": "markdown",
   "metadata": {},
   "source": [
    "Now we load the `terraclim` data from the same time range.\n"
   ]
  },
  {
   "cell_type": "code",
   "execution_count": null,
   "metadata": {
    "scrolled": true
   },
   "outputs": [],
   "source": [
    "climate = load.terraclim(\n",
    "    store=store,\n",
    "    tlim=tlim,\n",
    "    coarsen=coarsen,\n",
    "    variables=variables,\n",
    "    mask=mask,\n",
    "    sampling=\"monthly\",\n",
    ")"
   ]
  },
  {
   "cell_type": "markdown",
   "metadata": {},
   "source": [
    "And finally load the `mtbs` data\n"
   ]
  },
  {
   "cell_type": "code",
   "execution_count": null,
   "metadata": {},
   "outputs": [],
   "source": [
    "mtbs = load.mtbs(store=store, coarsen=coarsen, tlim=tlim, mask=mask)"
   ]
  },
  {
   "cell_type": "markdown",
   "metadata": {},
   "source": [
    "### Inspecting the data\n"
   ]
  },
  {
   "cell_type": "markdown",
   "metadata": {},
   "source": [
    "We can plot the `mtbs` data for a specific year to get a sense of the raw data.\n"
   ]
  },
  {
   "cell_type": "code",
   "execution_count": null,
   "metadata": {},
   "outputs": [],
   "source": [
    "plot.fire.monthly(mtbs.sel(time=\"2018\"), clim=(0, 0.2))"
   ]
  },
  {
   "cell_type": "markdown",
   "metadata": {},
   "source": [
    "Here is the same thing but averaged over all years\n"
   ]
  },
  {
   "cell_type": "code",
   "execution_count": null,
   "metadata": {},
   "outputs": [],
   "source": [
    "plot.fire.monthly(mtbs, clim=(0.00005, 0.0015))"
   ]
  },
  {
   "cell_type": "markdown",
   "metadata": {},
   "source": [
    "## We can plot spatially averaged data over time to see both seasonable trends, and\n",
    "\n",
    "the fact that fire frequency and magnitude has increased over time.\n"
   ]
  },
  {
   "cell_type": "code",
   "execution_count": null,
   "metadata": {},
   "outputs": [],
   "source": [
    "x = mtbs[\"time\"]\n",
    "y = mtbs[\"monthly\"].mean([\"x\", \"y\"])\n",
    "\n",
    "plot.line(\n",
    "    x=x, y=y, width=900, height=200, color=\"rgb(175,91,92)\", strokeWidth=2\n",
    ")"
   ]
  },
  {
   "cell_type": "markdown",
   "metadata": {},
   "source": [
    "We can summarize the data by plotting annual, seasonal, and spatial trends by\n",
    "averaging across different groupings and dimensions.\n"
   ]
  },
  {
   "cell_type": "code",
   "execution_count": null,
   "metadata": {},
   "outputs": [],
   "source": [
    "plot.fire.summary(mtbs, clim=(0, 0.005))"
   ]
  },
  {
   "cell_type": "markdown",
   "metadata": {},
   "source": [
    "As a motivation for fitting fires as functions of climatic variables, we can\n",
    "look at spatially averaged climatic variables alongside fires, e.g. average\n",
    "tempreature, and see that there is a clear relationship (in this case a positive\n",
    "correlation).\n"
   ]
  },
  {
   "cell_type": "code",
   "execution_count": null,
   "metadata": {},
   "outputs": [],
   "source": [
    "x = mtbs.groupby(\"time.year\").mean()[\"year\"]\n",
    "y1 = mtbs[\"monthly\"].groupby(\"time.year\").sum().mean([\"x\", \"y\"])\n",
    "y2 = climate[\"tmean\"].groupby(\"time.year\").max().mean([\"x\", \"y\"])\n",
    "\n",
    "(\n",
    "    plot.line(x=x, y=sp.stats.zscore(y1), color=\"rgb(175,91,92)\")\n",
    "    + plot.line(x=x, y=sp.stats.zscore(y2), color=\"rgb(175,91,92)\", opacity=0.5)\n",
    ")\n",
    "\n",
    "# np.corrcoef(y1,y2)[0,1]"
   ]
  },
  {
   "cell_type": "markdown",
   "metadata": {},
   "source": [
    "### Fitting the model\n"
   ]
  },
  {
   "cell_type": "code",
   "execution_count": null,
   "metadata": {},
   "outputs": [],
   "source": [
    "x, y = prepare.fire(climate, nftd, mtbs)\n",
    "x_z, x_mean, x_std = utils.zscore_2d(x)"
   ]
  },
  {
   "cell_type": "code",
   "execution_count": null,
   "metadata": {},
   "outputs": [],
   "source": [
    "model = fit.hurdle(x_z, y, log=True)"
   ]
  },
  {
   "cell_type": "code",
   "execution_count": null,
   "metadata": {},
   "outputs": [],
   "source": [
    "model"
   ]
  },
  {
   "cell_type": "code",
   "execution_count": null,
   "metadata": {},
   "outputs": [],
   "source": [
    "yhat = model.predict(x_z)\n",
    "prediction = collect.fire(yhat, mtbs)"
   ]
  },
  {
   "cell_type": "code",
   "execution_count": null,
   "metadata": {},
   "outputs": [],
   "source": [
    "plot.fire.monthly(prediction, \"prediction\", clim=(0.00005, 0.0015))"
   ]
  },
  {
   "cell_type": "code",
   "execution_count": null,
   "metadata": {},
   "outputs": [],
   "source": [
    "plot.fire.evaluation(mtbs, prediction, \"monthly\", \"prediction\", clim=(0, 0.005))"
   ]
  },
  {
   "cell_type": "markdown",
   "metadata": {},
   "source": [
    "We can also compare the predicted and real probabilities over time.\n"
   ]
  },
  {
   "cell_type": "code",
   "execution_count": null,
   "metadata": {},
   "outputs": [],
   "source": [
    "x = mtbs[\"time\"]\n",
    "y1 = mtbs[\"monthly\"].mean([\"x\", \"y\"])\n",
    "y2 = prediction[\"prediction\"].mean([\"x\", \"y\"])\n",
    "\n",
    "(\n",
    "    plot.line(\n",
    "        x=x,\n",
    "        y=y1,\n",
    "        width=900,\n",
    "        height=200,\n",
    "        opacity=0.5,\n",
    "        color=\"rgb(175,91,92)\",\n",
    "        strokeWidth=2,\n",
    "    )\n",
    "    + plot.line(\n",
    "        x=x, y=y2, width=900, height=200, color=\"rgb(175,91,92)\", strokeWidth=2\n",
    "    )\n",
    ")"
   ]
  },
  {
   "cell_type": "markdown",
   "metadata": {},
   "source": [
    "Given that we fit a logistic regression, the natural model performance metric is\n",
    "area under the ROC curve, which we computed on the training data (you can use\n",
    "the variable `crossval` to repeat the model fit and compute a score on 25% held\n",
    "out data).\n"
   ]
  },
  {
   "cell_type": "markdown",
   "metadata": {},
   "source": [
    "Finally, we can compute correlations between model and prediction for annual,\n",
    "seasonal, and spatial trends. Note that these were not metrics used to\n",
    "explicitly fit the model, but in general a better fitting model ought to\n",
    "reproduce at least some of these trends.\n"
   ]
  },
  {
   "cell_type": "code",
   "execution_count": null,
   "metadata": {},
   "outputs": [],
   "source": [
    "print(\"correlation of annual trends\")\n",
    "np.corrcoef(\n",
    "    mtbs[\"monthly\"].groupby(\"time.year\").mean().mean([\"x\", \"y\"]),\n",
    "    prediction[\"prediction\"].groupby(\"time.year\").mean().mean([\"x\", \"y\"]),\n",
    ")[0, 1]"
   ]
  },
  {
   "cell_type": "code",
   "execution_count": null,
   "metadata": {},
   "outputs": [],
   "source": [
    "print(\"correlation of monthly trends\")\n",
    "np.corrcoef(\n",
    "    mtbs[\"monthly\"].groupby(\"time.month\").mean().mean([\"x\", \"y\"]),\n",
    "    prediction[\"prediction\"].groupby(\"time.month\").mean().mean([\"x\", \"y\"]),\n",
    ")[0, 1]"
   ]
  },
  {
   "cell_type": "code",
   "execution_count": null,
   "metadata": {},
   "outputs": [],
   "source": [
    "print(\"correlation of spatial trends\")\n",
    "a = mtbs[\"monthly\"].mean(\"time\").values.flatten()\n",
    "b = prediction[\"prediction\"].mean(\"time\").values.flatten()\n",
    "inds = ~np.isnan(a) & ~np.isnan(b)\n",
    "np.corrcoef(a[inds], b[inds])[0, 1]"
   ]
  },
  {
   "cell_type": "markdown",
   "metadata": {},
   "source": [
    "### Prediction on future climate data\n"
   ]
  },
  {
   "cell_type": "code",
   "execution_count": null,
   "metadata": {},
   "outputs": [],
   "source": [
    "cmip_model = \"CanESM5\"\n",
    "scenario = \"ssp245\"\n",
    "target = 2025"
   ]
  },
  {
   "cell_type": "code",
   "execution_count": null,
   "metadata": {},
   "outputs": [],
   "source": [
    "future_climate = load.cmip(\n",
    "    store=store,\n",
    "    model=cmip_model,\n",
    "    coarsen=16,\n",
    "    scenario=scenario,\n",
    "    tlim=(2020, 2100),\n",
    "    variables=variables,\n",
    "    mask=mask,\n",
    "    sampling=\"monthly\",\n",
    ")"
   ]
  },
  {
   "cell_type": "code",
   "execution_count": null,
   "metadata": {},
   "outputs": [],
   "source": [
    "x = prepare.fire(future_climate, nftd, eval_only=True)\n",
    "x_z = utils.zscore_2d(x, mean=x_mean, std=x_std)"
   ]
  },
  {
   "cell_type": "code",
   "execution_count": null,
   "metadata": {},
   "outputs": [],
   "source": [
    "yhat = model.predict(x_z)\n",
    "prediction = collect.fire(yhat, future_climate)"
   ]
  },
  {
   "cell_type": "code",
   "execution_count": null,
   "metadata": {},
   "outputs": [],
   "source": [
    "plot.fire.summary(prediction, \"prediction\", clim=(0.0006, 0.008))"
   ]
  },
  {
   "cell_type": "code",
   "execution_count": null,
   "metadata": {},
   "outputs": [],
   "source": [
    "x = prediction[\"time\"]\n",
    "y2 = prediction[\"prediction\"].mean([\"x\", \"y\"])\n",
    "\n",
    "(\n",
    "    plot.line(\n",
    "        x=x, y=y2, width=900, height=200, color=\"rgb(175,91,92)\", strokeWidth=2\n",
    "    )\n",
    ")"
   ]
  }
 ],
 "metadata": {
  "kernelspec": {
   "display_name": "Python 3",
   "language": "python",
   "name": "python3"
  },
  "language_info": {
   "codemirror_mode": {
    "name": "ipython",
    "version": 3
   },
   "file_extension": ".py",
   "mimetype": "text/x-python",
   "name": "python",
   "nbconvert_exporter": "python",
   "pygments_lexer": "ipython3",
   "version": "3.9.2"
  }
 },
 "nbformat": 4,
 "nbformat_minor": 4
}
