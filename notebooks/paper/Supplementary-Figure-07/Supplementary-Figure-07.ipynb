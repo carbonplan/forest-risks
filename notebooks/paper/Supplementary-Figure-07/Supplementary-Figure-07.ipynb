{
 "cells": [
  {
   "cell_type": "code",
   "execution_count": null,
   "id": "f4fb0c40",
   "metadata": {},
   "outputs": [],
   "source": [
    "import pandas as pd\n",
    "import numpy as np\n",
    "import matplotlib.pyplot as plt\n",
    "import statsmodels.api as sm\n",
    "from statsmodels.tools.tools import add_constant"
   ]
  },
  {
   "cell_type": "code",
   "execution_count": null,
   "id": "7eea3a1a",
   "metadata": {},
   "outputs": [],
   "source": [
    "plt.rcParams.update({\"font.size\": 14, \"svg.fonttype\": \"none\"})"
   ]
  },
  {
   "cell_type": "code",
   "execution_count": null,
   "id": "65d2e5e3",
   "metadata": {},
   "outputs": [],
   "source": [
    "df1 = pd.read_csv(\"BAcomparison_toCP.csv\")\n",
    "df2 = pd.read_csv(\"cVegTreecomparison_toCP.csv\")"
   ]
  },
  {
   "cell_type": "code",
   "execution_count": null,
   "id": "cd94fbae",
   "metadata": {},
   "outputs": [],
   "source": [
    "model1 = sm.OLS(df1[\"Log_StatModelBA\"], add_constant(df1[\"Log_CMIPBA\"])).fit()\n",
    "yhat1 = model1.predict(add_constant(df1[\"Log_CMIPBA\"]))\n",
    "\n",
    "x2 = np.asarray(\n",
    "    [\n",
    "        np.ones(df2[\"Log_DeltaBA\"].shape),\n",
    "        df2[\"Log_DeltaBA\"],\n",
    "        df2[\"Log_DeltaBA\"] ** 2,\n",
    "    ]\n",
    ").T\n",
    "model2 = sm.OLS(df2[\"CMIP_deltacVegTree\"], x2).fit()\n",
    "yhat2 = model2.predict(x2)"
   ]
  },
  {
   "cell_type": "code",
   "execution_count": null,
   "id": "7aaf6de3",
   "metadata": {},
   "outputs": [],
   "source": [
    "plt.figure(figsize=(13, 6))\n",
    "ax1 = plt.subplot(1, 2, 1)\n",
    "plt.plot(df1[\"Log_CMIPBA\"], df1[\"Log_StatModelBA\"], \"k.\")\n",
    "plt.plot(df1[\"Log_CMIPBA\"], yhat1, \"red\", linewidth=2)\n",
    "plt.xlabel(\"log(CMIP6 fire emissions)\")\n",
    "plt.ylabel(\"log(Modeled burn area)\")\n",
    "plt.xticks([-3.5, -3, -2.5])\n",
    "ax1.spines[\"top\"].set_visible(False)\n",
    "ax1.spines[\"right\"].set_visible(False)\n",
    "\n",
    "ax2 = plt.subplot(1, 2, 2)\n",
    "plt.plot(df2[\"Log_DeltaBA\"], df2[\"CMIP_deltacVegTree\"], \"k.\")\n",
    "plt.plot(df2[\"Log_DeltaBA\"], yhat2, \"red\", linewidth=2)\n",
    "plt.xlabel(\"log(Future burn area - Historical burn area)\")\n",
    "plt.ylabel(\"log(CMIP6 future cVegTree - Historical cVegTree)\")\n",
    "ax2.spines[\"top\"].set_visible(False)\n",
    "ax2.spines[\"right\"].set_visible(False)\n",
    "\n",
    "plt.savefig(\"Supplementary-Figure-07.svg\")"
   ]
  }
 ],
 "metadata": {
  "kernelspec": {
   "display_name": "Python 3 (ipykernel)",
   "language": "python",
   "name": "python3"
  },
  "language_info": {
   "codemirror_mode": {
    "name": "ipython",
    "version": 3
   },
   "file_extension": ".py",
   "mimetype": "text/x-python",
   "name": "python",
   "nbconvert_exporter": "python",
   "pygments_lexer": "ipython3",
   "version": "3.8.6"
  }
 },
 "nbformat": 4,
 "nbformat_minor": 5
}
