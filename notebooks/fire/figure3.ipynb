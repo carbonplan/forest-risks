{
 "cells": [
  {
   "cell_type": "markdown",
   "id": "complicated-fitting",
   "metadata": {},
   "source": [
    "<img width=\"50\" src=\"https://carbonplan-assets.s3.amazonaws.com/monogram/dark-small.png\" style=\"margin-left:0px;margin-top:20px\"/>\n",
    "\n",
    "# Figure 3: Dependence of model performance on forest type\n",
    "\n",
    "_Authors: Oriana Chegwidden and Jeremy Freeman_\n",
    "\n",
    "The methods below conduct the analyses to recreate Figure 3 included the\n",
    "manuscript <<< insert doi >>>. In this analysis we mean forest group type.\n"
   ]
  },
  {
   "cell_type": "code",
   "execution_count": null,
   "id": "refined-biology",
   "metadata": {},
   "outputs": [],
   "source": [
    "%load_ext autoreload\n",
    "%autoreload 2\n",
    "\n",
    "import numpy as np\n",
    "import pandas as pd\n",
    "import scipy as sp\n",
    "from carbonplan_forests import load, setup, plot, fit, utils, prepare, collect\n",
    "import xarray as xr\n",
    "from carbonplan_forests.utils import get_store\n",
    "import warnings\n",
    "warnings.filterwarnings('ignore')"
   ]
  },
  {
   "cell_type": "code",
   "execution_count": null,
   "id": "green-improvement",
   "metadata": {},
   "outputs": [],
   "source": [
    "%matplotlib inline\n",
    "import matplotlib.pyplot as plt\n",
    "from carbonplan_forests import load, setup, plot, fit, utils, prepare, collect\n",
    "from showit import image\n",
    "import scipy as sp\n",
    "import numpy as np\n",
    "import pandas as pd\n",
    "import xarray as xr\n",
    "import geopandas as gpd\n",
    "import regionmask as rm\n",
    "from scipy.stats import binom\n",
    "import altair as alt\n",
    "\n",
    "from palettable.colorbrewer.sequential import YlOrRd_9"
   ]
  },
  {
   "cell_type": "code",
   "execution_count": null,
   "id": "dangerous-fields",
   "metadata": {},
   "outputs": [],
   "source": [
    "coarsen = 4\n",
    "store = \"az\"\n",
    "tlim = (\"1984\", \"2018\")"
   ]
  },
  {
   "cell_type": "code",
   "execution_count": null,
   "id": "breathing-license",
   "metadata": {},
   "outputs": [],
   "source": [
    "mask = load.mask(store=store, year=2001)"
   ]
  },
  {
   "cell_type": "code",
   "execution_count": null,
   "id": "cognitive-subscription",
   "metadata": {},
   "outputs": [],
   "source": [
    "nlcd = load.nlcd(store=store, year=2001, coarsen=coarsen, mask=mask)\n",
    "nftd = load.nftd(store=store, area_threshold=1500, coarsen=coarsen, mask=mask)"
   ]
  },
  {
   "cell_type": "code",
   "execution_count": null,
   "id": "guilty-retailer",
   "metadata": {},
   "outputs": [],
   "source": [
    "mtbs = load.mtbs(store=store, coarsen=coarsen, tlim=tlim, mask=mask)\n",
    "# give it the same x/y coords as nftd (and nlcd and climate)\n",
    "# this re-assignment will help us with some masking lower down\n",
    "mtbs = mtbs.assign_coords({\"x\": nftd.x, \"y\": nftd.y})"
   ]
  },
  {
   "cell_type": "code",
   "execution_count": null,
   "id": "neutral-header",
   "metadata": {},
   "outputs": [],
   "source": [
    "historical_ds = xr.open_zarr(\n",
    "    get_store(\"carbonplan-scratch\", \"data/fire.zarr\")\n",
    ").assign_coords({\"y\": mtbs.y, \"x\": mtbs.x})"
   ]
  },
  {
   "cell_type": "code",
   "execution_count": null,
   "id": "magnetic-burns",
   "metadata": {},
   "outputs": [],
   "source": [
    "alt.data_transformers.disable_max_rows()"
   ]
  },
  {
   "cell_type": "code",
   "execution_count": null,
   "id": "brilliant-saskatchewan",
   "metadata": {},
   "outputs": [],
   "source": [
    "all_evals = []\n",
    "all_stats = []\n",
    "for band in nftd.band.values:\n",
    "    stats, chart = plot.fire.full_eval(\n",
    "        mtbs * nftd.sel(band=band),\n",
    "        historical_ds * nftd.sel(band=band),\n",
    "        data_var=\"monthly\",\n",
    "        model_var=\"historical\",\n",
    "        clim=(-0.001, 0.001),\n",
    "        cmap=\"purplegreen\",\n",
    "        percentage=False,\n",
    "        clabel=\"Diff (Mod-Obs) [-]\",\n",
    "    )\n",
    "    all_stats.append(stats)\n",
    "    all_evals.append(chart)\n",
    "alt.vconcat(*all_evals)"
   ]
  },
  {
   "cell_type": "code",
   "execution_count": null,
   "id": "cross-conference",
   "metadata": {},
   "outputs": [],
   "source": [
    "test = mtbs.groupby(\"time.year\").sum().mean(dim=\"year\") * nftd"
   ]
  },
  {
   "cell_type": "code",
   "execution_count": null,
   "id": "standard-mississippi",
   "metadata": {},
   "outputs": [],
   "source": [
    "mtbs_band_probs = test.mean([\"x\", \"y\"]).to_dataframe()"
   ]
  },
  {
   "cell_type": "code",
   "execution_count": null,
   "id": "curious-bracelet",
   "metadata": {},
   "outputs": [],
   "source": [
    "mtbs_band_probs.loc[100][\"monthly\"]"
   ]
  },
  {
   "cell_type": "code",
   "execution_count": null,
   "id": "appropriate-qualification",
   "metadata": {},
   "outputs": [],
   "source": [
    "df_stats = pd.DataFrame(\n",
    "    columns=[\n",
    "        \"forest group type\",\n",
    "        \"annual correlation\",\n",
    "        \"seasonal correlation\",\n",
    "        \"spatial correlation\",\n",
    "        \"group-averaged risk\",\n",
    "    ]\n",
    ")\n",
    "for row, (band, performances) in enumerate(zip(nftd.band.values, all_stats)):\n",
    "    df_stats.loc[row] = [\n",
    "        str(band),\n",
    "        performances[\"annual\"],\n",
    "        performances[\"seasonal\"],\n",
    "        performances[\"spatial\"],\n",
    "        mtbs_band_probs.loc[band][\"monthly\"],\n",
    "    ]"
   ]
  },
  {
   "cell_type": "code",
   "execution_count": null,
   "id": "sound-ribbon",
   "metadata": {},
   "outputs": [],
   "source": [
    "alt.Chart(df_stats).mark_bar().encode(\n",
    "    x=\"forest group type\", y=\"annual correlation\", color=\"group-averaged risk\"\n",
    ") | alt.Chart(df_stats).mark_bar().encode(\n",
    "    x=\"forest group type\", y=\"seasonal correlation\", color=\"group-averaged risk\"\n",
    ") | alt.Chart(\n",
    "    df_stats\n",
    ").mark_bar().encode(\n",
    "    x=\"forest group type\", y=\"spatial correlation\", color=\"group-averaged risk\"\n",
    ")"
   ]
  }
 ],
 "metadata": {
  "kernelspec": {
   "display_name": "Python [conda env:notebook] *",
   "language": "python",
   "name": "conda-env-notebook-py"
  },
  "language_info": {
   "codemirror_mode": {
    "name": "ipython",
    "version": 3
   },
   "file_extension": ".py",
   "mimetype": "text/x-python",
   "name": "python",
   "nbconvert_exporter": "python",
   "pygments_lexer": "ipython3",
   "version": "3.7.9"
  }
 },
 "nbformat": 4,
 "nbformat_minor": 5
}
