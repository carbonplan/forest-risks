{
 "cells": [
  {
   "cell_type": "markdown",
   "metadata": {},
   "source": [
    "<img width=\"50\" src=\"https://carbonplan-assets.s3.amazonaws.com/monogram/dark-small.png\" style=\"margin-left:0px;margin-top:20px\"/>\n",
    "\n",
    "# MTBS Fire Model\n",
    "\n",
    "_by Jeremy Freeman (CarbonPlan), September 19, 2020_\n",
    "\n",
    "This notebook loads downsampled MTBS fire data and TerraClimate climate data and\n",
    "fits a logistical regression model.\n"
   ]
  },
  {
   "cell_type": "code",
   "execution_count": null,
   "metadata": {},
   "outputs": [],
   "source": [
    "import numpy as np\n",
    "import pandas as pd\n",
    "import scipy as sp\n",
    "from carbonplan_forests import load, setup, plot, fit, utils, prepare, collect\n",
    "import xarray as xr"
   ]
  },
  {
   "cell_type": "code",
   "execution_count": null,
   "metadata": {},
   "outputs": [],
   "source": [
    "%matplotlib inline\n",
    "import matplotlib.pyplot as plt\n",
    "from showit import image, tile"
   ]
  },
  {
   "cell_type": "code",
   "execution_count": null,
   "metadata": {},
   "outputs": [],
   "source": [
    "%load_ext autoreload\n",
    "%autoreload 2"
   ]
  },
  {
   "cell_type": "code",
   "execution_count": null,
   "metadata": {},
   "outputs": [],
   "source": [
    "store = \"az\""
   ]
  },
  {
   "cell_type": "code",
   "execution_count": null,
   "metadata": {},
   "outputs": [],
   "source": [
    "import altair as alt\n",
    "\n",
    "alt.themes.enable(\"carbonplan_light\")"
   ]
  },
  {
   "cell_type": "markdown",
   "metadata": {},
   "source": [
    "### wind analysis code\n"
   ]
  },
  {
   "cell_type": "code",
   "execution_count": null,
   "metadata": {},
   "outputs": [],
   "source": [
    "# from carbonplan.data import cat\n",
    "# ds_dict = {}\n",
    "# for year in np.arange(1984,2019):\n",
    "#     print(year)\n",
    "#     ds_dict[year] = cat.gridmet.raw_gridmet(variable='vs',\n",
    "#                             year=year).to_dask().wind_speed.groupby('day.month').max().load()\n",
    "\n",
    "# ds_concat = xr.concat(ds_dict.values(), dim='year')#, coords=ds_dict.keys())\n",
    "\n",
    "# ds_concat = ds_concat.assign_coords({'year': list(ds_dict.keys())})\n",
    "\n",
    "# full_ds_wind = ds_concat.stack(time=('year', 'month'))\n",
    "\n",
    "# full_ds_wind = full_ds_wind.transpose('time', 'lat', 'lon')\n",
    "\n",
    "# wind_climatology = ds_concat.mean(dim='year')\n",
    "\n",
    "# monthly_max = ds_concat.max(dim='year')\n",
    "# wind_climatology.to_netcdf('wind_climatology.nc')\n",
    "# monthly_max.to_netcdf('period_max.nc')\n",
    "# target_grid = \"gs://carbonplan-data/processed/grids/conus/4000m/domain.zarr\"\n",
    "# mapper = fsspec.get_mapper(target_grid)\n",
    "# target_ds = xr.open_zarr(\n",
    "#     mapper, consolidated=True)\n",
    "# regridder = xe.Regridder(wind_climatology, target_ds, method='bilinear', reuse_weights=True)\n",
    "# regridded_wind = regridder(wind_climatology)\n",
    "# regridded_full_wind = regridder(full_ds_wind)\n",
    "# regridded_full_wind = regridded_full_wind.assign_coords({'x': target_ds.x,\n",
    "#                              'y': target_ds.y})\n",
    "# regridded_wind = regridded_wind.assign_coords({'x': target_ds.x,\n",
    "#                              'y': target_ds.y})"
   ]
  },
  {
   "cell_type": "markdown",
   "metadata": {},
   "source": [
    "First we set some top-level parameters: the level of spatial coarsening (which\n",
    "can speed up fitting substantially, especially useful when testing), the time\n",
    "range (MTBS spans 1984 to 2018), and the climatic variables we'll use in the\n",
    "model.\n"
   ]
  },
  {
   "cell_type": "code",
   "execution_count": null,
   "metadata": {},
   "outputs": [],
   "source": [
    "coarsen = 16\n",
    "tlim = (1984, 2018)\n",
    "variables = [\"ppt\", \"tmean\", \"cwd\", \"pdsi\", \"tmax\", \"tmin\"]\n",
    "store = \"local\""
   ]
  },
  {
   "cell_type": "markdown",
   "metadata": {},
   "source": [
    "First we load data from `nlcd` (National Land Cover Database) which we will use\n",
    "to mask out non-land areas and data from `nftd` (National Forest Type Database)\n",
    "to use a regressors for forest type groups.\n"
   ]
  },
  {
   "cell_type": "code",
   "execution_count": null,
   "metadata": {},
   "outputs": [],
   "source": [
    "mask = load.mask(store=store, year=2001)"
   ]
  },
  {
   "cell_type": "code",
   "execution_count": null,
   "metadata": {},
   "outputs": [],
   "source": [
    "nlcd = load.nlcd(store=store, year=2001, coarsen=coarsen, mask=mask)\n",
    "nftd = load.nftd(store=store, area_threshold=1500, coarsen=coarsen, mask=mask)"
   ]
  },
  {
   "cell_type": "markdown",
   "metadata": {},
   "source": [
    "Now we load the `terraclim` climate data from the same time range.\n"
   ]
  },
  {
   "cell_type": "code",
   "execution_count": null,
   "metadata": {
    "scrolled": true
   },
   "outputs": [],
   "source": [
    "climate = load.terraclim(\n",
    "    store=store,\n",
    "    tlim=tlim,\n",
    "    coarsen=coarsen,\n",
    "    variables=variables,\n",
    "    mask=mask,\n",
    "    sampling=\"monthly\",\n",
    ").assign_coords({\"x\": nftd.x, \"y\": nftd.y})"
   ]
  },
  {
   "cell_type": "markdown",
   "metadata": {},
   "source": [
    "And finally load the `mtbs` data (Monitoring Trends in Burn Severity) which will\n",
    "gives us a record of all the fires we'll want to model.\n"
   ]
  },
  {
   "cell_type": "code",
   "execution_count": null,
   "metadata": {},
   "outputs": [],
   "source": [
    "mtbs = load.mtbs(store=store, coarsen=coarsen, tlim=tlim, mask=mask)"
   ]
  },
  {
   "cell_type": "markdown",
   "metadata": {},
   "source": [
    "### Inspecting the data\n"
   ]
  },
  {
   "cell_type": "markdown",
   "metadata": {},
   "source": [
    "We can plot the `mtbs` data for a specific year to get a sense of the raw data.\n"
   ]
  },
  {
   "cell_type": "code",
   "execution_count": null,
   "metadata": {},
   "outputs": [],
   "source": [
    "plot.fire.monthly(mtbs.sel(time=\"2018\"), clim=(0, 0.2))"
   ]
  },
  {
   "cell_type": "markdown",
   "metadata": {},
   "source": [
    "Here is the same thing but averaged over all years\n"
   ]
  },
  {
   "cell_type": "code",
   "execution_count": null,
   "metadata": {},
   "outputs": [],
   "source": [
    "plot.fire.monthly(mtbs, clim=(0.00005, 0.0015))"
   ]
  },
  {
   "cell_type": "markdown",
   "metadata": {},
   "source": [
    "## We can plot spatially averaged data over time to see both seasonable trends, and\n",
    "\n",
    "the fact that fire frequency and magnitude has increased over time.\n"
   ]
  },
  {
   "cell_type": "code",
   "execution_count": null,
   "metadata": {},
   "outputs": [],
   "source": [
    "x = mtbs[\"time\"]\n",
    "y = mtbs[\"monthly\"].mean([\"x\", \"y\"])\n",
    "\n",
    "plot.line(\n",
    "    x=x, y=y, width=900, height=200, color=\"rgb(175,91,92)\", strokeWidth=2\n",
    ")"
   ]
  },
  {
   "cell_type": "markdown",
   "metadata": {},
   "source": [
    "We can summarize the data by plotting annual, seasonal, and spatial trends by\n",
    "averaging across different groupings and dimensions.\n"
   ]
  },
  {
   "cell_type": "code",
   "execution_count": null,
   "metadata": {},
   "outputs": [],
   "source": [
    "plot.fire.summary(mtbs, clim=(0, 0.005))"
   ]
  },
  {
   "cell_type": "markdown",
   "metadata": {},
   "source": [
    "As a motivation for fitting fires as functions of climatic variables, we can\n",
    "look at spatially averaged climatic variables alongside fires, e.g. average\n",
    "tempreature, and see that there is a clear relationship (in this case a positive\n",
    "correlation).\n"
   ]
  },
  {
   "cell_type": "code",
   "execution_count": null,
   "metadata": {},
   "outputs": [],
   "source": [
    "x = mtbs.groupby(\"time.year\").mean()[\"year\"]\n",
    "y1 = mtbs[\"monthly\"].groupby(\"time.year\").sum().mean([\"x\", \"y\"])\n",
    "y2 = climate[temp_var].groupby(\"time.year\").max().mean([\"x\", \"y\"])\n",
    "\n",
    "(\n",
    "    plot.line(x=x, y=sp.stats.zscore(y1), color=\"rgb(175,91,92)\")\n",
    "    + plot.line(x=x, y=sp.stats.zscore(y2), color=\"rgb(175,91,92)\", opacity=0.5)\n",
    ")\n",
    "\n",
    "# np.corrcoef(y1,y2)[0,1]"
   ]
  },
  {
   "cell_type": "markdown",
   "metadata": {},
   "source": [
    "We could even look at how fires at the individual pixel level are related to the\n",
    "annual temperature (since we will likely include larger scale climate averages\n",
    "as variables in the model.) So we'll take the correlation along the time\n",
    "dimension between the CONUS average temperature (`y2` from above) and the `mtbs`\n",
    "monthly data.\n"
   ]
  },
  {
   "cell_type": "markdown",
   "metadata": {},
   "source": [
    "All this is is a measure of how correlated a given location is to the greater\n",
    "climate.\n"
   ]
  },
  {
   "cell_type": "markdown",
   "metadata": {},
   "source": [
    "If instead we wanted to look at how correlated the fires were with their\n",
    "specific climate maxes....\n"
   ]
  },
  {
   "cell_type": "code",
   "execution_count": null,
   "metadata": {},
   "outputs": [],
   "source": [
    "# Hacky way to make every month look like the annual average"
   ]
  },
  {
   "cell_type": "code",
   "execution_count": null,
   "metadata": {},
   "outputs": [],
   "source": [
    "max_temp = (\n",
    "    climate[temp_var]\n",
    "    .groupby(\"time.year\")\n",
    "    .max()\n",
    "    .assign_coords({\"year\": mtbs[\"monthly\"].time[np.arange(0, 420, 12)].values})\n",
    "    .rename({\"year\": \"time\"})\n",
    "    .resample(time=\"MS\")\n",
    "    .ffill()\n",
    ")\n",
    "max_temp = max_temp.reindex({\"time\": mtbs[\"monthly\"].time}, method=\"ffill\")\n",
    "conus_average_max_temp = xr.ones_like(max_temp) * max_temp.mean(dim=[\"x\", \"y\"])"
   ]
  },
  {
   "cell_type": "code",
   "execution_count": null,
   "metadata": {},
   "outputs": [],
   "source": [
    "model"
   ]
  },
  {
   "cell_type": "code",
   "execution_count": null,
   "metadata": {},
   "outputs": [],
   "source": [
    "yhat = model.predict(x_z)\n",
    "prediction = collect.fire(yhat, mtbs)"
   ]
  },
  {
   "cell_type": "code",
   "execution_count": null,
   "metadata": {},
   "outputs": [],
   "source": [
    "plot.fire.monthly(prediction, \"prediction\", clim=(0.00005, 0.0015))"
   ]
  },
  {
   "cell_type": "code",
   "execution_count": null,
   "metadata": {},
   "outputs": [],
   "source": [
    "plot.fire.evaluation(mtbs, prediction, \"monthly\", \"prediction\", clim=(0, 0.005))"
   ]
  },
  {
   "cell_type": "markdown",
   "metadata": {},
   "source": [
    "Then we can look at the same analysis except make it local temperature changes.\n",
    "This will likely have a stronger climate change signal.\n"
   ]
  },
  {
   "cell_type": "code",
   "execution_count": null,
   "metadata": {},
   "outputs": [],
   "source": [
    "plot.fire.simple_map(\n",
    "    local_temp_corr, clabel=\"correlation\", clim=(-0.2, 0.2), cmap=\"purplegreen\"\n",
    ")"
   ]
  },
  {
   "cell_type": "markdown",
   "metadata": {},
   "source": [
    "We can subtract the two to see where we have differences between the different\n",
    "methods.\n"
   ]
  },
  {
   "cell_type": "markdown",
   "metadata": {},
   "source": [
    "So, we deduce that the local changes in fire _are_ more strongly correlated with\n",
    "the local changes in temperature. But mainly in Texas. We could do a difference\n",
    "between the two to see the regions that would likely be impacted if we were to\n",
    "change something in the model.\n"
   ]
  },
  {
   "cell_type": "code",
   "execution_count": null,
   "metadata": {},
   "outputs": [],
   "source": [
    "plot.fire.simple_map(\n",
    "    local_temp_corr - conus_average_temp_corr,\n",
    "    clabel=\"correlation\",\n",
    "    clim=(-0.2, 0.2),\n",
    "    cmap=\"purplegreen\",\n",
    ")"
   ]
  },
  {
   "cell_type": "markdown",
   "metadata": {},
   "source": [
    "Hmmm now I'm a little confused. Let's try it with precip.\n"
   ]
  },
  {
   "cell_type": "markdown",
   "metadata": {},
   "source": [
    "Let's try out precipitation now too!\n"
   ]
  },
  {
   "cell_type": "code",
   "execution_count": null,
   "metadata": {},
   "outputs": [],
   "source": [
    "max_var = (\n",
    "    climate[\"ppt\"]\n",
    "    .groupby(\"time.year\")\n",
    "    .max()\n",
    "    .assign_coords({\"year\": mtbs[\"monthly\"].time[np.arange(0, 420, 12)].values})\n",
    "    .rename({\"year\": \"time\"})\n",
    "    .resample(time=\"MS\")\n",
    "    .ffill()\n",
    ")\n",
    "max_var = max_var.reindex({\"time\": mtbs[\"monthly\"].time}, method=\"ffill\")\n",
    "conus_average_max_var = xr.ones_like(max_var) * max_var.mean(dim=[\"x\", \"y\"])\n",
    "\n",
    "conus_average_var_corr = xr.corr(\n",
    "    mtbs[\"monthly\"], conus_average_max_var, dim=\"time\"\n",
    ")\n",
    "local_var_corr = xr.corr(mtbs[\"monthly\"], max_var, dim=\"time\")"
   ]
  },
  {
   "cell_type": "markdown",
   "metadata": {},
   "source": [
    "So first we'll look at correlation of local fire w conus average precip change\n"
   ]
  },
  {
   "cell_type": "code",
   "execution_count": null,
   "metadata": {},
   "outputs": [],
   "source": [
    "plot.fire.simple_map(\n",
    "    conus_average_var_corr,\n",
    "    clabel=\"correlation\",\n",
    "    clim=(-0.2, 0.2),\n",
    "    cmap=\"purplegreen\",\n",
    ")"
   ]
  },
  {
   "cell_type": "markdown",
   "metadata": {},
   "source": [
    "Then we'll look at correlation of local fire w local precip change.\n"
   ]
  },
  {
   "cell_type": "code",
   "execution_count": null,
   "metadata": {},
   "outputs": [],
   "source": [
    "plot.fire.simple_map(\n",
    "    local_var_corr, clabel=\"correlation\", clim=(-0.2, 0.2), cmap=\"purplegreen\"\n",
    ")"
   ]
  },
  {
   "cell_type": "markdown",
   "metadata": {},
   "source": [
    "### Let's instead try sum precip (instead of annual max) to try to get total precip trends\n"
   ]
  },
  {
   "cell_type": "code",
   "execution_count": null,
   "metadata": {},
   "outputs": [],
   "source": [
    "sum_var = (\n",
    "    climate[\"ppt\"]\n",
    "    .groupby(\"time.year\")\n",
    "    .sum()\n",
    "    .assign_coords({\"year\": mtbs[\"monthly\"].time[np.arange(0, 420, 12)].values})\n",
    "    .rename({\"year\": \"time\"})\n",
    "    .resample(time=\"MS\")\n",
    "    .ffill()\n",
    ")\n",
    "sum_var = sum_var.reindex({\"time\": mtbs[\"monthly\"].time}, method=\"ffill\")\n",
    "conus_average_sum_var = xr.ones_like(sum_var) * sum_var.mean(dim=[\"x\", \"y\"])\n",
    "\n",
    "conus_average_var_corr = xr.corr(\n",
    "    mtbs[\"monthly\"], conus_average_sum_var, dim=\"time\"\n",
    ")\n",
    "local_var_corr = xr.corr(mtbs[\"monthly\"], sum_var, dim=\"time\")"
   ]
  },
  {
   "cell_type": "code",
   "execution_count": null,
   "metadata": {},
   "outputs": [],
   "source": [
    "plot.fire.simple_map(\n",
    "    conus_average_var_corr,\n",
    "    clabel=\"correlation\",\n",
    "    clim=(-0.2, 0.2),\n",
    "    cmap=\"purplegreen\",\n",
    ")"
   ]
  },
  {
   "cell_type": "code",
   "execution_count": null,
   "metadata": {},
   "outputs": [],
   "source": [
    "plot.fire.simple_map(\n",
    "    local_var_corr, clabel=\"correlation\", clim=(-0.2, 0.2), cmap=\"purplegreen\"\n",
    ")"
   ]
  },
  {
   "cell_type": "markdown",
   "metadata": {},
   "source": [
    "## Finding #2: annual sum precip better inidcator than annual max precip.\n"
   ]
  },
  {
   "cell_type": "markdown",
   "metadata": {},
   "source": [
    "How much of this is just because the trends in max temperature are stronger in\n",
    "certain places? Let's make a map of the pixel-level trends in fire and temp\n"
   ]
  },
  {
   "cell_type": "code",
   "execution_count": null,
   "metadata": {},
   "outputs": [],
   "source": [
    "cmip_model = \"CanESM5\"\n",
    "scenario = \"ssp245\"\n",
    "target = 2025"
   ]
  },
  {
   "cell_type": "code",
   "execution_count": null,
   "metadata": {},
   "outputs": [],
   "source": [
    "future_climate = load.cmip(\n",
    "    store=store,\n",
    "    model=cmip_model,\n",
    "    coarsen=16,\n",
    "    scenario=scenario,\n",
    "    tlim=(2020, 2100),\n",
    "    variables=variables,\n",
    "    mask=mask,\n",
    "    sampling=\"monthly\",\n",
    ")"
   ]
  },
  {
   "cell_type": "code",
   "execution_count": null,
   "metadata": {},
   "outputs": [],
   "source": [
    "plot.fire.simple_map(\n",
    "    precip_for_regression.polyfit(dim=\"time\", deg=1)\n",
    "    .sel(degree=1)\n",
    "    .polyfit_coefficients.assign_coords({\"lat\": precip_for_regression.lat})\n",
    "    / sum_var.mean(dim=\"time\"),\n",
    "    clim=(-0.02, 0.02),\n",
    "    clabel=\"trend in precip [%/year]\",\n",
    "    cmap=\"brownbluegreen\",\n",
    ")"
   ]
  },
  {
   "cell_type": "markdown",
   "metadata": {},
   "source": [
    "FINDING #3: Looks like spatial trends in precip haven't been observed in\n",
    "historic record, so we're not giving it any knowledge of changing precip. Does\n",
    "this mean that the model will be entirely temperature driven?\n"
   ]
  },
  {
   "cell_type": "markdown",
   "metadata": {},
   "source": [
    "Now, let's look at four different regions to get a sense of the variance in the\n",
    "variables compared to the variance in the mtbs fire.\n"
   ]
  },
  {
   "cell_type": "code",
   "execution_count": null,
   "metadata": {},
   "outputs": [],
   "source": [
    "geographic_boxes = {\n",
    "    \"Southeast\": {\"x\": slice(45, 70), \"y\": slice(30, 50)},\n",
    "    \"California\": {\"x\": slice(0, 10), \"y\": slice(15, 35)},\n",
    "    \"Intermountain West\": {\"x\": slice(10, 20), \"y\": slice(15, 35)},\n",
    "    \"Northwest\": {\"x\": slice(0, 20), \"y\": slice(0, 15)},\n",
    "}"
   ]
  },
  {
   "cell_type": "code",
   "execution_count": null,
   "metadata": {},
   "outputs": [],
   "source": [
    "data = plot.fire.package_for_altair(\n",
    "    mtbs.isel(geographic_boxes[\"California\"]).sel(time=slice(\"1985\", \"2018\")),\n",
    "    climate.isel(geographic_boxes[\"California\"]).sel(\n",
    "        time=slice(\"1985\", \"2018\")\n",
    "    ),\n",
    "    prediction=prediction.isel(geographic_boxes[\"California\"]).sel(\n",
    "        time=slice(\"1985\", \"2018\")\n",
    "    ),\n",
    "    label=\"California\",\n",
    ")\n",
    "for region in [\"Intermountain West\", \"Northwest\", \"Southeast\"]:\n",
    "    data[region] = plot.fire.package_for_altair(\n",
    "        mtbs.isel(geographic_boxes[region]).sel(time=slice(\"1985\", \"2018\")),\n",
    "        climate.isel(geographic_boxes[region]).sel(time=slice(\"1985\", \"2018\")),\n",
    "        prediction=prediction.isel(geographic_boxes[region]).sel(\n",
    "            time=slice(\"1985\", \"2018\")\n",
    "        ),\n",
    "        label=region,\n",
    "    )[region]"
   ]
  },
  {
   "cell_type": "code",
   "execution_count": null,
   "metadata": {},
   "outputs": [],
   "source": [
    "plot.fire.summary(prediction, \"prediction\", clim=(0.0006, 0.008))"
   ]
  },
  {
   "cell_type": "code",
   "execution_count": null,
   "metadata": {},
   "outputs": [],
   "source": [
    "x = prediction[\"time\"]\n",
    "y2 = prediction[\"prediction\"].mean([\"x\", \"y\"])\n",
    "\n",
    "(\n",
    "    plot.line(\n",
    "        x=x, y=y2, width=900, height=200, color=\"rgb(175,91,92)\", strokeWidth=2\n",
    "    )\n",
    ")"
   ]
  }
 ],
 "metadata": {
  "kernelspec": {
   "display_name": "Python 3",
   "language": "python",
   "name": "python3"
  },
  "language_info": {
   "codemirror_mode": {
    "name": "ipython",
    "version": 3
   },
   "file_extension": ".py",
   "mimetype": "text/x-python",
   "name": "python",
   "nbconvert_exporter": "python",
   "pygments_lexer": "ipython3",
   "version": "3.7.9"
  }
 },
 "nbformat": 4,
 "nbformat_minor": 4
}
