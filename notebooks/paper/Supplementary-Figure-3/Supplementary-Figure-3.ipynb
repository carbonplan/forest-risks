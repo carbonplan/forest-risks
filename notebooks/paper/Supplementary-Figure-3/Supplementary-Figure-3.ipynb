{
 "cells": [
  {
   "cell_type": "code",
   "execution_count": 52,
   "id": "median-practitioner",
   "metadata": {},
   "outputs": [],
   "source": [
    "import pandas as pd\n",
    "import numpy as np\n",
    "import matplotlib.pyplot as plt"
   ]
  },
  {
   "cell_type": "code",
   "execution_count": 2,
   "id": "vanilla-switch",
   "metadata": {},
   "outputs": [],
   "source": [
    "plt.rcParams.update({'font.size': 14, 'svg.fonttype': 'none'})"
   ]
  },
  {
   "cell_type": "code",
   "execution_count": 28,
   "id": "laughing-landing",
   "metadata": {},
   "outputs": [],
   "source": [
    "df = pd.read_csv('Insect2PineFTs_SFigData.csv')"
   ]
  },
  {
   "cell_type": "code",
   "execution_count": 127,
   "id": "announced-professional",
   "metadata": {},
   "outputs": [
    {
     "data": {
      "image/png": "[encoded data removed]",
      "text/plain": [
       "<Figure size 864x432 with 2 Axes>"
      ]
     },
     "metadata": {
      "needs_background": "light"
     },
     "output_type": "display_data"
    }
   ],
   "source": [
    "fig, axs = plt.subplots(2,1, figsize=(12,6))\n",
    "width = 0.35\n",
    "labels = list(df['Coefficient'])\n",
    "index = np.arange(len(df.index))\n",
    "rects1a = axs[0].bar(index - width/2, df['Limber.Binom'], width, color='black', label='Men')\n",
    "rects1b = axs[0].bar(index + width/2, df['Limber.Beta'], width, color='gray', label='Women')\n",
    "rects2a = axs[1].bar(index - width/2, df['Lodgepole.Binom'], width, color='black', label='Men')\n",
    "rects2b = axs[1].bar(index + width/2, df['Lodgepole.Beta'], width, color='gray', label='Women')\n",
    "axs[0].spines['top'].set_visible(False)\n",
    "axs[0].spines['right'].set_visible(False)\n",
    "axs[1].spines['top'].set_visible(False)\n",
    "axs[1].spines['right'].set_visible(False)\n",
    "axs[0].set_xticks([])\n",
    "axs[1].set_xticks(index)\n",
    "axs[1].set_xticklabels(labels)\n",
    "axs[0].set_ylim([-25, 24])\n",
    "axs[1].set_ylim([-7, 3])\n",
    "axs[0].set_ylabel('Coefficient')\n",
    "axs[1].set_ylabel('Coefficient')\n",
    "for i, pval in enumerate(df['Limber.Binom.pval']):\n",
    "    if pval < 0.05:\n",
    "        axs[0].annotate('*', (index[i] - width/2 - 0.045, 20))\n",
    "for i, pval in enumerate(df['Limber.Beta.pval']):\n",
    "    if pval < 0.05:\n",
    "        axs[0].annotate('*', (index[i] + width/2 - 0.045, 20), color='gray')\n",
    "for i, pval in enumerate(df['Lodgepole.Binom.pval']):\n",
    "    if pval < 0.05:\n",
    "        axs[1].annotate('*', (index[i] - width/2 - 0.045, 2.5))\n",
    "for i, pval in enumerate(df['Lodgepole.Beta.pval']):\n",
    "    if pval < 0.05:\n",
    "        axs[1].annotate('*', (index[i] + width/2 - 0.045, 2.5), color='gray')\n",
    "\n",
    "plt.savefig('Supplementary-Figure-3.svg')"
   ]
  }
 ],
 "metadata": {
  "kernelspec": {
   "display_name": "Python 3",
   "language": "python",
   "name": "python3"
  },
  "language_info": {
   "codemirror_mode": {
    "name": "ipython",
    "version": 3
   },
   "file_extension": ".py",
   "mimetype": "text/x-python",
   "name": "python",
   "nbconvert_exporter": "python",
   "pygments_lexer": "ipython3",
   "version": "3.8.6"
  }
 },
 "nbformat": 4,
 "nbformat_minor": 5
}
