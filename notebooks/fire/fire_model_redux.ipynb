{
 "cells": [
  {
   "cell_type": "markdown",
   "metadata": {},
   "source": [
    "<img width=\"50\" src=\"https://carbonplan-assets.s3.amazonaws.com/monogram/dark-small.png\" style=\"margin-left:0px;margin-top:20px\"/>\n",
    "\n",
    "# MTBS Fire Model\n",
    "\n",
    "_by Jeremy Freeman (CarbonPlan), September 19, 2020_\n",
    "\n",
    "This notebook loads downsampled MTBS fire data and TerraClimate climate data and\n",
    "fits a logistical regression model.\n"
   ]
  },
  {
   "cell_type": "code",
   "execution_count": null,
   "metadata": {},
   "outputs": [],
   "source": [
    "import numpy as np\n",
    "import pandas as pd\n",
    "import scipy as sp\n",
    "from carbonplan_forests import load, setup, plot, fit, utils, prepare, collect"
   ]
  },
  {
   "cell_type": "code",
   "execution_count": null,
   "metadata": {},
   "outputs": [],
   "source": [
    "%matplotlib inline\n",
    "import matplotlib.pyplot as plt\n",
    "from showit import image, tile\n",
    "import xarray as xr\n",
    "from astropy.convolution import Gaussian2DKernel\n",
    "from astropy.convolution import convolve, convolve_fft\n",
    "import altair as alt"
   ]
  },
  {
   "cell_type": "code",
   "execution_count": null,
   "metadata": {},
   "outputs": [],
   "source": [
    "setup.plotting(remote=True)"
   ]
  },
  {
   "cell_type": "code",
   "execution_count": null,
   "metadata": {},
   "outputs": [],
   "source": [
    "%load_ext autoreload\n",
    "%autoreload 2"
   ]
  },
  {
   "cell_type": "markdown",
   "metadata": {},
   "source": [
    "First we set some top-level parameters: the level of spatial coarsening (which\n",
    "can speed up fitting substantially, especially useful when testing), the time\n",
    "range (MTBS spans 1984 to 2018), and the climatic variables we'll use in the\n",
    "model.\n"
   ]
  },
  {
   "cell_type": "code",
   "execution_count": null,
   "metadata": {},
   "outputs": [],
   "source": [
    "coarsen = 4\n",
    "full_climate_period = (1983, 2018)\n",
    "analysis_tlim = (1984, 2018)\n",
    "variables = [\"ppt\", \"tmean\", \"cwd\"]  # , \"tmax\", \"tmin\"]\n",
    "store = \"az\""
   ]
  },
  {
   "cell_type": "markdown",
   "metadata": {},
   "source": [
    "First we load data from `nlcd` which we will use to mask out non-land areas and\n",
    "data from `nftd` to use a regressors for forest type groups.\n"
   ]
  },
  {
   "cell_type": "code",
   "execution_count": null,
   "metadata": {},
   "outputs": [],
   "source": [
    "mask = (\n",
    "    load.nlcd(store=store, year=2001).sel(band=[41, 42, 43, 90]).sum(\"band\")\n",
    "    > 0.25\n",
    ").astype(\"float\")"
   ]
  },
  {
   "cell_type": "code",
   "execution_count": null,
   "metadata": {},
   "outputs": [],
   "source": [
    "nlcd = load.nlcd(store=store, year=2001, coarsen=coarsen, mask=mask)\n",
    "nftd = load.nftd(store=store, area_threshold=1500, coarsen=coarsen, mask=mask)"
   ]
  },
  {
   "cell_type": "code",
   "execution_count": null,
   "metadata": {},
   "outputs": [],
   "source": [
    "coarsened_conus_domain = load.mask(coarsen=coarsen)"
   ]
  },
  {
   "cell_type": "markdown",
   "metadata": {},
   "source": [
    "Now we load the `terraclim` data from the same time range.\n"
   ]
  },
  {
   "cell_type": "code",
   "execution_count": null,
   "metadata": {
    "scrolled": true
   },
   "outputs": [],
   "source": [
    "climate = load.terraclim(\n",
    "    store=store,\n",
    "    tlim=full_climate_period,\n",
    "    coarsen=coarsen,\n",
    "    variables=variables,\n",
    "    mask=mask,\n",
    "    sampling=\"monthly\",\n",
    ")"
   ]
  },
  {
   "cell_type": "markdown",
   "metadata": {},
   "source": [
    "And finally load the `mtbs` data\n"
   ]
  },
  {
   "cell_type": "code",
   "execution_count": null,
   "metadata": {},
   "outputs": [],
   "source": [
    "mtbs = load.mtbs(store=store, coarsen=coarsen, tlim=analysis_tlim, mask=mask)"
   ]
  },
  {
   "cell_type": "markdown",
   "metadata": {},
   "source": [
    "### Inspecting the data\n"
   ]
  },
  {
   "cell_type": "markdown",
   "metadata": {},
   "source": [
    "We can plot the `mtbs` data for a specific year to get a sense of the raw data.\n"
   ]
  },
  {
   "cell_type": "code",
   "execution_count": null,
   "metadata": {},
   "outputs": [],
   "source": [
    "plot.fire.monthly(mtbs.sel(time=\"2018\"), clim=(0, 0.2))"
   ]
  },
  {
   "cell_type": "markdown",
   "metadata": {},
   "source": [
    "Here is the same thing but averaged over all years\n"
   ]
  },
  {
   "cell_type": "code",
   "execution_count": null,
   "metadata": {},
   "outputs": [],
   "source": [
    "plot.fire.monthly(mtbs, clim=(0.00005, 0.0015))"
   ]
  },
  {
   "cell_type": "markdown",
   "metadata": {},
   "source": [
    "## We can plot spatially averaged data over time to see both seasonable trends, and\n",
    "\n",
    "the fact that fire frequency and magnitude has increased over time.\n"
   ]
  },
  {
   "cell_type": "code",
   "execution_count": null,
   "metadata": {},
   "outputs": [],
   "source": [
    "x = mtbs[\"time\"]\n",
    "y = mtbs[\"monthly\"].mean([\"x\", \"y\"])\n",
    "\n",
    "plot.line(\n",
    "    x=x, y=y, width=900, height=200, color=\"rgb(175,91,92)\", strokeWidth=2\n",
    ")"
   ]
  },
  {
   "cell_type": "markdown",
   "metadata": {},
   "source": [
    "We can summarize the data by plotting annual, seasonal, and spatial trends by\n",
    "averaging across different groupings and dimensions.\n"
   ]
  },
  {
   "cell_type": "code",
   "execution_count": null,
   "metadata": {},
   "outputs": [],
   "source": [
    "plot.fire.summary(mtbs, clim=(0, 0.005))"
   ]
  },
  {
   "cell_type": "markdown",
   "metadata": {},
   "source": [
    "As a motivation for fitting fires as functions of climatic variables, we can\n",
    "look at spatially averaged climatic variables alongside fires, e.g. average\n",
    "tempreature, and see that there is a clear relationship (in this case a positive\n",
    "correlation).\n"
   ]
  },
  {
   "cell_type": "code",
   "execution_count": null,
   "metadata": {},
   "outputs": [],
   "source": [
    "x = mtbs.groupby(\"time.year\").mean()[\"year\"]\n",
    "y1 = mtbs[\"monthly\"].groupby(\"time.year\").sum().mean([\"x\", \"y\"])\n",
    "y2 = climate[\"tmean\"].groupby(\"time.year\").max().mean([\"x\", \"y\"])\n",
    "\n",
    "(\n",
    "    plot.line(x=x, y=sp.stats.zscore(y1), color=\"rgb(175,91,92)\")\n",
    "    + plot.line(x=x, y=sp.stats.zscore(y2), color=\"rgb(175,91,92)\", opacity=0.5)\n",
    ")\n",
    "\n",
    "# np.corrcoef(y1,y2)[0,1]"
   ]
  },
  {
   "cell_type": "markdown",
   "metadata": {},
   "source": [
    "# Tmean precip comparisons\n"
   ]
  },
  {
   "cell_type": "code",
   "execution_count": null,
   "metadata": {},
   "outputs": [],
   "source": [
    "sl = slice(\"1984\", \"2008\")"
   ]
  },
  {
   "cell_type": "code",
   "execution_count": null,
   "metadata": {},
   "outputs": [],
   "source": [
    "single_pixel = climate.isel(x=25, y=25)"
   ]
  },
  {
   "cell_type": "code",
   "execution_count": null,
   "metadata": {},
   "outputs": [],
   "source": [
    "plt.figure(figsize=(15, 8))\n",
    "xr.DataArray(\n",
    "    np.repeat(\n",
    "        single_pixel[\"tmean\"].sel(time=sl).groupby(\"time.year\").max().values, 12\n",
    "    ),\n",
    "    coords=single_pixel.sel(time=sl).coords,\n",
    ").plot(label=\"groupby\")\n",
    "single_pixel[\"tmean\"].rolling(time=12).max().sel(time=sl).plot(label=\"rolling\")\n",
    "single_pixel[\"tmean\"].sel(time=sl).plot(label=\"raw\", alpha=0.5)\n",
    "plt.legend()\n",
    "plt.ylim(0, 18)"
   ]
  },
  {
   "cell_type": "code",
   "execution_count": null,
   "metadata": {},
   "outputs": [],
   "source": [
    "ts = climate[\"tmean\"].groupby(\"time.year\").max().mean(dim=[\"x\", \"y\"]).values\n",
    "groupby_global_max_then_mean = xr.DataArray(\n",
    "    np.repeat(ts, 12), coords=single_pixel.coords\n",
    ")\n",
    "ts = climate[\"tmean\"].mean(dim=[\"x\", \"y\"]).groupby(\"time.year\").max().values\n",
    "groupby_global_mean_then_max = xr.DataArray(\n",
    "    np.repeat(ts, 12), coords=single_pixel.coords\n",
    ")"
   ]
  },
  {
   "cell_type": "code",
   "execution_count": null,
   "metadata": {},
   "outputs": [],
   "source": [
    "groupby_global_mean_then_max.plot(label=\"mean then max\")\n",
    "groupby_global_max_then_mean.plot(label=\"max then mean\")\n",
    "plt.legend()"
   ]
  },
  {
   "cell_type": "code",
   "execution_count": null,
   "metadata": {},
   "outputs": [],
   "source": [
    "rolling_global_max = (\n",
    "    climate[\"tmean\"]\n",
    "    .mean(dim=[\"x\", \"y\"])\n",
    "    .rolling(dim={\"time\": 12}, min_periods=8, center=False)\n",
    "    .max()\n",
    "    .sel(time=inspection_slice)\n",
    ")"
   ]
  },
  {
   "cell_type": "code",
   "execution_count": null,
   "metadata": {},
   "outputs": [],
   "source": [
    "plt.figure(figsize=(10, 8))\n",
    "inspection_slice = slice(\"1984\", \"1990\")\n",
    "rolling_global_max.sel(time=inspection_slice).plot(label=\"rolling\")\n",
    "# groupby_global_max_annual.sel(time=inspection_slice).plot(label='groupby')\n",
    "\n",
    "groupby_global_mean_then_max.sel(time=inspection_slice).plot(label=\"groupby\")\n",
    "climate[\"tmean\"].sel(time=inspection_slice).mean(dim=[\"x\", \"y\"]).plot(\n",
    "    label=\"raw\"\n",
    ")\n",
    "plt.ylim(16, 24)\n",
    "plt.legend()"
   ]
  },
  {
   "cell_type": "code",
   "execution_count": null,
   "metadata": {},
   "outputs": [],
   "source": [
    "climate[\"ppt\"].rolling(time=12, center=False).sum().mean(dim=[\"x\", \"y\"]).plot()"
   ]
  },
  {
   "cell_type": "code",
   "execution_count": null,
   "metadata": {},
   "outputs": [],
   "source": [
    "climate[\"tmean\"].rolling(time=12, center=False).max().isel(time=30).plot()"
   ]
  },
  {
   "cell_type": "code",
   "execution_count": null,
   "metadata": {},
   "outputs": [],
   "source": [
    "climate[\"ppt\"].resample(time=\"AS\").mean().isel(time=3).plot()"
   ]
  },
  {
   "cell_type": "code",
   "execution_count": null,
   "metadata": {},
   "outputs": [],
   "source": [
    "climate[\"ppt\"].groupby(\"time.year\").sum().mean(dim=[\"x\", \"y\"]).plot()"
   ]
  },
  {
   "cell_type": "code",
   "execution_count": null,
   "metadata": {},
   "outputs": [],
   "source": [
    "rolling = (\n",
    "    climate[\"ppt\"]\n",
    "    .rolling(time=12, center=False)\n",
    "    .sum()\n",
    "    .mean(dim=[\"x\", \"y\"])\n",
    "    .sel(time=inspection_slice)\n",
    ")\n",
    "rolling.plot(label=\"rolling\")\n",
    "xr.DataArray(\n",
    "    np.repeat(\n",
    "        climate[\"ppt\"]\n",
    "        .sel(time=inspection_slice)\n",
    "        .groupby(\"time.year\")\n",
    "        .sum()\n",
    "        .mean(dim=[\"x\", \"y\"])\n",
    "        .values,\n",
    "        12,\n",
    "    ),\n",
    "    coords=rolling.coords,\n",
    ").plot(label=\"groupby\")\n",
    "plt.legend()"
   ]
  },
  {
   "cell_type": "markdown",
   "metadata": {},
   "source": [
    "# Original\n"
   ]
  },
  {
   "cell_type": "code",
   "execution_count": null,
   "metadata": {},
   "outputs": [],
   "source": [
    "climate.isel(time=3).tmean.plot()"
   ]
  },
  {
   "cell_type": "code",
   "execution_count": null,
   "metadata": {},
   "outputs": [],
   "source": [
    "rolling_period = slice(\"1984\", \"2018\")"
   ]
  },
  {
   "cell_type": "code",
   "execution_count": null,
   "metadata": {},
   "outputs": [],
   "source": [
    "climate_prepend = climate.sel(time=slice(\"1983\", \"1983\"))\n",
    "x, y = prepare.fire(\n",
    "    climate.sel(time=slice(*[str(t) for t in analysis_tlim])),  #\n",
    "    nftd,\n",
    "    mtbs,\n",
    "    add_global_climate_trends={\n",
    "        \"tmean\": {\"climate_prepend\": None, \"gaussian_kernel_size\": None},\n",
    "        \"ppt\": {\"climate_prepend\": None, \"gaussian_kernel_size\": None},\n",
    "    },\n",
    "    add_local_climate_trends=None,\n",
    ")\n",
    "#                     {'tmean': {'climate_prepend': None,\n",
    "#                                                        'gaussian_kernel_size': None},\n",
    "#                                                 'ppt': {'climate_prepend': None,\n",
    "#                                                        'gaussian_kernel_size': None}},)\n",
    "#                    rolling_period=12)\n",
    "x_z, x_mean, x_std = utils.zscore_2d(x)\n",
    "model = fit.hurdle(x_z, y, log=False)\n",
    "yhat = model.predict(x_z)\n",
    "prediction_original = collect.fire(yhat, mtbs)\n",
    "metrics, chart = plot.fire.full_eval(\n",
    "    mtbs,\n",
    "    prediction_original,\n",
    "    \"monthly\",\n",
    "    \"prediction\",\n",
    "    clim=(-0.08, 0.08),\n",
    "    cmap=\"purplegreen\",\n",
    ")\n",
    "chart"
   ]
  },
  {
   "cell_type": "code",
   "execution_count": null,
   "metadata": {},
   "outputs": [],
   "source": [
    "climate_prepend = climate.sel(time=slice(\"1983\", \"1983\"))\n",
    "x, y = prepare.fire(\n",
    "    climate.sel(time=slice(*[str(t) for t in analysis_tlim])),  #\n",
    "    nftd,\n",
    "    mtbs,\n",
    "    add_global_climate_trends={\n",
    "        \"tmean\": {\n",
    "            \"climate_prepend\": climate_prepend,\n",
    "            \"gaussian_kernel_size\": None,\n",
    "        },\n",
    "        \"ppt\": {\n",
    "            \"climate_prepend\": climate_prepend,\n",
    "            \"gaussian_kernel_size\": None,\n",
    "        },\n",
    "    },\n",
    "    add_local_climate_trends=None,\n",
    "    #                     {'tmean': {'climate_prepend': None,\n",
    "    #                                                        'gaussian_kernel_size': None},\n",
    "    #                                                 'ppt': {'climate_prepend': None,\n",
    "    #                                                        'gaussian_kernel_size': None}},)\n",
    "    rolling_period=8,\n",
    ")\n",
    "x_z, x_mean, x_std = utils.zscore_2d(x)\n",
    "model = fit.hurdle(x_z, y, log=False)\n",
    "yhat = model.predict(x_z)\n",
    "prediction_original = collect.fire(yhat, mtbs)\n",
    "metrics, chart = plot.fire.full_eval(\n",
    "    mtbs,\n",
    "    prediction_original,\n",
    "    \"monthly\",\n",
    "    \"prediction\",\n",
    "    clim=(-0.08, 0.08),\n",
    "    cmap=\"purplegreen\",\n",
    ")\n",
    "chart"
   ]
  },
  {
   "cell_type": "code",
   "execution_count": null,
   "metadata": {},
   "outputs": [],
   "source": [
    "climate_prepend = climate.sel(time=slice(\"1983\", \"1983\"))\n",
    "x, y = prepare.fire(\n",
    "    climate.sel(time=slice(*[str(t) for t in analysis_tlim])),  #\n",
    "    nftd,\n",
    "    mtbs,\n",
    "    add_global_climate_trends={\n",
    "        \"tmean\": {\n",
    "            \"climate_prepend\": climate_prepend,\n",
    "            \"gaussian_kernel_size\": None,\n",
    "        },\n",
    "        \"ppt\": {\n",
    "            \"climate_prepend\": climate_prepend,\n",
    "            \"gaussian_kernel_size\": None,\n",
    "        },\n",
    "    },\n",
    "    add_local_climate_trends=None,\n",
    "    #                     {'tmean': {'climate_prepend': None,\n",
    "    #                                                        'gaussian_kernel_size': None},\n",
    "    #                                                 'ppt': {'climate_prepend': None,\n",
    "    #                                                        'gaussian_kernel_size': None}},)\n",
    "    rolling_period=11,\n",
    ")\n",
    "x_z, x_mean, x_std = utils.zscore_2d(x)\n",
    "model = fit.hurdle(x_z, y, log=False)\n",
    "yhat = model.predict(x_z)\n",
    "prediction = collect.fire(yhat, mtbs)"
   ]
  },
  {
   "cell_type": "code",
   "execution_count": null,
   "metadata": {},
   "outputs": [],
   "source": [
    "plot.fire.monthly(prediction, \"prediction\", clim=(0.00005, 0.0015))"
   ]
  },
  {
   "cell_type": "code",
   "execution_count": null,
   "metadata": {},
   "outputs": [],
   "source": [
    "plot.fire.evaluation(mtbs, prediction, \"monthly\", \"prediction\", clim=(0, 0.005))"
   ]
  },
  {
   "cell_type": "code",
   "execution_count": null,
   "metadata": {},
   "outputs": [],
   "source": [
    "x_mean"
   ]
  },
  {
   "cell_type": "markdown",
   "metadata": {},
   "source": [
    "We can also compare the predicted and real probabilities over time.\n"
   ]
  },
  {
   "cell_type": "code",
   "execution_count": null,
   "metadata": {},
   "outputs": [],
   "source": [
    "x = mtbs[\"time\"]\n",
    "y1 = mtbs[\"monthly\"].mean([\"x\", \"y\"])\n",
    "y2 = prediction[\"prediction\"].mean([\"x\", \"y\"])\n",
    "\n",
    "(\n",
    "    plot.line(\n",
    "        x=x,\n",
    "        y=y1,\n",
    "        width=900,\n",
    "        height=200,\n",
    "        opacity=0.5,\n",
    "        color=\"rgb(175,91,92)\",\n",
    "        strokeWidth=2,\n",
    "    )\n",
    "    + plot.line(\n",
    "        x=x, y=y2, width=900, height=200, color=\"rgb(175,91,92)\", strokeWidth=2\n",
    "    )\n",
    ")"
   ]
  },
  {
   "cell_type": "markdown",
   "metadata": {},
   "source": [
    "Given that we fit a logistic regression, the natural model performance metric is\n",
    "area under the ROC curve, which we computed on the training data (you can use\n",
    "the variable `crossval` to repeat the model fit and compute a score on 25% held\n",
    "out data).\n"
   ]
  },
  {
   "cell_type": "markdown",
   "metadata": {},
   "source": [
    "Finally, we can compute correlations between model and prediction for annual,\n",
    "seasonal, and spatial trends. Note that these were not metrics used to\n",
    "explicitly fit the model, but in general a better fitting model ought to\n",
    "reproduce at least some of these trends.\n"
   ]
  },
  {
   "cell_type": "code",
   "execution_count": null,
   "metadata": {},
   "outputs": [],
   "source": [
    "print(\"correlation of annual trends\")\n",
    "np.corrcoef(\n",
    "    mtbs[\"monthly\"].groupby(\"time.year\").mean().mean([\"x\", \"y\"]),\n",
    "    prediction[\"prediction\"].groupby(\"time.year\").mean().mean([\"x\", \"y\"]),\n",
    ")[0, 1]"
   ]
  },
  {
   "cell_type": "code",
   "execution_count": null,
   "metadata": {},
   "outputs": [],
   "source": [
    "print(\"correlation of monthly trends\")\n",
    "np.corrcoef(\n",
    "    mtbs[\"monthly\"].groupby(\"time.month\").mean().mean([\"x\", \"y\"]),\n",
    "    prediction[\"prediction\"].groupby(\"time.month\").mean().mean([\"x\", \"y\"]),\n",
    ")[0, 1]"
   ]
  },
  {
   "cell_type": "code",
   "execution_count": null,
   "metadata": {},
   "outputs": [],
   "source": [
    "print(\"correlation of spatial trends\")\n",
    "a = mtbs[\"monthly\"].mean(\"time\").values.flatten()\n",
    "b = prediction[\"prediction\"].mean(\"time\").values.flatten()\n",
    "inds = ~np.isnan(a) & ~np.isnan(b)\n",
    "np.corrcoef(a[inds], b[inds])[0, 1]"
   ]
  },
  {
   "cell_type": "markdown",
   "metadata": {},
   "source": [
    "### Prediction on future climate data\n"
   ]
  },
  {
   "cell_type": "code",
   "execution_count": null,
   "metadata": {},
   "outputs": [],
   "source": [
    "cmip_model = \"CanESM5\"\n",
    "scenario = \"ssp245\"\n",
    "target = 2025"
   ]
  },
  {
   "cell_type": "code",
   "execution_count": null,
   "metadata": {},
   "outputs": [],
   "source": [
    "cmip_models = [\n",
    "    (\"CanESM5-CanOE\", \"r3i1p2f1\"),\n",
    "    (\"MIROC-ES2L\", \"r1i1p1f2\"),  #\n",
    "    (\"ACCESS-CM2\", \"r1i1p1f1\"),  #\n",
    "    (\"ACCESS-ESM1-5\", \"r10i1p1f1\"),\n",
    "    (\"MRI-ESM2-0\", \"r1i1p1f1\"),\n",
    "    (\"MPI-ESM1-2-LR\", \"r10i1p1f1\"),\n",
    "]"
   ]
  },
  {
   "cell_type": "code",
   "execution_count": null,
   "metadata": {},
   "outputs": [],
   "source": [
    "import zarr"
   ]
  },
  {
   "cell_type": "code",
   "execution_count": null,
   "metadata": {},
   "outputs": [],
   "source": [
    "downscaling = \"bias-corrected\"\n",
    "sampling = \"monthly\"\n",
    "model = \"CanESM5-CanOE\"\n",
    "scenario = \"ssp245\"\n",
    "member = \"r3i1p2f1\"\n",
    "store = \"az\""
   ]
  },
  {
   "cell_type": "code",
   "execution_count": null,
   "metadata": {},
   "outputs": [],
   "source": [
    "downscaling = \"quantile-mapping\"\n",
    "sampling = \"monthly\"\n",
    "for (model, member) in cmip_models:\n",
    "    for scenario in [\"historical\", \"ssp245\", \"ssp370\", \"ssp585\"]:\n",
    "\n",
    "        prefix = f\"cmip6/{downscaling}/conus/4000m/{sampling}/{model}.{scenario}.{member}.zarr\".format()\n",
    "\n",
    "        if store == \"az\":\n",
    "            mapper = zarr.storage.ABSStore(\n",
    "                \"carbonplan-downscaling\",\n",
    "                prefix=prefix,\n",
    "                account_name=\"carbonplan\",\n",
    "            )\n",
    "        ds = xr.open_zarr(mapper, consolidated=True)"
   ]
  },
  {
   "cell_type": "code",
   "execution_count": null,
   "metadata": {},
   "outputs": [],
   "source": [
    "model = \"ACCESS-CM2\"\n",
    "scenario = \"ssp370\"  #'r1i1p1f1'\n",
    "future_climate = load.cmip(\n",
    "    store=store,\n",
    "    model=cmip_model,\n",
    "    coarsen=16,\n",
    "    scenario=scenario,\n",
    "    tlim=(2020, 2100),\n",
    "    variables=variables,\n",
    "    mask=mask,\n",
    "    sampling=\"monthly\",\n",
    ")"
   ]
  },
  {
   "cell_type": "code",
   "execution_count": null,
   "metadata": {},
   "outputs": [],
   "source": [
    "x = prepare.fire(future_climate, nftd, eval_only=True)\n",
    "x_z = utils.zscore_2d(x, mean=x_mean, std=x_std)"
   ]
  },
  {
   "cell_type": "code",
   "execution_count": null,
   "metadata": {},
   "outputs": [],
   "source": [
    "yhat = model.predict(x_z)\n",
    "prediction = collect.fire(yhat, future_climate)"
   ]
  },
  {
   "cell_type": "code",
   "execution_count": null,
   "metadata": {},
   "outputs": [],
   "source": [
    "plot.fire.summary(prediction, \"prediction\", clim=(0.0006, 0.008))"
   ]
  },
  {
   "cell_type": "code",
   "execution_count": null,
   "metadata": {},
   "outputs": [],
   "source": [
    "x = prediction[\"time\"]\n",
    "y2 = prediction[\"prediction\"].mean([\"x\", \"y\"])\n",
    "\n",
    "(\n",
    "    plot.line(\n",
    "        x=x, y=y2, width=900, height=200, color=\"rgb(175,91,92)\", strokeWidth=2\n",
    "    )\n",
    ")"
   ]
  }
 ],
 "metadata": {
  "kernelspec": {
   "display_name": "Python 3",
   "language": "python",
   "name": "python3"
  },
  "language_info": {
   "codemirror_mode": {
    "name": "ipython",
    "version": 3
   },
   "file_extension": ".py",
   "mimetype": "text/x-python",
   "name": "python",
   "nbconvert_exporter": "python",
   "pygments_lexer": "ipython3",
   "version": "3.9.2"
  }
 },
 "nbformat": 4,
 "nbformat_minor": 4
}
