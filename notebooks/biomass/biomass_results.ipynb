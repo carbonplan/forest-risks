{
 "cells": [
  {
   "cell_type": "markdown",
   "metadata": {},
   "source": [
    "<img width=\"50\" src=\"https://carbonplan-assets.s3.amazonaws.com/monogram/dark-small.png\" style=\"margin-left:0px;margin-top:20px\"/>\n",
    "\n",
    "# FIA Biomass Results\n",
    "\n",
    "_by Jeremy Freeman (CarbonPlan), October 25, 2020_\n",
    "\n",
    "This notebook extracts and summarizes results from fitting biomass growth\n",
    "curves. See the notebook `biomass_modeling` for how the model is fit. This\n",
    "notebook assumes the model has been run and results have been saved using the\n",
    "script `biomass.py`.\n"
   ]
  },
  {
   "cell_type": "code",
   "execution_count": null,
   "metadata": {},
   "outputs": [],
   "source": [
    "import pickle\n",
    "import numpy as np\n",
    "import pandas as pd\n",
    "from carbonplan_forest_risks import setup, plot, load"
   ]
  },
  {
   "cell_type": "code",
   "execution_count": null,
   "metadata": {},
   "outputs": [],
   "source": [
    "setup.plotting(remote=True)"
   ]
  },
  {
   "cell_type": "markdown",
   "metadata": {},
   "source": [
    "First we load our model results. This assumes the model has been run and results\n",
    "have been saved using the script `biomass.py`.\n"
   ]
  },
  {
   "cell_type": "code",
   "execution_count": null,
   "metadata": {},
   "outputs": [],
   "source": [
    "pf = pd.read_parquet(\"~/forest-risks/data/biomass.parquet\")"
   ]
  },
  {
   "cell_type": "markdown",
   "metadata": {},
   "source": [
    "Filter out bad values\n"
   ]
  },
  {
   "cell_type": "code",
   "execution_count": null,
   "metadata": {},
   "outputs": [],
   "source": [
    "badinds = np.isnan(pf[\"historical\"])\n",
    "for key in pf.columns:\n",
    "    if key not in [\"lat\", \"lon\", \"type_code\", \"r2\"]:\n",
    "        badinds = badinds | np.isnan(pf[key])\n",
    "pf = pf[~badinds]"
   ]
  },
  {
   "cell_type": "markdown",
   "metadata": {},
   "source": [
    "We can plot the results from the model, evaluting on the same climate as used\n",
    "for fitting\n"
   ]
  },
  {
   "cell_type": "code",
   "execution_count": null,
   "metadata": {},
   "outputs": [],
   "source": [
    "plot.carto(\n",
    "    lat=pf[\"lat\"],\n",
    "    lon=pf[\"lon\"],\n",
    "    color=pf[\"historical\"],\n",
    "    cmap=\"yellowgreen\",\n",
    "    clim=(0, 250),\n",
    "    size=1,\n",
    ")"
   ]
  },
  {
   "cell_type": "markdown",
   "metadata": {},
   "source": [
    "We can also use other columns to look at future scenarios. For example, here's\n",
    "the difference in biomass from 2020 to 2100.\n"
   ]
  },
  {
   "cell_type": "code",
   "execution_count": null,
   "metadata": {},
   "outputs": [],
   "source": [
    "plot.carto(\n",
    "    lat=pf[\"lat\"],\n",
    "    lon=pf[\"lon\"],\n",
    "    color=pf[\"ACCESS-ESM1-5_ssp245_2095\"] - pf[\"ACCESS-ESM1-5_ssp245_2025\"],\n",
    "    cmap=\"yellowgreen\",\n",
    "    clim=(0, 100),\n",
    ")"
   ]
  },
  {
   "cell_type": "markdown",
   "metadata": {},
   "source": [
    "Make a time series of spatially averaged projections\n"
   ]
  },
  {
   "cell_type": "code",
   "execution_count": null,
   "metadata": {},
   "outputs": [],
   "source": [
    "years = np.arange(2015, 2105, 10)\n",
    "y1 = [pf[\"CanESM5-CanOE_ssp245_\" + str(year)].mean() for year in years]\n",
    "y2 = [pf[\"CanESM5-CanOE_ssp370_\" + str(year)].mean() for year in years]\n",
    "y3 = [pf[\"CanESM5-CanOE_ssp585_\" + str(year)].mean() for year in years]\n",
    "opts = {\"color\": \"rgb(75,128,97)\", \"ylabel\": \"biomass\", \"xlabel\": \"year\"}\n",
    "(\n",
    "    plot.line(x=years, y=y1, opacity=0.5, ylim=[100, 175], **opts)\n",
    "    + plot.line(x=years, y=y2, opacity=0.75, **opts)\n",
    "    + plot.line(x=years, y=y3, opacity=1, **opts)\n",
    ")"
   ]
  },
  {
   "cell_type": "code",
   "execution_count": null,
   "metadata": {},
   "outputs": [],
   "source": [
    "from showit import image"
   ]
  },
  {
   "cell_type": "code",
   "execution_count": null,
   "metadata": {},
   "outputs": [],
   "source": [
    "import xarray as xr"
   ]
  },
  {
   "cell_type": "code",
   "execution_count": null,
   "metadata": {},
   "outputs": [],
   "source": [
    "ds = xr.open_zarr(\"~/forest-risks/data/biomass.zarr\")"
   ]
  },
  {
   "cell_type": "code",
   "execution_count": null,
   "metadata": {},
   "outputs": [],
   "source": [
    "image(ds[\"ssp245\"][0], clim=[0, 200], size=15)"
   ]
  }
 ],
 "metadata": {
  "kernelspec": {
   "display_name": "Python 3",
   "language": "python",
   "name": "python3"
  },
  "language_info": {
   "codemirror_mode": {
    "name": "ipython",
    "version": 3
   },
   "file_extension": ".py",
   "mimetype": "text/x-python",
   "name": "python",
   "nbconvert_exporter": "python",
   "pygments_lexer": "ipython3",
   "version": "3.8.8"
  }
 },
 "nbformat": 4,
 "nbformat_minor": 4
}
