{
 "cells": [
  {
   "cell_type": "markdown",
   "metadata": {},
   "source": [
    "<img width=\"50\" src=\"https://carbonplan-assets.s3.amazonaws.com/monogram/dark-small.png\" style=\"margin-left:0px;margin-top:20px\"/>\n",
    "\n",
    "# MTBS Fire Supersection Averages\n",
    "\n",
    "_by Jeremy Freeman (CarbonPlan), Januyar 13, 2020_\n",
    "\n",
    "This notebook loads downsampled MTBS fire data and shows avearges within\n",
    "supersections.\n"
   ]
  },
  {
   "cell_type": "code",
   "execution_count": null,
   "metadata": {},
   "outputs": [],
   "source": [
    "import numpy as np\n",
    "import pandas as pd\n",
    "import scipy as sp\n",
    "import geopandas as gpd\n",
    "import regionmask as rm\n",
    "from carbonplan_forests import load, setup, plot, fit, utils, prepare, collect"
   ]
  },
  {
   "cell_type": "code",
   "execution_count": null,
   "metadata": {},
   "outputs": [],
   "source": [
    "%matplotlib inline\n",
    "import matplotlib.pyplot as plt\n",
    "from showit import image, tile"
   ]
  },
  {
   "cell_type": "code",
   "execution_count": null,
   "metadata": {},
   "outputs": [],
   "source": [
    "from palettable.colorbrewer.sequential import YlOrRd_9\n",
    "import matplotlib.pyplot as plt\n",
    "\n",
    "cmap = YlOrRd_9.mpl_colormap"
   ]
  },
  {
   "cell_type": "code",
   "execution_count": null,
   "metadata": {},
   "outputs": [],
   "source": [
    "setup.plotting(remote=False)"
   ]
  },
  {
   "cell_type": "code",
   "execution_count": null,
   "metadata": {},
   "outputs": [],
   "source": [
    "%load_ext autoreload\n",
    "%autoreload 2"
   ]
  },
  {
   "cell_type": "markdown",
   "metadata": {},
   "source": [
    "Set variables\n"
   ]
  },
  {
   "cell_type": "code",
   "execution_count": null,
   "metadata": {},
   "outputs": [],
   "source": [
    "coarsen = 16\n",
    "tlim = (1984, 2018)\n",
    "store = \"local\""
   ]
  },
  {
   "cell_type": "markdown",
   "metadata": {},
   "source": [
    "Load the mask from `nlcd`\n"
   ]
  },
  {
   "cell_type": "code",
   "execution_count": null,
   "metadata": {},
   "outputs": [],
   "source": [
    "mask = load.mask(store=store, year=2001)"
   ]
  },
  {
   "cell_type": "markdown",
   "metadata": {},
   "source": [
    "Load the `mtbs` data\n"
   ]
  },
  {
   "cell_type": "code",
   "execution_count": null,
   "metadata": {},
   "outputs": [],
   "source": [
    "mtbs = load.mtbs(store=store, coarsen=coarsen, tlim=tlim, mask=mask)"
   ]
  },
  {
   "cell_type": "markdown",
   "metadata": {},
   "source": [
    "Load the supersections\n"
   ]
  },
  {
   "cell_type": "code",
   "execution_count": null,
   "metadata": {},
   "outputs": [],
   "source": [
    "regions = gpd.read_file(\n",
    "    \"https://storage.googleapis.com/carbonplan-data/raw/ecoregions/supersections.geojson\"\n",
    ")"
   ]
  },
  {
   "cell_type": "code",
   "execution_count": null,
   "metadata": {},
   "outputs": [],
   "source": [
    "masks = rm.mask_3D_geopandas(regions, mtbs)"
   ]
  },
  {
   "cell_type": "markdown",
   "metadata": {},
   "source": [
    "Create integrated risk function\n"
   ]
  },
  {
   "cell_type": "code",
   "execution_count": null,
   "metadata": {},
   "outputs": [],
   "source": [
    "from scipy.stats import binom\n",
    "\n",
    "\n",
    "def integrated_risk(p):\n",
    "    return (1 - binom.cdf(0, 100, p)) * 100"
   ]
  },
  {
   "cell_type": "markdown",
   "metadata": {},
   "source": [
    "Make map before 2000\n"
   ]
  },
  {
   "cell_type": "code",
   "execution_count": null,
   "metadata": {},
   "outputs": [],
   "source": [
    "before_2000 = (\n",
    "    mtbs.sel(time=slice(\"1984\", \"2000\")).groupby(\"time.year\").sum().mean(\"year\")\n",
    ")\n",
    "risks_before_2000 = np.asarray(\n",
    "    [\n",
    "        before_2000.monthly.where(masks.sel(region=i))\n",
    "        .mean([\"x\", \"y\"])\n",
    "        .values.item()\n",
    "        for i in masks[\"region\"]\n",
    "    ]\n",
    ")\n",
    "regions.to_crs(\"EPSG:5070\").plot(\n",
    "    integrated_risk(risks_before_2000),\n",
    "    figsize=[15, 8],\n",
    "    cmap=cmap,\n",
    "    edgecolor=[0, 0, 0],\n",
    "    linewidth=0.3,\n",
    "    vmin=0,\n",
    "    vmax=50,\n",
    "    legend=True,\n",
    ")\n",
    "plt.axis(\"off\")"
   ]
  },
  {
   "cell_type": "markdown",
   "metadata": {},
   "source": [
    "Make map after 2000\n"
   ]
  },
  {
   "cell_type": "code",
   "execution_count": null,
   "metadata": {},
   "outputs": [],
   "source": [
    "after_2000 = (\n",
    "    mtbs.sel(time=slice(\"2001\", \"2018\")).groupby(\"time.year\").sum().mean(\"year\")\n",
    ")\n",
    "risks_after_2000 = np.asarray(\n",
    "    [\n",
    "        after_2000.monthly.where(masks.sel(region=i))\n",
    "        .mean([\"x\", \"y\"])\n",
    "        .values.item()\n",
    "        for i in masks[\"region\"]\n",
    "    ]\n",
    ")\n",
    "regions.to_crs(\"EPSG:5070\").plot(\n",
    "    integrated_risk(risks_after_2000),\n",
    "    figsize=[15, 8],\n",
    "    cmap=cmap,\n",
    "    edgecolor=[0, 0, 0],\n",
    "    linewidth=0.3,\n",
    "    vmin=0,\n",
    "    vmax=50,\n",
    "    legend=True,\n",
    ")\n",
    "plt.axis(\"off\")"
   ]
  }
 ],
 "metadata": {
  "kernelspec": {
   "display_name": "Python 3",
   "language": "python",
   "name": "python3"
  },
  "language_info": {
   "codemirror_mode": {
    "name": "ipython",
    "version": 3
   },
   "file_extension": ".py",
   "mimetype": "text/x-python",
   "name": "python",
   "nbconvert_exporter": "python",
   "pygments_lexer": "ipython3",
   "version": "3.8.6"
  }
 },
 "nbformat": 4,
 "nbformat_minor": 4
}
