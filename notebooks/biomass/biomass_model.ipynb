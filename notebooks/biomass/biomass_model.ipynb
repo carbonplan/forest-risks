{
 "cells": [
  {
   "cell_type": "markdown",
   "metadata": {},
   "source": [
    "<img width=\"50\" src=\"https://carbonplan-assets.s3.amazonaws.com/monogram/dark-small.png\" style=\"margin-left:0px;margin-top:20px\"/>\n",
    "\n",
    "# FIA Biomass Model\n",
    "\n",
    "_by Jeremy Freeman (CarbonPlan), September 19, 2020_\n",
    "\n",
    "This notebook show examples of fitting predictive biomass growth curves from FIA\n",
    "data\n"
   ]
  },
  {
   "cell_type": "code",
   "execution_count": null,
   "metadata": {},
   "outputs": [],
   "source": [
    "import numpy as np\n",
    "import pandas as pd\n",
    "from carbonplan_forest_risks import load, setup, plot, fit"
   ]
  },
  {
   "cell_type": "code",
   "execution_count": null,
   "metadata": {},
   "outputs": [],
   "source": [
    "setup.plotting(remote=True)"
   ]
  },
  {
   "cell_type": "markdown",
   "metadata": {},
   "source": [
    "First we load the data. To speed things up, we'll just load data from\n",
    "California. We load the raw FIA data, as well as two climatic variables `tavg`\n",
    "and `ppt` from the terraclim dataset.\n"
   ]
  },
  {
   "cell_type": "code",
   "execution_count": null,
   "metadata": {},
   "outputs": [],
   "source": [
    "df = load.fia(store=\"az\", states=\"CA\")\n",
    "df = load.terraclim(\n",
    "    store=\"az\",\n",
    "    tlim=(2000, 2020),\n",
    "    variables=[\"tmean\", \"ppt\"],\n",
    "    df=df,\n",
    ")"
   ]
  },
  {
   "cell_type": "markdown",
   "metadata": {},
   "source": [
    "We'll now pick a single forest type and plot biomass vs age colored by our\n",
    "climatic variables\n"
   ]
  },
  {
   "cell_type": "code",
   "execution_count": null,
   "metadata": {},
   "outputs": [],
   "source": [
    "inds = df[\"type_code\"] == 221\n",
    "x = df[inds][\"age\"]\n",
    "y = df[inds][\"biomass\"]\n",
    "f = [df[inds][\"tmean_mean\"], df[inds][\"ppt_mean\"]]\n",
    "(\n",
    "    plot.xy(x=x, y=y, color=f[0], cmap=\"magma\", xlim=[0, 250], ylim=[0, 600])\n",
    "    | plot.xy(\n",
    "        x=x, y=y, color=f[1], cmap=\"viridis\", xlim=[0, 250], ylim=[0, 600]\n",
    "    )\n",
    ").resolve_scale(color=\"independent\")"
   ]
  },
  {
   "cell_type": "markdown",
   "metadata": {},
   "source": [
    "To fit the model to these data we use the `fit.biomass` method\n"
   ]
  },
  {
   "cell_type": "code",
   "execution_count": null,
   "metadata": {},
   "outputs": [],
   "source": [
    "model = fit.biomass(x=x, y=y, f=f, noise=\"gamma\")"
   ]
  },
  {
   "cell_type": "markdown",
   "metadata": {},
   "source": [
    "We can evaluate `r2` on the training data\n"
   ]
  },
  {
   "cell_type": "code",
   "execution_count": null,
   "metadata": {},
   "outputs": [],
   "source": [
    "model.r2(x, f, y)"
   ]
  },
  {
   "cell_type": "markdown",
   "metadata": {},
   "source": [
    "And we can plot the fitted curves. When plotting, we show curves for different\n",
    "levels of the climatic variables, to show the form of dependency.\n"
   ]
  },
  {
   "cell_type": "code",
   "execution_count": null,
   "metadata": {},
   "outputs": [],
   "source": [
    "xlim = [0, 250]\n",
    "ylim = [0, 700]\n",
    "(\n",
    "    (\n",
    "        plot.xy(x=x, y=y, color=f[0], cmap=\"magma\", xlim=xlim, ylim=ylim)\n",
    "        + plot.line(\n",
    "            x=x,\n",
    "            y=model.predict(x, f, [90, 50]),\n",
    "            color=np.nanpercentile(f[0], 90),\n",
    "        )\n",
    "        + plot.line(\n",
    "            x=x,\n",
    "            y=model.predict(x, f, [10, 50]),\n",
    "            color=np.nanpercentile(f[0], 10),\n",
    "        )\n",
    "    )\n",
    "    | (\n",
    "        plot.xy(x=x, y=y, color=f[1], cmap=\"viridis\", xlim=xlim, ylim=ylim)\n",
    "        + plot.line(\n",
    "            x=x,\n",
    "            y=model.predict(x, f, [50, 10]),\n",
    "            color=np.nanpercentile(f[1], 10),\n",
    "        )\n",
    "        + plot.line(\n",
    "            x=x,\n",
    "            y=model.predict(x, f, [50, 90]),\n",
    "            color=np.nanpercentile(f[1], 90),\n",
    "        )\n",
    "    )\n",
    ").resolve_scale(color=\"independent\")"
   ]
  },
  {
   "cell_type": "markdown",
   "metadata": {},
   "source": [
    "As an inspection of model validity, we can plot the raw data and a sample from\n",
    "the generative process underlying the model using the fitted parameters\n",
    "(specifically, the fitted growth curve, and the Gamma noise model). It should\n",
    "look qualatatively similar to the actual data. In particular, note how the noise\n",
    "grows with age, and there are no negative values.\n"
   ]
  },
  {
   "cell_type": "code",
   "execution_count": null,
   "metadata": {},
   "outputs": [],
   "source": [
    "xlim = [0, 250]\n",
    "ylim = [-200, 700]\n",
    "(\n",
    "    (\n",
    "        plot.xy(x=x, y=y, xlim=xlim, ylim=ylim)\n",
    "        + plot.line(x=x, y=model.predict(x, f, [50, 50]))\n",
    "    )\n",
    "    | (\n",
    "        plot.xy(x=x, y=model.sample(x, f), xlim=xlim, ylim=ylim)\n",
    "        + plot.line(x=x, y=model.predict(x, f, [50, 50]))\n",
    "    )\n",
    ")"
   ]
  },
  {
   "cell_type": "markdown",
   "metadata": {},
   "source": [
    "We can set the noise to `'normal'` instead of `'gamma'` and see that the sampled\n",
    "data no longer matches the real data. While the fitted curve is similar, the\n",
    "variability is too high for low ages, and there are negative predictions where\n",
    "there shouldn't be! These behaviors help justify the choice of Gamma\n",
    "distribution.\n"
   ]
  },
  {
   "cell_type": "code",
   "execution_count": null,
   "metadata": {},
   "outputs": [],
   "source": [
    "model = fit.biomass(x=x, y=y, f=f, noise=\"normal\")"
   ]
  },
  {
   "cell_type": "code",
   "execution_count": null,
   "metadata": {},
   "outputs": [],
   "source": [
    "xlim = [0, 250]\n",
    "ylim = [-200, 700]\n",
    "(\n",
    "    (\n",
    "        plot.xy(x=x, y=y, xlim=xlim, ylim=ylim)\n",
    "        + plot.line(x=x, y=model.predict(x, f, [50, 50]))\n",
    "    )\n",
    "    | (\n",
    "        plot.xy(x=x, y=model.sample(x, f), xlim=xlim, ylim=ylim)\n",
    "        + plot.line(x=x, y=model.predict(x, f, [50, 50]))\n",
    "    )\n",
    ")"
   ]
  }
 ],
 "metadata": {
  "kernelspec": {
   "display_name": "Python 3",
   "language": "python",
   "name": "python3"
  },
  "language_info": {
   "codemirror_mode": {
    "name": "ipython",
    "version": 3
   },
   "file_extension": ".py",
   "mimetype": "text/x-python",
   "name": "python",
   "nbconvert_exporter": "python",
   "pygments_lexer": "ipython3",
   "version": "3.8.8"
  }
 },
 "nbformat": 4,
 "nbformat_minor": 4
}
