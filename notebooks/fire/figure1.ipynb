{
 "cells": [
  {
   "cell_type": "markdown",
   "id": "brief-effect",
   "metadata": {},
   "source": [
    "<img width=\"50\" src=\"https://carbonplan-assets.s3.amazonaws.com/monogram/dark-small.png\" style=\"margin-left:0px;margin-top:20px\"/>\n",
    "\n",
    "# Figure 1: Observed and modelled forest risks\n",
    "\n",
    "_Authors: Oriana Chegwidden and Jeremy Freeman_\n",
    "\n",
    "The methods below conduct the analyses to recreate Figure 1 included the\n",
    "manuscript <<< insert doi >>>. They draw from a model data produced by running\n",
    "`../../../scripts/fire.py` to create a the file located at\n",
    "`az:carbonplan-scratch/data/fire.zarr`.\n"
   ]
  },
  {
   "cell_type": "code",
   "execution_count": null,
   "id": "suspected-parks",
   "metadata": {},
   "outputs": [],
   "source": [
    "%load_ext autoreload\n",
    "%autoreload 2\n",
    "\n",
    "import numpy as np\n",
    "import pandas as pd\n",
    "import scipy as sp\n",
    "from carbonplan_forest_risks import load, setup, plot, fit, utils, prepare, collect\n",
    "import xarray as xr\n",
    "from carbonplan_forest_risks.utils import get_store\n",
    "import altair as alt\n",
    "import rioxarray\n",
    "from carbonplan.data import cat\n",
    "alt.data_transformers.disable_max_rows()"
   ]
  },
  {
   "cell_type": "markdown",
   "id": "objective-bumper",
   "metadata": {},
   "source": [
    "### Initialize the dictionary where you'll store all of your datasets.\n"
   ]
  },
  {
   "cell_type": "code",
   "execution_count": null,
   "id": "loving-exercise",
   "metadata": {},
   "outputs": [],
   "source": [
    "ds_dict = {}"
   ]
  },
  {
   "cell_type": "markdown",
   "id": "responsible-timer",
   "metadata": {},
   "source": [
    "## Load in the fire data\n"
   ]
  },
  {
   "cell_type": "code",
   "execution_count": null,
   "id": "bronze-belly",
   "metadata": {},
   "outputs": [],
   "source": [
    "coarsen = 4\n",
    "store = \"az\"\n",
    "tlim = (\"1984\", \"2018\")"
   ]
  },
  {
   "cell_type": "markdown",
   "id": "hindu-louisville",
   "metadata": {},
   "source": [
    "#### Historical simulation\n"
   ]
  },
  {
   "cell_type": "code",
   "execution_count": null,
   "id": "handmade-package",
   "metadata": {},
   "outputs": [],
   "source": [
    "historical_fire = xr.open_zarr(\n",
    "    get_store(\"carbonplan-scratch\", \"data/fire_historical_v3.zarr\")\n",
    ")"
   ]
  },
  {
   "cell_type": "code",
   "execution_count": null,
   "id": "working-haiti",
   "metadata": {},
   "outputs": [],
   "source": [
    "fire_mask = ~np.isnan(historical_fire.historical.isel(time=0).drop(\"time\"))"
   ]
  },
  {
   "cell_type": "code",
   "execution_count": null,
   "id": "pursuant-snake",
   "metadata": {},
   "outputs": [],
   "source": [
    "ds_dict[\"Fire_historical\"] = (\n",
    "    xr.open_zarr(\n",
    "        get_store(\"carbonplan-scratch\", \"data/fire_historical_v3.zarr\")\n",
    "    )\n",
    "    .groupby(\"time.year\")\n",
    "    .sum()\n",
    "    .where(fire_mask)\n",
    "    .mean(dim=\"year\")\n",
    ").compute()"
   ]
  },
  {
   "cell_type": "markdown",
   "id": "attempted-drunk",
   "metadata": {},
   "source": [
    "#### Observations\n"
   ]
  },
  {
   "cell_type": "code",
   "execution_count": null,
   "id": "streaming-tunisia",
   "metadata": {},
   "outputs": [],
   "source": [
    "mask = (\n",
    "    load.nlcd(store=store, year=2001).sel(band=[41, 42, 43, 90]).sum(\"band\")\n",
    "    > 0.25\n",
    ").astype(\"float\")"
   ]
  },
  {
   "cell_type": "code",
   "execution_count": null,
   "id": "quantitative-proportion",
   "metadata": {},
   "outputs": [],
   "source": [
    "ds_dict[\"Fire_observed\"] = load.mtbs(\n",
    "    store=store, coarsen=coarsen, tlim=tlim, mask=mask\n",
    ")\n",
    "ds_dict[\"Fire_observed\"] = (\n",
    "    ds_dict[\"Fire_observed\"]\n",
    "    .assign_coords(\n",
    "        {\"x\": ds_dict[\"Fire_historical\"].x, \"y\": ds_dict[\"Fire_historical\"].y}\n",
    "    )\n",
    "    .assign_coords(\n",
    "        {\n",
    "            \"lat\": ds_dict[\"Fire_historical\"].lat,\n",
    "            \"lon\": ds_dict[\"Fire_historical\"].lon,\n",
    "        }\n",
    "    )\n",
    "    .groupby(\"time.year\")\n",
    "    .sum()\n",
    "    .where(fire_mask)\n",
    "    .mean(dim=\"year\")\n",
    ").compute()"
   ]
  },
  {
   "cell_type": "markdown",
   "id": "empty-astronomy",
   "metadata": {},
   "source": [
    "### Load in insect and drought data\n"
   ]
  },
  {
   "cell_type": "code",
   "execution_count": null,
   "id": "fifth-aside",
   "metadata": {},
   "outputs": [],
   "source": [
    "def load_bill(url, lat_coords, lon_coords, x_coords, y_coords):\n",
    "    target = cat.nlcd.raster.to_dask()\n",
    "    source = xr.open_rasterio(url)\n",
    "    source = source.where(source > -1)\n",
    "    ds = source.rio.reproject_match(target)\n",
    "    ds = (\n",
    "        ds.where(ds > -1)\n",
    "        .coarsen(x=coarsen, y=coarsen, boundary=\"trim\")\n",
    "        .mean()\n",
    "        .sel(band=1)\n",
    "    )\n",
    "    # make sure that the coordinates are *exactly* aligned- otherwise you'll have\n",
    "    # pesky plotting peculiarities\n",
    "    ds = ds.assign_coords({\"x\": x_coords, \"y\": y_coords})\n",
    "    ds = ds.assign_coords({\"lat\": lat_coords, \"lon\": lon_coords})\n",
    "\n",
    "    return ds"
   ]
  },
  {
   "cell_type": "code",
   "execution_count": null,
   "id": "annoying-equivalent",
   "metadata": {},
   "outputs": [],
   "source": [
    "base_url_tempate = (\n",
    "    \"https://carbonplan.blob.core.windows.net/carbonplan-scratch/from_bill/{}\"\n",
    ")\n",
    "dataset_urls = {\n",
    "    \"Drought\": {\n",
    "        \"historical\": base_url_tempate.format(\n",
    "            \"Fig1D_AllMortModel_ModeledFIAlongHistMort_3-19-2021.tiff\"\n",
    "        ),\n",
    "        \"observed\": base_url_tempate.format(\n",
    "            \"Fig1C_AllMortModel_ObservedHistMort_3-19-2021.tiff\"\n",
    "        ),\n",
    "    },\n",
    "    \"Insects\": {\n",
    "        \"historical\": base_url_tempate.format(\n",
    "            \"Fig1F_InsectModel_ModeledFIAlongHistMort_3-26-2021.tif\"\n",
    "        ),\n",
    "        \"observed\": base_url_tempate.format(\n",
    "            \"Fig1E_InsectModel_ObservedHistMort_3-26-2021.tif\"\n",
    "        ),\n",
    "    },\n",
    "}"
   ]
  },
  {
   "cell_type": "markdown",
   "id": "existing-portsmouth",
   "metadata": {},
   "source": [
    "## Load in the drought and insect data\n"
   ]
  },
  {
   "cell_type": "markdown",
   "id": "complete-aside",
   "metadata": {},
   "source": [
    "#### Observations and Historical simulations\n"
   ]
  },
  {
   "cell_type": "code",
   "execution_count": null,
   "id": "horizontal-scroll",
   "metadata": {},
   "outputs": [],
   "source": [
    "for mechanism, url_dict in dataset_urls.items():\n",
    "    for setup, url in url_dict.items():\n",
    "        print(url)\n",
    "        ds_dict[mechanism + \"_\" + setup] = load.tiff(\n",
    "            url,\n",
    "            ds_dict[\"Fire_observed\"].lat,\n",
    "            ds_dict[\"Fire_observed\"].lon,\n",
    "            ds_dict[\"Fire_observed\"].x.values,\n",
    "            ds_dict[\"Fire_observed\"].y.values,\n",
    "        )"
   ]
  },
  {
   "cell_type": "markdown",
   "id": "refined-victory",
   "metadata": {},
   "source": [
    "## Plot the figure for all three impacts\n"
   ]
  },
  {
   "cell_type": "code",
   "execution_count": null,
   "id": "compound-giant",
   "metadata": {},
   "outputs": [],
   "source": [
    "full_plot = alt.vconcat().resolve_scale(color=\"independent\")\n",
    "fire_chart = plot.fire.simple_map(\n",
    "    ds_dict[\"Fire_observed\"][\"monthly\"],\n",
    "    data2=ds_dict[\"Fire_historical\"][\"historical\"],\n",
    "    title1=\"Observed\",\n",
    "    title2=\"Modeled\",\n",
    "    clim=(0, 0.004),\n",
    "    clabel=\"Burn area (fraction/year)\",\n",
    "    cmap=[\"#F9D3BD\", \"#E87A3D\", \"#752003\"],  # [\"white\", \"#EA9755\"],\n",
    ")\n",
    "drought_chart = plot.fire.simple_map(\n",
    "    ds_dict[\"Drought_observed\"],\n",
    "    data2=ds_dict[\"Drought_historical\"],\n",
    "    title1=\"Observed\",\n",
    "    title2=\"Modeled\",\n",
    "    clim=(0, 0.02),\n",
    "    clabel=\"Drought mortality ()\",\n",
    "    cmap=[\"#F9C7ED\", \"#E563BA\", \"#770361\"],\n",
    ")\n",
    "\n",
    "insects_chart = plot.fire.simple_map(\n",
    "    ds_dict[\"Insects_observed\"],\n",
    "    data2=ds_dict[\"Insects_historical\"],\n",
    "    title1=\"Observed\",\n",
    "    title2=\"Modeled\",\n",
    "    clim=(0, 0.004),\n",
    "    clabel=\"Insect morality ()\",\n",
    "    cmap=[\"#CFE0F9\", \"#588EF9\", \"#0432A5\"],\n",
    ")\n",
    "\n",
    "full_plot &= fire_chart\n",
    "full_plot &= drought_chart\n",
    "full_plot &= insects_chart\n",
    "\n",
    "full_plot.configure_view(strokeOpacity=0)"
   ]
  }
 ],
 "metadata": {
  "kernelspec": {
   "display_name": "Python [conda env:notebook] *",
   "language": "python",
   "name": "conda-env-notebook-py"
  },
  "language_info": {
   "codemirror_mode": {
    "name": "ipython",
    "version": 3
   },
   "file_extension": ".py",
   "mimetype": "text/x-python",
   "name": "python",
   "nbconvert_exporter": "python",
   "pygments_lexer": "ipython3",
   "version": "3.8.8"
  }
 },
 "nbformat": 4,
 "nbformat_minor": 5
}
