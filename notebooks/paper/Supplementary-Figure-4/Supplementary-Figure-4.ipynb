{
 "cells": [
  {
   "cell_type": "code",
   "execution_count": null,
   "id": "delayed-nirvana",
   "metadata": {},
   "outputs": [],
   "source": [
    "import numpy as np\n",
    "import pandas as pd\n",
    "import xarray as xr\n",
    "import rioxarray\n",
    "import matplotlib\n",
    "import matplotlib.pyplot as plt\n",
    "from rasterio.enums import Resampling\n",
    "from carbonplan_forest_risks import (\n",
    "    load,\n",
    "    setup,\n",
    "    plot,\n",
    "    fit,\n",
    "    utils,\n",
    "    prepare,\n",
    "    collect,\n",
    ")\n",
    "from carbonplan.data import cat\n",
    "from carbonplan_styles.mpl import get_colormap\n",
    "\n",
    "from showit import image"
   ]
  },
  {
   "cell_type": "code",
   "execution_count": null,
   "id": "human-introduction",
   "metadata": {},
   "outputs": [],
   "source": [
    "coarsen = 4"
   ]
  },
  {
   "cell_type": "code",
   "execution_count": null,
   "id": "coral-special",
   "metadata": {},
   "outputs": [],
   "source": [
    "def load_bill(url):\n",
    "    target = cat.nlcd.raster.to_dask()\n",
    "    source = xr.open_rasterio(url)\n",
    "    source = source.where(source > -1)\n",
    "    ds = source.rio.reproject_match(target, resampling=Resampling.bilinear)\n",
    "    ds = (\n",
    "        ds.where(ds > -1)\n",
    "        .coarsen(x=coarsen, y=coarsen, boundary=\"trim\")\n",
    "        .mean()\n",
    "        .sel(band=1)\n",
    "    )\n",
    "\n",
    "    return ds"
   ]
  },
  {
   "cell_type": "code",
   "execution_count": null,
   "id": "sustainable-mainland",
   "metadata": {},
   "outputs": [],
   "source": [
    "dataset_urls = {\n",
    "    \"insects\": {\n",
    "        \"AUC\": \"SuppFig_InsectModel_CV_AUC_04-22-2021.tif\",\n",
    "        \"R2\": \"SuppFig_InsectModel_CV_nonzeroR2_04-22-2021.tif\",\n",
    "    },\n",
    "    \"drought\": {\n",
    "        \"AUC\": \"SuppFig_DroughtModel_CV_AUC_04-22-2021.tif\",\n",
    "        \"R2\": \"SuppFig_DroughtModel_CV_nonzeroR2_04-22-2021.tif\",\n",
    "    },\n",
    "}"
   ]
  },
  {
   "cell_type": "code",
   "execution_count": null,
   "id": "hindu-biography",
   "metadata": {},
   "outputs": [],
   "source": [
    "ds_dict = {}\n",
    "ds_dict[\"insects\"] = {}\n",
    "ds_dict[\"drought\"] = {}\n",
    "ds_dict[\"insects\"][\"AUC\"] = load_bill(dataset_urls[\"insects\"][\"AUC\"])\n",
    "ds_dict[\"insects\"][\"R2\"] = load_bill(dataset_urls[\"insects\"][\"R2\"])\n",
    "ds_dict[\"drought\"][\"AUC\"] = load_bill(dataset_urls[\"drought\"][\"AUC\"])\n",
    "ds_dict[\"drought\"][\"R2\"] = load_bill(dataset_urls[\"drought\"][\"R2\"])"
   ]
  },
  {
   "cell_type": "code",
   "execution_count": null,
   "id": "defensive-tsunami",
   "metadata": {},
   "outputs": [],
   "source": [
    "plot_params = {\n",
    "    \"drought_AUC\": {\n",
    "        \"cmap\": get_colormap(\"pinks\"),\n",
    "        \"var_lims\": (0.5, 0.8),\n",
    "        \"label\": \"Drought-related\\nmortality (%/year)\",\n",
    "        \"panel\": [\"C\", \"D\"],\n",
    "        \"cbar_ylocation\": 0.15,\n",
    "        \"cbar_xlocation\": 0.46,\n",
    "    },\n",
    "    \"insects_AUC\": {\n",
    "        \"cmap\": get_colormap(\"blues\"),\n",
    "        \"var_lims\": (0.5, 0.8),\n",
    "        \"label\": \"Insect-related\\nmortality (%/year)\",\n",
    "        \"panel\": [\"E\", \"F\"],\n",
    "        \"cbar_ylocation\": 0.64,\n",
    "        \"cbar_xlocation\": 0.46,\n",
    "    },\n",
    "    \"drought_R2\": {\n",
    "        \"cmap\": get_colormap(\"pinks\"),\n",
    "        \"var_lims\": (0, 0.05),\n",
    "        \"label\": \"Drought-related\\nmortality (%/year)\",\n",
    "        \"panel\": [\"C\", \"D\"],\n",
    "        \"cbar_ylocation\": 0.15,\n",
    "        \"cbar_xlocation\": 1.01,\n",
    "    },\n",
    "    \"insects_R2\": {\n",
    "        \"cmap\": get_colormap(\"blues\"),\n",
    "        \"var_lims\": (0, 0.15),\n",
    "        \"label\": \"Insect-related\\nmortality (%/year)\",\n",
    "        \"panel\": [\"E\", \"F\"],\n",
    "        \"cbar_ylocation\": 0.64,\n",
    "        \"cbar_xlocation\": 1.01,\n",
    "    },\n",
    "}"
   ]
  },
  {
   "cell_type": "code",
   "execution_count": null,
   "id": "altered-norwegian",
   "metadata": {},
   "outputs": [],
   "source": [
    "matplotlib.rc(\"font\", family=\"sans-serif\")\n",
    "matplotlib.rc(\"font\", serif=\"Helvetica Neue\")\n",
    "matplotlib.rc(\"text\", usetex=\"false\")\n",
    "matplotlib.rcParams.update({\"font.size\": 14, \"svg.fonttype\": \"none\"})"
   ]
  },
  {
   "cell_type": "code",
   "execution_count": null,
   "id": "biological-alexandria",
   "metadata": {},
   "outputs": [],
   "source": [
    "fig, axarr = plt.subplots(\n",
    "    nrows=2,\n",
    "    ncols=2,\n",
    "    figsize=(12, 10),\n",
    "    subplot_kw={\"projection\": plot.cartopy_proj_albers()},\n",
    ")\n",
    "for row, dataset in enumerate([\"insects\", \"drought\"]):\n",
    "    for column, metric in enumerate([\"AUC\", \"R2\"]):\n",
    "        vmin, vmax = (\n",
    "            plot_params[\"{}_{}\".format(dataset, metric)][\"var_lims\"][0],\n",
    "            plot_params[\"{}_{}\".format(dataset, metric)][\"var_lims\"][1],\n",
    "        )\n",
    "        map_plot = ds_dict[dataset][metric].plot.imshow(\n",
    "            ax=axarr[row, column],\n",
    "            cmap=plot_params[\"{}_{}\".format(dataset, metric)][\"cmap\"],\n",
    "            vmin=vmin,\n",
    "            vmax=vmax,\n",
    "            add_colorbar=False,\n",
    "            add_labels=False,\n",
    "        )\n",
    "        plot.map_pretty(axarr[row, column], title=metric)\n",
    "        plot.add_colorbar(\n",
    "            fig,\n",
    "            to_plot=map_plot,\n",
    "            y_location=plot_params[\"{}_{}\".format(dataset, metric)][\n",
    "                \"cbar_ylocation\"\n",
    "            ],\n",
    "            x_location=plot_params[\"{}_{}\".format(dataset, metric)][\n",
    "                \"cbar_xlocation\"\n",
    "            ],\n",
    "            vmin=plot_params[\"{}_{}\".format(dataset, metric)][\"var_lims\"][0],\n",
    "            vmax=plot_params[\"{}_{}\".format(dataset, metric)][\"var_lims\"][1],\n",
    "            cbar_label=plot_params[\"{}_{}\".format(dataset, metric)][\"label\"],\n",
    "        )\n",
    "plt.tight_layout(pad=-6)\n",
    "fig.savefig(\"Supplementary-Figure-4.svg\", format=\"svg\", bbox_inches=\"tight\")"
   ]
  },
  {
   "cell_type": "code",
   "execution_count": null,
   "id": "underlying-correlation",
   "metadata": {},
   "outputs": [],
   "source": [
    "df_drought = pd.read_csv(\n",
    "    \"Drought_USwide_CrossValidationR2_4-21-21.csv\", header=None\n",
    ")\n",
    "df_insects = pd.read_csv(\n",
    "    \"Insect_USwide_CrossValidationR2_4-21-21.csv\", header=None\n",
    ")"
   ]
  },
  {
   "cell_type": "code",
   "execution_count": null,
   "id": "discrete-qatar",
   "metadata": {},
   "outputs": [],
   "source": [
    "print(\"drought: spatial cross validation R2 percentiles\")\n",
    "print(np.percentile(df_drought[0], [5, 50, 95]))"
   ]
  },
  {
   "cell_type": "code",
   "execution_count": null,
   "id": "bulgarian-bracelet",
   "metadata": {},
   "outputs": [],
   "source": [
    "print(\"insects: spatial cross validation R2 percentiles\")\n",
    "print(np.percentile(df_insects[0], [5, 50, 95]))"
   ]
  }
 ],
 "metadata": {
  "kernelspec": {
   "display_name": "Python 3",
   "language": "python",
   "name": "python3"
  },
  "language_info": {
   "codemirror_mode": {
    "name": "ipython",
    "version": 3
   },
   "file_extension": ".py",
   "mimetype": "text/x-python",
   "name": "python",
   "nbconvert_exporter": "python",
   "pygments_lexer": "ipython3",
   "version": "3.8.8"
  }
 },
 "nbformat": 4,
 "nbformat_minor": 5
}
