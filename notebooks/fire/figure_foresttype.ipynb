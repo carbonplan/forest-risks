{
 "cells": [
  {
   "cell_type": "markdown",
   "id": "connected-collaboration",
   "metadata": {},
   "source": [
    "<img width=\"50\" src=\"https://carbonplan-assets.s3.amazonaws.com/monogram/dark-small.png\" style=\"margin-left:0px;margin-top:20px\"/>\n",
    "\n",
    "# Figure 3: Dependence of model performance on forest type\n",
    "\n",
    "_Authors: Oriana Chegwidden and Jeremy Freeman_\n",
    "\n",
    "The methods below conduct the analyses to recreate Figure 3 included the\n",
    "manuscript <<< insert doi >>>. In this analysis we mean forest group type.\n"
   ]
  },
  {
   "cell_type": "code",
   "execution_count": null,
   "id": "rough-geneva",
   "metadata": {},
   "outputs": [],
   "source": [
    "%load_ext autoreload\n",
    "%autoreload 2\n",
    "\n",
    "import numpy as np\n",
    "import pandas as pd\n",
    "import scipy as sp\n",
    "from carbonplan_forests import load, setup, plot, fit, utils, prepare, collect\n",
    "import xarray as xr\n",
    "from carbonplan_forests.utils import get_store\n",
    "import warnings\n",
    "warnings.filterwarnings('ignore')"
   ]
  },
  {
   "cell_type": "code",
   "execution_count": null,
   "id": "regional-accreditation",
   "metadata": {},
   "outputs": [],
   "source": [
    "%matplotlib inline\n",
    "import matplotlib.pyplot as plt\n",
    "from carbonplan_forests import load, setup, plot, fit, utils, prepare, collect\n",
    "from showit import image\n",
    "import scipy as sp\n",
    "import numpy as np\n",
    "import pandas as pd\n",
    "import xarray as xr\n",
    "import geopandas as gpd\n",
    "import regionmask as rm\n",
    "from scipy.stats import binom\n",
    "import altair as alt\n",
    "\n",
    "from palettable.colorbrewer.sequential import YlOrRd_9"
   ]
  },
  {
   "cell_type": "code",
   "execution_count": null,
   "id": "charming-worship",
   "metadata": {},
   "outputs": [],
   "source": [
    "coarsen = 4\n",
    "store = \"az\"\n",
    "tlim = (\"1984\", \"2018\")"
   ]
  },
  {
   "cell_type": "code",
   "execution_count": null,
   "id": "amber-deviation",
   "metadata": {},
   "outputs": [],
   "source": [
    "mask = (\n",
    "    load.nlcd(store=store, year=2001).sel(band=[41, 42, 43, 90]).sum(\"band\")\n",
    "    > 0.25\n",
    ").astype(\"float\")"
   ]
  },
  {
   "cell_type": "code",
   "execution_count": null,
   "id": "aerial-apartment",
   "metadata": {},
   "outputs": [],
   "source": [
    "nlcd = load.nlcd(store=store, year=2001, coarsen=coarsen, mask=mask)\n",
    "nftd = load.nftd(store=store, area_threshold=1500, coarsen=coarsen, mask=mask)"
   ]
  },
  {
   "cell_type": "code",
   "execution_count": null,
   "id": "opposite-quebec",
   "metadata": {},
   "outputs": [],
   "source": [
    "mtbs = load.mtbs(store=store, coarsen=coarsen, tlim=tlim, mask=mask)\n",
    "# give it the same x/y coords as nftd (and nlcd and climate)\n",
    "# this re-assignment will help us with some masking lower down\n",
    "mtbs = mtbs.assign_coords({\"x\": nftd.x, \"y\": nftd.y})"
   ]
  },
  {
   "cell_type": "code",
   "execution_count": null,
   "id": "operating-directory",
   "metadata": {},
   "outputs": [],
   "source": [
    "historical_ds = xr.open_zarr(\n",
    "    get_store(\"carbonplan-scratch\", \"data/fire_historical_final.zarr\")\n",
    ").assign_coords({\"y\": mtbs.y, \"x\": mtbs.x})"
   ]
  },
  {
   "cell_type": "code",
   "execution_count": null,
   "id": "breathing-internet",
   "metadata": {},
   "outputs": [],
   "source": [
    "alt.data_transformers.disable_max_rows()"
   ]
  },
  {
   "cell_type": "code",
   "execution_count": null,
   "id": "outer-calcium",
   "metadata": {},
   "outputs": [],
   "source": [
    "all_evals = []\n",
    "all_stats = []\n",
    "for band in nftd.band.values:\n",
    "    stats = plot.fire.full_eval(\n",
    "        mtbs * nftd.sel(band=band),\n",
    "        historical_ds * nftd.sel(band=band),\n",
    "        data_var=\"monthly\",\n",
    "        model_var=\"historical\",\n",
    "        clim=(-0.001, 0.001),\n",
    "        cmap=\"purplegreen\",\n",
    "        percentage=False,\n",
    "        clabel=\"Diff (Mod-Obs) [-]\",\n",
    "    )\n",
    "    all_stats.append(stats)\n",
    "#     all_evals.append(chart)\n",
    "# alt.vconcat(*all_evals)"
   ]
  },
  {
   "cell_type": "code",
   "execution_count": null,
   "id": "false-momentum",
   "metadata": {},
   "outputs": [],
   "source": [
    "performances"
   ]
  },
  {
   "cell_type": "code",
   "execution_count": null,
   "id": "pharmaceutical-polymer",
   "metadata": {},
   "outputs": [],
   "source": [
    "test = (mtbs.groupby(\"time.year\").sum().mean(dim=\"year\") * nftd).mean(\n",
    "    [\"x\", \"y\"]\n",
    ")"
   ]
  },
  {
   "cell_type": "code",
   "execution_count": null,
   "id": "existing-split",
   "metadata": {},
   "outputs": [],
   "source": [
    "mtbs_band_probs = test.mean([\"x\", \"y\"]).to_dataframe()"
   ]
  },
  {
   "cell_type": "code",
   "execution_count": null,
   "id": "fancy-relations",
   "metadata": {},
   "outputs": [],
   "source": [
    "df_stats = pd.DataFrame(\n",
    "    columns=[\n",
    "        \"Forest group type\",\n",
    "        \"Annual correlation\",\n",
    "        \"Seasonal correlation\",\n",
    "        \"Spatial correlation\",\n",
    "        \"Burn area (fraction/year)\",\n",
    "    ]\n",
    ")\n",
    "for row, (band, (performances)) in enumerate(zip(nftd.band.values, all_stats)):\n",
    "    df_stats.loc[row] = [\n",
    "        str(band),\n",
    "        performances[0][\"annual\"],\n",
    "        performances[0][\"seasonal\"],\n",
    "        performances[0][\"spatial\"],\n",
    "        mtbs_band_probs.loc[band][\"monthly\"],\n",
    "    ]"
   ]
  },
  {
   "cell_type": "code",
   "execution_count": null,
   "id": "bridal-spyware",
   "metadata": {},
   "outputs": [],
   "source": [
    "df_stats"
   ]
  },
  {
   "cell_type": "code",
   "execution_count": null,
   "id": "center-chicken",
   "metadata": {},
   "outputs": [],
   "source": [
    "alt.Chart(df_stats).mark_bar().encode(\n",
    "    alt.Y(\"Annual correlation\", scale=alt.Scale(domain=(0, 1), scheme='greys')),\n",
    "    x=\"Forest group type\",\n",
    "    color=\"Burn area (fraction/year)\"\n",
    ") | alt.Chart(df_stats).mark_bar().encode(\n",
    "    scale=alt.Scale(domain=(0, 1), scheme='greys')),\n",
    "    x='Forest group type',\n",
    "           \n",
    "    y=\"Seasonal correlation\", color=\"Burn area (fraction/year):Q\"\n",
    ") | alt.Chart(\n",
    "    df_stats\n",
    ").mark_bar().encode(\n",
    "    alt.X(\"Forest group type\",\n",
    "          scale=alt.Scale(domain=(0, 1), scheme='greys')),  y=\"Spatial correlation\", color=\"Burn area (fraction/year)\"\n",
    ")"
   ]
  },
  {
   "cell_type": "code",
   "execution_count": null,
   "id": "certain-memphis",
   "metadata": {},
   "outputs": [],
   "source": [
    "df_stats"
   ]
  },
  {
   "cell_type": "code",
   "execution_count": null,
   "id": "novel-chase",
   "metadata": {},
   "outputs": [],
   "source": [
    "alt.Chart(df_stats, height=150, width=200).mark_bar().encode(\n",
    "    alt.Y(\"Annual correlation\", scale=alt.Scale(domain=(0, 1))),\n",
    "    x=\"Forest group type\",\n",
    "    color=\"Burn area (fraction/year):Q\",\n",
    ") | alt.Chart(df_stats, height=150, width=200).mark_bar().encode(\n",
    "    alt.Y(\"Seasonal correlation\", scale=alt.Scale(domain=(0, 1))),\n",
    "    x=\"Forest group type\",\n",
    "    color=\"Burn area (fraction/year):Q\",\n",
    ") | alt.Chart(\n",
    "    df_stats, height=150, width=200\n",
    ").mark_bar().encode(\n",
    "    alt.Y(\"Spatial correlation\", scale=alt.Scale(domain=(0, 1))),\n",
    "    alt.Color(\"Burn area (fraction/year):Q\", scale=alt.Scale(scheme=\"greys\")),\n",
    "    x=\"Forest group type\",\n",
    ")"
   ]
  },
  {
   "cell_type": "code",
   "execution_count": null,
   "id": "progressive-enemy",
   "metadata": {},
   "outputs": [],
   "source": [
    "final.configure(fontSize=20)"
   ]
  }
 ],
 "metadata": {
  "kernelspec": {
   "display_name": "Python [conda env:notebook] *",
   "language": "python",
   "name": "conda-env-notebook-py"
  },
  "language_info": {
   "codemirror_mode": {
    "name": "ipython",
    "version": 3
   },
   "file_extension": ".py",
   "mimetype": "text/x-python",
   "name": "python",
   "nbconvert_exporter": "python",
   "pygments_lexer": "ipython3",
   "version": "3.8.8"
  }
 },
 "nbformat": 4,
 "nbformat_minor": 5
}
