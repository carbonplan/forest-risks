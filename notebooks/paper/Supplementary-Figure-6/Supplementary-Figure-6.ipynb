{
 "cells": [
  {
   "cell_type": "code",
   "execution_count": null,
   "id": "muslim-proof",
   "metadata": {},
   "outputs": [],
   "source": [
    "import numpy as np\n",
    "import pandas as pd\n",
    "import matplotlib.pyplot as plt"
   ]
  },
  {
   "cell_type": "code",
   "execution_count": null,
   "id": "brave-southwest",
   "metadata": {},
   "outputs": [],
   "source": [
    "df = pd.read_csv(\"fire_stats.csv\")"
   ]
  },
  {
   "cell_type": "code",
   "execution_count": null,
   "id": "sunset-bruce",
   "metadata": {},
   "outputs": [],
   "source": [
    "df"
   ]
  },
  {
   "cell_type": "code",
   "execution_count": null,
   "id": "municipal-rachel",
   "metadata": {},
   "outputs": [],
   "source": [
    "df[df[\"method\"].str.contains(\"split_halves\")][\"roc\"].mean()"
   ]
  },
  {
   "cell_type": "code",
   "execution_count": null,
   "id": "subjective-mobile",
   "metadata": {},
   "outputs": [],
   "source": [
    "df[df[\"method\"].str.contains(\"split_halves\")][\"r2\"].mean()"
   ]
  },
  {
   "cell_type": "code",
   "execution_count": null,
   "id": "loose-empty",
   "metadata": {},
   "outputs": [],
   "source": [
    "df[df[\"method\"].str.contains(\"split_halves\")][\"annual_r2\"].mean()"
   ]
  },
  {
   "cell_type": "code",
   "execution_count": null,
   "id": "quantitative-launch",
   "metadata": {},
   "outputs": [],
   "source": [
    "df[df[\"method\"].str.contains(\"split_halves\")][\"seasonal_r2\"].mean()"
   ]
  },
  {
   "cell_type": "code",
   "execution_count": null,
   "id": "personalized-binding",
   "metadata": {},
   "outputs": [],
   "source": [
    "df[df[\"method\"].str.contains(\"split_halves\")][\"spatial_r2\"].mean()"
   ]
  },
  {
   "cell_type": "code",
   "execution_count": null,
   "id": "mobile-affiliate",
   "metadata": {},
   "outputs": [],
   "source": [
    "results = {}\n",
    "results[\"null\"] = df[df[\"method\"].str.contains(\"shuffle_all\")]\n",
    "results[\"split\"] = df[df[\"method\"].str.contains(\"split_halves\")]\n",
    "results[\"extrap\"] = df[df[\"method\"].str.contains(\"extrapolate\")]"
   ]
  },
  {
   "cell_type": "code",
   "execution_count": null,
   "id": "neutral-primary",
   "metadata": {},
   "outputs": [],
   "source": [
    "plt.rcParams.update({\"font.size\": 14, \"svg.fonttype\": \"none\"})"
   ]
  },
  {
   "cell_type": "code",
   "execution_count": null,
   "id": "burning-pixel",
   "metadata": {},
   "outputs": [],
   "source": [
    "plot_params = {\n",
    "    \"roc\": {\n",
    "        \"ylim\": [0.5, 0.95],\n",
    "        \"ylabel\": \"Hurdle ROC\",\n",
    "        \"yticks\": [0.5, 0.6, 0.7, 0.8, 0.9],\n",
    "    },\n",
    "    \"r2\": {\"ylim\": [-0.02, 0.07], \"ylabel\": \"Hurdle R2\"},\n",
    "    \"annual_r2\": {\"ylim\": [-0.1, 0.95], \"ylabel\": \"Annual R2\"},\n",
    "    \"seasonal_r2\": {\"ylim\": [-0.1, 0.95], \"ylabel\": \"Seasonal R2\"},\n",
    "    \"spatial_r2\": {\"ylim\": [-0.02, 0.07], \"ylabel\": \"Spatial R2\"},\n",
    "}"
   ]
  },
  {
   "cell_type": "code",
   "execution_count": null,
   "id": "drawn-telephone",
   "metadata": {},
   "outputs": [],
   "source": [
    "def style(ax, params):\n",
    "    ax.spines[\"top\"].set_visible(False)\n",
    "    ax.spines[\"right\"].set_visible(False)\n",
    "    ax.spines[\"bottom\"].set_visible(False)\n",
    "    ax.set_xticks([])\n",
    "    if \"ylim\" in params.keys():\n",
    "        ax.set_ylim(params[\"ylim\"])\n",
    "    if \"yticks\" in params.keys():\n",
    "        ax.set_yticks(params[\"yticks\"])\n",
    "    if \"ylabel\" in params.keys():\n",
    "        ax.set_ylabel(params[\"ylabel\"])\n",
    "\n",
    "\n",
    "def plot_lines(ax, field):\n",
    "    ax.hlines(\n",
    "        [\n",
    "            results[\"null\"][field].min(),\n",
    "            results[\"null\"][field].median(),\n",
    "            results[\"null\"][field].max(),\n",
    "        ],\n",
    "        0,\n",
    "        1,\n",
    "        color=\"gray\",\n",
    "    )\n",
    "\n",
    "\n",
    "def plot_dots(ax, field):\n",
    "    ax.plot(\n",
    "        [0.25],\n",
    "        [results[\"split\"][field].median()],\n",
    "        \".\",\n",
    "        color=\"black\",\n",
    "        markersize=15,\n",
    "    )\n",
    "    ax.plot(\n",
    "        [0.75],\n",
    "        [results[\"extrap\"][field].median()],\n",
    "        \".\",\n",
    "        color=\"gray\",\n",
    "        markersize=15,\n",
    "    )"
   ]
  },
  {
   "cell_type": "code",
   "execution_count": null,
   "id": "typical-moscow",
   "metadata": {},
   "outputs": [],
   "source": [
    "fig, axs = plt.subplots(\n",
    "    nrows=1,\n",
    "    ncols=5,\n",
    "    figsize=(12, 5),\n",
    ")\n",
    "\n",
    "for i, field in enumerate(\n",
    "    [\"roc\", \"r2\", \"spatial_r2\", \"annual_r2\", \"seasonal_r2\"]\n",
    "):\n",
    "    plot_lines(axs[i], field)\n",
    "    plot_dots(axs[i], field)\n",
    "    style(axs[i], plot_params[field])\n",
    "\n",
    "plt.tight_layout()\n",
    "plt.savefig(\"Supplementary-Figure-6.svg\")"
   ]
  },
  {
   "cell_type": "code",
   "execution_count": null,
   "id": "aggressive-distributor",
   "metadata": {},
   "outputs": [],
   "source": [
    "df[df[\"method\"].str.contains(\"split_halves\")][\"bias\"].median()"
   ]
  },
  {
   "cell_type": "code",
   "execution_count": null,
   "id": "changed-charity",
   "metadata": {},
   "outputs": [],
   "source": [
    "df[df[\"method\"].str.contains(\"extrapolate\")][\"bias\"].median()"
   ]
  }
 ],
 "metadata": {
  "kernelspec": {
   "display_name": "Python 3",
   "language": "python",
   "name": "python3"
  },
  "language_info": {
   "codemirror_mode": {
    "name": "ipython",
    "version": 3
   },
   "file_extension": ".py",
   "mimetype": "text/x-python",
   "name": "python",
   "nbconvert_exporter": "python",
   "pygments_lexer": "ipython3",
   "version": "3.8.8"
  }
 },
 "nbformat": 4,
 "nbformat_minor": 5
}
