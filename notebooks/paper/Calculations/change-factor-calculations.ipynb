{
 "cells": [
  {
   "cell_type": "markdown",
   "id": "incident-friday",
   "metadata": {},
   "source": [
    "<img width=\"50\" src=\"https://carbonplan-assets.s3.amazonaws.com/monogram/dark-small.png\" style=\"margin-left:0px;margin-top:20px\"/>\n",
    "\n",
    "# Figure 3: Future projections for each impact\n",
    "\n",
    "_Author: Oriana Chegwidden_\n",
    "\n",
    "The methods below conduct the analyses to calculate the fire risk change factors\n",
    "included the manuscript <<< insert doi >>>.\n"
   ]
  },
  {
   "cell_type": "code",
   "execution_count": null,
   "id": "static-italy",
   "metadata": {},
   "outputs": [],
   "source": [
    "%load_ext autoreload\n",
    "%autoreload 2\n",
    "\n",
    "from carbonplan_forest_risks import load, setup, plot, fit, utils, prepare, collect\n",
    "import xarray as xr\n",
    "import numpy as np\n",
    "from carbonplan_forest_risks.utils import get_store"
   ]
  },
  {
   "cell_type": "code",
   "execution_count": null,
   "id": "driving-print",
   "metadata": {},
   "outputs": [],
   "source": [
    "coarsen = 4"
   ]
  },
  {
   "cell_type": "code",
   "execution_count": null,
   "id": "underlying-genealogy",
   "metadata": {},
   "outputs": [],
   "source": [
    "mask = (\n",
    "    (\n",
    "        load.nlcd(store=\"az\", year=2001).sel(band=[41, 42, 43, 90]).sum(\"band\")\n",
    "        > 0.25\n",
    "    )\n",
    "    .astype(\"float\")\n",
    "    .coarsen(x=coarsen, y=coarsen, boundary=\"trim\")\n",
    "    .mean()\n",
    ")"
   ]
  },
  {
   "cell_type": "markdown",
   "id": "major-compilation",
   "metadata": {},
   "source": [
    "# Load in fire data\n"
   ]
  },
  {
   "cell_type": "code",
   "execution_count": null,
   "id": "armed-penguin",
   "metadata": {},
   "outputs": [],
   "source": [
    "historical_fire = xr.open_zarr(\n",
    "    get_store(\n",
    "        \"carbonplan-forests\", \"risks/results/paper/fire_terraclimate_v6.zarr\"\n",
    "    )\n",
    ").load()\n",
    "fire_mask = ~np.isnan(historical_fire.historical.isel(time=0).drop(\"time\"))"
   ]
  },
  {
   "cell_type": "code",
   "execution_count": null,
   "id": "virgin-scheduling",
   "metadata": {},
   "outputs": [],
   "source": [
    "ds = (\n",
    "    xr.open_zarr(\n",
    "        get_store(\"carbonplan-forests\", \"risks/results/paper/fire_cmip.zarr\")\n",
    "    )\n",
    "    .assign_coords({\"x\": mask.x, \"y\": mask.y})\n",
    "    .where(fire_mask)\n",
    "    .groupby(\"time.year\")\n",
    "    .sum()\n",
    "    .where(fire_mask)\n",
    "    .mean(dim=[\"x\", \"y\"])\n",
    "    .probability.mean(dim=\"gcm\")\n",
    "    .compute()\n",
    ")"
   ]
  },
  {
   "cell_type": "code",
   "execution_count": null,
   "id": "hybrid-shooting",
   "metadata": {},
   "outputs": [],
   "source": [
    "for scenario in [\"ssp245\", \"ssp370\", \"ssp585\"]:\n",
    "    ts = ds.sel(scenario=scenario)\n",
    "    hist_slice = slice(1990, 2019)\n",
    "    fut_slice = slice(2080, 2099)\n",
    "    change = (\n",
    "        ts.sel(year=fut_slice).mean(dim=\"year\")\n",
    "        / ts.sel(year=hist_slice).mean(dim=\"year\").values\n",
    "    )\n",
    "    print(\"change factor for {} is {}\".format(scenario, change.values))"
   ]
  }
 ],
 "metadata": {
  "kernelspec": {
   "display_name": "Python [conda env:notebook] *",
   "language": "python",
   "name": "conda-env-notebook-py"
  },
  "language_info": {
   "codemirror_mode": {
    "name": "ipython",
    "version": 3
   },
   "file_extension": ".py",
   "mimetype": "text/x-python",
   "name": "python",
   "nbconvert_exporter": "python",
   "pygments_lexer": "ipython3",
   "version": "3.8.8"
  }
 },
 "nbformat": 4,
 "nbformat_minor": 5
}
