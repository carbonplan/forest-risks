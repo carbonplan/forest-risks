{
 "cells": [
  {
   "cell_type": "markdown",
   "id": "dietary-return",
   "metadata": {},
   "source": [
    "<img width=\"50\" src=\"https://carbonplan-assets.s3.amazonaws.com/monogram/dark-small.png\" style=\"margin-left:0px;margin-top:20px\"/>\n",
    "\n",
    "# Figure 3: Future projections for each impact\n",
    "\n",
    "_Authors: Oriana Chegwidden and Jeremy Freeman_\n",
    "\n",
    "The methods below conduct the analyses to recreate Figure 4 included the\n",
    "manuscript <<< insert doi >>>. Future risks for fire. We show median changes in\n",
    "risk with respect to the historic.\n"
   ]
  },
  {
   "cell_type": "code",
   "execution_count": null,
   "id": "naughty-madison",
   "metadata": {},
   "outputs": [],
   "source": [
    "%load_ext autoreload\n",
    "%autoreload 2\n",
    "\n",
    "import numpy as np\n",
    "import pandas as pd\n",
    "import scipy as sp\n",
    "from carbonplan_forest_risks import load, setup, plot, fit, utils, prepare, collect\n",
    "import xarray as xr\n",
    "from carbonplan_forest_risks.utils import get_store\n",
    "import rioxarray\n",
    "from carbonplan.data import cat\n"
   ]
  },
  {
   "cell_type": "code",
   "execution_count": null,
   "id": "indian-gazette",
   "metadata": {},
   "outputs": [],
   "source": [
    "%matplotlib inline\n",
    "import matplotlib.pyplot as plt\n",
    "from showit import image\n",
    "import scipy as sp\n",
    "import geopandas as gpd\n",
    "import regionmask as rm\n",
    "import altair as alt\n",
    "alt.themes.enable(\"carbonplan_light\")"
   ]
  },
  {
   "cell_type": "code",
   "execution_count": null,
   "id": "careful-boston",
   "metadata": {},
   "outputs": [],
   "source": [
    "import warnings\n",
    "\n",
    "warnings.filterwarnings(\"ignore\")"
   ]
  },
  {
   "cell_type": "code",
   "execution_count": null,
   "id": "defensive-maldives",
   "metadata": {},
   "outputs": [],
   "source": [
    "alt.data_transformers.disable_max_rows()"
   ]
  },
  {
   "cell_type": "code",
   "execution_count": null,
   "id": "wicked-father",
   "metadata": {},
   "outputs": [],
   "source": [
    "coarsen = 4"
   ]
  },
  {
   "cell_type": "code",
   "execution_count": null,
   "id": "dutch-acrobat",
   "metadata": {},
   "outputs": [],
   "source": [
    "mask = (\n",
    "    (\n",
    "        load.nlcd(store=\"az\", year=2001).sel(band=[41, 42, 43, 90]).sum(\"band\")\n",
    "        > 0.25\n",
    "    )\n",
    "    .astype(\"float\")\n",
    "    .coarsen(x=coarsen, y=coarsen, boundary=\"trim\")\n",
    "    .mean()\n",
    ")"
   ]
  },
  {
   "cell_type": "code",
   "execution_count": null,
   "id": "august-namibia",
   "metadata": {},
   "outputs": [],
   "source": [
    "# Load in fire data"
   ]
  },
  {
   "cell_type": "code",
   "execution_count": null,
   "id": "clean-glenn",
   "metadata": {},
   "outputs": [],
   "source": [
    "historical_fire = xr.open_zarr(\n",
    "    get_store(\n",
    "        \"carbonplan-forests\", \"risks/results/paper/fire_terraclimate.zarr\"\n",
    "    )\n",
    ").load()\n",
    "fire_mask = ~np.isnan(historical_fire.historical.isel(time=0).drop(\"time\"))"
   ]
  },
  {
   "cell_type": "code",
   "execution_count": null,
   "id": "horizontal-cinema",
   "metadata": {},
   "outputs": [],
   "source": [
    "ds = (\n",
    "    xr.open_zarr(\n",
    "        get_store(\"carbonplan-forests\", \"risks/results/paper/fire_cmip.zarr\")\n",
    "    )\n",
    "    .assign_coords({\"x\": mask.x, \"y\": mask.y})\n",
    "    .where(fire_mask)\n",
    "    .groupby(\"time.year\")\n",
    "    .sum()\n",
    "    .where(fire_mask)\n",
    "    .compute()\n",
    ")"
   ]
  },
  {
   "cell_type": "code",
   "execution_count": null,
   "id": "conscious-career",
   "metadata": {},
   "outputs": [],
   "source": [
    "historical_annual = (\n",
    "    historical_fire.assign_coords({\"x\": mask.x, \"y\": mask.y})\n",
    "    .groupby(\"time.year\")\n",
    "    .sum()\n",
    "    .where(fire_mask)\n",
    "    .mean(dim=[\"x\", \"y\"])\n",
    "    .compute()\n",
    ")"
   ]
  },
  {
   "cell_type": "code",
   "execution_count": null,
   "id": "surprising-discovery",
   "metadata": {},
   "outputs": [],
   "source": [
    "future_ts = {}\n",
    "future_ts[\"fire\"] = (\n",
    "    ds.mean(dim=[\"x\", \"y\"]).rolling(dim={\"year\": 10}).mean().compute()\n",
    ")"
   ]
  },
  {
   "cell_type": "code",
   "execution_count": null,
   "id": "unexpected-stanford",
   "metadata": {},
   "outputs": [],
   "source": [
    "gcms = [\n",
    "    (\"ACCESS-CM2\", \"r1i1p1f1\"),\n",
    "    (\"ACCESS-ESM1-5\", \"r10i1p1f1\"),\n",
    "    (\"MRI-ESM2-0\", \"r1i1p1f1\"),\n",
    "    (\"MIROC-ES2L\", \"r1i1p1f2\"),\n",
    "    (\"MPI-ESM1-2-LR\", \"r10i1p1f1\"),\n",
    "    (\"CanESM5-CanOE\", \"r3i1p2f1\"),\n",
    "]"
   ]
  },
  {
   "cell_type": "markdown",
   "id": "downtown-feature",
   "metadata": {},
   "source": [
    "### Load in insect and drought data\n"
   ]
  },
  {
   "cell_type": "code",
   "execution_count": null,
   "id": "manual-candle",
   "metadata": {},
   "outputs": [],
   "source": [
    "historical_ts = {}\n",
    "for impact in [\"drought\", \"insects\"]:\n",
    "    historical_ts[impact] = (\n",
    "        xr.open_zarr(\n",
    "            get_store(\n",
    "                \"carbonplan-forests\",\n",
    "                \"risks/results/paper/{}_terraclimate.zarr\".format(impact),\n",
    "            )\n",
    "        )\n",
    "        .assign_coords({\"year\": np.arange(1995, 2020, 10)})\n",
    "        .mean(dim=[\"x\", \"y\"])\n",
    "        .compute()\n",
    "    )\n",
    "    future_ts[impact] = (\n",
    "        xr.open_zarr(\n",
    "            get_store(\n",
    "                \"carbonplan-forests\",\n",
    "                \"risks/results/paper/{}_cmip.zarr\".format(impact),\n",
    "            )\n",
    "        )\n",
    "        .assign_coords({\"year\": np.arange(1975, 2100, 10)})\n",
    "        .mean(dim=[\"x\", \"y\"])\n",
    "        .compute()\n",
    "    )"
   ]
  },
  {
   "cell_type": "markdown",
   "id": "inclusive-roulette",
   "metadata": {},
   "source": [
    "## Plot the figure\n"
   ]
  },
  {
   "cell_type": "code",
   "execution_count": null,
   "id": "miniature-valley",
   "metadata": {},
   "outputs": [],
   "source": [
    "gcms = [\n",
    "    (\"MRI-ESM2-0\", (0, 0)),\n",
    "    (\"MIROC-ES2L\", (1, 0)),\n",
    "    (\"MPI-ESM1-2-LR\", (2, 0)),\n",
    "    (\"ACCESS-ESM1-5\", (3, 0)),\n",
    "    (\"ACCESS-CM2\", (4, 0)),\n",
    "    (\"CanESM5-CanOE\", (5, 0)),\n",
    "]\n",
    "scenario_colors = {\n",
    "    \"ssp245\": \"#59A82F\",\n",
    "    \"ssp370\": \"#D8B525\",\n",
    "    \"ssp585\": \"#D83232\",\n",
    "}\n",
    "scenario_colors_light = {\n",
    "    \"ssp245\": \"#DEEED5\",\n",
    "    \"ssp370\": \"#F7F0D3\",\n",
    "    \"ssp585\": \"#F7D6D6\",\n",
    "}\n",
    "titles = {\n",
    "    \"fire\": \"Burn area\\n(fraction/year)\",\n",
    "    \"drought\": \"Drought-related\\nmortality (%/year)\",\n",
    "    \"insects\": \"Insect-related\\nmortality (%/year)\",\n",
    "}\n",
    "ylims = {\n",
    "    \"fire\": (0, 0.015),\n",
    "    \"drought\": (0, 3),\n",
    "    \"insects\": (0, 0.5),\n",
    "}\n",
    "ssp_rename = {\"ssp245\": \"SSP2-4.5\", \"ssp370\": \"SSP3-7.0\", \"ssp585\": \"SSP5-8.5\"}"
   ]
  },
  {
   "cell_type": "code",
   "execution_count": null,
   "id": "august-audio",
   "metadata": {},
   "outputs": [],
   "source": [
    "plt.rcParams.update({\"font.size\": 14, \"svg.fonttype\": \"none\"})\n",
    "\n",
    "fig, axarr = plt.subplots(nrows=3, figsize=(6, 10), sharex=True)\n",
    "\n",
    "## Fire\n",
    "\n",
    "for scenario in [\"ssp245\", \"ssp370\", \"ssp585\"]:\n",
    "    for (gcm, location) in gcms:\n",
    "        future_ts[\"fire\"].probability.sel(gcm=gcm, scenario=scenario).sel(\n",
    "            year=slice(\"1970\", \"2099\")\n",
    "        ).plot(ax=axarr[0], color=scenario_colors_light[scenario], alpha=1)\n",
    "\n",
    "for scenario in [\"ssp245\", \"ssp370\", \"ssp585\"]:\n",
    "    future_ts[\"fire\"].probability.sel(scenario=scenario).mean(dim=\"gcm\").plot(\n",
    "        ax=axarr[0], color=scenario_colors[scenario], label=ssp_rename[scenario]\n",
    "    )\n",
    "historical_annual[\"historical\"].rolling(dim={\"year\": 10}).mean().plot(\n",
    "    ax=axarr[0], color=\"k\", linestyle=\"-\", label=\"Historical\"\n",
    ")\n",
    "\n",
    "axarr[0].legend()\n",
    "## Drought and insects\n",
    "for i, impact in enumerate([\"drought\", \"insects\"]):\n",
    "    historical_ts[impact].probability.plot(\n",
    "        ax=axarr[i + 1], color=\"k\", zorder=50\n",
    "    )\n",
    "\n",
    "    for scenario in [\"ssp245\", \"ssp370\", \"ssp585\"]:\n",
    "        for (gcm, location) in gcms:\n",
    "            future_ts[impact].probability.sel(scenario=scenario, gcm=gcm).sel(\n",
    "                year=slice(1970, 2099)\n",
    "            ).plot(\n",
    "                ax=axarr[i + 1],\n",
    "                color=scenario_colors_light[scenario],\n",
    "            )\n",
    "\n",
    "    for scenario in [\"ssp245\", \"ssp370\", \"ssp585\"]:\n",
    "        future_ts[impact].probability.sel(scenario=scenario).mean(\n",
    "            dim=\"gcm\"\n",
    "        ).plot(\n",
    "            ax=axarr[i + 1],\n",
    "            color=scenario_colors[scenario],\n",
    "            label=ssp_rename[scenario],\n",
    "        )\n",
    "for i, (impact, title) in enumerate(titles.items()):\n",
    "    axarr[i].set_ylabel(title)\n",
    "    axarr[i].set_xlabel(\"\")\n",
    "    axarr[i].set_ylim(ylims[impact])\n",
    "    axarr[i].set_title(\"\")\n",
    "plt.tight_layout()\n",
    "# for format_string in [\"svg\", \"png\"]:\n",
    "#     plt.savefig(\"Figure-2.\" + format_string, format=format_string)"
   ]
  }
 ],
 "metadata": {
  "kernelspec": {
   "display_name": "Python [conda env:notebook] *",
   "language": "python",
   "name": "conda-env-notebook-py"
  },
  "language_info": {
   "codemirror_mode": {
    "name": "ipython",
    "version": 3
   },
   "file_extension": ".py",
   "mimetype": "text/x-python",
   "name": "python",
   "nbconvert_exporter": "python",
   "pygments_lexer": "ipython3",
   "version": "3.8.8"
  }
 },
 "nbformat": 4,
 "nbformat_minor": 5
}
