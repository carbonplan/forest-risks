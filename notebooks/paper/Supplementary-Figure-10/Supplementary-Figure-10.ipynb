{
 "cells": [
  {
   "cell_type": "code",
   "execution_count": null,
   "id": "angry-journey",
   "metadata": {},
   "outputs": [],
   "source": [
    "%load_ext autoreload\n",
    "%autoreload 2\n",
    "\n",
    "import numpy as np\n",
    "import pandas as pd\n",
    "import scipy as sp\n",
    "from carbonplan_forest_risks import load, setup, plot, fit, utils, prepare, collect\n",
    "import xarray as xr\n",
    "from carbonplan_forest_risks.utils import get_store\n",
    "import altair as alt\n",
    "import rioxarray\n",
    "from carbonplan.data import cat\n",
    "from carbonplan_styles.mpl import get_colormap\n",
    "import cartopy.crs as ccrs\n",
    "import cartopy\n",
    "import cartopy.feature as cfeature\n",
    "import matplotlib.pyplot as plt\n",
    "import matplotlib\n",
    "from mpl_toolkits.axes_grid1 import make_axes_locatable\n",
    "\n",
    "from carbonplan_data import utils\n",
    "alt.data_transformers.disable_max_rows()"
   ]
  },
  {
   "cell_type": "code",
   "execution_count": null,
   "id": "requested-jamaica",
   "metadata": {},
   "outputs": [],
   "source": [
    "coarsen = 4\n",
    "store = \"az\"\n",
    "tlim = (\"1984\", \"2018\")"
   ]
  },
  {
   "cell_type": "code",
   "execution_count": null,
   "id": "strong-freight",
   "metadata": {},
   "outputs": [],
   "source": [
    "historical_fire = xr.open_zarr(\n",
    "    get_store(\n",
    "        \"carbonplan-forests\", \"risks/results/paper/fire_terraclimate_v6.zarr\"\n",
    "    )\n",
    ")"
   ]
  },
  {
   "cell_type": "code",
   "execution_count": null,
   "id": "closed-jimmy",
   "metadata": {},
   "outputs": [],
   "source": [
    "fire_mask = ~np.isnan(historical_fire.historical.isel(time=0).drop(\"time\"))"
   ]
  },
  {
   "cell_type": "code",
   "execution_count": null,
   "id": "broad-isolation",
   "metadata": {},
   "outputs": [],
   "source": [
    "historical_fire = (\n",
    "    historical_fire.groupby(\"time.month\")\n",
    "    .mean()\n",
    "    .where(fire_mask)\n",
    "    .compute()[\"historical\"]\n",
    ")"
   ]
  },
  {
   "cell_type": "code",
   "execution_count": null,
   "id": "plain-benefit",
   "metadata": {},
   "outputs": [],
   "source": [
    "plot_params = {\n",
    "    \"cmap\": get_colormap(\"reds\"),\n",
    "    \"var_lims\": (0, 0.0003),\n",
    "    \"label\": \"Burn area\\n(fraction/year)\",\n",
    "    \"y_loc\": 0.2,\n",
    "    \"cbar_height\": 0.6,\n",
    "    \"x_loc\": 1.08,\n",
    "    \"width\": 0.03,\n",
    "}\n",
    "matplotlib.rc(\"font\", family=\"sans-serif\")\n",
    "matplotlib.rc(\"font\", serif=\"Helvetica Neue\")\n",
    "matplotlib.rc(\"text\", usetex=\"false\")\n",
    "matplotlib.rcParams.update({\"font.size\": 14, \"svg.fonttype\": \"none\"})"
   ]
  },
  {
   "cell_type": "code",
   "execution_count": null,
   "id": "contrary-employee",
   "metadata": {},
   "outputs": [],
   "source": [
    "months = [\"Mar\", \"Apr\", \"May\", \"Jun\", \"Jul\", \"Aug\", \"Sep\", \"Oct\", \"Nov\"]"
   ]
  },
  {
   "cell_type": "code",
   "execution_count": null,
   "id": "diverse-buddy",
   "metadata": {},
   "outputs": [],
   "source": [
    "p = historical_fire.sel(month=slice(3, 11)).plot.imshow(\n",
    "    col=\"month\",\n",
    "    col_wrap=3,\n",
    "    vmin=0,\n",
    "    vmax=0.001,\n",
    "    subplot_kws={\"projection\": plot.cartopy_proj_albers()},\n",
    "    add_colorbar=False,\n",
    "    cmap=plot_params[\"cmap\"],\n",
    "    figsize=(8, 6),\n",
    ")\n",
    "for i, ax in enumerate(p.axes.flat):\n",
    "    plot.map_pretty(ax, title=months[i])\n",
    "    ax.set_title(\"\")\n",
    "\n",
    "plot.add_colorbar(\n",
    "    p.fig,\n",
    "    y_location=plot_params[\"y_loc\"],\n",
    "    vmin=plot_params[\"var_lims\"][0],\n",
    "    vmax=plot_params[\"var_lims\"][1],\n",
    "    cbar_label=plot_params[\"label\"],\n",
    "    cmap=plot_params[\"cmap\"],\n",
    "    height=plot_params[\"cbar_height\"],\n",
    "    x_location=plot_params[\"x_loc\"],\n",
    "    width=plot_params[\"width\"],\n",
    ")\n",
    "plt.tight_layout(pad=-4)\n",
    "plt.savefig(\"fig_supp7.svg\", format=\"svg\", bbox_inches=\"tight\")"
   ]
  }
 ],
 "metadata": {
  "kernelspec": {
   "display_name": "Python [conda env:notebook] *",
   "language": "python",
   "name": "conda-env-notebook-py"
  },
  "language_info": {
   "codemirror_mode": {
    "name": "ipython",
    "version": 3
   },
   "file_extension": ".py",
   "mimetype": "text/x-python",
   "name": "python",
   "nbconvert_exporter": "python",
   "pygments_lexer": "ipython3",
   "version": "3.8.8"
  }
 },
 "nbformat": 4,
 "nbformat_minor": 5
}
