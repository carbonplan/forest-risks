{
 "cells": [
  {
   "cell_type": "markdown",
   "metadata": {},
   "source": [
    "<img width=\"50\" src=\"https://carbonplan-assets.s3.amazonaws.com/monogram/dark-small.png\" style=\"margin-left:0px;margin-top:20px\"/>\n",
    "\n",
    "# MTBS Fire Model\n",
    "\n",
    "_by Jeremy Freeman (CarbonPlan), September 19, 2020_\n",
    "\n",
    "This notebook loads downsampled MTBS fire data and TerraClimate climate data and\n",
    "fits a logistical regression model.\n"
   ]
  },
  {
   "cell_type": "code",
   "execution_count": null,
   "metadata": {},
   "outputs": [],
   "source": [
    "import numpy as np\n",
    "import pandas as pd\n",
    "import scipy as sp\n",
    "from carbonplan_forests import load, setup, plot, fit, utils, prepare, collect\n",
    "import xarray as xr"
   ]
  },
  {
   "cell_type": "code",
   "execution_count": null,
   "metadata": {},
   "outputs": [],
   "source": [
    "%matplotlib inline\n",
    "import matplotlib.pyplot as plt\n",
    "from carbonplan_forests import load, setup, plot, fit, utils, prepare, collect\n",
    "from showit import image\n",
    "import scipy as sp\n",
    "import numpy as np\n",
    "import pandas as pd\n",
    "import xarray as xr\n",
    "import geopandas as gpd\n",
    "import regionmask as rm\n",
    "from scipy.stats import binom\n",
    "import xesmf as xe\n",
    "import fsspec\n",
    "from palettable.colorbrewer.sequential import YlOrRd_9\n",
    "import warnings\n",
    "warnings.filterwarnings('ignore')"
   ]
  },
  {
   "cell_type": "code",
   "execution_count": null,
   "metadata": {},
   "outputs": [],
   "source": [
    "%load_ext autoreload\n",
    "%autoreload 2"
   ]
  },
  {
   "cell_type": "code",
   "execution_count": null,
   "metadata": {},
   "outputs": [],
   "source": [
    "store = \"az\""
   ]
  },
  {
   "cell_type": "code",
   "execution_count": null,
   "metadata": {},
   "outputs": [],
   "source": [
    "import altair as alt\n",
    "\n",
    "alt.themes.enable(\"carbonplan_light\")"
   ]
  },
  {
   "cell_type": "markdown",
   "metadata": {},
   "source": [
    "### wind analysis code\n"
   ]
  },
  {
   "cell_type": "code",
   "execution_count": null,
   "metadata": {},
   "outputs": [],
   "source": [
    "# from carbonplan.data import cat\n",
    "# ds_dict = {}\n",
    "# for year in np.arange(1984,2019):\n",
    "#     print(year)\n",
    "#     ds_dict[year] = cat.gridmet.raw_gridmet(variable='vs',\n",
    "#                             year=year).to_dask().wind_speed.groupby('day.month').max().load()\n",
    "\n",
    "# ds_concat = xr.concat(ds_dict.values(), dim='year')#, coords=ds_dict.keys())\n",
    "\n",
    "# ds_concat = ds_concat.assign_coords({'year': list(ds_dict.keys())})\n",
    "\n",
    "# full_ds_wind = ds_concat.stack(time=('year', 'month'))\n",
    "\n",
    "# full_ds_wind = full_ds_wind.transpose('time', 'lat', 'lon')\n",
    "\n",
    "# wind_climatology = ds_concat.mean(dim='year')\n",
    "\n",
    "# monthly_max = ds_concat.max(dim='year')\n",
    "# wind_climatology.to_netcdf('wind_climatology.nc')\n",
    "# monthly_max.to_netcdf('period_max.nc')\n",
    "# target_grid = \"gs://carbonplan-data/processed/grids/conus/4000m/domain.zarr\"\n",
    "# mapper = fsspec.get_mapper(target_grid)\n",
    "# target_ds = xr.open_zarr(\n",
    "#     mapper, consolidated=True)\n",
    "# regridder = xe.Regridder(wind_climatology, target_ds, method='bilinear', reuse_weights=True)\n",
    "# regridded_wind = regridder(wind_climatology)\n",
    "# regridded_full_wind = regridder(full_ds_wind)\n",
    "# regridded_full_wind = regridded_full_wind.assign_coords({'x': target_ds.x,\n",
    "#                              'y': target_ds.y})\n",
    "# regridded_wind = regridded_wind.assign_coords({'x': target_ds.x,\n",
    "#                              'y': target_ds.y})"
   ]
  },
  {
   "cell_type": "markdown",
   "metadata": {},
   "source": [
    "First we set some top-level parameters: the level of spatial coarsening (which\n",
    "can speed up fitting substantially, especially useful when testing), the time\n",
    "range (MTBS spans 1984 to 2018), and the climatic variables we'll use in the\n",
    "model.\n"
   ]
  },
  {
   "cell_type": "code",
   "execution_count": null,
   "metadata": {},
   "outputs": [],
   "source": [
    "coarsen = 16\n",
    "tlim = (1984, 2018)\n",
    "variables = [\"tmean\", \"cwd\", \"pdsi\", \"ppt\"]"
   ]
  },
  {
   "cell_type": "markdown",
   "metadata": {},
   "source": [
    "First we load data from `nlcd` (National Land Cover Database) which we will use\n",
    "to mask out non-land areas and data from `nftd` (National Forest Type Database)\n",
    "to use a regressors for forest type groups.\n"
   ]
  },
  {
   "cell_type": "code",
   "execution_count": null,
   "metadata": {},
   "outputs": [],
   "source": [
    "mask = load.mask(store=store, year=2001)"
   ]
  },
  {
   "cell_type": "code",
   "execution_count": null,
   "metadata": {},
   "outputs": [],
   "source": [
    "nlcd = load.nlcd(store=store, year=2001, coarsen=coarsen, mask=mask)\n",
    "nftd = load.nftd(store=store, area_threshold=1500, coarsen=coarsen, mask=mask)"
   ]
  },
  {
   "cell_type": "markdown",
   "metadata": {},
   "source": [
    "Now we load the `terraclim` climate data from the same time range.\n"
   ]
  },
  {
   "cell_type": "code",
   "execution_count": null,
   "metadata": {
    "scrolled": true
   },
   "outputs": [],
   "source": [
    "climate = load.terraclim(\n",
    "    store=store,\n",
    "    tlim=tlim,\n",
    "    coarsen=coarsen,\n",
    "    variables=variables,\n",
    "    mask=mask,\n",
    "    sampling=\"monthly\",\n",
    ").assign_coords({\"x\": nftd.x, \"y\": nftd.y})"
   ]
  },
  {
   "cell_type": "markdown",
   "metadata": {},
   "source": [
    "And finally load the `mtbs` data (Monitoring Trends in Burn Severity) which will\n",
    "gives us a record of all the fires we'll want to model.\n"
   ]
  },
  {
   "cell_type": "code",
   "execution_count": null,
   "metadata": {},
   "outputs": [],
   "source": [
    "mtbs = load.mtbs(store=store, coarsen=coarsen, tlim=tlim, mask=mask)\n",
    "# give it the same x/y coords as nftd (and nlcd and climate)\n",
    "# this re-assignment will help us with some masking lower down\n",
    "mtbs = mtbs.assign_coords({\"x\": nftd.x, \"y\": nftd.y})  # .where(one_type)"
   ]
  },
  {
   "cell_type": "markdown",
   "metadata": {},
   "source": [
    "### Inspecting the data\n"
   ]
  },
  {
   "cell_type": "markdown",
   "metadata": {},
   "source": [
    "We can plot the `mtbs` data for a specific year to get a sense of the raw data.\n",
    "Stronger fire activity in the Western US, with a bit in the Southeast as well.\n"
   ]
  },
  {
   "cell_type": "code",
   "execution_count": null,
   "metadata": {},
   "outputs": [],
   "source": [
    "plot.fire.summary(mtbs, clim=(0.00005, 0.005))"
   ]
  },
  {
   "cell_type": "markdown",
   "metadata": {},
   "source": [
    "Here is the same thing but averaged over all years. Spatial patterns show the\n",
    "Southeast flaring up in the spring and then the fire season grows in the\n",
    "intermountain west in June-August. California then lights up in the Fall. This\n",
    "suggests that if we have biases at a certain time of year we might be able to\n",
    "tease out a regional bias. <--- Hypothesis!\n"
   ]
  },
  {
   "cell_type": "code",
   "execution_count": null,
   "metadata": {},
   "outputs": [],
   "source": [
    "plot.fire.monthly(mtbs, clim=(0.00005, 0.003))"
   ]
  },
  {
   "cell_type": "markdown",
   "metadata": {},
   "source": [
    "We can plot spatially averaged data over time to see both seasonable trends, and\n",
    "the fact that fire frequency and magnitude has increased over time.\n"
   ]
  },
  {
   "cell_type": "code",
   "execution_count": null,
   "metadata": {},
   "outputs": [],
   "source": [
    "x = mtbs[\"time\"]\n",
    "y = mtbs[\"monthly\"].mean([\"x\", \"y\"])\n",
    "\n",
    "plot.line(\n",
    "    x=x, y=y, width=900, height=200, color=\"rgb(175,91,92)\", strokeWidth=2\n",
    ")"
   ]
  },
  {
   "cell_type": "markdown",
   "metadata": {},
   "source": [
    "We can summarize the data by plotting annual, seasonal, and spatial trends by\n",
    "averaging across different groupings and dimensions.\n"
   ]
  },
  {
   "cell_type": "code",
   "execution_count": null,
   "metadata": {},
   "outputs": [],
   "source": [
    "plot.fire.summary(mtbs.sel(time=\"2000\"), clim=(0, 0.005))"
   ]
  },
  {
   "cell_type": "markdown",
   "metadata": {},
   "source": [
    "As a motivation for fitting fires as functions of climatic variables, we can\n",
    "look at spatially averaged climatic variables alongside fires, e.g. average\n",
    "tempreature, and see that there is a clear relationship (in this case a positive\n",
    "correlation).\n"
   ]
  },
  {
   "cell_type": "code",
   "execution_count": null,
   "metadata": {},
   "outputs": [],
   "source": [
    "x = mtbs.groupby(\"time.year\").mean()[\"year\"]\n",
    "y1 = mtbs[\"monthly\"].groupby(\"time.year\").sum().mean([\"x\", \"y\"])\n",
    "y2 = climate[temp_var].groupby(\"time.year\").max().mean([\"x\", \"y\"])\n",
    "\n",
    "(\n",
    "    plot.line(x=x, y=sp.stats.zscore(y1), color=\"rgb(175,91,92)\")\n",
    "    + plot.line(x=x, y=sp.stats.zscore(y2), color=\"rgb(175,91,92)\", opacity=0.5)\n",
    ")"
   ]
  },
  {
   "cell_type": "markdown",
   "metadata": {},
   "source": [
    "We could even look at how fires at the individual pixel level are related to the\n",
    "annual temperature (since we will likely include larger scale climate averages\n",
    "as variables in the model.) So we'll take the correlation along the time\n",
    "dimension between the CONUS average temperature (`y2` from above) and the `mtbs`\n",
    "monthly data.\n"
   ]
  },
  {
   "cell_type": "markdown",
   "metadata": {},
   "source": [
    "All this is is a measure of how correlated a given location is to the greater\n",
    "climate.\n"
   ]
  },
  {
   "cell_type": "markdown",
   "metadata": {},
   "source": [
    "If instead we wanted to look at how correlated the fires were with their\n",
    "specific climate maxes....\n"
   ]
  },
  {
   "cell_type": "code",
   "execution_count": null,
   "metadata": {},
   "outputs": [],
   "source": [
    "# Hacky way to make every month look like the annual average"
   ]
  },
  {
   "cell_type": "code",
   "execution_count": null,
   "metadata": {},
   "outputs": [],
   "source": [
    "max_temp = (\n",
    "    climate[temp_var]\n",
    "    .groupby(\"time.year\")\n",
    "    .max()\n",
    "    .assign_coords({\"year\": mtbs[\"monthly\"].time[np.arange(0, 420, 12)].values})\n",
    "    .rename({\"year\": \"time\"})\n",
    "    .resample(time=\"MS\")\n",
    "    .ffill()\n",
    ")\n",
    "max_temp = max_temp.reindex({\"time\": mtbs[\"monthly\"].time}, method=\"ffill\")\n",
    "conus_average_max_temp = xr.ones_like(max_temp) * max_temp.mean(dim=[\"x\", \"y\"])"
   ]
  },
  {
   "cell_type": "code",
   "execution_count": null,
   "metadata": {},
   "outputs": [],
   "source": [
    "# then reassign the coords to match the average_climate_ds coords to play nicely\n",
    "mtbs = mtbs.assign_coords(\n",
    "    {\"x\": max_temp.x, \"y\": max_temp.y, \"lat\": max_temp.lat}\n",
    ")"
   ]
  },
  {
   "cell_type": "markdown",
   "metadata": {},
   "source": [
    "### FINDING #1: changes in fire _are_ more strongly correlated with local changes in climate than CONUS-wide changes.\n",
    "\n",
    "#### Discussion point: But what is the resulting implication for our model? Do we change something?\n"
   ]
  },
  {
   "cell_type": "markdown",
   "metadata": {},
   "source": [
    "First we'll look at the level of correlation to CONUS-wide temperature changes\n",
    "because that's what is being used in the model currently.\n"
   ]
  },
  {
   "cell_type": "code",
   "execution_count": null,
   "metadata": {},
   "outputs": [],
   "source": [
    "conus_average_temp_corr = xr.corr(\n",
    "    mtbs[\"monthly\"], conus_average_max_temp, dim=\"time\"\n",
    ")\n",
    "local_temp_corr = xr.corr(mtbs[\"monthly\"], max_temp, dim=\"time\")"
   ]
  },
  {
   "cell_type": "code",
   "execution_count": null,
   "metadata": {},
   "outputs": [],
   "source": [
    "plot.fire.simple_map(\n",
    "    conus_average_temp_corr,\n",
    "    clabel=\"correlation\",\n",
    "    clim=(-0.2, 0.2),\n",
    "    cmap=\"purplegreen\",\n",
    ")"
   ]
  },
  {
   "cell_type": "markdown",
   "metadata": {},
   "source": [
    "Then we can look at the same analysis except make it local temperature changes.\n",
    "This will likely have a stronger climate change signal.\n"
   ]
  },
  {
   "cell_type": "code",
   "execution_count": null,
   "metadata": {},
   "outputs": [],
   "source": [
    "plot.fire.simple_map(\n",
    "    local_temp_corr, clabel=\"correlation\", clim=(-0.2, 0.2), cmap=\"purplegreen\"\n",
    ")"
   ]
  },
  {
   "cell_type": "markdown",
   "metadata": {},
   "source": [
    "We can subtract the two to see where we have differences between the different\n",
    "methods.\n"
   ]
  },
  {
   "cell_type": "markdown",
   "metadata": {},
   "source": [
    "So, we deduce that the local changes in fire _are_ more strongly correlated with\n",
    "the local changes in temperature. But mainly in Texas. We could do a difference\n",
    "between the two to see the regions that would likely be impacted if we were to\n",
    "change something in the model.\n"
   ]
  },
  {
   "cell_type": "code",
   "execution_count": null,
   "metadata": {},
   "outputs": [],
   "source": [
    "plot.fire.simple_map(\n",
    "    local_temp_corr - conus_average_temp_corr,\n",
    "    clabel=\"correlation\",\n",
    "    clim=(-0.2, 0.2),\n",
    "    cmap=\"purplegreen\",\n",
    ")"
   ]
  },
  {
   "cell_type": "markdown",
   "metadata": {},
   "source": [
    "Hmmm now I'm a little confused. Let's try it with precip.\n"
   ]
  },
  {
   "cell_type": "markdown",
   "metadata": {},
   "source": [
    "Let's try out precipitation now too!\n"
   ]
  },
  {
   "cell_type": "code",
   "execution_count": null,
   "metadata": {},
   "outputs": [],
   "source": [
    "max_var = (\n",
    "    climate[\"ppt\"]\n",
    "    .groupby(\"time.year\")\n",
    "    .max()\n",
    "    .assign_coords({\"year\": mtbs[\"monthly\"].time[np.arange(0, 420, 12)].values})\n",
    "    .rename({\"year\": \"time\"})\n",
    "    .resample(time=\"MS\")\n",
    "    .ffill()\n",
    ")\n",
    "max_var = max_var.reindex({\"time\": mtbs[\"monthly\"].time}, method=\"ffill\")\n",
    "conus_average_max_var = xr.ones_like(max_var) * max_var.mean(dim=[\"x\", \"y\"])\n",
    "\n",
    "conus_average_var_corr = xr.corr(\n",
    "    mtbs[\"monthly\"], conus_average_max_var, dim=\"time\"\n",
    ")\n",
    "local_var_corr = xr.corr(mtbs[\"monthly\"], max_var, dim=\"time\")"
   ]
  },
  {
   "cell_type": "markdown",
   "metadata": {},
   "source": [
    "So first we'll look at correlation of local fire w conus average precip change\n"
   ]
  },
  {
   "cell_type": "code",
   "execution_count": null,
   "metadata": {},
   "outputs": [],
   "source": [
    "plot.fire.simple_map(\n",
    "    conus_average_var_corr,\n",
    "    clabel=\"correlation\",\n",
    "    clim=(-0.2, 0.2),\n",
    "    cmap=\"purplegreen\",\n",
    ")"
   ]
  },
  {
   "cell_type": "markdown",
   "metadata": {},
   "source": [
    "Then we'll look at correlation of local fire w local precip change.\n"
   ]
  },
  {
   "cell_type": "code",
   "execution_count": null,
   "metadata": {},
   "outputs": [],
   "source": [
    "plot.fire.simple_map(\n",
    "    local_var_corr, clabel=\"correlation\", clim=(-0.2, 0.2), cmap=\"purplegreen\"\n",
    ")"
   ]
  },
  {
   "cell_type": "markdown",
   "metadata": {},
   "source": [
    "### Let's instead try sum precip (instead of annual max) to try to get total precip trends\n"
   ]
  },
  {
   "cell_type": "code",
   "execution_count": null,
   "metadata": {},
   "outputs": [],
   "source": [
    "sum_var = (\n",
    "    climate[\"ppt\"]\n",
    "    .groupby(\"time.year\")\n",
    "    .sum()\n",
    "    .assign_coords({\"year\": mtbs[\"monthly\"].time[np.arange(0, 420, 12)].values})\n",
    "    .rename({\"year\": \"time\"})\n",
    "    .resample(time=\"MS\")\n",
    "    .ffill()\n",
    ")\n",
    "sum_var = sum_var.reindex({\"time\": mtbs[\"monthly\"].time}, method=\"ffill\")\n",
    "conus_average_sum_var = xr.ones_like(sum_var) * sum_var.mean(dim=[\"x\", \"y\"])\n",
    "\n",
    "conus_average_var_corr = xr.corr(\n",
    "    mtbs[\"monthly\"], conus_average_sum_var, dim=\"time\"\n",
    ")\n",
    "local_var_corr = xr.corr(mtbs[\"monthly\"], sum_var, dim=\"time\")"
   ]
  },
  {
   "cell_type": "code",
   "execution_count": null,
   "metadata": {},
   "outputs": [],
   "source": [
    "plot.fire.simple_map(\n",
    "    conus_average_var_corr,\n",
    "    clabel=\"correlation\",\n",
    "    clim=(-0.2, 0.2),\n",
    "    cmap=\"purplegreen\",\n",
    ")"
   ]
  },
  {
   "cell_type": "code",
   "execution_count": null,
   "metadata": {},
   "outputs": [],
   "source": [
    "plot.fire.simple_map(\n",
    "    local_var_corr, clabel=\"correlation\", clim=(-0.2, 0.2), cmap=\"purplegreen\"\n",
    ")"
   ]
  },
  {
   "cell_type": "markdown",
   "metadata": {},
   "source": [
    "## Finding #2: annual sum precip better inidcator than annual max precip.\n"
   ]
  },
  {
   "cell_type": "markdown",
   "metadata": {},
   "source": [
    "How much of this is just because the trends in max temperature are stronger in\n",
    "certain places? Let's make a map of the pixel-level trends in fire and temp\n"
   ]
  },
  {
   "cell_type": "code",
   "execution_count": null,
   "metadata": {},
   "outputs": [],
   "source": [
    "max_temp_for_regression = max_temp.assign_coords(\n",
    "    {\"time\": np.arange(1984, 2019.0, 1 / 12)}\n",
    ")\n",
    "precip_for_regression = sum_var.assign_coords(\n",
    "    {\"time\": np.arange(1984, 2019.0, 1 / 12)}\n",
    ")"
   ]
  },
  {
   "cell_type": "code",
   "execution_count": null,
   "metadata": {},
   "outputs": [],
   "source": [
    "plot.fire.simple_map(\n",
    "    max_temp_for_regression.polyfit(dim=\"time\", deg=1)\n",
    "    .sel(degree=1)\n",
    "    .polyfit_coefficients.assign_coords({\"lat\": max_temp_for_regression.lat}),\n",
    "    clim=(-0.1, 0.1),\n",
    "    clabel=\"trend in temp [deg C/year]\",\n",
    "    cmap=\"blueorange\",\n",
    ")"
   ]
  },
  {
   "cell_type": "code",
   "execution_count": null,
   "metadata": {},
   "outputs": [],
   "source": [
    "plot.fire.simple_map(\n",
    "    precip_for_regression.polyfit(dim=\"time\", deg=1)\n",
    "    .sel(degree=1)\n",
    "    .polyfit_coefficients.assign_coords({\"lat\": precip_for_regression.lat})\n",
    "    / sum_var.mean(dim=\"time\"),\n",
    "    clim=(-0.02, 0.02),\n",
    "    clabel=\"trend in precip [%/year]\",\n",
    "    cmap=\"brownbluegreen\",\n",
    ")"
   ]
  },
  {
   "cell_type": "markdown",
   "metadata": {},
   "source": [
    "FINDING #3: Looks like spatial trends in precip haven't been observed in\n",
    "historic record, so we're not giving it any knowledge of changing precip. Does\n",
    "this mean that the model will be entirely temperature driven?\n"
   ]
  },
  {
   "cell_type": "markdown",
   "metadata": {},
   "source": [
    "Now, let's look at four different regions to get a sense of the variance in the\n",
    "variables compared to the variance in the mtbs fire.\n"
   ]
  },
  {
   "cell_type": "code",
   "execution_count": null,
   "metadata": {},
   "outputs": [],
   "source": [
    "geographic_boxes = {\n",
    "    \"Southeast\": {\"x\": slice(45, 70), \"y\": slice(30, 50)},\n",
    "    \"California\": {\"x\": slice(0, 10), \"y\": slice(15, 35)},\n",
    "    \"Intermountain West\": {\"x\": slice(10, 20), \"y\": slice(15, 35)},\n",
    "    \"Northwest\": {\"x\": slice(0, 20), \"y\": slice(0, 15)},\n",
    "}"
   ]
  },
  {
   "cell_type": "code",
   "execution_count": null,
   "metadata": {},
   "outputs": [],
   "source": [
    "data = plot.fire.package_for_altair(\n",
    "    mtbs.isel(geographic_boxes[\"California\"]).sel(time=slice(\"1985\", \"2018\")),\n",
    "    climate.isel(geographic_boxes[\"California\"]).sel(\n",
    "        time=slice(\"1985\", \"2018\")\n",
    "    ),\n",
    "    prediction=prediction.isel(geographic_boxes[\"California\"]).sel(\n",
    "        time=slice(\"1985\", \"2018\")\n",
    "    ),\n",
    "    label=\"California\",\n",
    ")\n",
    "for region in [\"Intermountain West\", \"Northwest\", \"Southeast\"]:\n",
    "    data[region] = plot.fire.package_for_altair(\n",
    "        mtbs.isel(geographic_boxes[region]).sel(time=slice(\"1985\", \"2018\")),\n",
    "        climate.isel(geographic_boxes[region]).sel(time=slice(\"1985\", \"2018\")),\n",
    "        prediction=prediction.isel(geographic_boxes[region]).sel(\n",
    "            time=slice(\"1985\", \"2018\")\n",
    "        ),\n",
    "        label=region,\n",
    "    )[region]"
   ]
  },
  {
   "cell_type": "code",
   "execution_count": null,
   "metadata": {},
   "outputs": [],
   "source": [
    "plot.fire.multipanel_slider(\n",
    "    data,\n",
    "    [1985, 2018],\n",
    "    [\"California\", \"Intermountain West\", \"Northwest\", \"Southeast\"],\n",
    ")"
   ]
  },
  {
   "cell_type": "markdown",
   "metadata": {},
   "source": [
    "### Let's try out some correlations between wind and fire- how closely related are they actually\n"
   ]
  },
  {
   "cell_type": "code",
   "execution_count": null,
   "metadata": {},
   "outputs": [],
   "source": [
    "wind_input = (\n",
    "    regridded_full_wind.where(target_ds.mask)\n",
    "    .coarsen(x=coarsen, y=coarsen, boundary=\"trim\")\n",
    "    .max()\n",
    "    .compute()\n",
    ")\n",
    "\n",
    "\n",
    "# wind_input = wind_input.assign_coords({'time': mtbs.time,\n",
    "#                                      'lat': mtbs.lat,\n",
    "#                                      'lon': mtbs.lon,\n",
    "#                                      'x': mtbs.x,\n",
    "#                                      'y': mtbs.y\n",
    "#                                                 })"
   ]
  },
  {
   "cell_type": "code",
   "execution_count": null,
   "metadata": {},
   "outputs": [],
   "source": [
    "wind_input = wind_input.assign_coords(\n",
    "    {\n",
    "        \"time\": mtbs.time,\n",
    "        \"lat\": mtbs.lat,\n",
    "        \"lon\": mtbs.lon,\n",
    "        #                                      'x': mtbs.x.round(decimals=3),\n",
    "        #                                      'y': mtbs.y.round(decimals=3),\n",
    "    }\n",
    ")"
   ]
  },
  {
   "cell_type": "code",
   "execution_count": null,
   "metadata": {},
   "outputs": [],
   "source": [
    "wind_fire_corr = xr.corr(\n",
    "    mtbs[\"monthly\"].assign_coords(\n",
    "        {\n",
    "            \"x\": wind_input.x,\n",
    "            \"y\": wind_input.y,\n",
    "        }\n",
    "    ),\n",
    "    wind_input,  # .drop(['lat', 'lon']),#.isel(time=slice(0,5)), # (1-climate['rh'])*\n",
    "    dim=\"time\",\n",
    ").assign_coords({\"lat\": wind_input.lat, \"lon\": wind_input.lon})"
   ]
  },
  {
   "cell_type": "code",
   "execution_count": null,
   "metadata": {},
   "outputs": [],
   "source": [
    "wind_precip_corr = xr.corr(\n",
    "    wind_input.assign_coords(climate.coords), climate[\"tmean\"], dim=\"time\"\n",
    ")"
   ]
  },
  {
   "cell_type": "code",
   "execution_count": null,
   "metadata": {},
   "outputs": [],
   "source": [
    "plot.fire.simple_map(\n",
    "    wind_precip_corr, clabel=\"correlation\", clim=(-1, 1), cmap=\"purplegreen\"\n",
    ")"
   ]
  },
  {
   "cell_type": "code",
   "execution_count": null,
   "metadata": {},
   "outputs": [],
   "source": [
    "plot.fire.simple_map(\n",
    "    wind_precip_corr, clabel=\"correlation\", clim=(-1, 1), cmap=\"purplegreen\"\n",
    ")"
   ]
  },
  {
   "cell_type": "code",
   "execution_count": null,
   "metadata": {},
   "outputs": [],
   "source": [
    "# Let's find correlatin"
   ]
  },
  {
   "cell_type": "markdown",
   "metadata": {},
   "source": [
    "### Fitting the model\n"
   ]
  },
  {
   "cell_type": "code",
   "execution_count": null,
   "metadata": {},
   "outputs": [],
   "source": [
    "wind_input = (\n",
    "    regridded_wind.where(target_ds.mask)\n",
    "    .coarsen(x=coarsen, y=coarsen, boundary=\"trim\")\n",
    "    .mean()\n",
    "    .compute()\n",
    ")"
   ]
  },
  {
   "cell_type": "code",
   "execution_count": null,
   "metadata": {},
   "outputs": [],
   "source": [
    "wind_input = (\n",
    "    regridded_full_wind.where(target_ds.mask)\n",
    "    .coarsen(x=coarsen, y=coarsen, boundary=\"trim\")\n",
    "    .max()\n",
    "    .compute()\n",
    ")"
   ]
  },
  {
   "cell_type": "code",
   "execution_count": null,
   "metadata": {},
   "outputs": [],
   "source": [
    "climate[\"wind\"] = xr.DataArray(\n",
    "    wind_input.values, coords=climate.coords, dims=(\"time\", \"y\", \"x\")\n",
    ")"
   ]
  },
  {
   "cell_type": "code",
   "execution_count": null,
   "metadata": {},
   "outputs": [],
   "source": [
    "x, y = prepare.fire(\n",
    "    climate.drop([\"rh\"]),\n",
    "    nftd,\n",
    "    mtbs,  # , 'wind'\n",
    "    #                     wind=(1-climate['rh'])*wind_input,\n",
    "    add_local_climate_trends=True,\n",
    ")\n",
    "x_z, x_mean, x_std = utils.zscore_2d(x)\n",
    "model = fit.hurdle(x_z, y, log=True)\n",
    "yhat = model.predict(x_z)\n",
    "prediction = collect.fire(yhat, mtbs)"
   ]
  },
  {
   "cell_type": "markdown",
   "metadata": {},
   "source": [
    "# let's try masking mtbs and climate with a single forest type and fit the model based upon only that. we'll drop the nftd for that\n"
   ]
  },
  {
   "cell_type": "code",
   "execution_count": null,
   "metadata": {},
   "outputs": [],
   "source": [
    "# conducted using just global climate"
   ]
  },
  {
   "cell_type": "code",
   "execution_count": null,
   "metadata": {},
   "outputs": [],
   "source": [
    "plot.fire.monthly(\n",
    "    prediction.sel(time=slice(\"1984\", \"2010\")),\n",
    "    \"prediction\",\n",
    "    clim=(0.00005, 0.002),\n",
    "    cmap=\"reds\",\n",
    ")"
   ]
  },
  {
   "cell_type": "code",
   "execution_count": null,
   "metadata": {},
   "outputs": [],
   "source": [
    "plot.fire.monthly(\n",
    "    prediction - (mtbs.rename({\"monthly\": \"prediction\"})),\n",
    "    \"prediction\",\n",
    "    clim=(-0.003, 0.003),\n",
    "    cmap=\"purplegreen\",\n",
    ")"
   ]
  },
  {
   "cell_type": "code",
   "execution_count": null,
   "metadata": {},
   "outputs": [],
   "source": [
    "alt.data_transformers.disable_max_rows()"
   ]
  },
  {
   "cell_type": "code",
   "execution_count": null,
   "metadata": {},
   "outputs": [],
   "source": [
    "# this was done on forest group type index 16 trained only on that type"
   ]
  },
  {
   "cell_type": "code",
   "execution_count": null,
   "metadata": {},
   "outputs": [],
   "source": [
    "# train for each separate forest type and sum the predictions together"
   ]
  },
  {
   "cell_type": "code",
   "execution_count": null,
   "metadata": {},
   "outputs": [],
   "source": [
    "# grab a mask of one forest type and cast it all to 1s"
   ]
  },
  {
   "cell_type": "code",
   "execution_count": null,
   "metadata": {},
   "outputs": [],
   "source": [
    "nftd.sel(band=nftd.band[-1])"
   ]
  },
  {
   "cell_type": "code",
   "execution_count": null,
   "metadata": {},
   "outputs": [],
   "source": [
    "for band in [nftd.band[-1]]:\n",
    "    x, y = prepare.fire(\n",
    "        climate.assign_coords(\n",
    "            {\"x\": nftd.isel(band=16).x, \"y\": nftd.isel(band=16).y}\n",
    "        )\n",
    "        * nftd.isel(band=16),\n",
    "        #                     nftd,\n",
    "        mtbs=mtbs.assign_coords(\n",
    "            {\"x\": nftd.isel(band=16).x, \"y\": nftd.isel(band=16).y}\n",
    "        )\n",
    "        * nftd.isel(band=16),\n",
    "        add_local_climate_trends=True,\n",
    "    )\n",
    "    x_z, x_mean, x_std = utils.zscore_2d(x)\n",
    "    model = fit.hurdle(x_z, y, log=True)\n",
    "    yhat = model.predict(x_z)\n",
    "    prediction = collect.fire(\n",
    "        yhat,\n",
    "        mtbs.assign_coords(\n",
    "            {\"x\": nftd.isel(band=16).x, \"y\": nftd.isel(band=16).y}\n",
    "        )\n",
    "        * nftd.isel(band=16),\n",
    "    )"
   ]
  },
  {
   "cell_type": "code",
   "execution_count": null,
   "metadata": {},
   "outputs": [],
   "source": [
    "stats, charts = plot.fire.full_eval(\n",
    "    mtbs,  # .assign_coords({'x': nftd.x,\n",
    "    #                 'y': nftd.y})*nftd.isel(band=16),\n",
    "    prediction,  # *nftd.isel(band=16),\n",
    "    \"monthly\",\n",
    "    \"prediction\",\n",
    "    clim=(-0.008, 0.008),\n",
    "    cmap=\"purplegreen\",\n",
    "    percentage=False,\n",
    ")\n",
    "charts"
   ]
  },
  {
   "cell_type": "markdown",
   "metadata": {},
   "source": [
    "And then let's compare it to training the whole hting and just evaluating\n",
    "performance on one forest type\n"
   ]
  },
  {
   "cell_type": "code",
   "execution_count": null,
   "metadata": {},
   "outputs": [],
   "source": [
    "x, y = prepare.fire(climate, nftd, mtbs=mtbs, add_local_climate_trends=True)\n",
    "x_z, x_mean, x_std = utils.zscore_2d(x)\n",
    "model = fit.hurdle(x_z, y, log=True)\n",
    "yhat = model.predict(x_z)\n",
    "prediction = collect.fire(yhat, mtbs)"
   ]
  },
  {
   "cell_type": "code",
   "execution_count": null,
   "metadata": {},
   "outputs": [],
   "source": [
    "stats, charts = plot.fire.full_eval(\n",
    "    mtbs.assign_coords({\"x\": one_type.x, \"y\": one_type.y})\n",
    "    * one_type.drop(\"band\"),\n",
    "    prediction.assign_coords({\"x\": one_type.x, \"y\": one_type.y})\n",
    "    * one_type.drop(\"band\"),\n",
    "    \"monthly\",\n",
    "    \"prediction\",\n",
    "    clim=(-0.008, 0.008),\n",
    "    cmap=\"purplegreen\",\n",
    "    percentage=False,\n",
    ")\n",
    "charts"
   ]
  },
  {
   "cell_type": "markdown",
   "metadata": {},
   "source": [
    "Let's see what our modeled risk looks like at the supersection level to see if\n",
    "anything jumps out\n"
   ]
  },
  {
   "cell_type": "code",
   "execution_count": null,
   "metadata": {},
   "outputs": [],
   "source": [
    "plot.fire.supersection(mtbs, \"monthly\")"
   ]
  },
  {
   "cell_type": "code",
   "execution_count": null,
   "metadata": {},
   "outputs": [],
   "source": [
    "plot.fire.supersection(prediction, \"prediction\")"
   ]
  },
  {
   "cell_type": "code",
   "execution_count": null,
   "metadata": {},
   "outputs": [],
   "source": [
    "plot.fire.monthly(\n",
    "    prediction.sel(time=\"2018\"), \"prediction\", clim=(0.00005, 0.001)\n",
    ")"
   ]
  },
  {
   "cell_type": "code",
   "execution_count": null,
   "metadata": {},
   "outputs": [],
   "source": [
    "plot.fire.evaluation(\n",
    "    mtbs,\n",
    "    prediction,\n",
    "    \"monthly\",\n",
    "    \"prediction\",\n",
    "    clim=(0.003, 0.0006),\n",
    "    #     clim=(0.0006, 0.003),\n",
    "    percentage=False,\n",
    "    cmap=\"redblue\",\n",
    ")"
   ]
  },
  {
   "cell_type": "code",
   "execution_count": null,
   "metadata": {},
   "outputs": [],
   "source": [
    "plot.fire.evaluation(\n",
    "    mtbs, prediction, \"monthly\", \"prediction\", clim=(0.0006, 0.003)\n",
    ")"
   ]
  },
  {
   "cell_type": "markdown",
   "metadata": {},
   "source": [
    "FINDING #4: We're way too smeared out in the predictions for an individual year.\n",
    "Way too smooth. Not episodic. Influence of this in the future is that it'll be\n",
    "like a trickle everywhere as opposed to a big event.\n",
    "\n",
    "Discussion point: let's brainstorm reasons why?\n"
   ]
  },
  {
   "cell_type": "code",
   "execution_count": null,
   "metadata": {},
   "outputs": [],
   "source": [
    "year = \"1991\"\n",
    "plot.fire.evaluation(\n",
    "    mtbs.sel(time=year),\n",
    "    prediction.sel(time=year),\n",
    "    \"monthly\",\n",
    "    \"prediction\",\n",
    "    clim=(0.0006, 0.003),\n",
    ")"
   ]
  },
  {
   "cell_type": "code",
   "execution_count": null,
   "metadata": {},
   "outputs": [],
   "source": [
    "plot.fire.evaluation(\n",
    "    mtbs.sel(time=\"2002\"),\n",
    "    prediction.sel(time=\"2002\"),\n",
    "    \"monthly\",\n",
    "    \"prediction\",\n",
    "    clim=(-0.0008, 0.0008),\n",
    ")"
   ]
  },
  {
   "cell_type": "code",
   "execution_count": null,
   "metadata": {},
   "outputs": [],
   "source": [
    "plot.fire.simple_map(\n",
    "    mtbs.sel({\"x\": slice(0, 20), \"y\": slice(0, 15)}).mean(dim=\"time\").monthly,\n",
    "    clim=(0.00000001, 0.001),\n",
    ")"
   ]
  },
  {
   "cell_type": "code",
   "execution_count": null,
   "metadata": {},
   "outputs": [],
   "source": [
    "slider = alt.binding_range(min=1984, max=2018, step=1)\n",
    "select_year = alt.selection_single(\n",
    "    name=\"year\", fields=[\"year\"], bind=slider, init={\"year\": 1984}\n",
    ")\n",
    "base = (\n",
    "    alt.Chart(data)\n",
    "    .mark_line()\n",
    "    .encode(x=\"month:O\", color=\"variable:N\")\n",
    "    .add_selection(select_year)\n",
    "    .properties(width=200, height=100)\n",
    "    .transform_filter(select_year)\n",
    ")\n",
    "chart = base.encode(y=\"California:Q\")\n",
    "chart22 = base.encode(y=\"Southeast:Q\")\n",
    "chart | chart22\n",
    "# base.encode(y='California:Q') | base.encode(y='Southeast:Q') | base.encode(y='Intermountain West:Q') | base.encode(y='Northwest:Q')"
   ]
  },
  {
   "cell_type": "markdown",
   "metadata": {},
   "source": [
    "Let's repeat zoom into a few episodes to see whether we're capturing actual\n",
    "fires (let's look specifically at the ones that Barbero et al look at in figure\n",
    "S2 of the supplemental for the 2012 paper)\n"
   ]
  },
  {
   "cell_type": "markdown",
   "metadata": {},
   "source": [
    "For 2007 we look at Zaca fire in California in July and Bugaboo fire in\n",
    "southeast in April.\n"
   ]
  },
  {
   "cell_type": "code",
   "execution_count": null,
   "metadata": {},
   "outputs": [],
   "source": [
    "plot.fire.monthly(\n",
    "    prediction.sel(time=\"2007\"), \"prediction\", clim=(0.00005, 0.001)\n",
    ")"
   ]
  },
  {
   "cell_type": "markdown",
   "metadata": {},
   "source": [
    "For 2006 we look at September in California for the Day Fire.\n"
   ]
  },
  {
   "cell_type": "code",
   "execution_count": null,
   "metadata": {},
   "outputs": [],
   "source": [
    "plot.fire.monthly(\n",
    "    prediction.sel(time=\"2006\"), \"prediction\", clim=(0.00005, 0.001)\n",
    ")"
   ]
  },
  {
   "cell_type": "markdown",
   "metadata": {},
   "source": [
    "For 2002 we look at Rodeo fire in California in June.\n"
   ]
  },
  {
   "cell_type": "code",
   "execution_count": null,
   "metadata": {},
   "outputs": [],
   "source": [
    "plot.fire.monthly(\n",
    "    prediction.sel(time=\"2002\"), \"prediction\", clim=(0.00005, 0.001)\n",
    ")"
   ]
  },
  {
   "cell_type": "markdown",
   "metadata": {},
   "source": [
    "We can also compare the predicted and real probabilities over time.\n"
   ]
  },
  {
   "cell_type": "code",
   "execution_count": null,
   "metadata": {},
   "outputs": [],
   "source": [
    "x = mtbs[\"time\"]\n",
    "y1 = mtbs[\"monthly\"].mean([\"x\", \"y\"])\n",
    "y2 = prediction[\"prediction\"].mean([\"x\", \"y\"])\n",
    "\n",
    "(\n",
    "    plot.line(\n",
    "        x=x,\n",
    "        y=y1,\n",
    "        width=900,\n",
    "        height=200,\n",
    "        opacity=0.5,\n",
    "        color=\"rgb(175,91,92)\",\n",
    "        strokeWidth=2,\n",
    "    )\n",
    "    + plot.line(\n",
    "        x=x, y=y2, width=900, height=200, color=\"rgb(175,91,92)\", strokeWidth=2\n",
    "    )\n",
    ")"
   ]
  },
  {
   "cell_type": "markdown",
   "metadata": {},
   "source": [
    "Given that we fit a logistic regression, the natural model performance metric is\n",
    "area under the ROC curve, which we computed on the training data (you can use\n",
    "the variable `crossval` to repeat the model fit and compute a score on 25% held\n",
    "out data).\n"
   ]
  },
  {
   "cell_type": "markdown",
   "metadata": {},
   "source": [
    "Finally, we can compute correlations between model and prediction for annual,\n",
    "seasonal, and spatial trends. Note that these were not metrics used to\n",
    "explicitly fit the model, but in general a better fitting model ought to\n",
    "reproduce at least some of these trends.\n"
   ]
  },
  {
   "cell_type": "code",
   "execution_count": null,
   "metadata": {},
   "outputs": [],
   "source": [
    "print(\"correlation of annual trends\")\n",
    "np.corrcoef(\n",
    "    mtbs[\"monthly\"].groupby(\"time.year\").mean().mean([\"x\", \"y\"]),\n",
    "    prediction[\"prediction\"].groupby(\"time.year\").mean().mean([\"x\", \"y\"]),\n",
    ")[0, 1] ** 2"
   ]
  },
  {
   "cell_type": "code",
   "execution_count": null,
   "metadata": {},
   "outputs": [],
   "source": [
    "print(\"correlation of monthly trends\")\n",
    "np.corrcoef(\n",
    "    mtbs[\"monthly\"].groupby(\"time.month\").mean().mean([\"x\", \"y\"]),\n",
    "    prediction[\"prediction\"].groupby(\"time.month\").mean().mean([\"x\", \"y\"]),\n",
    ")[0, 1] ** 2"
   ]
  },
  {
   "cell_type": "code",
   "execution_count": null,
   "metadata": {},
   "outputs": [],
   "source": [
    "print(\"correlation of spatial trends\")\n",
    "a = mtbs[\"monthly\"].mean(\"time\").values.flatten()\n",
    "b = prediction[\"prediction\"].mean(\"time\").values.flatten()\n",
    "inds = ~np.isnan(a) & ~np.isnan(b)\n",
    "np.corrcoef(a[inds], b[inds])[0, 1] ** 2"
   ]
  },
  {
   "cell_type": "markdown",
   "metadata": {},
   "source": [
    "### Try out four different improvements to the model\n"
   ]
  },
  {
   "cell_type": "markdown",
   "metadata": {},
   "source": [
    "### Masking out fires in non-forested areas before passing the mtbs data into the model\n",
    "\n",
    "We've changed this analysis to just only passing in the non-forested areas into\n",
    "the model\n"
   ]
  },
  {
   "cell_type": "code",
   "execution_count": null,
   "metadata": {},
   "outputs": [],
   "source": [
    "# before doing the modeling (as part of the prepare step)\n",
    "# take the sum of our forest type masks and call this single forest/no forest mask\n",
    "# threshold at a low value (0.1) and zero out the mask so that there are zero fires for non-forest\n",
    "# (aka we will ignore fires in any gridcells less than 10% forest)\n",
    "# then train model as usual"
   ]
  },
  {
   "cell_type": "code",
   "execution_count": null,
   "metadata": {},
   "outputs": [],
   "source": [
    "non_forests = nlcd.sel(band=71) + nlcd.sel(band=52)"
   ]
  },
  {
   "cell_type": "markdown",
   "metadata": {},
   "source": [
    "can't believe i'm taking it to numpy but c'est la vie... eat your shoe, jhamman!\n"
   ]
  },
  {
   "cell_type": "code",
   "execution_count": null,
   "metadata": {},
   "outputs": [],
   "source": [
    "forest_mask_vals = non_forests.values\n",
    "# so anything that is more than 90% non-forest (less than 10% forest) will be masked out\n",
    "forest_mask_vals[forest_mask_vals > 0.9] = np.NaN\n",
    "forest_mask = forest_mask_vals <= 0.9"
   ]
  },
  {
   "cell_type": "markdown",
   "metadata": {},
   "source": [
    "# Base set-up\n"
   ]
  },
  {
   "cell_type": "code",
   "execution_count": null,
   "metadata": {},
   "outputs": [],
   "source": [
    "x, y = prepare.fire(\n",
    "    climate.drop([\"rh\", \"wind\", \"fire_index\"]),\n",
    "    nftd,\n",
    "    mtbs * forest_mask,\n",
    "    add_local_climate_trends=True,\n",
    ")\n",
    "x_z, x_mean, x_std = utils.zscore_2d(x)\n",
    "model = fit.hurdle(x_z, y, log=True)\n",
    "yhat = model.predict(x_z)\n",
    "prediction = collect.fire(yhat, mtbs)"
   ]
  },
  {
   "cell_type": "code",
   "execution_count": null,
   "metadata": {},
   "outputs": [],
   "source": [
    "plot.fire.full_eval(\n",
    "    mtbs * forest_mask,\n",
    "    prediction,\n",
    "    \"monthly\",\n",
    "    \"prediction\",\n",
    "    clim=(-0.008, 0.008),\n",
    "    cmap=\"purplegreen\",\n",
    "    percentage=False,\n",
    ")"
   ]
  },
  {
   "cell_type": "markdown",
   "metadata": {},
   "source": [
    "# Here we'll do climate including wind and rh\n"
   ]
  },
  {
   "cell_type": "code",
   "execution_count": null,
   "metadata": {},
   "outputs": [],
   "source": [
    "x, y = prepare.fire(\n",
    "    climate, nftd, mtbs * forest_mask, add_local_climate_trends=True\n",
    ")\n",
    "x_z, x_mean, x_std = utils.zscore_2d(x)\n",
    "model = fit.hurdle(x_z, y, log=True)\n",
    "yhat = model.predict(x_z)\n",
    "prediction = collect.fire(yhat, mtbs)"
   ]
  },
  {
   "cell_type": "code",
   "execution_count": null,
   "metadata": {},
   "outputs": [],
   "source": [
    "plot.fire.full_eval(\n",
    "    mtbs * forest_mask,\n",
    "    prediction,\n",
    "    \"monthly\",\n",
    "    \"prediction\",\n",
    "    clim=(-0.008, 0.008),\n",
    "    cmap=\"purplegreen\",\n",
    "    percentage=False,\n",
    ")"
   ]
  },
  {
   "cell_type": "markdown",
   "metadata": {},
   "source": [
    "# Then we'll try wind w no rh\n"
   ]
  },
  {
   "cell_type": "code",
   "execution_count": null,
   "metadata": {},
   "outputs": [],
   "source": [
    "x, y = prepare.fire(\n",
    "    climate.drop(\"rh\"), nftd, mtbs * forest_mask, add_local_climate_trends=True\n",
    ")\n",
    "x_z, x_mean, x_std = utils.zscore_2d(x)\n",
    "model = fit.hurdle(x_z, y, log=True)\n",
    "yhat = model.predict(x_z)\n",
    "prediction = collect.fire(yhat, mtbs)"
   ]
  },
  {
   "cell_type": "code",
   "execution_count": null,
   "metadata": {},
   "outputs": [],
   "source": [
    "plot.fire.full_eval(\n",
    "    mtbs * forest_mask,\n",
    "    prediction,\n",
    "    \"monthly\",\n",
    "    \"prediction\",\n",
    "    clim=(-0.008, 0.008),\n",
    "    cmap=\"purplegreen\",\n",
    "    percentage=False,\n",
    ")"
   ]
  },
  {
   "cell_type": "markdown",
   "metadata": {},
   "source": [
    "# Then we'll do interaction between wind and 1-rh <---- ask jeremy if this is right in terms of magnitudes\n"
   ]
  },
  {
   "cell_type": "code",
   "execution_count": null,
   "metadata": {},
   "outputs": [],
   "source": [
    "climate[\"fire_index\"] = climate[\"wind\"] * (1 - climate[\"rh\"])"
   ]
  },
  {
   "cell_type": "code",
   "execution_count": null,
   "metadata": {},
   "outputs": [],
   "source": [
    "x, y = prepare.fire(\n",
    "    climate.drop([\"rh\", \"wind\"]),\n",
    "    nftd,\n",
    "    mtbs * forest_mask,\n",
    "    add_local_climate_trends=True,\n",
    ")\n",
    "x_z, x_mean, x_std = utils.zscore_2d(x)\n",
    "model = fit.hurdle(x_z, y, log=True)\n",
    "yhat = model.predict(x_z)\n",
    "prediction = collect.fire(yhat, mtbs)"
   ]
  },
  {
   "cell_type": "code",
   "execution_count": null,
   "metadata": {},
   "outputs": [],
   "source": [
    "plot.fire.full_eval(\n",
    "    mtbs * forest_mask,\n",
    "    prediction,\n",
    "    \"monthly\",\n",
    "    \"prediction\",\n",
    "    clim=(-0.008, 0.008),\n",
    "    cmap=\"purplegreen\",\n",
    "    percentage=False,\n",
    ")"
   ]
  },
  {
   "cell_type": "markdown",
   "metadata": {},
   "source": [
    "# But either which way, let's try this last bit in which we use a wind climatology instead\n"
   ]
  },
  {
   "cell_type": "code",
   "execution_count": null,
   "metadata": {},
   "outputs": [],
   "source": [
    "x, y = prepare.fire(\n",
    "    climate.drop([\"rh\", \"wind\", \"fire_index\"]),\n",
    "    nftd,\n",
    "    mtbs * forest_mask,\n",
    "    add_local_climate_trends=True,\n",
    "    wind=regridded_wind.coarsen(x=coarsen, y=coarsen, boundary=\"trim\")\n",
    "    .max()\n",
    "    .compute(),\n",
    ")\n",
    "x_z, x_mean, x_std = utils.zscore_2d(x)\n",
    "model = fit.hurdle(x_z, y, log=True)\n",
    "yhat = model.predict(x_z)\n",
    "prediction = collect.fire(yhat, mtbs)"
   ]
  },
  {
   "cell_type": "code",
   "execution_count": null,
   "metadata": {},
   "outputs": [],
   "source": [
    "plot.fire.full_eval(\n",
    "    mtbs * forest_mask,\n",
    "    prediction,\n",
    "    \"monthly\",\n",
    "    \"prediction\",\n",
    "    clim=(-0.008, 0.008),\n",
    "    cmap=\"purplegreen\",\n",
    "    percentage=False,\n",
    ")"
   ]
  },
  {
   "cell_type": "code",
   "execution_count": null,
   "metadata": {},
   "outputs": [],
   "source": [
    "plot.fire.supersection(mtbs * forest_mask, \"monthly\")"
   ]
  },
  {
   "cell_type": "code",
   "execution_count": null,
   "metadata": {},
   "outputs": [],
   "source": [
    "plot.fire.supersection(prediction * forest_mask, \"prediction\")"
   ]
  },
  {
   "cell_type": "markdown",
   "metadata": {},
   "source": [
    "So, removing non-forested areas helps us a lot. It kind of messes up the\n",
    "seasonal cycle (strange, and the local climate trends still help us with that)\n",
    "but our spatial biases drop _a lot_.\n"
   ]
  },
  {
   "cell_type": "code",
   "execution_count": null,
   "metadata": {},
   "outputs": [],
   "source": [
    "needle_leaf_da = xr.DataArray(\n",
    "    data=[1, 1, 1, 1, 1, 1, 1, 1, 1, 1, 1, 0, 0, 0, 0, 0, 0],\n",
    "    dims=[\"band\"],\n",
    "    coords={\"band\": nftd.band.values},\n",
    ")\n",
    "needle_leaf_fraction = nftd.dot(needle_leaf_da).expand_dims(dim=\"band\")"
   ]
  },
  {
   "cell_type": "code",
   "execution_count": null,
   "metadata": {},
   "outputs": [],
   "source": [
    "# Mapping from https://www.fia.fs.fed.us/library/database-documentation/historic/ver3/FIADB_user%20manual_v3-0_p2_7_10_08.pdf\n",
    "tree_type_mapping = pd.DataFrame(\n",
    "    [\n",
    "        [100, \"White/red/jack pine group\", \"Needle\"],\n",
    "        [120, \"Spruce/fir group\", \"Needle\"],\n",
    "        [140, \"Longleaf/slash pine group\", \"Needle\"],\n",
    "        [160, \"Lolblolly/shortleaf pine group\", \"Needle\"],\n",
    "        [180, \"Pinyon/juniper group\", \"Needle\"],\n",
    "        [200, \"Douglas-fir group\", \"Needle\"],\n",
    "        [220, \"Ponderosa pine group\", \"Needle\"],\n",
    "        [260, \"Fir/spruce/mountain hemlock group\", \"Needle\"],\n",
    "        [280, \"Lodgepole pine group\", \"Needle\"],\n",
    "        [370, \"California mixed conifer group\", \"Needle\"],\n",
    "        [400, \"Oak/pine group\", \"Needle\"],  # CHECK\n",
    "        [500, \"Oak/hickory group\", \"Broadleaf\"],\n",
    "        [600, \"Oak/gum/cypress group\", \"Broadleaf\"],\n",
    "        [700, \"Elm/ash/cottonwood group\", \"Broadleaf\"],\n",
    "        [800, \"Maple/beech/birch group\", \"Broadleaf\"],\n",
    "        [900, \"Aspen/birch group\", \"Broadleaf\"],\n",
    "        [920, \"Western oak group\", \"Broadleaf\"],\n",
    "    ],\n",
    "    columns=[\"group_ID\", \"Forest type\", \"Leaf\"],\n",
    ")\n",
    "tree_type_mapping[\"Needleleaf\"] = (\n",
    "    tree_type_mapping[\"Leaf\"] == \"Needle\"\n",
    ").astype(int)"
   ]
  },
  {
   "cell_type": "markdown",
   "metadata": {},
   "source": [
    "### Evaluate performance by forest type\n"
   ]
  },
  {
   "cell_type": "markdown",
   "metadata": {},
   "source": [
    "### Create two additional variables (fraction of each gridcell that is either (1) broadleaf or (2) needleleaf) and then feed it to the model as an interaction with the four climate variables (to produce 8 additional variables) to make essentially two different models specific to different kinds of forest responses\n",
    "\n",
    "Well, actually we'll just do the fraction that is needle leaf and we'll multiply\n",
    "it by the climate variables. We'll only need four.\n"
   ]
  },
  {
   "cell_type": "markdown",
   "metadata": {},
   "source": [
    "First let's just see what happens when we pass in the needle leaf fraction as\n",
    "its own variable. This will just give the model a little more understanding of\n",
    "how the forest types relate to eachother.\n"
   ]
  },
  {
   "cell_type": "code",
   "execution_count": null,
   "metadata": {},
   "outputs": [],
   "source": [
    "needle_leaf_da = xr.DataArray(\n",
    "    data=[1, 1, 1, 1, 1, 1, 1, 1, 1, 1, 1, 0, 0, 0, 0, 0, 0],\n",
    "    dims=[\"band\"],\n",
    "    coords={\"band\": nftd.band.values},\n",
    ")\n",
    "broad_leaf_da = xr.DataArray(\n",
    "    data=[0, 0, 0, 0, 0, 0, 0, 0, 0, 0, 0, 1, 1, 1, 1, 1, 1],\n",
    "    dims=[\"band\"],\n",
    "    coords={\"band\": nftd.band.values},\n",
    ")\n",
    "broad_leaf_fraction = nftd.dot(broad_leaf_da).expand_dims(dim=\"band\")\n",
    "needle_leaf_fraction = nftd.dot(needle_leaf_da).expand_dims(dim=\"band\")\n",
    "nftd = xr.concat(\n",
    "    [\n",
    "        nftd,\n",
    "        needle_leaf_fraction.assign_coords({\"band\": [0]}),\n",
    "        broad_leaf_fraction.assign_coords({\"band\": [1]}),\n",
    "    ],\n",
    "    dim=\"band\",\n",
    ")"
   ]
  },
  {
   "cell_type": "markdown",
   "metadata": {},
   "source": [
    "Each time we run this model we'll want to look at the performance, so let's pull\n",
    "all of these analyses together to have a nice evaluation module.\n"
   ]
  },
  {
   "cell_type": "markdown",
   "metadata": {},
   "source": [
    "Let's just see if running by adding a needle-leaf/broadleaf category helps at\n",
    "all (it shouldn't)\n"
   ]
  },
  {
   "cell_type": "code",
   "execution_count": null,
   "metadata": {},
   "outputs": [],
   "source": [
    "climate"
   ]
  },
  {
   "cell_type": "code",
   "execution_count": null,
   "metadata": {},
   "outputs": [],
   "source": [
    "x, y = prepare.fire(climate, nftd, mtbs, add_local_climate_trends=True)\n",
    "x_z, x_mean, x_std = utils.zscore_2d(x)\n",
    "model = fit.hurdle(x_z, y, log=True)\n",
    "yhat = model.predict(x_z)\n",
    "prediction = collect.fire(yhat, mtbs)"
   ]
  },
  {
   "cell_type": "code",
   "execution_count": null,
   "metadata": {},
   "outputs": [],
   "source": [
    "plot.fire.full_eval(\n",
    "    mtbs,\n",
    "    prediction,\n",
    "    \"monthly\",\n",
    "    \"prediction\",\n",
    "    clim=(-0.008, 0.008),\n",
    "    cmap=\"purplegreen\",\n",
    "    percentage=False,\n",
    ")"
   ]
  },
  {
   "cell_type": "markdown",
   "metadata": {},
   "source": [
    "Now let's try adding an interaction! We'll multiply the needle leaf fraction by\n",
    "the climate variables. We can just add them as new variables to the climate\n",
    "dataset.\n"
   ]
  },
  {
   "cell_type": "code",
   "execution_count": null,
   "metadata": {},
   "outputs": [],
   "source": [
    "nftd.band.values"
   ]
  },
  {
   "cell_type": "code",
   "execution_count": null,
   "metadata": {},
   "outputs": [],
   "source": [
    "climate_interactions = climate.drop([\"pdsi\"]).copy(deep=True)\n",
    "for var in climate_interactions.data_vars:\n",
    "    for band in nftd.band.values:\n",
    "        climate_interactions[\"{}_interaction_{}\".format(var, band)] = (\n",
    "            climate_interactions[var] * nftd.sel(band=band).values\n",
    "        )"
   ]
  },
  {
   "cell_type": "code",
   "execution_count": null,
   "metadata": {},
   "outputs": [],
   "source": [
    "x, y = prepare.fire(\n",
    "    climate_interactions, mtbs=mtbs, nftd=nftd, add_local_climate_trends=True\n",
    ")\n",
    "x_z, x_mean, x_std = utils.zscore_2d(x)\n",
    "model = fit.hurdle(x_z, y, log=True, max_iter=10000000)\n",
    "yhat = model.predict(x_z)\n",
    "prediction = collect.fire(yhat, mtbs)"
   ]
  },
  {
   "cell_type": "code",
   "execution_count": null,
   "metadata": {},
   "outputs": [],
   "source": [
    "stats, chart = plot.fire.full_eval(\n",
    "    mtbs,\n",
    "    prediction,\n",
    "    \"monthly\",\n",
    "    \"prediction\",\n",
    "    clim=(-0.008, 0.008),\n",
    "    cmap=\"purplegreen\",\n",
    "    percentage=False,\n",
    ")\n",
    "chart"
   ]
  },
  {
   "cell_type": "code",
   "execution_count": null,
   "metadata": {},
   "outputs": [],
   "source": [
    "nftd.band.values"
   ]
  },
  {
   "cell_type": "code",
   "execution_count": null,
   "metadata": {},
   "outputs": [],
   "source": [
    "climate_interactions = climate.drop([\"pdsi\"]).copy(deep=True)\n",
    "for var in climate_interactions.data_vars:\n",
    "    for band in nftd.band.values[4:10]:\n",
    "        climate_interactions[\"{}_interaction_{}\".format(var, band)] = (\n",
    "            climate_interactions[var] * nftd.sel(band=band).values\n",
    "        )"
   ]
  },
  {
   "cell_type": "code",
   "execution_count": null,
   "metadata": {},
   "outputs": [],
   "source": [
    "x, y = prepare.fire(\n",
    "    climate_interactions, mtbs=mtbs, nftd=nftd, add_local_climate_trends=True\n",
    ")\n",
    "x_z, x_mean, x_std = utils.zscore_2d(x)\n",
    "model = fit.hurdle(x_z, y, log=True, max_iter=10000000)\n",
    "yhat = model.predict(x_z)\n",
    "prediction = collect.fire(yhat, mtbs)"
   ]
  },
  {
   "cell_type": "code",
   "execution_count": null,
   "metadata": {},
   "outputs": [],
   "source": [
    "stats, chart = plot.fire.full_eval(\n",
    "    mtbs,\n",
    "    prediction,\n",
    "    \"monthly\",\n",
    "    \"prediction\",\n",
    "    clim=(-0.008, 0.008),\n",
    "    cmap=\"purplegreen\",\n",
    "    percentage=False,\n",
    ")\n",
    "chart"
   ]
  },
  {
   "cell_type": "code",
   "execution_count": null,
   "metadata": {},
   "outputs": [],
   "source": [
    "climate_interactions = climate.drop([\"pdsi\"]).copy(deep=True)\n",
    "for var in climate_interactions.data_vars:\n",
    "    for band in nftd.band.values[7:8]:\n",
    "        climate_interactions[\"{}_interaction_{}\".format(var, band)] = (\n",
    "            climate_interactions[var] * nftd.sel(band=band).values\n",
    "        )"
   ]
  },
  {
   "cell_type": "code",
   "execution_count": null,
   "metadata": {},
   "outputs": [],
   "source": [
    "x, y = prepare.fire(\n",
    "    climate_interactions, mtbs=mtbs, nftd=nftd, add_local_climate_trends=True\n",
    ")\n",
    "x_z, x_mean, x_std = utils.zscore_2d(x)\n",
    "model = fit.hurdle(x_z, y, log=True, max_iter=10000000)\n",
    "yhat = model.predict(x_z)\n",
    "prediction = collect.fire(yhat, mtbs)"
   ]
  },
  {
   "cell_type": "code",
   "execution_count": null,
   "metadata": {},
   "outputs": [],
   "source": [
    "stats, chart = plot.fire.full_eval(\n",
    "    mtbs,\n",
    "    prediction,\n",
    "    \"monthly\",\n",
    "    \"prediction\",\n",
    "    clim=(-0.008, 0.008),\n",
    "    cmap=\"purplegreen\",\n",
    "    percentage=False,\n",
    ")\n",
    "chart"
   ]
  },
  {
   "cell_type": "markdown",
   "metadata": {},
   "source": [
    "Question: why does it lose the seasonal signal when I add the interaction terms?\n",
    "What's wrong here?\n"
   ]
  },
  {
   "cell_type": "code",
   "execution_count": null,
   "metadata": {},
   "outputs": [],
   "source": [
    "plot.fire.full_eval(\n",
    "    mtbs,\n",
    "    prediction,\n",
    "    \"monthly\",\n",
    "    \"prediction\",\n",
    "    clim=(-0.008, 0.008),\n",
    "    cmap=\"purplegreen\",\n",
    "    percentage=False,\n",
    ")"
   ]
  },
  {
   "cell_type": "code",
   "execution_count": null,
   "metadata": {},
   "outputs": [],
   "source": [
    "plot.fire.supersection(prediction, \"prediction\")"
   ]
  },
  {
   "cell_type": "markdown",
   "metadata": {},
   "source": [
    "Let's try adding masking of mtbs with the interactions. Hmmmm gets weird.\n"
   ]
  },
  {
   "cell_type": "code",
   "execution_count": null,
   "metadata": {},
   "outputs": [],
   "source": [
    "x, y = prepare.fire(\n",
    "    climate_interactions,\n",
    "    nftd.drop_sel(band=0).drop_sel(band=1),\n",
    "    mtbs * forest_mask,\n",
    "    add_local_climate_trends=True,\n",
    ")\n",
    "x_z, x_mean, x_std = utils.zscore_2d(x)\n",
    "model = fit.hurdle(x_z, y, log=True)\n",
    "yhat = model.predict(x_z)\n",
    "prediction = collect.fire(yhat, mtbs)"
   ]
  },
  {
   "cell_type": "code",
   "execution_count": null,
   "metadata": {},
   "outputs": [],
   "source": [
    "plot.fire.full_eval(\n",
    "    mtbs * forest_mask,\n",
    "    prediction,\n",
    "    \"monthly\",\n",
    "    \"prediction\",\n",
    "    clim=(-0.008, 0.008),\n",
    "    cmap=\"purplegreen\",\n",
    "    percentage=False,\n",
    ")"
   ]
  },
  {
   "cell_type": "code",
   "execution_count": null,
   "metadata": {},
   "outputs": [],
   "source": [
    "plot.fire.supersection(prediction, \"prediction\")"
   ]
  },
  {
   "cell_type": "markdown",
   "metadata": {},
   "source": [
    "### Let's try back at the beginning just dropping pdsi\n"
   ]
  },
  {
   "cell_type": "code",
   "execution_count": null,
   "metadata": {},
   "outputs": [],
   "source": [
    "x, y = prepare.fire(\n",
    "    climate.drop([\"rh\", \"pdsi\"]),\n",
    "    nftd.drop_sel(band=0).drop_sel(band=1),\n",
    "    mtbs,\n",
    "    add_local_climate_trends=True,\n",
    ")\n",
    "x_z, x_mean, x_std = utils.zscore_2d(x)\n",
    "model = fit.hurdle(x_z, y, log=True)\n",
    "yhat = model.predict(x_z)\n",
    "prediction = collect.fire(yhat, mtbs)"
   ]
  },
  {
   "cell_type": "code",
   "execution_count": null,
   "metadata": {},
   "outputs": [],
   "source": [
    "plot.fire.full_eval(\n",
    "    mtbs,\n",
    "    prediction,\n",
    "    \"monthly\",\n",
    "    \"prediction\",\n",
    "    clim=(-0.008, 0.008),\n",
    "    cmap=\"purplegreen\",\n",
    "    percentage=False,\n",
    ")"
   ]
  },
  {
   "cell_type": "markdown",
   "metadata": {},
   "source": [
    "### Incorporate an element of ignition (e.g. population, lightning) - could help southern california biases\n"
   ]
  },
  {
   "cell_type": "markdown",
   "metadata": {},
   "source": [
    "### Consider wind a bit more carefully- are there any potential wind products we could use to capture high end tail of severity\n"
   ]
  },
  {
   "cell_type": "markdown",
   "metadata": {},
   "source": [
    "Let's reload climate, this time pulling in wind\n"
   ]
  },
  {
   "cell_type": "code",
   "execution_count": null,
   "metadata": {},
   "outputs": [],
   "source": [
    "coarsen = 4\n",
    "tlim = (1984, 2018)\n",
    "variables = [temp_var, \"cwd\", \"pdsi\", \"ppt\", \"ws\"]\n",
    "climate = load.terraclim(\n",
    "    store=store,\n",
    "    tlim=tlim,\n",
    "    coarsen=coarsen,\n",
    "    variables=variables,\n",
    "    mask=mask,\n",
    "    sampling=\"monthly\",\n",
    ")"
   ]
  },
  {
   "cell_type": "code",
   "execution_count": null,
   "metadata": {},
   "outputs": [],
   "source": [
    "# here we'll use a climate that includes windspeed\n",
    "x, y = prepare.fire(climate, nftd, mtbs, add_local_climate_trends=True)\n",
    "x_z, x_mean, x_std = utils.zscore_2d(x)\n",
    "model = fit.hurdle(x_z, y, log=True)\n",
    "yhat = model.predict(x_z)\n",
    "prediction = collect.fire(yhat, mtbs)\n",
    "plot.fire.full_eval(\n",
    "    mtbs,\n",
    "    prediction,\n",
    "    \"monthly\",\n",
    "    \"prediction\",\n",
    "    clim=(-0.008, 0.008),\n",
    "    cmap=\"purplegreen\",\n",
    "    percentage=False,\n",
    ")"
   ]
  },
  {
   "cell_type": "markdown",
   "metadata": {},
   "source": [
    "# let's try adding in relative humidity\n"
   ]
  },
  {
   "cell_type": "markdown",
   "metadata": {},
   "source": [
    "## let's try dropping pdsi\n"
   ]
  },
  {
   "cell_type": "code",
   "execution_count": null,
   "metadata": {},
   "outputs": [],
   "source": [
    "# here we'll use a climate that includes windspeed\n",
    "x, y = prepare.fire(climate, nftd, mtbs, add_local_climate_trends=True)\n",
    "x_z, x_mean, x_std = utils.zscore_2d(x)\n",
    "model = fit.hurdle(x_z, y, log=True)\n",
    "yhat = model.predict(x_z)\n",
    "prediction = collect.fire(yhat, mtbs)\n",
    "plot.fire.full_eval(\n",
    "    mtbs,\n",
    "    prediction,\n",
    "    \"monthly\",\n",
    "    \"prediction\",\n",
    "    clim=(-0.008, 0.008),\n",
    "    cmap=\"purplegreen\",\n",
    "    percentage=False,\n",
    ")"
   ]
  },
  {
   "cell_type": "markdown",
   "metadata": {},
   "source": [
    "### Prediction on future climate data\n"
   ]
  },
  {
   "cell_type": "code",
   "execution_count": null,
   "metadata": {},
   "outputs": [],
   "source": [
    "cmip_model = \"CanESM5\"\n",
    "scenario = \"ssp245\"\n",
    "target = 2030"
   ]
  },
  {
   "cell_type": "code",
   "execution_count": null,
   "metadata": {},
   "outputs": [],
   "source": [
    "future_climate = load.cmip(\n",
    "    store=\"az\",\n",
    "    model=cmip_model,\n",
    "    coarsen=16,\n",
    "    scenario=scenario,\n",
    "    tlim=(2020, 2100),\n",
    "    variables=variables,\n",
    "    mask=mask,\n",
    "    sampling=\"monthly\",\n",
    ")"
   ]
  },
  {
   "cell_type": "code",
   "execution_count": null,
   "metadata": {},
   "outputs": [],
   "source": [
    "x = prepare.fire(\n",
    "    future_climate, nftd, eval_only=True, add_local_climate_trends=True\n",
    ")\n",
    "x_z = utils.zscore_2d(x, mean=x_mean, std=x_std)"
   ]
  },
  {
   "cell_type": "code",
   "execution_count": null,
   "metadata": {},
   "outputs": [],
   "source": [
    "yhat = model.predict(x_z)\n",
    "prediction = collect.fire(yhat, future_climate)"
   ]
  },
  {
   "cell_type": "code",
   "execution_count": null,
   "metadata": {},
   "outputs": [],
   "source": [
    "plot.fire.summary(prediction, \"prediction\", clim=(0.0006, 0.007))"
   ]
  }
 ],
 "metadata": {
  "kernelspec": {
   "display_name": "Python 3",
   "language": "python",
   "name": "python3"
  },
  "language_info": {
   "codemirror_mode": {
    "name": "ipython",
    "version": 3
   },
   "file_extension": ".py",
   "mimetype": "text/x-python",
   "name": "python",
   "nbconvert_exporter": "python",
   "pygments_lexer": "ipython3",
   "version": "3.7.9"
  }
 },
 "nbformat": 4,
 "nbformat_minor": 4
}
