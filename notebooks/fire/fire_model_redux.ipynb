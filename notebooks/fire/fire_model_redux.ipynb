{
 "cells": [
  {
   "cell_type": "markdown",
   "metadata": {},
   "source": [
    "<img width=\"50\" src=\"https://carbonplan-assets.s3.amazonaws.com/monogram/dark-small.png\" style=\"margin-left:0px;margin-top:20px\"/>\n",
    "\n",
    "# MTBS Fire Model\n",
    "\n",
    "_by Jeremy Freeman (CarbonPlan), September 19, 2020_\n",
    "\n",
    "This notebook loads downsampled MTBS fire data and TerraClimate climate data and\n",
    "fits a logistical regression model.\n"
   ]
  },
  {
   "cell_type": "code",
   "execution_count": 66,
   "metadata": {},
   "outputs": [],
   "source": [
    "import numpy as np\n",
    "import pandas as pd\n",
    "import scipy as sp\n",
    "from carbonplan_forests import load, setup, plot, fit, utils, prepare, collect"
   ]
  },
  {
   "cell_type": "code",
   "execution_count": 67,
   "metadata": {},
   "outputs": [],
   "source": [
    "%matplotlib inline\n",
    "import matplotlib.pyplot as plt\n",
    "from showit import image, tile"
   ]
  },
  {
   "cell_type": "code",
   "execution_count": 68,
   "metadata": {},
   "outputs": [],
   "source": [
    "setup.plotting(remote=False)"
   ]
  },
  {
   "cell_type": "code",
   "execution_count": 69,
   "metadata": {},
   "outputs": [
    {
     "name": "stdout",
     "output_type": "stream",
     "text": [
      "The autoreload extension is already loaded. To reload it, use:\n",
      "  %reload_ext autoreload\n"
     ]
    }
   ],
   "source": [
    "%load_ext autoreload\n",
    "%autoreload 2"
   ]
  },
  {
   "cell_type": "markdown",
   "metadata": {},
   "source": [
    "First we set some top-level parameters: the level of spatial coarsening (which\n",
    "can speed up fitting substantially, especially useful when testing), the time\n",
    "range (MTBS spans 1984 to 2018), and the climatic variables we'll use in the\n",
    "model.\n"
   ]
  },
  {
   "cell_type": "code",
   "execution_count": 70,
   "metadata": {},
   "outputs": [],
   "source": [
    "coarsen = 16\n",
    "tlim = (1984, 2018)\n",
    "variables = [\"ppt\", \"tmean\", \"cwd\", \"pdsi\", \"tmax\", \"tmin\"]\n",
    "store = \"local\""
   ]
  },
  {
   "cell_type": "markdown",
   "metadata": {},
   "source": [
    "First we load data from `nlcd` which we will use to mask out non-land areas and\n",
    "data from `nftd` to use a regressors for forest type groups.\n"
   ]
  },
  {
   "cell_type": "code",
   "execution_count": 71,
   "metadata": {},
   "outputs": [],
   "source": [
    "mask = load.mask(store=store, year=2001)"
   ]
  },
  {
   "cell_type": "code",
   "execution_count": 72,
   "metadata": {},
   "outputs": [],
   "source": [
    "nlcd = load.nlcd(store=store, year=2001, coarsen=coarsen, mask=mask)\n",
    "nftd = load.nftd(store=store, area_threshold=1500, coarsen=coarsen, mask=mask)"
   ]
  },
  {
   "cell_type": "markdown",
   "metadata": {},
   "source": [
    "Now we load the `terraclim` data from the same time range.\n"
   ]
  },
  {
   "cell_type": "code",
   "execution_count": 73,
   "metadata": {
    "scrolled": true
   },
   "outputs": [],
   "source": [
    "climate = load.terraclim(\n",
    "    store=store,\n",
    "    tlim=tlim,\n",
    "    coarsen=coarsen,\n",
    "    variables=variables,\n",
    "    mask=mask,\n",
    "    sampling=\"monthly\",\n",
    ")"
   ]
  },
  {
   "cell_type": "markdown",
   "metadata": {},
   "source": [
    "And finally load the `mtbs` data\n"
   ]
  },
  {
   "cell_type": "code",
   "execution_count": 74,
   "metadata": {},
   "outputs": [],
   "source": [
    "mtbs = load.mtbs(store=store, coarsen=coarsen, tlim=tlim, mask=mask)"
   ]
  },
  {
   "cell_type": "markdown",
   "metadata": {},
   "source": [
    "### Inspecting the data\n"
   ]
  },
  {
   "cell_type": "markdown",
   "metadata": {},
   "source": [
    "We can plot the `mtbs` data for a specific year to get a sense of the raw data.\n"
   ]
  },
  {
   "cell_type": "code",
   "execution_count": 79,
   "metadata": {},
   "outputs": [
    {
     "data": {
      "text/html": [
       "\n",
       "<div id=\"altair-viz-82e2d3029f3d4764aaafd50586a46690\"></div>\n",
       "<script type=\"text/javascript\">\n",
       "  (function(spec, embedOpt){\n",
       "    let outputDiv = document.currentScript.previousElementSibling;\n",
       "    if (outputDiv.id !== \"altair-viz-82e2d3029f3d4764aaafd50586a46690\") {\n",
       "      outputDiv = document.getElementById(\"altair-viz-82e2d3029f3d4764aaafd50586a46690\");\n",
       "    }\n",
       "    const paths = {\n",
       "      \"vega\": \"https://cdn.jsdelivr.net/npm//vega@5?noext\",\n",
       "      \"vega-lib\": \"https://cdn.jsdelivr.net/npm//vega-lib?noext\",\n",
       "      \"vega-lite\": \"https://cdn.jsdelivr.net/npm//vega-lite@4.8.1?noext\",\n",
       "      \"vega-embed\": \"https://cdn.jsdelivr.net/npm//vega-embed@6?noext\",\n",
       "    };\n",
       "\n",
       "    function loadScript(lib) {\n",
       "      return new Promise(function(resolve, reject) {\n",
       "        var s = document.createElement('script');\n",
       "        s.src = paths[lib];\n",
       "        s.async = true;\n",
       "        s.onload = () => resolve(paths[lib]);\n",
       "        s.onerror = () => reject(`Error loading script: ${paths[lib]}`);\n",
       "        document.getElementsByTagName(\"head\")[0].appendChild(s);\n",
       "      });\n",
       "    }\n",
       "\n",
       "    function showError(err) {\n",
       "      outputDiv.innerHTML = `<div class=\"error\" style=\"color:red;\">${err}</div>`;\n",
       "      throw err;\n",
       "    }\n",
       "\n",
       "    function displayChart(vegaEmbed) {\n",
       "      vegaEmbed(outputDiv, spec, embedOpt)\n",
       "        .catch(err => showError(`Javascript Error: ${err.message}<br>This usually means there's a typo in your chart specification. See the javascript console for the full traceback.`));\n",
       "    }\n",
       "\n",
       "    if(typeof define === \"function\" && define.amd) {\n",
       "      requirejs.config({paths});\n",
       "      require([\"vega-embed\"], displayChart, err => showError(`Error loading script: ${err.message}`));\n",
       "    } else if (typeof vegaEmbed === \"function\") {\n",
       "      displayChart(vegaEmbed);\n",
       "    } else {\n",
       "      loadScript(\"vega\")\n",
       "        .then(() => loadScript(\"vega-lite\"))\n",
       "        .then(() => loadScript(\"vega-embed\"))\n",
       "        .catch(showError)\n",
       "        .then(() => displayChart(vegaEmbed));\n",
       "    }\n",
       "  })({\"config\": {\"view\": {\"continuousWidth\": 400, \"continuousHeight\": 300, \"strokeOpacity\": 0}}, \"vconcat\": [{\"hconcat\": [{\"layer\": [{\"data\": {\"url\": \"https://cdn.jsdelivr.net/npm/vega-datasets@v1.29.0/data/us-10m.json\", \"format\": {\"feature\": \"states\", \"type\": \"topojson\"}}, \"mark\": {\"type\": \"geoshape\", \"fill\": \"white\", \"stroke\": \"black\", \"strokeWidth\": 0.3}, \"height\": 170, \"projection\": {\"type\": \"albersUsa\"}, \"title\": \"mar\", \"width\": 270}, {\"data\": {\"url\": \"http://localhost:24754/b6fa0aed1ab1829251d965f168082b92.json\"}, \"mark\": {\"type\": \"square\", \"opacity\": 0.8, \"size\": 11.475}, \"encoding\": {\"color\": {\"type\": \"quantitative\", \"field\": \"color\", \"legend\": {\"title\": \"monthly\"}, \"scale\": {\"clamp\": true, \"domain\": [0, 0.2], \"scheme\": \"reds\"}}, \"latitude\": {\"field\": \"lat\", \"type\": \"quantitative\"}, \"longitude\": {\"field\": \"lon\", \"type\": \"quantitative\"}}, \"height\": 170, \"projection\": {\"type\": \"albersUsa\"}, \"width\": 270}]}, {\"layer\": [{\"data\": {\"url\": \"https://cdn.jsdelivr.net/npm/vega-datasets@v1.29.0/data/us-10m.json\", \"format\": {\"feature\": \"states\", \"type\": \"topojson\"}}, \"mark\": {\"type\": \"geoshape\", \"fill\": \"white\", \"stroke\": \"black\", \"strokeWidth\": 0.3}, \"height\": 170, \"projection\": {\"type\": \"albersUsa\"}, \"title\": \"apr\", \"width\": 270}, {\"data\": {\"url\": \"http://localhost:24754/6af70f88a74c682906b6bf2d893cadc2.json\"}, \"mark\": {\"type\": \"square\", \"opacity\": 0.8, \"size\": 11.475}, \"encoding\": {\"color\": {\"type\": \"quantitative\", \"field\": \"color\", \"legend\": {\"title\": \"monthly\"}, \"scale\": {\"clamp\": true, \"domain\": [0, 0.2], \"scheme\": \"reds\"}}, \"latitude\": {\"field\": \"lat\", \"type\": \"quantitative\"}, \"longitude\": {\"field\": \"lon\", \"type\": \"quantitative\"}}, \"height\": 170, \"projection\": {\"type\": \"albersUsa\"}, \"width\": 270}]}, {\"layer\": [{\"data\": {\"url\": \"https://cdn.jsdelivr.net/npm/vega-datasets@v1.29.0/data/us-10m.json\", \"format\": {\"feature\": \"states\", \"type\": \"topojson\"}}, \"mark\": {\"type\": \"geoshape\", \"fill\": \"white\", \"stroke\": \"black\", \"strokeWidth\": 0.3}, \"height\": 170, \"projection\": {\"type\": \"albersUsa\"}, \"title\": \"may\", \"width\": 270}, {\"data\": {\"url\": \"http://localhost:24754/a90f0a94e76f6786764f2240c26cfde8.json\"}, \"mark\": {\"type\": \"square\", \"opacity\": 0.8, \"size\": 11.475}, \"encoding\": {\"color\": {\"type\": \"quantitative\", \"field\": \"color\", \"legend\": {\"title\": \"monthly\"}, \"scale\": {\"clamp\": true, \"domain\": [0, 0.2], \"scheme\": \"reds\"}}, \"latitude\": {\"field\": \"lat\", \"type\": \"quantitative\"}, \"longitude\": {\"field\": \"lon\", \"type\": \"quantitative\"}}, \"height\": 170, \"projection\": {\"type\": \"albersUsa\"}, \"width\": 270}]}]}, {\"hconcat\": [{\"layer\": [{\"data\": {\"url\": \"https://cdn.jsdelivr.net/npm/vega-datasets@v1.29.0/data/us-10m.json\", \"format\": {\"feature\": \"states\", \"type\": \"topojson\"}}, \"mark\": {\"type\": \"geoshape\", \"fill\": \"white\", \"stroke\": \"black\", \"strokeWidth\": 0.3}, \"height\": 170, \"projection\": {\"type\": \"albersUsa\"}, \"title\": \"jun\", \"width\": 270}, {\"data\": {\"url\": \"http://localhost:24754/ebeea60fe03d0f005467e0d39963e46d.json\"}, \"mark\": {\"type\": \"square\", \"opacity\": 0.8, \"size\": 11.475}, \"encoding\": {\"color\": {\"type\": \"quantitative\", \"field\": \"color\", \"legend\": {\"title\": \"monthly\"}, \"scale\": {\"clamp\": true, \"domain\": [0, 0.2], \"scheme\": \"reds\"}}, \"latitude\": {\"field\": \"lat\", \"type\": \"quantitative\"}, \"longitude\": {\"field\": \"lon\", \"type\": \"quantitative\"}}, \"height\": 170, \"projection\": {\"type\": \"albersUsa\"}, \"width\": 270}]}, {\"layer\": [{\"data\": {\"url\": \"https://cdn.jsdelivr.net/npm/vega-datasets@v1.29.0/data/us-10m.json\", \"format\": {\"feature\": \"states\", \"type\": \"topojson\"}}, \"mark\": {\"type\": \"geoshape\", \"fill\": \"white\", \"stroke\": \"black\", \"strokeWidth\": 0.3}, \"height\": 170, \"projection\": {\"type\": \"albersUsa\"}, \"title\": \"jul\", \"width\": 270}, {\"data\": {\"url\": \"http://localhost:24754/0d5944b5824e48a2e07b30e6a1bc4a71.json\"}, \"mark\": {\"type\": \"square\", \"opacity\": 0.8, \"size\": 11.475}, \"encoding\": {\"color\": {\"type\": \"quantitative\", \"field\": \"color\", \"legend\": {\"title\": \"monthly\"}, \"scale\": {\"clamp\": true, \"domain\": [0, 0.2], \"scheme\": \"reds\"}}, \"latitude\": {\"field\": \"lat\", \"type\": \"quantitative\"}, \"longitude\": {\"field\": \"lon\", \"type\": \"quantitative\"}}, \"height\": 170, \"projection\": {\"type\": \"albersUsa\"}, \"width\": 270}]}, {\"layer\": [{\"data\": {\"url\": \"https://cdn.jsdelivr.net/npm/vega-datasets@v1.29.0/data/us-10m.json\", \"format\": {\"feature\": \"states\", \"type\": \"topojson\"}}, \"mark\": {\"type\": \"geoshape\", \"fill\": \"white\", \"stroke\": \"black\", \"strokeWidth\": 0.3}, \"height\": 170, \"projection\": {\"type\": \"albersUsa\"}, \"title\": \"aug\", \"width\": 270}, {\"data\": {\"url\": \"http://localhost:24754/e8e88d077a3f7e2ab5e942302f54bf94.json\"}, \"mark\": {\"type\": \"square\", \"opacity\": 0.8, \"size\": 11.475}, \"encoding\": {\"color\": {\"type\": \"quantitative\", \"field\": \"color\", \"legend\": {\"title\": \"monthly\"}, \"scale\": {\"clamp\": true, \"domain\": [0, 0.2], \"scheme\": \"reds\"}}, \"latitude\": {\"field\": \"lat\", \"type\": \"quantitative\"}, \"longitude\": {\"field\": \"lon\", \"type\": \"quantitative\"}}, \"height\": 170, \"projection\": {\"type\": \"albersUsa\"}, \"width\": 270}]}]}, {\"hconcat\": [{\"layer\": [{\"data\": {\"url\": \"https://cdn.jsdelivr.net/npm/vega-datasets@v1.29.0/data/us-10m.json\", \"format\": {\"feature\": \"states\", \"type\": \"topojson\"}}, \"mark\": {\"type\": \"geoshape\", \"fill\": \"white\", \"stroke\": \"black\", \"strokeWidth\": 0.3}, \"height\": 170, \"projection\": {\"type\": \"albersUsa\"}, \"title\": \"sep\", \"width\": 270}, {\"data\": {\"url\": \"http://localhost:24754/ed9e6b1195c3fd2a172b27d2cc0b08cb.json\"}, \"mark\": {\"type\": \"square\", \"opacity\": 0.8, \"size\": 11.475}, \"encoding\": {\"color\": {\"type\": \"quantitative\", \"field\": \"color\", \"legend\": {\"title\": \"monthly\"}, \"scale\": {\"clamp\": true, \"domain\": [0, 0.2], \"scheme\": \"reds\"}}, \"latitude\": {\"field\": \"lat\", \"type\": \"quantitative\"}, \"longitude\": {\"field\": \"lon\", \"type\": \"quantitative\"}}, \"height\": 170, \"projection\": {\"type\": \"albersUsa\"}, \"width\": 270}]}, {\"layer\": [{\"data\": {\"url\": \"https://cdn.jsdelivr.net/npm/vega-datasets@v1.29.0/data/us-10m.json\", \"format\": {\"feature\": \"states\", \"type\": \"topojson\"}}, \"mark\": {\"type\": \"geoshape\", \"fill\": \"white\", \"stroke\": \"black\", \"strokeWidth\": 0.3}, \"height\": 170, \"projection\": {\"type\": \"albersUsa\"}, \"title\": \"oct\", \"width\": 270}, {\"data\": {\"url\": \"http://localhost:24754/57865adcaf0bf0d178fbac5bdbb3475f.json\"}, \"mark\": {\"type\": \"square\", \"opacity\": 0.8, \"size\": 11.475}, \"encoding\": {\"color\": {\"type\": \"quantitative\", \"field\": \"color\", \"legend\": {\"title\": \"monthly\"}, \"scale\": {\"clamp\": true, \"domain\": [0, 0.2], \"scheme\": \"reds\"}}, \"latitude\": {\"field\": \"lat\", \"type\": \"quantitative\"}, \"longitude\": {\"field\": \"lon\", \"type\": \"quantitative\"}}, \"height\": 170, \"projection\": {\"type\": \"albersUsa\"}, \"width\": 270}]}, {\"layer\": [{\"data\": {\"url\": \"https://cdn.jsdelivr.net/npm/vega-datasets@v1.29.0/data/us-10m.json\", \"format\": {\"feature\": \"states\", \"type\": \"topojson\"}}, \"mark\": {\"type\": \"geoshape\", \"fill\": \"white\", \"stroke\": \"black\", \"strokeWidth\": 0.3}, \"height\": 170, \"projection\": {\"type\": \"albersUsa\"}, \"title\": \"nov\", \"width\": 270}, {\"data\": {\"url\": \"http://localhost:24754/9c283663d6e1a35270ad24f89db6fc08.json\"}, \"mark\": {\"type\": \"square\", \"opacity\": 0.8, \"size\": 11.475}, \"encoding\": {\"color\": {\"type\": \"quantitative\", \"field\": \"color\", \"legend\": {\"title\": \"monthly\"}, \"scale\": {\"clamp\": true, \"domain\": [0, 0.2], \"scheme\": \"reds\"}}, \"latitude\": {\"field\": \"lat\", \"type\": \"quantitative\"}, \"longitude\": {\"field\": \"lon\", \"type\": \"quantitative\"}}, \"height\": 170, \"projection\": {\"type\": \"albersUsa\"}, \"width\": 270}]}]}], \"$schema\": \"https://vega.github.io/schema/vega-lite/v4.8.1.json\"}, {\"actions\": false, \"mode\": \"vega-lite\"});\n",
       "</script>"
      ],
      "text/plain": [
       "alt.VConcatChart(...)"
      ]
     },
     "execution_count": 79,
     "metadata": {},
     "output_type": "execute_result"
    }
   ],
   "source": [
    "plot.fire.monthly(mtbs.sel(time=\"2018\"), clim=(0, 0.2))"
   ]
  },
  {
   "cell_type": "markdown",
   "metadata": {},
   "source": [
    "Here is the same thing but averaged over all years\n"
   ]
  },
  {
   "cell_type": "code",
   "execution_count": 93,
   "metadata": {},
   "outputs": [
    {
     "data": {
      "text/html": [
       "\n",
       "<div id=\"altair-viz-7642472ae1f34e9c83a65ce22c5def8c\"></div>\n",
       "<script type=\"text/javascript\">\n",
       "  (function(spec, embedOpt){\n",
       "    let outputDiv = document.currentScript.previousElementSibling;\n",
       "    if (outputDiv.id !== \"altair-viz-7642472ae1f34e9c83a65ce22c5def8c\") {\n",
       "      outputDiv = document.getElementById(\"altair-viz-7642472ae1f34e9c83a65ce22c5def8c\");\n",
       "    }\n",
       "    const paths = {\n",
       "      \"vega\": \"https://cdn.jsdelivr.net/npm//vega@5?noext\",\n",
       "      \"vega-lib\": \"https://cdn.jsdelivr.net/npm//vega-lib?noext\",\n",
       "      \"vega-lite\": \"https://cdn.jsdelivr.net/npm//vega-lite@4.8.1?noext\",\n",
       "      \"vega-embed\": \"https://cdn.jsdelivr.net/npm//vega-embed@6?noext\",\n",
       "    };\n",
       "\n",
       "    function loadScript(lib) {\n",
       "      return new Promise(function(resolve, reject) {\n",
       "        var s = document.createElement('script');\n",
       "        s.src = paths[lib];\n",
       "        s.async = true;\n",
       "        s.onload = () => resolve(paths[lib]);\n",
       "        s.onerror = () => reject(`Error loading script: ${paths[lib]}`);\n",
       "        document.getElementsByTagName(\"head\")[0].appendChild(s);\n",
       "      });\n",
       "    }\n",
       "\n",
       "    function showError(err) {\n",
       "      outputDiv.innerHTML = `<div class=\"error\" style=\"color:red;\">${err}</div>`;\n",
       "      throw err;\n",
       "    }\n",
       "\n",
       "    function displayChart(vegaEmbed) {\n",
       "      vegaEmbed(outputDiv, spec, embedOpt)\n",
       "        .catch(err => showError(`Javascript Error: ${err.message}<br>This usually means there's a typo in your chart specification. See the javascript console for the full traceback.`));\n",
       "    }\n",
       "\n",
       "    if(typeof define === \"function\" && define.amd) {\n",
       "      requirejs.config({paths});\n",
       "      require([\"vega-embed\"], displayChart, err => showError(`Error loading script: ${err.message}`));\n",
       "    } else if (typeof vegaEmbed === \"function\") {\n",
       "      displayChart(vegaEmbed);\n",
       "    } else {\n",
       "      loadScript(\"vega\")\n",
       "        .then(() => loadScript(\"vega-lite\"))\n",
       "        .then(() => loadScript(\"vega-embed\"))\n",
       "        .catch(showError)\n",
       "        .then(() => displayChart(vegaEmbed));\n",
       "    }\n",
       "  })({\"config\": {\"view\": {\"continuousWidth\": 400, \"continuousHeight\": 300, \"strokeOpacity\": 0}}, \"vconcat\": [{\"hconcat\": [{\"layer\": [{\"data\": {\"url\": \"https://cdn.jsdelivr.net/npm/vega-datasets@v1.29.0/data/us-10m.json\", \"format\": {\"feature\": \"states\", \"type\": \"topojson\"}}, \"mark\": {\"type\": \"geoshape\", \"fill\": \"white\", \"stroke\": \"black\", \"strokeWidth\": 0.3}, \"height\": 170, \"projection\": {\"type\": \"albersUsa\"}, \"title\": \"mar\", \"width\": 270}, {\"data\": {\"url\": \"http://localhost:24754/d5ae05c96534945bebb0ab7f7f93e53a.json\"}, \"mark\": {\"type\": \"square\", \"opacity\": 0.8, \"size\": 11.475}, \"encoding\": {\"color\": {\"type\": \"quantitative\", \"field\": \"color\", \"legend\": {\"title\": \"monthly\"}, \"scale\": {\"clamp\": true, \"domain\": [5e-05, 0.0015], \"scheme\": \"reds\"}}, \"latitude\": {\"field\": \"lat\", \"type\": \"quantitative\"}, \"longitude\": {\"field\": \"lon\", \"type\": \"quantitative\"}}, \"height\": 170, \"projection\": {\"type\": \"albersUsa\"}, \"width\": 270}]}, {\"layer\": [{\"data\": {\"url\": \"https://cdn.jsdelivr.net/npm/vega-datasets@v1.29.0/data/us-10m.json\", \"format\": {\"feature\": \"states\", \"type\": \"topojson\"}}, \"mark\": {\"type\": \"geoshape\", \"fill\": \"white\", \"stroke\": \"black\", \"strokeWidth\": 0.3}, \"height\": 170, \"projection\": {\"type\": \"albersUsa\"}, \"title\": \"apr\", \"width\": 270}, {\"data\": {\"url\": \"http://localhost:24754/672c5448e6af614f37c2b94188ff7c43.json\"}, \"mark\": {\"type\": \"square\", \"opacity\": 0.8, \"size\": 11.475}, \"encoding\": {\"color\": {\"type\": \"quantitative\", \"field\": \"color\", \"legend\": {\"title\": \"monthly\"}, \"scale\": {\"clamp\": true, \"domain\": [5e-05, 0.0015], \"scheme\": \"reds\"}}, \"latitude\": {\"field\": \"lat\", \"type\": \"quantitative\"}, \"longitude\": {\"field\": \"lon\", \"type\": \"quantitative\"}}, \"height\": 170, \"projection\": {\"type\": \"albersUsa\"}, \"width\": 270}]}, {\"layer\": [{\"data\": {\"url\": \"https://cdn.jsdelivr.net/npm/vega-datasets@v1.29.0/data/us-10m.json\", \"format\": {\"feature\": \"states\", \"type\": \"topojson\"}}, \"mark\": {\"type\": \"geoshape\", \"fill\": \"white\", \"stroke\": \"black\", \"strokeWidth\": 0.3}, \"height\": 170, \"projection\": {\"type\": \"albersUsa\"}, \"title\": \"may\", \"width\": 270}, {\"data\": {\"url\": \"http://localhost:24754/acf7d8a59c67246f7922c646e8fea271.json\"}, \"mark\": {\"type\": \"square\", \"opacity\": 0.8, \"size\": 11.475}, \"encoding\": {\"color\": {\"type\": \"quantitative\", \"field\": \"color\", \"legend\": {\"title\": \"monthly\"}, \"scale\": {\"clamp\": true, \"domain\": [5e-05, 0.0015], \"scheme\": \"reds\"}}, \"latitude\": {\"field\": \"lat\", \"type\": \"quantitative\"}, \"longitude\": {\"field\": \"lon\", \"type\": \"quantitative\"}}, \"height\": 170, \"projection\": {\"type\": \"albersUsa\"}, \"width\": 270}]}]}, {\"hconcat\": [{\"layer\": [{\"data\": {\"url\": \"https://cdn.jsdelivr.net/npm/vega-datasets@v1.29.0/data/us-10m.json\", \"format\": {\"feature\": \"states\", \"type\": \"topojson\"}}, \"mark\": {\"type\": \"geoshape\", \"fill\": \"white\", \"stroke\": \"black\", \"strokeWidth\": 0.3}, \"height\": 170, \"projection\": {\"type\": \"albersUsa\"}, \"title\": \"jun\", \"width\": 270}, {\"data\": {\"url\": \"http://localhost:24754/987de4a2413a58bef08624fd17353b14.json\"}, \"mark\": {\"type\": \"square\", \"opacity\": 0.8, \"size\": 11.475}, \"encoding\": {\"color\": {\"type\": \"quantitative\", \"field\": \"color\", \"legend\": {\"title\": \"monthly\"}, \"scale\": {\"clamp\": true, \"domain\": [5e-05, 0.0015], \"scheme\": \"reds\"}}, \"latitude\": {\"field\": \"lat\", \"type\": \"quantitative\"}, \"longitude\": {\"field\": \"lon\", \"type\": \"quantitative\"}}, \"height\": 170, \"projection\": {\"type\": \"albersUsa\"}, \"width\": 270}]}, {\"layer\": [{\"data\": {\"url\": \"https://cdn.jsdelivr.net/npm/vega-datasets@v1.29.0/data/us-10m.json\", \"format\": {\"feature\": \"states\", \"type\": \"topojson\"}}, \"mark\": {\"type\": \"geoshape\", \"fill\": \"white\", \"stroke\": \"black\", \"strokeWidth\": 0.3}, \"height\": 170, \"projection\": {\"type\": \"albersUsa\"}, \"title\": \"jul\", \"width\": 270}, {\"data\": {\"url\": \"http://localhost:24754/59539a7fade50f22c69e132f9e061a95.json\"}, \"mark\": {\"type\": \"square\", \"opacity\": 0.8, \"size\": 11.475}, \"encoding\": {\"color\": {\"type\": \"quantitative\", \"field\": \"color\", \"legend\": {\"title\": \"monthly\"}, \"scale\": {\"clamp\": true, \"domain\": [5e-05, 0.0015], \"scheme\": \"reds\"}}, \"latitude\": {\"field\": \"lat\", \"type\": \"quantitative\"}, \"longitude\": {\"field\": \"lon\", \"type\": \"quantitative\"}}, \"height\": 170, \"projection\": {\"type\": \"albersUsa\"}, \"width\": 270}]}, {\"layer\": [{\"data\": {\"url\": \"https://cdn.jsdelivr.net/npm/vega-datasets@v1.29.0/data/us-10m.json\", \"format\": {\"feature\": \"states\", \"type\": \"topojson\"}}, \"mark\": {\"type\": \"geoshape\", \"fill\": \"white\", \"stroke\": \"black\", \"strokeWidth\": 0.3}, \"height\": 170, \"projection\": {\"type\": \"albersUsa\"}, \"title\": \"aug\", \"width\": 270}, {\"data\": {\"url\": \"http://localhost:24754/e0c8f7e5ab53ec0a1781042cc7ccae0a.json\"}, \"mark\": {\"type\": \"square\", \"opacity\": 0.8, \"size\": 11.475}, \"encoding\": {\"color\": {\"type\": \"quantitative\", \"field\": \"color\", \"legend\": {\"title\": \"monthly\"}, \"scale\": {\"clamp\": true, \"domain\": [5e-05, 0.0015], \"scheme\": \"reds\"}}, \"latitude\": {\"field\": \"lat\", \"type\": \"quantitative\"}, \"longitude\": {\"field\": \"lon\", \"type\": \"quantitative\"}}, \"height\": 170, \"projection\": {\"type\": \"albersUsa\"}, \"width\": 270}]}]}, {\"hconcat\": [{\"layer\": [{\"data\": {\"url\": \"https://cdn.jsdelivr.net/npm/vega-datasets@v1.29.0/data/us-10m.json\", \"format\": {\"feature\": \"states\", \"type\": \"topojson\"}}, \"mark\": {\"type\": \"geoshape\", \"fill\": \"white\", \"stroke\": \"black\", \"strokeWidth\": 0.3}, \"height\": 170, \"projection\": {\"type\": \"albersUsa\"}, \"title\": \"sep\", \"width\": 270}, {\"data\": {\"url\": \"http://localhost:24754/63213b1840917a309587df8d3aa16a89.json\"}, \"mark\": {\"type\": \"square\", \"opacity\": 0.8, \"size\": 11.475}, \"encoding\": {\"color\": {\"type\": \"quantitative\", \"field\": \"color\", \"legend\": {\"title\": \"monthly\"}, \"scale\": {\"clamp\": true, \"domain\": [5e-05, 0.0015], \"scheme\": \"reds\"}}, \"latitude\": {\"field\": \"lat\", \"type\": \"quantitative\"}, \"longitude\": {\"field\": \"lon\", \"type\": \"quantitative\"}}, \"height\": 170, \"projection\": {\"type\": \"albersUsa\"}, \"width\": 270}]}, {\"layer\": [{\"data\": {\"url\": \"https://cdn.jsdelivr.net/npm/vega-datasets@v1.29.0/data/us-10m.json\", \"format\": {\"feature\": \"states\", \"type\": \"topojson\"}}, \"mark\": {\"type\": \"geoshape\", \"fill\": \"white\", \"stroke\": \"black\", \"strokeWidth\": 0.3}, \"height\": 170, \"projection\": {\"type\": \"albersUsa\"}, \"title\": \"oct\", \"width\": 270}, {\"data\": {\"url\": \"http://localhost:24754/eda40b8f5f1b60b7886512907e55e813.json\"}, \"mark\": {\"type\": \"square\", \"opacity\": 0.8, \"size\": 11.475}, \"encoding\": {\"color\": {\"type\": \"quantitative\", \"field\": \"color\", \"legend\": {\"title\": \"monthly\"}, \"scale\": {\"clamp\": true, \"domain\": [5e-05, 0.0015], \"scheme\": \"reds\"}}, \"latitude\": {\"field\": \"lat\", \"type\": \"quantitative\"}, \"longitude\": {\"field\": \"lon\", \"type\": \"quantitative\"}}, \"height\": 170, \"projection\": {\"type\": \"albersUsa\"}, \"width\": 270}]}, {\"layer\": [{\"data\": {\"url\": \"https://cdn.jsdelivr.net/npm/vega-datasets@v1.29.0/data/us-10m.json\", \"format\": {\"feature\": \"states\", \"type\": \"topojson\"}}, \"mark\": {\"type\": \"geoshape\", \"fill\": \"white\", \"stroke\": \"black\", \"strokeWidth\": 0.3}, \"height\": 170, \"projection\": {\"type\": \"albersUsa\"}, \"title\": \"nov\", \"width\": 270}, {\"data\": {\"url\": \"http://localhost:24754/d29666526c98dc2c5571475be00e812c.json\"}, \"mark\": {\"type\": \"square\", \"opacity\": 0.8, \"size\": 11.475}, \"encoding\": {\"color\": {\"type\": \"quantitative\", \"field\": \"color\", \"legend\": {\"title\": \"monthly\"}, \"scale\": {\"clamp\": true, \"domain\": [5e-05, 0.0015], \"scheme\": \"reds\"}}, \"latitude\": {\"field\": \"lat\", \"type\": \"quantitative\"}, \"longitude\": {\"field\": \"lon\", \"type\": \"quantitative\"}}, \"height\": 170, \"projection\": {\"type\": \"albersUsa\"}, \"width\": 270}]}]}], \"$schema\": \"https://vega.github.io/schema/vega-lite/v4.8.1.json\"}, {\"actions\": false, \"mode\": \"vega-lite\"});\n",
       "</script>"
      ],
      "text/plain": [
       "alt.VConcatChart(...)"
      ]
     },
     "execution_count": 93,
     "metadata": {},
     "output_type": "execute_result"
    }
   ],
   "source": [
    "plot.fire.monthly(mtbs, clim=(0.00005, 0.0015))"
   ]
  },
  {
   "cell_type": "markdown",
   "metadata": {},
   "source": [
    "## We can plot spatially averaged data over time to see both seasonable trends, and\n",
    "the fact that fire frequency and magnitude has increased over time.\n"
   ]
  },
  {
   "cell_type": "code",
   "execution_count": 81,
   "metadata": {},
   "outputs": [
    {
     "data": {
      "text/html": [
       "\n",
       "<div id=\"altair-viz-77dcaeeb0624427ab3a6294ab2b0e87d\"></div>\n",
       "<script type=\"text/javascript\">\n",
       "  (function(spec, embedOpt){\n",
       "    let outputDiv = document.currentScript.previousElementSibling;\n",
       "    if (outputDiv.id !== \"altair-viz-77dcaeeb0624427ab3a6294ab2b0e87d\") {\n",
       "      outputDiv = document.getElementById(\"altair-viz-77dcaeeb0624427ab3a6294ab2b0e87d\");\n",
       "    }\n",
       "    const paths = {\n",
       "      \"vega\": \"https://cdn.jsdelivr.net/npm//vega@5?noext\",\n",
       "      \"vega-lib\": \"https://cdn.jsdelivr.net/npm//vega-lib?noext\",\n",
       "      \"vega-lite\": \"https://cdn.jsdelivr.net/npm//vega-lite@4.8.1?noext\",\n",
       "      \"vega-embed\": \"https://cdn.jsdelivr.net/npm//vega-embed@6?noext\",\n",
       "    };\n",
       "\n",
       "    function loadScript(lib) {\n",
       "      return new Promise(function(resolve, reject) {\n",
       "        var s = document.createElement('script');\n",
       "        s.src = paths[lib];\n",
       "        s.async = true;\n",
       "        s.onload = () => resolve(paths[lib]);\n",
       "        s.onerror = () => reject(`Error loading script: ${paths[lib]}`);\n",
       "        document.getElementsByTagName(\"head\")[0].appendChild(s);\n",
       "      });\n",
       "    }\n",
       "\n",
       "    function showError(err) {\n",
       "      outputDiv.innerHTML = `<div class=\"error\" style=\"color:red;\">${err}</div>`;\n",
       "      throw err;\n",
       "    }\n",
       "\n",
       "    function displayChart(vegaEmbed) {\n",
       "      vegaEmbed(outputDiv, spec, embedOpt)\n",
       "        .catch(err => showError(`Javascript Error: ${err.message}<br>This usually means there's a typo in your chart specification. See the javascript console for the full traceback.`));\n",
       "    }\n",
       "\n",
       "    if(typeof define === \"function\" && define.amd) {\n",
       "      requirejs.config({paths});\n",
       "      require([\"vega-embed\"], displayChart, err => showError(`Error loading script: ${err.message}`));\n",
       "    } else if (typeof vegaEmbed === \"function\") {\n",
       "      displayChart(vegaEmbed);\n",
       "    } else {\n",
       "      loadScript(\"vega\")\n",
       "        .then(() => loadScript(\"vega-lite\"))\n",
       "        .then(() => loadScript(\"vega-embed\"))\n",
       "        .catch(showError)\n",
       "        .then(() => displayChart(vegaEmbed));\n",
       "    }\n",
       "  })({\"config\": {\"view\": {\"continuousWidth\": 400, \"continuousHeight\": 300}}, \"data\": {\"url\": \"http://localhost:24754/8b9cc4d569701405ac137b29a0f5b3a6.json\"}, \"mark\": {\"type\": \"line\", \"color\": \"rgb(175,91,92)\", \"opacity\": 1, \"strokeWidth\": 2}, \"encoding\": {\"x\": {\"type\": \"temporal\", \"axis\": {\"title\": \"time\"}, \"field\": \"x\"}, \"y\": {\"type\": \"quantitative\", \"axis\": {\"title\": \"monthly\"}, \"field\": \"y\"}}, \"height\": 200, \"width\": 900, \"$schema\": \"https://vega.github.io/schema/vega-lite/v4.8.1.json\"}, {\"actions\": false, \"mode\": \"vega-lite\"});\n",
       "</script>"
      ],
      "text/plain": [
       "alt.Chart(...)"
      ]
     },
     "execution_count": 81,
     "metadata": {},
     "output_type": "execute_result"
    }
   ],
   "source": [
    "x = mtbs[\"time\"]\n",
    "y = mtbs[\"monthly\"].mean([\"x\", \"y\"])\n",
    "\n",
    "plot.line(\n",
    "    x=x, y=y, width=900, height=200, color=\"rgb(175,91,92)\", strokeWidth=2\n",
    ")"
   ]
  },
  {
   "cell_type": "markdown",
   "metadata": {},
   "source": [
    "We can summarize the data by plotting annual, seasonal, and spatial trends by\n",
    "averaging across different groupings and dimensions.\n"
   ]
  },
  {
   "cell_type": "code",
   "execution_count": 82,
   "metadata": {},
   "outputs": [
    {
     "data": {
      "text/html": [
       "\n",
       "<div id=\"altair-viz-b6cf0fb0269c4c15803feb1cbd978e39\"></div>\n",
       "<script type=\"text/javascript\">\n",
       "  (function(spec, embedOpt){\n",
       "    let outputDiv = document.currentScript.previousElementSibling;\n",
       "    if (outputDiv.id !== \"altair-viz-b6cf0fb0269c4c15803feb1cbd978e39\") {\n",
       "      outputDiv = document.getElementById(\"altair-viz-b6cf0fb0269c4c15803feb1cbd978e39\");\n",
       "    }\n",
       "    const paths = {\n",
       "      \"vega\": \"https://cdn.jsdelivr.net/npm//vega@5?noext\",\n",
       "      \"vega-lib\": \"https://cdn.jsdelivr.net/npm//vega-lib?noext\",\n",
       "      \"vega-lite\": \"https://cdn.jsdelivr.net/npm//vega-lite@4.8.1?noext\",\n",
       "      \"vega-embed\": \"https://cdn.jsdelivr.net/npm//vega-embed@6?noext\",\n",
       "    };\n",
       "\n",
       "    function loadScript(lib) {\n",
       "      return new Promise(function(resolve, reject) {\n",
       "        var s = document.createElement('script');\n",
       "        s.src = paths[lib];\n",
       "        s.async = true;\n",
       "        s.onload = () => resolve(paths[lib]);\n",
       "        s.onerror = () => reject(`Error loading script: ${paths[lib]}`);\n",
       "        document.getElementsByTagName(\"head\")[0].appendChild(s);\n",
       "      });\n",
       "    }\n",
       "\n",
       "    function showError(err) {\n",
       "      outputDiv.innerHTML = `<div class=\"error\" style=\"color:red;\">${err}</div>`;\n",
       "      throw err;\n",
       "    }\n",
       "\n",
       "    function displayChart(vegaEmbed) {\n",
       "      vegaEmbed(outputDiv, spec, embedOpt)\n",
       "        .catch(err => showError(`Javascript Error: ${err.message}<br>This usually means there's a typo in your chart specification. See the javascript console for the full traceback.`));\n",
       "    }\n",
       "\n",
       "    if(typeof define === \"function\" && define.amd) {\n",
       "      requirejs.config({paths});\n",
       "      require([\"vega-embed\"], displayChart, err => showError(`Error loading script: ${err.message}`));\n",
       "    } else if (typeof vegaEmbed === \"function\") {\n",
       "      displayChart(vegaEmbed);\n",
       "    } else {\n",
       "      loadScript(\"vega\")\n",
       "        .then(() => loadScript(\"vega-lite\"))\n",
       "        .then(() => loadScript(\"vega-embed\"))\n",
       "        .catch(showError)\n",
       "        .then(() => displayChart(vegaEmbed));\n",
       "    }\n",
       "  })({\"config\": {\"view\": {\"continuousWidth\": 400, \"continuousHeight\": 300}}, \"hconcat\": [{\"vconcat\": [{\"mark\": {\"type\": \"line\", \"color\": \"rgb(175,91,92)\", \"opacity\": 1, \"strokeWidth\": 2}, \"encoding\": {\"x\": {\"type\": \"quantitative\", \"axis\": {\"title\": \"x\"}, \"field\": \"x\"}, \"y\": {\"type\": \"quantitative\", \"axis\": {\"title\": \"y\"}, \"field\": \"y\"}}, \"height\": 122, \"width\": 300}, {\"data\": {\"url\": \"http://localhost:24754/40f08ce1f1856580b2398bde8d95e100.json\"}, \"mark\": {\"type\": \"line\", \"color\": \"rgb(175,91,92)\", \"opacity\": 1, \"strokeWidth\": 2}, \"encoding\": {\"x\": {\"type\": \"quantitative\", \"axis\": {\"title\": \"x\"}, \"field\": \"x\"}, \"y\": {\"type\": \"quantitative\", \"axis\": {\"title\": \"y\"}, \"field\": \"y\"}}, \"height\": 122, \"width\": 300}]}, {\"layer\": [{\"data\": {\"url\": \"https://cdn.jsdelivr.net/npm/vega-datasets@v1.29.0/data/us-10m.json\", \"format\": {\"feature\": \"states\", \"type\": \"topojson\"}}, \"mark\": {\"type\": \"geoshape\", \"fill\": \"white\", \"stroke\": \"black\", \"strokeWidth\": 0.3}, \"height\": 300, \"projection\": {\"type\": \"albersUsa\"}, \"width\": 500}, {\"data\": {\"url\": \"http://localhost:24754/416f3ef3a8dc663b0c98787400838c7c.json\"}, \"mark\": {\"type\": \"square\", \"opacity\": 0.8, \"size\": 37.50000000000001}, \"encoding\": {\"color\": {\"type\": \"quantitative\", \"field\": \"color\", \"legend\": {\"title\": \"monthly\"}, \"scale\": {\"clamp\": true, \"domain\": [0, 0.005], \"scheme\": \"reds\"}}, \"latitude\": {\"field\": \"lat\", \"type\": \"quantitative\"}, \"longitude\": {\"field\": \"lon\", \"type\": \"quantitative\"}}, \"height\": 300, \"projection\": {\"type\": \"albersUsa\"}, \"width\": 500}]}], \"data\": {\"url\": \"http://localhost:24754/bf64f219c018077b4d62d506d7df7594.json\"}, \"$schema\": \"https://vega.github.io/schema/vega-lite/v4.8.1.json\"}, {\"actions\": false, \"mode\": \"vega-lite\"});\n",
       "</script>"
      ],
      "text/plain": [
       "alt.HConcatChart(...)"
      ]
     },
     "execution_count": 82,
     "metadata": {},
     "output_type": "execute_result"
    }
   ],
   "source": [
    "plot.fire.summary(mtbs, clim=(0, 0.005))"
   ]
  },
  {
   "cell_type": "markdown",
   "metadata": {},
   "source": [
    "As a motivation for fitting fires as functions of climatic variables, we can\n",
    "look at spatially averaged climatic variables alongside fires, e.g. average\n",
    "tempreature, and see that there is a clear relationship (in this case a positive\n",
    "correlation).\n"
   ]
  },
  {
   "cell_type": "code",
   "execution_count": 83,
   "metadata": {},
   "outputs": [
    {
     "data": {
      "text/html": [
       "\n",
       "<div id=\"altair-viz-67b91e701408409880125e0ed4998e2d\"></div>\n",
       "<script type=\"text/javascript\">\n",
       "  (function(spec, embedOpt){\n",
       "    let outputDiv = document.currentScript.previousElementSibling;\n",
       "    if (outputDiv.id !== \"altair-viz-67b91e701408409880125e0ed4998e2d\") {\n",
       "      outputDiv = document.getElementById(\"altair-viz-67b91e701408409880125e0ed4998e2d\");\n",
       "    }\n",
       "    const paths = {\n",
       "      \"vega\": \"https://cdn.jsdelivr.net/npm//vega@5?noext\",\n",
       "      \"vega-lib\": \"https://cdn.jsdelivr.net/npm//vega-lib?noext\",\n",
       "      \"vega-lite\": \"https://cdn.jsdelivr.net/npm//vega-lite@4.8.1?noext\",\n",
       "      \"vega-embed\": \"https://cdn.jsdelivr.net/npm//vega-embed@6?noext\",\n",
       "    };\n",
       "\n",
       "    function loadScript(lib) {\n",
       "      return new Promise(function(resolve, reject) {\n",
       "        var s = document.createElement('script');\n",
       "        s.src = paths[lib];\n",
       "        s.async = true;\n",
       "        s.onload = () => resolve(paths[lib]);\n",
       "        s.onerror = () => reject(`Error loading script: ${paths[lib]}`);\n",
       "        document.getElementsByTagName(\"head\")[0].appendChild(s);\n",
       "      });\n",
       "    }\n",
       "\n",
       "    function showError(err) {\n",
       "      outputDiv.innerHTML = `<div class=\"error\" style=\"color:red;\">${err}</div>`;\n",
       "      throw err;\n",
       "    }\n",
       "\n",
       "    function displayChart(vegaEmbed) {\n",
       "      vegaEmbed(outputDiv, spec, embedOpt)\n",
       "        .catch(err => showError(`Javascript Error: ${err.message}<br>This usually means there's a typo in your chart specification. See the javascript console for the full traceback.`));\n",
       "    }\n",
       "\n",
       "    if(typeof define === \"function\" && define.amd) {\n",
       "      requirejs.config({paths});\n",
       "      require([\"vega-embed\"], displayChart, err => showError(`Error loading script: ${err.message}`));\n",
       "    } else if (typeof vegaEmbed === \"function\") {\n",
       "      displayChart(vegaEmbed);\n",
       "    } else {\n",
       "      loadScript(\"vega\")\n",
       "        .then(() => loadScript(\"vega-lite\"))\n",
       "        .then(() => loadScript(\"vega-embed\"))\n",
       "        .catch(showError)\n",
       "        .then(() => displayChart(vegaEmbed));\n",
       "    }\n",
       "  })({\"config\": {\"view\": {\"continuousWidth\": 400, \"continuousHeight\": 300}}, \"layer\": [{\"data\": {\"url\": \"http://localhost:24754/1907486dd291526101326eb933854c9e.json\"}, \"mark\": {\"type\": \"line\", \"color\": \"rgb(175,91,92)\", \"opacity\": 1, \"strokeWidth\": 2}, \"encoding\": {\"x\": {\"type\": \"quantitative\", \"axis\": {\"title\": \"year\"}, \"field\": \"x\"}, \"y\": {\"type\": \"quantitative\", \"axis\": {\"title\": \"y\"}, \"field\": \"y\"}}, \"height\": 200, \"width\": 350}, {\"data\": {\"url\": \"http://localhost:24754/621ee811fb1a5d6876e20944f19d3b32.json\"}, \"mark\": {\"type\": \"line\", \"color\": \"rgb(175,91,92)\", \"opacity\": 0.5, \"strokeWidth\": 2}, \"encoding\": {\"x\": {\"type\": \"quantitative\", \"axis\": {\"title\": \"year\"}, \"field\": \"x\"}, \"y\": {\"type\": \"quantitative\", \"axis\": {\"title\": \"y\"}, \"field\": \"y\"}}, \"height\": 200, \"width\": 350}], \"$schema\": \"https://vega.github.io/schema/vega-lite/v4.8.1.json\"}, {\"actions\": false, \"mode\": \"vega-lite\"});\n",
       "</script>"
      ],
      "text/plain": [
       "alt.LayerChart(...)"
      ]
     },
     "execution_count": 83,
     "metadata": {},
     "output_type": "execute_result"
    }
   ],
   "source": [
    "x = mtbs.groupby(\"time.year\").mean()[\"year\"]\n",
    "y1 = mtbs[\"monthly\"].groupby(\"time.year\").sum().mean([\"x\", \"y\"])\n",
    "y2 = climate[\"tmean\"].groupby(\"time.year\").max().mean([\"x\", \"y\"])\n",
    "\n",
    "(\n",
    "    plot.line(x=x, y=sp.stats.zscore(y1), color=\"rgb(175,91,92)\")\n",
    "    + plot.line(x=x, y=sp.stats.zscore(y2), color=\"rgb(175,91,92)\", opacity=0.5)\n",
    ")\n",
    "\n",
    "#np.corrcoef(y1,y2)[0,1]"
   ]
  },
  {
   "cell_type": "markdown",
   "metadata": {},
   "source": [
    "### Fitting the model\n"
   ]
  },
  {
   "cell_type": "code",
   "execution_count": 84,
   "metadata": {},
   "outputs": [],
   "source": [
    "x, y = prepare.fire(climate, nftd, mtbs)\n",
    "x_z, x_mean, x_std = utils.zscore_2d(x)"
   ]
  },
  {
   "cell_type": "code",
   "execution_count": 85,
   "metadata": {},
   "outputs": [],
   "source": [
    "model = fit.hurdle(x_z, y, log=True)"
   ]
  },
  {
   "cell_type": "code",
   "execution_count": 86,
   "metadata": {},
   "outputs": [
    {
     "data": {
      "text/plain": [
       "HurdleModel(link='True', train_r2='0.057', train_roc='0.890')"
      ]
     },
     "execution_count": 86,
     "metadata": {},
     "output_type": "execute_result"
    }
   ],
   "source": [
    "model"
   ]
  },
  {
   "cell_type": "code",
   "execution_count": 87,
   "metadata": {},
   "outputs": [],
   "source": [
    "yhat = model.predict(x_z)\n",
    "prediction = collect.fire(yhat, mtbs)"
   ]
  },
  {
   "cell_type": "code",
   "execution_count": 92,
   "metadata": {},
   "outputs": [
    {
     "data": {
      "text/html": [
       "\n",
       "<div id=\"altair-viz-cb58f1d6667b4412b241152f07c26bf5\"></div>\n",
       "<script type=\"text/javascript\">\n",
       "  (function(spec, embedOpt){\n",
       "    let outputDiv = document.currentScript.previousElementSibling;\n",
       "    if (outputDiv.id !== \"altair-viz-cb58f1d6667b4412b241152f07c26bf5\") {\n",
       "      outputDiv = document.getElementById(\"altair-viz-cb58f1d6667b4412b241152f07c26bf5\");\n",
       "    }\n",
       "    const paths = {\n",
       "      \"vega\": \"https://cdn.jsdelivr.net/npm//vega@5?noext\",\n",
       "      \"vega-lib\": \"https://cdn.jsdelivr.net/npm//vega-lib?noext\",\n",
       "      \"vega-lite\": \"https://cdn.jsdelivr.net/npm//vega-lite@4.8.1?noext\",\n",
       "      \"vega-embed\": \"https://cdn.jsdelivr.net/npm//vega-embed@6?noext\",\n",
       "    };\n",
       "\n",
       "    function loadScript(lib) {\n",
       "      return new Promise(function(resolve, reject) {\n",
       "        var s = document.createElement('script');\n",
       "        s.src = paths[lib];\n",
       "        s.async = true;\n",
       "        s.onload = () => resolve(paths[lib]);\n",
       "        s.onerror = () => reject(`Error loading script: ${paths[lib]}`);\n",
       "        document.getElementsByTagName(\"head\")[0].appendChild(s);\n",
       "      });\n",
       "    }\n",
       "\n",
       "    function showError(err) {\n",
       "      outputDiv.innerHTML = `<div class=\"error\" style=\"color:red;\">${err}</div>`;\n",
       "      throw err;\n",
       "    }\n",
       "\n",
       "    function displayChart(vegaEmbed) {\n",
       "      vegaEmbed(outputDiv, spec, embedOpt)\n",
       "        .catch(err => showError(`Javascript Error: ${err.message}<br>This usually means there's a typo in your chart specification. See the javascript console for the full traceback.`));\n",
       "    }\n",
       "\n",
       "    if(typeof define === \"function\" && define.amd) {\n",
       "      requirejs.config({paths});\n",
       "      require([\"vega-embed\"], displayChart, err => showError(`Error loading script: ${err.message}`));\n",
       "    } else if (typeof vegaEmbed === \"function\") {\n",
       "      displayChart(vegaEmbed);\n",
       "    } else {\n",
       "      loadScript(\"vega\")\n",
       "        .then(() => loadScript(\"vega-lite\"))\n",
       "        .then(() => loadScript(\"vega-embed\"))\n",
       "        .catch(showError)\n",
       "        .then(() => displayChart(vegaEmbed));\n",
       "    }\n",
       "  })({\"config\": {\"view\": {\"continuousWidth\": 400, \"continuousHeight\": 300, \"strokeOpacity\": 0}}, \"vconcat\": [{\"hconcat\": [{\"layer\": [{\"data\": {\"url\": \"https://cdn.jsdelivr.net/npm/vega-datasets@v1.29.0/data/us-10m.json\", \"format\": {\"feature\": \"states\", \"type\": \"topojson\"}}, \"mark\": {\"type\": \"geoshape\", \"fill\": \"white\", \"stroke\": \"black\", \"strokeWidth\": 0.3}, \"height\": 170, \"projection\": {\"type\": \"albersUsa\"}, \"title\": \"mar\", \"width\": 270}, {\"data\": {\"url\": \"http://localhost:24754/8da31af9290834f686c523909ba6c332.json\"}, \"mark\": {\"type\": \"square\", \"opacity\": 0.8, \"size\": 11.475}, \"encoding\": {\"color\": {\"type\": \"quantitative\", \"field\": \"color\", \"legend\": {\"title\": \"prediction\"}, \"scale\": {\"clamp\": true, \"domain\": [5e-05, 0.0015], \"scheme\": \"reds\"}}, \"latitude\": {\"field\": \"lat\", \"type\": \"quantitative\"}, \"longitude\": {\"field\": \"lon\", \"type\": \"quantitative\"}}, \"height\": 170, \"projection\": {\"type\": \"albersUsa\"}, \"width\": 270}]}, {\"layer\": [{\"data\": {\"url\": \"https://cdn.jsdelivr.net/npm/vega-datasets@v1.29.0/data/us-10m.json\", \"format\": {\"feature\": \"states\", \"type\": \"topojson\"}}, \"mark\": {\"type\": \"geoshape\", \"fill\": \"white\", \"stroke\": \"black\", \"strokeWidth\": 0.3}, \"height\": 170, \"projection\": {\"type\": \"albersUsa\"}, \"title\": \"apr\", \"width\": 270}, {\"data\": {\"url\": \"http://localhost:24754/53b8fa81ebc9364d5b4aab6e57e75d8f.json\"}, \"mark\": {\"type\": \"square\", \"opacity\": 0.8, \"size\": 11.475}, \"encoding\": {\"color\": {\"type\": \"quantitative\", \"field\": \"color\", \"legend\": {\"title\": \"prediction\"}, \"scale\": {\"clamp\": true, \"domain\": [5e-05, 0.0015], \"scheme\": \"reds\"}}, \"latitude\": {\"field\": \"lat\", \"type\": \"quantitative\"}, \"longitude\": {\"field\": \"lon\", \"type\": \"quantitative\"}}, \"height\": 170, \"projection\": {\"type\": \"albersUsa\"}, \"width\": 270}]}, {\"layer\": [{\"data\": {\"url\": \"https://cdn.jsdelivr.net/npm/vega-datasets@v1.29.0/data/us-10m.json\", \"format\": {\"feature\": \"states\", \"type\": \"topojson\"}}, \"mark\": {\"type\": \"geoshape\", \"fill\": \"white\", \"stroke\": \"black\", \"strokeWidth\": 0.3}, \"height\": 170, \"projection\": {\"type\": \"albersUsa\"}, \"title\": \"may\", \"width\": 270}, {\"data\": {\"url\": \"http://localhost:24754/a8bfd3c3689a1b7bf66d57e01cb71e97.json\"}, \"mark\": {\"type\": \"square\", \"opacity\": 0.8, \"size\": 11.475}, \"encoding\": {\"color\": {\"type\": \"quantitative\", \"field\": \"color\", \"legend\": {\"title\": \"prediction\"}, \"scale\": {\"clamp\": true, \"domain\": [5e-05, 0.0015], \"scheme\": \"reds\"}}, \"latitude\": {\"field\": \"lat\", \"type\": \"quantitative\"}, \"longitude\": {\"field\": \"lon\", \"type\": \"quantitative\"}}, \"height\": 170, \"projection\": {\"type\": \"albersUsa\"}, \"width\": 270}]}]}, {\"hconcat\": [{\"layer\": [{\"data\": {\"url\": \"https://cdn.jsdelivr.net/npm/vega-datasets@v1.29.0/data/us-10m.json\", \"format\": {\"feature\": \"states\", \"type\": \"topojson\"}}, \"mark\": {\"type\": \"geoshape\", \"fill\": \"white\", \"stroke\": \"black\", \"strokeWidth\": 0.3}, \"height\": 170, \"projection\": {\"type\": \"albersUsa\"}, \"title\": \"jun\", \"width\": 270}, {\"data\": {\"url\": \"http://localhost:24754/62db48bca66d2c41d982fe67e6e43c5b.json\"}, \"mark\": {\"type\": \"square\", \"opacity\": 0.8, \"size\": 11.475}, \"encoding\": {\"color\": {\"type\": \"quantitative\", \"field\": \"color\", \"legend\": {\"title\": \"prediction\"}, \"scale\": {\"clamp\": true, \"domain\": [5e-05, 0.0015], \"scheme\": \"reds\"}}, \"latitude\": {\"field\": \"lat\", \"type\": \"quantitative\"}, \"longitude\": {\"field\": \"lon\", \"type\": \"quantitative\"}}, \"height\": 170, \"projection\": {\"type\": \"albersUsa\"}, \"width\": 270}]}, {\"layer\": [{\"data\": {\"url\": \"https://cdn.jsdelivr.net/npm/vega-datasets@v1.29.0/data/us-10m.json\", \"format\": {\"feature\": \"states\", \"type\": \"topojson\"}}, \"mark\": {\"type\": \"geoshape\", \"fill\": \"white\", \"stroke\": \"black\", \"strokeWidth\": 0.3}, \"height\": 170, \"projection\": {\"type\": \"albersUsa\"}, \"title\": \"jul\", \"width\": 270}, {\"data\": {\"url\": \"http://localhost:24754/5d2ce6d630557577d064e94d6f9f0ddb.json\"}, \"mark\": {\"type\": \"square\", \"opacity\": 0.8, \"size\": 11.475}, \"encoding\": {\"color\": {\"type\": \"quantitative\", \"field\": \"color\", \"legend\": {\"title\": \"prediction\"}, \"scale\": {\"clamp\": true, \"domain\": [5e-05, 0.0015], \"scheme\": \"reds\"}}, \"latitude\": {\"field\": \"lat\", \"type\": \"quantitative\"}, \"longitude\": {\"field\": \"lon\", \"type\": \"quantitative\"}}, \"height\": 170, \"projection\": {\"type\": \"albersUsa\"}, \"width\": 270}]}, {\"layer\": [{\"data\": {\"url\": \"https://cdn.jsdelivr.net/npm/vega-datasets@v1.29.0/data/us-10m.json\", \"format\": {\"feature\": \"states\", \"type\": \"topojson\"}}, \"mark\": {\"type\": \"geoshape\", \"fill\": \"white\", \"stroke\": \"black\", \"strokeWidth\": 0.3}, \"height\": 170, \"projection\": {\"type\": \"albersUsa\"}, \"title\": \"aug\", \"width\": 270}, {\"data\": {\"url\": \"http://localhost:24754/1848ae2c19136ee0c000405705a3d129.json\"}, \"mark\": {\"type\": \"square\", \"opacity\": 0.8, \"size\": 11.475}, \"encoding\": {\"color\": {\"type\": \"quantitative\", \"field\": \"color\", \"legend\": {\"title\": \"prediction\"}, \"scale\": {\"clamp\": true, \"domain\": [5e-05, 0.0015], \"scheme\": \"reds\"}}, \"latitude\": {\"field\": \"lat\", \"type\": \"quantitative\"}, \"longitude\": {\"field\": \"lon\", \"type\": \"quantitative\"}}, \"height\": 170, \"projection\": {\"type\": \"albersUsa\"}, \"width\": 270}]}]}, {\"hconcat\": [{\"layer\": [{\"data\": {\"url\": \"https://cdn.jsdelivr.net/npm/vega-datasets@v1.29.0/data/us-10m.json\", \"format\": {\"feature\": \"states\", \"type\": \"topojson\"}}, \"mark\": {\"type\": \"geoshape\", \"fill\": \"white\", \"stroke\": \"black\", \"strokeWidth\": 0.3}, \"height\": 170, \"projection\": {\"type\": \"albersUsa\"}, \"title\": \"sep\", \"width\": 270}, {\"data\": {\"url\": \"http://localhost:24754/88ae35de86c8358b62121053e2534992.json\"}, \"mark\": {\"type\": \"square\", \"opacity\": 0.8, \"size\": 11.475}, \"encoding\": {\"color\": {\"type\": \"quantitative\", \"field\": \"color\", \"legend\": {\"title\": \"prediction\"}, \"scale\": {\"clamp\": true, \"domain\": [5e-05, 0.0015], \"scheme\": \"reds\"}}, \"latitude\": {\"field\": \"lat\", \"type\": \"quantitative\"}, \"longitude\": {\"field\": \"lon\", \"type\": \"quantitative\"}}, \"height\": 170, \"projection\": {\"type\": \"albersUsa\"}, \"width\": 270}]}, {\"layer\": [{\"data\": {\"url\": \"https://cdn.jsdelivr.net/npm/vega-datasets@v1.29.0/data/us-10m.json\", \"format\": {\"feature\": \"states\", \"type\": \"topojson\"}}, \"mark\": {\"type\": \"geoshape\", \"fill\": \"white\", \"stroke\": \"black\", \"strokeWidth\": 0.3}, \"height\": 170, \"projection\": {\"type\": \"albersUsa\"}, \"title\": \"oct\", \"width\": 270}, {\"data\": {\"url\": \"http://localhost:24754/7becd771019792176142544f5a3306fe.json\"}, \"mark\": {\"type\": \"square\", \"opacity\": 0.8, \"size\": 11.475}, \"encoding\": {\"color\": {\"type\": \"quantitative\", \"field\": \"color\", \"legend\": {\"title\": \"prediction\"}, \"scale\": {\"clamp\": true, \"domain\": [5e-05, 0.0015], \"scheme\": \"reds\"}}, \"latitude\": {\"field\": \"lat\", \"type\": \"quantitative\"}, \"longitude\": {\"field\": \"lon\", \"type\": \"quantitative\"}}, \"height\": 170, \"projection\": {\"type\": \"albersUsa\"}, \"width\": 270}]}, {\"layer\": [{\"data\": {\"url\": \"https://cdn.jsdelivr.net/npm/vega-datasets@v1.29.0/data/us-10m.json\", \"format\": {\"feature\": \"states\", \"type\": \"topojson\"}}, \"mark\": {\"type\": \"geoshape\", \"fill\": \"white\", \"stroke\": \"black\", \"strokeWidth\": 0.3}, \"height\": 170, \"projection\": {\"type\": \"albersUsa\"}, \"title\": \"nov\", \"width\": 270}, {\"data\": {\"url\": \"http://localhost:24754/420c0b82e1200d02d6b70f4fda6662a1.json\"}, \"mark\": {\"type\": \"square\", \"opacity\": 0.8, \"size\": 11.475}, \"encoding\": {\"color\": {\"type\": \"quantitative\", \"field\": \"color\", \"legend\": {\"title\": \"prediction\"}, \"scale\": {\"clamp\": true, \"domain\": [5e-05, 0.0015], \"scheme\": \"reds\"}}, \"latitude\": {\"field\": \"lat\", \"type\": \"quantitative\"}, \"longitude\": {\"field\": \"lon\", \"type\": \"quantitative\"}}, \"height\": 170, \"projection\": {\"type\": \"albersUsa\"}, \"width\": 270}]}]}], \"$schema\": \"https://vega.github.io/schema/vega-lite/v4.8.1.json\"}, {\"actions\": false, \"mode\": \"vega-lite\"});\n",
       "</script>"
      ],
      "text/plain": [
       "alt.VConcatChart(...)"
      ]
     },
     "execution_count": 92,
     "metadata": {},
     "output_type": "execute_result"
    }
   ],
   "source": [
    "plot.fire.monthly(prediction, \"prediction\", clim=(0.00005, 0.0015))"
   ]
  },
  {
   "cell_type": "code",
   "execution_count": 94,
   "metadata": {},
   "outputs": [
    {
     "data": {
      "text/html": [
       "\n",
       "<div id=\"altair-viz-91d7122034f24cad892d2fbff853b700\"></div>\n",
       "<script type=\"text/javascript\">\n",
       "  (function(spec, embedOpt){\n",
       "    let outputDiv = document.currentScript.previousElementSibling;\n",
       "    if (outputDiv.id !== \"altair-viz-91d7122034f24cad892d2fbff853b700\") {\n",
       "      outputDiv = document.getElementById(\"altair-viz-91d7122034f24cad892d2fbff853b700\");\n",
       "    }\n",
       "    const paths = {\n",
       "      \"vega\": \"https://cdn.jsdelivr.net/npm//vega@5?noext\",\n",
       "      \"vega-lib\": \"https://cdn.jsdelivr.net/npm//vega-lib?noext\",\n",
       "      \"vega-lite\": \"https://cdn.jsdelivr.net/npm//vega-lite@4.8.1?noext\",\n",
       "      \"vega-embed\": \"https://cdn.jsdelivr.net/npm//vega-embed@6?noext\",\n",
       "    };\n",
       "\n",
       "    function loadScript(lib) {\n",
       "      return new Promise(function(resolve, reject) {\n",
       "        var s = document.createElement('script');\n",
       "        s.src = paths[lib];\n",
       "        s.async = true;\n",
       "        s.onload = () => resolve(paths[lib]);\n",
       "        s.onerror = () => reject(`Error loading script: ${paths[lib]}`);\n",
       "        document.getElementsByTagName(\"head\")[0].appendChild(s);\n",
       "      });\n",
       "    }\n",
       "\n",
       "    function showError(err) {\n",
       "      outputDiv.innerHTML = `<div class=\"error\" style=\"color:red;\">${err}</div>`;\n",
       "      throw err;\n",
       "    }\n",
       "\n",
       "    function displayChart(vegaEmbed) {\n",
       "      vegaEmbed(outputDiv, spec, embedOpt)\n",
       "        .catch(err => showError(`Javascript Error: ${err.message}<br>This usually means there's a typo in your chart specification. See the javascript console for the full traceback.`));\n",
       "    }\n",
       "\n",
       "    if(typeof define === \"function\" && define.amd) {\n",
       "      requirejs.config({paths});\n",
       "      require([\"vega-embed\"], displayChart, err => showError(`Error loading script: ${err.message}`));\n",
       "    } else if (typeof vegaEmbed === \"function\") {\n",
       "      displayChart(vegaEmbed);\n",
       "    } else {\n",
       "      loadScript(\"vega\")\n",
       "        .then(() => loadScript(\"vega-lite\"))\n",
       "        .then(() => loadScript(\"vega-embed\"))\n",
       "        .catch(showError)\n",
       "        .then(() => displayChart(vegaEmbed));\n",
       "    }\n",
       "  })({\"config\": {\"view\": {\"continuousWidth\": 400, \"continuousHeight\": 300}}, \"hconcat\": [{\"vconcat\": [{\"layer\": [{\"data\": {\"url\": \"http://localhost:24754/bf64f219c018077b4d62d506d7df7594.json\"}, \"mark\": {\"type\": \"line\", \"color\": \"rgb(175,91,92)\", \"opacity\": 0.5, \"strokeWidth\": 2}, \"encoding\": {\"x\": {\"type\": \"quantitative\", \"axis\": {\"title\": \"x\"}, \"field\": \"x\"}, \"y\": {\"type\": \"quantitative\", \"axis\": {\"title\": \"y\"}, \"field\": \"y\"}}, \"height\": 122, \"width\": 300}, {\"data\": {\"url\": \"http://localhost:24754/1343ba50661fe88727f52b84de22d487.json\"}, \"mark\": {\"type\": \"line\", \"color\": \"rgb(175,91,92)\", \"opacity\": 1, \"strokeWidth\": 2}, \"encoding\": {\"x\": {\"type\": \"quantitative\", \"axis\": {\"title\": \"x\"}, \"field\": \"x\"}, \"y\": {\"type\": \"quantitative\", \"axis\": {\"title\": \"y\"}, \"field\": \"y\"}}, \"height\": 122, \"width\": 300}]}, {\"layer\": [{\"data\": {\"url\": \"http://localhost:24754/40f08ce1f1856580b2398bde8d95e100.json\"}, \"mark\": {\"type\": \"line\", \"color\": \"rgb(175,91,92)\", \"opacity\": 0.5, \"strokeWidth\": 2}, \"encoding\": {\"x\": {\"type\": \"quantitative\", \"axis\": {\"title\": \"x\"}, \"field\": \"x\"}, \"y\": {\"type\": \"quantitative\", \"axis\": {\"title\": \"y\"}, \"field\": \"y\"}}, \"height\": 122, \"width\": 300}, {\"data\": {\"url\": \"http://localhost:24754/34cf80f932244e673cf017c048762ac0.json\"}, \"mark\": {\"type\": \"line\", \"color\": \"rgb(175,91,92)\", \"opacity\": 1, \"strokeWidth\": 2}, \"encoding\": {\"x\": {\"type\": \"quantitative\", \"axis\": {\"title\": \"x\"}, \"field\": \"x\"}, \"y\": {\"type\": \"quantitative\", \"axis\": {\"title\": \"y\"}, \"field\": \"y\"}}, \"height\": 122, \"width\": 300}]}]}, {\"layer\": [{\"data\": {\"url\": \"https://cdn.jsdelivr.net/npm/vega-datasets@v1.29.0/data/us-10m.json\", \"format\": {\"feature\": \"states\", \"type\": \"topojson\"}}, \"mark\": {\"type\": \"geoshape\", \"fill\": \"white\", \"stroke\": \"black\", \"strokeWidth\": 0.3}, \"height\": 300, \"projection\": {\"type\": \"albersUsa\"}, \"width\": 500}, {\"data\": {\"url\": \"http://localhost:24754/e357922f9af0cc08e58d1ab179037854.json\"}, \"mark\": {\"type\": \"square\", \"opacity\": 0.8, \"size\": 35.41666666666667}, \"encoding\": {\"color\": {\"type\": \"quantitative\", \"field\": \"color\", \"legend\": {\"title\": \"monthly\"}, \"scale\": {\"clamp\": true, \"domain\": [0, 0.005], \"scheme\": \"reds\"}}, \"latitude\": {\"field\": \"lat\", \"type\": \"quantitative\"}, \"longitude\": {\"field\": \"lon\", \"type\": \"quantitative\"}}, \"height\": 300, \"projection\": {\"type\": \"albersUsa\"}, \"width\": 500}]}], \"$schema\": \"https://vega.github.io/schema/vega-lite/v4.8.1.json\"}, {\"actions\": false, \"mode\": \"vega-lite\"});\n",
       "</script>"
      ],
      "text/plain": [
       "alt.HConcatChart(...)"
      ]
     },
     "execution_count": 94,
     "metadata": {},
     "output_type": "execute_result"
    }
   ],
   "source": [
    "plot.fire.evaluation(\n",
    "    mtbs, prediction, \"monthly\", \"prediction\", clim=(0, 0.005)\n",
    ")"
   ]
  },
  {
   "cell_type": "markdown",
   "metadata": {},
   "source": [
    "We can also compare the predicted and real probabilities over time.\n"
   ]
  },
  {
   "cell_type": "code",
   "execution_count": 22,
   "metadata": {},
   "outputs": [
    {
     "data": {
      "text/html": [
       "\n",
       "<div id=\"altair-viz-32f778bbe6a24cafadac6f9df99a0c2d\"></div>\n",
       "<script type=\"text/javascript\">\n",
       "  (function(spec, embedOpt){\n",
       "    let outputDiv = document.currentScript.previousElementSibling;\n",
       "    if (outputDiv.id !== \"altair-viz-32f778bbe6a24cafadac6f9df99a0c2d\") {\n",
       "      outputDiv = document.getElementById(\"altair-viz-32f778bbe6a24cafadac6f9df99a0c2d\");\n",
       "    }\n",
       "    const paths = {\n",
       "      \"vega\": \"https://cdn.jsdelivr.net/npm//vega@5?noext\",\n",
       "      \"vega-lib\": \"https://cdn.jsdelivr.net/npm//vega-lib?noext\",\n",
       "      \"vega-lite\": \"https://cdn.jsdelivr.net/npm//vega-lite@4.8.1?noext\",\n",
       "      \"vega-embed\": \"https://cdn.jsdelivr.net/npm//vega-embed@6?noext\",\n",
       "    };\n",
       "\n",
       "    function loadScript(lib) {\n",
       "      return new Promise(function(resolve, reject) {\n",
       "        var s = document.createElement('script');\n",
       "        s.src = paths[lib];\n",
       "        s.async = true;\n",
       "        s.onload = () => resolve(paths[lib]);\n",
       "        s.onerror = () => reject(`Error loading script: ${paths[lib]}`);\n",
       "        document.getElementsByTagName(\"head\")[0].appendChild(s);\n",
       "      });\n",
       "    }\n",
       "\n",
       "    function showError(err) {\n",
       "      outputDiv.innerHTML = `<div class=\"error\" style=\"color:red;\">${err}</div>`;\n",
       "      throw err;\n",
       "    }\n",
       "\n",
       "    function displayChart(vegaEmbed) {\n",
       "      vegaEmbed(outputDiv, spec, embedOpt)\n",
       "        .catch(err => showError(`Javascript Error: ${err.message}<br>This usually means there's a typo in your chart specification. See the javascript console for the full traceback.`));\n",
       "    }\n",
       "\n",
       "    if(typeof define === \"function\" && define.amd) {\n",
       "      requirejs.config({paths});\n",
       "      require([\"vega-embed\"], displayChart, err => showError(`Error loading script: ${err.message}`));\n",
       "    } else if (typeof vegaEmbed === \"function\") {\n",
       "      displayChart(vegaEmbed);\n",
       "    } else {\n",
       "      loadScript(\"vega\")\n",
       "        .then(() => loadScript(\"vega-lite\"))\n",
       "        .then(() => loadScript(\"vega-embed\"))\n",
       "        .catch(showError)\n",
       "        .then(() => displayChart(vegaEmbed));\n",
       "    }\n",
       "  })({\"config\": {\"view\": {\"continuousWidth\": 400, \"continuousHeight\": 300}}, \"layer\": [{\"data\": {\"url\": \"http://localhost:24754/8b9cc4d569701405ac137b29a0f5b3a6.json\"}, \"mark\": {\"type\": \"line\", \"color\": \"rgb(175,91,92)\", \"opacity\": 0.5, \"strokeWidth\": 2}, \"encoding\": {\"x\": {\"type\": \"temporal\", \"axis\": {\"title\": \"time\"}, \"field\": \"x\"}, \"y\": {\"type\": \"quantitative\", \"axis\": {\"title\": \"monthly\"}, \"field\": \"y\"}}, \"height\": 200, \"width\": 900}, {\"data\": {\"url\": \"http://localhost:24754/cf45815f3885e7d8c4284c755eabcfc9.json\"}, \"mark\": {\"type\": \"line\", \"color\": \"rgb(175,91,92)\", \"opacity\": 1, \"strokeWidth\": 2}, \"encoding\": {\"x\": {\"type\": \"temporal\", \"axis\": {\"title\": \"time\"}, \"field\": \"x\"}, \"y\": {\"type\": \"quantitative\", \"axis\": {\"title\": \"prediction\"}, \"field\": \"y\"}}, \"height\": 200, \"width\": 900}], \"$schema\": \"https://vega.github.io/schema/vega-lite/v4.8.1.json\"}, {\"actions\": false, \"mode\": \"vega-lite\"});\n",
       "</script>"
      ],
      "text/plain": [
       "alt.LayerChart(...)"
      ]
     },
     "execution_count": 22,
     "metadata": {},
     "output_type": "execute_result"
    }
   ],
   "source": [
    "x = mtbs[\"time\"]\n",
    "y1 = mtbs[\"monthly\"].mean([\"x\", \"y\"])\n",
    "y2 = prediction[\"prediction\"].mean([\"x\", \"y\"])\n",
    "\n",
    "(\n",
    "    plot.line(\n",
    "        x=x,\n",
    "        y=y1,\n",
    "        width=900,\n",
    "        height=200,\n",
    "        opacity=0.5,\n",
    "        color=\"rgb(175,91,92)\",\n",
    "        strokeWidth=2,\n",
    "    )\n",
    "    + plot.line(\n",
    "        x=x, y=y2, width=900, height=200, color=\"rgb(175,91,92)\", strokeWidth=2\n",
    "    )\n",
    ")"
   ]
  },
  {
   "cell_type": "markdown",
   "metadata": {},
   "source": [
    "Given that we fit a logistic regression, the natural model performance metric is\n",
    "area under the ROC curve, which we computed on the training data (you can use\n",
    "the variable `crossval` to repeat the model fit and compute a score on 25% held\n",
    "out data).\n"
   ]
  },
  {
   "cell_type": "markdown",
   "metadata": {},
   "source": [
    "Finally, we can compute correlations between model and prediction for annual,\n",
    "seasonal, and spatial trends. Note that these were not metrics used to\n",
    "explicitly fit the model, but in general a better fitting model ought to\n",
    "reproduce at least some of these trends.\n"
   ]
  },
  {
   "cell_type": "code",
   "execution_count": 23,
   "metadata": {},
   "outputs": [
    {
     "name": "stdout",
     "output_type": "stream",
     "text": [
      "correlation of annual trends\n"
     ]
    },
    {
     "data": {
      "text/plain": [
       "0.8316705458275839"
      ]
     },
     "execution_count": 23,
     "metadata": {},
     "output_type": "execute_result"
    }
   ],
   "source": [
    "print(\"correlation of annual trends\")\n",
    "np.corrcoef(\n",
    "    mtbs[\"monthly\"].groupby(\"time.year\").mean().mean([\"x\", \"y\"]),\n",
    "    prediction[\"prediction\"].groupby(\"time.year\").mean().mean([\"x\", \"y\"]),\n",
    ")[0, 1]"
   ]
  },
  {
   "cell_type": "code",
   "execution_count": 24,
   "metadata": {},
   "outputs": [
    {
     "name": "stdout",
     "output_type": "stream",
     "text": [
      "correlation of monthly trends\n"
     ]
    },
    {
     "data": {
      "text/plain": [
       "0.9589361751309387"
      ]
     },
     "execution_count": 24,
     "metadata": {},
     "output_type": "execute_result"
    }
   ],
   "source": [
    "print(\"correlation of monthly trends\")\n",
    "np.corrcoef(\n",
    "    mtbs[\"monthly\"].groupby(\"time.month\").mean().mean([\"x\", \"y\"]),\n",
    "    prediction[\"prediction\"].groupby(\"time.month\").mean().mean([\"x\", \"y\"]),\n",
    ")[0, 1]"
   ]
  },
  {
   "cell_type": "code",
   "execution_count": 25,
   "metadata": {},
   "outputs": [
    {
     "name": "stdout",
     "output_type": "stream",
     "text": [
      "correlation of spatial trends\n"
     ]
    },
    {
     "data": {
      "text/plain": [
       "0.4522937952697327"
      ]
     },
     "execution_count": 25,
     "metadata": {},
     "output_type": "execute_result"
    }
   ],
   "source": [
    "print(\"correlation of spatial trends\")\n",
    "a = mtbs[\"monthly\"].mean(\"time\").values.flatten()\n",
    "b = prediction[\"prediction\"].mean(\"time\").values.flatten()\n",
    "inds = ~np.isnan(a) & ~np.isnan(b)\n",
    "np.corrcoef(a[inds], b[inds])[0, 1]"
   ]
  },
  {
   "cell_type": "markdown",
   "metadata": {},
   "source": [
    "### Prediction on future climate data"
   ]
  },
  {
   "cell_type": "code",
   "execution_count": 97,
   "metadata": {},
   "outputs": [],
   "source": [
    "cmip_model = 'CanESM5'\n",
    "scenario = 'ssp245'\n",
    "target = 2025"
   ]
  },
  {
   "cell_type": "code",
   "execution_count": 98,
   "metadata": {},
   "outputs": [],
   "source": [
    "future_climate = load.cmip(\n",
    "    store=store, \n",
    "    model=cmip_model, \n",
    "    coarsen=16, \n",
    "    scenario=scenario, \n",
    "    tlim=(2020, 2100), \n",
    "    variables=variables, \n",
    "    mask=mask, \n",
    "    sampling=\"monthly\"\n",
    ")"
   ]
  },
  {
   "cell_type": "code",
   "execution_count": 28,
   "metadata": {},
   "outputs": [],
   "source": [
    "x = prepare.fire(future_climate, nftd, eval_only=True)\n",
    "x_z = utils.zscore_2d(x, mean=x_mean, std=x_std)"
   ]
  },
  {
   "cell_type": "code",
   "execution_count": 29,
   "metadata": {},
   "outputs": [],
   "source": [
    "yhat = model.predict(x_z)\n",
    "prediction = collect.fire(yhat, future_climate)"
   ]
  },
  {
   "cell_type": "code",
   "execution_count": 96,
   "metadata": {},
   "outputs": [
    {
     "data": {
      "text/html": [
       "\n",
       "<div id=\"altair-viz-4abe802efb844d6184bafb4ec1f82fc4\"></div>\n",
       "<script type=\"text/javascript\">\n",
       "  (function(spec, embedOpt){\n",
       "    let outputDiv = document.currentScript.previousElementSibling;\n",
       "    if (outputDiv.id !== \"altair-viz-4abe802efb844d6184bafb4ec1f82fc4\") {\n",
       "      outputDiv = document.getElementById(\"altair-viz-4abe802efb844d6184bafb4ec1f82fc4\");\n",
       "    }\n",
       "    const paths = {\n",
       "      \"vega\": \"https://cdn.jsdelivr.net/npm//vega@5?noext\",\n",
       "      \"vega-lib\": \"https://cdn.jsdelivr.net/npm//vega-lib?noext\",\n",
       "      \"vega-lite\": \"https://cdn.jsdelivr.net/npm//vega-lite@4.8.1?noext\",\n",
       "      \"vega-embed\": \"https://cdn.jsdelivr.net/npm//vega-embed@6?noext\",\n",
       "    };\n",
       "\n",
       "    function loadScript(lib) {\n",
       "      return new Promise(function(resolve, reject) {\n",
       "        var s = document.createElement('script');\n",
       "        s.src = paths[lib];\n",
       "        s.async = true;\n",
       "        s.onload = () => resolve(paths[lib]);\n",
       "        s.onerror = () => reject(`Error loading script: ${paths[lib]}`);\n",
       "        document.getElementsByTagName(\"head\")[0].appendChild(s);\n",
       "      });\n",
       "    }\n",
       "\n",
       "    function showError(err) {\n",
       "      outputDiv.innerHTML = `<div class=\"error\" style=\"color:red;\">${err}</div>`;\n",
       "      throw err;\n",
       "    }\n",
       "\n",
       "    function displayChart(vegaEmbed) {\n",
       "      vegaEmbed(outputDiv, spec, embedOpt)\n",
       "        .catch(err => showError(`Javascript Error: ${err.message}<br>This usually means there's a typo in your chart specification. See the javascript console for the full traceback.`));\n",
       "    }\n",
       "\n",
       "    if(typeof define === \"function\" && define.amd) {\n",
       "      requirejs.config({paths});\n",
       "      require([\"vega-embed\"], displayChart, err => showError(`Error loading script: ${err.message}`));\n",
       "    } else if (typeof vegaEmbed === \"function\") {\n",
       "      displayChart(vegaEmbed);\n",
       "    } else {\n",
       "      loadScript(\"vega\")\n",
       "        .then(() => loadScript(\"vega-lite\"))\n",
       "        .then(() => loadScript(\"vega-embed\"))\n",
       "        .catch(showError)\n",
       "        .then(() => displayChart(vegaEmbed));\n",
       "    }\n",
       "  })({\"config\": {\"view\": {\"continuousWidth\": 400, \"continuousHeight\": 300}}, \"hconcat\": [{\"vconcat\": [{\"mark\": {\"type\": \"line\", \"color\": \"rgb(175,91,92)\", \"opacity\": 1, \"strokeWidth\": 2}, \"encoding\": {\"x\": {\"type\": \"quantitative\", \"axis\": {\"title\": \"x\"}, \"field\": \"x\"}, \"y\": {\"type\": \"quantitative\", \"axis\": {\"title\": \"y\"}, \"field\": \"y\"}}, \"height\": 122, \"width\": 300}, {\"data\": {\"url\": \"http://localhost:24754/34cf80f932244e673cf017c048762ac0.json\"}, \"mark\": {\"type\": \"line\", \"color\": \"rgb(175,91,92)\", \"opacity\": 1, \"strokeWidth\": 2}, \"encoding\": {\"x\": {\"type\": \"quantitative\", \"axis\": {\"title\": \"x\"}, \"field\": \"x\"}, \"y\": {\"type\": \"quantitative\", \"axis\": {\"title\": \"y\"}, \"field\": \"y\"}}, \"height\": 122, \"width\": 300}]}, {\"layer\": [{\"data\": {\"url\": \"https://cdn.jsdelivr.net/npm/vega-datasets@v1.29.0/data/us-10m.json\", \"format\": {\"feature\": \"states\", \"type\": \"topojson\"}}, \"mark\": {\"type\": \"geoshape\", \"fill\": \"white\", \"stroke\": \"black\", \"strokeWidth\": 0.3}, \"height\": 300, \"projection\": {\"type\": \"albersUsa\"}, \"width\": 500}, {\"data\": {\"url\": \"http://localhost:24754/11c13861dcb0dc1f9da4fb210ef92f6e.json\"}, \"mark\": {\"type\": \"square\", \"opacity\": 0.8, \"size\": 37.50000000000001}, \"encoding\": {\"color\": {\"type\": \"quantitative\", \"field\": \"color\", \"legend\": {\"title\": \"prediction\"}, \"scale\": {\"clamp\": true, \"domain\": [0.0006, 0.008], \"scheme\": \"reds\"}}, \"latitude\": {\"field\": \"lat\", \"type\": \"quantitative\"}, \"longitude\": {\"field\": \"lon\", \"type\": \"quantitative\"}}, \"height\": 300, \"projection\": {\"type\": \"albersUsa\"}, \"width\": 500}]}], \"data\": {\"url\": \"http://localhost:24754/1343ba50661fe88727f52b84de22d487.json\"}, \"$schema\": \"https://vega.github.io/schema/vega-lite/v4.8.1.json\"}, {\"actions\": false, \"mode\": \"vega-lite\"});\n",
       "</script>"
      ],
      "text/plain": [
       "alt.HConcatChart(...)"
      ]
     },
     "execution_count": 96,
     "metadata": {},
     "output_type": "execute_result"
    }
   ],
   "source": [
    "plot.fire.summary(prediction, \"prediction\", clim=(0.0006, 0.008))"
   ]
  },
  {
   "cell_type": "code",
   "execution_count": 31,
   "metadata": {},
   "outputs": [
    {
     "data": {
      "text/html": [
       "\n",
       "<div id=\"altair-viz-ba125fc771164f1982b57e74abbc9e2a\"></div>\n",
       "<script type=\"text/javascript\">\n",
       "  (function(spec, embedOpt){\n",
       "    let outputDiv = document.currentScript.previousElementSibling;\n",
       "    if (outputDiv.id !== \"altair-viz-ba125fc771164f1982b57e74abbc9e2a\") {\n",
       "      outputDiv = document.getElementById(\"altair-viz-ba125fc771164f1982b57e74abbc9e2a\");\n",
       "    }\n",
       "    const paths = {\n",
       "      \"vega\": \"https://cdn.jsdelivr.net/npm//vega@5?noext\",\n",
       "      \"vega-lib\": \"https://cdn.jsdelivr.net/npm//vega-lib?noext\",\n",
       "      \"vega-lite\": \"https://cdn.jsdelivr.net/npm//vega-lite@4.8.1?noext\",\n",
       "      \"vega-embed\": \"https://cdn.jsdelivr.net/npm//vega-embed@6?noext\",\n",
       "    };\n",
       "\n",
       "    function loadScript(lib) {\n",
       "      return new Promise(function(resolve, reject) {\n",
       "        var s = document.createElement('script');\n",
       "        s.src = paths[lib];\n",
       "        s.async = true;\n",
       "        s.onload = () => resolve(paths[lib]);\n",
       "        s.onerror = () => reject(`Error loading script: ${paths[lib]}`);\n",
       "        document.getElementsByTagName(\"head\")[0].appendChild(s);\n",
       "      });\n",
       "    }\n",
       "\n",
       "    function showError(err) {\n",
       "      outputDiv.innerHTML = `<div class=\"error\" style=\"color:red;\">${err}</div>`;\n",
       "      throw err;\n",
       "    }\n",
       "\n",
       "    function displayChart(vegaEmbed) {\n",
       "      vegaEmbed(outputDiv, spec, embedOpt)\n",
       "        .catch(err => showError(`Javascript Error: ${err.message}<br>This usually means there's a typo in your chart specification. See the javascript console for the full traceback.`));\n",
       "    }\n",
       "\n",
       "    if(typeof define === \"function\" && define.amd) {\n",
       "      requirejs.config({paths});\n",
       "      require([\"vega-embed\"], displayChart, err => showError(`Error loading script: ${err.message}`));\n",
       "    } else if (typeof vegaEmbed === \"function\") {\n",
       "      displayChart(vegaEmbed);\n",
       "    } else {\n",
       "      loadScript(\"vega\")\n",
       "        .then(() => loadScript(\"vega-lite\"))\n",
       "        .then(() => loadScript(\"vega-embed\"))\n",
       "        .catch(showError)\n",
       "        .then(() => displayChart(vegaEmbed));\n",
       "    }\n",
       "  })({\"config\": {\"view\": {\"continuousWidth\": 400, \"continuousHeight\": 300}}, \"data\": {\"url\": \"http://localhost:24754/83c691f29922e4b02154c5675c351467.json\"}, \"mark\": {\"type\": \"line\", \"color\": \"rgb(175,91,92)\", \"opacity\": 1, \"strokeWidth\": 2}, \"encoding\": {\"x\": {\"type\": \"temporal\", \"axis\": {\"title\": \"time\"}, \"field\": \"x\"}, \"y\": {\"type\": \"quantitative\", \"axis\": {\"title\": \"prediction\"}, \"field\": \"y\"}}, \"height\": 200, \"width\": 900, \"$schema\": \"https://vega.github.io/schema/vega-lite/v4.8.1.json\"}, {\"actions\": false, \"mode\": \"vega-lite\"});\n",
       "</script>"
      ],
      "text/plain": [
       "alt.Chart(...)"
      ]
     },
     "execution_count": 31,
     "metadata": {},
     "output_type": "execute_result"
    }
   ],
   "source": [
    "x = prediction[\"time\"]\n",
    "y2 = prediction[\"prediction\"].mean([\"x\", \"y\"])\n",
    "\n",
    "(\n",
    "    plot.line(\n",
    "        x=x, y=y2, width=900, height=200, color=\"rgb(175,91,92)\", strokeWidth=2\n",
    "    )\n",
    ")"
   ]
  }
 ],
 "metadata": {
  "kernelspec": {
   "display_name": "Python 3",
   "language": "python",
   "name": "python3"
  },
  "language_info": {
   "codemirror_mode": {
    "name": "ipython",
    "version": 3
   },
   "file_extension": ".py",
   "mimetype": "text/x-python",
   "name": "python",
   "nbconvert_exporter": "python",
   "pygments_lexer": "ipython3",
   "version": "3.8.6"
  }
 },
 "nbformat": 4,
 "nbformat_minor": 4
}
