{
 "cells": [
  {
   "cell_type": "code",
   "execution_count": null,
   "id": "pretty-wagon",
   "metadata": {},
   "outputs": [],
   "source": [
    "%load_ext autoreload\n",
    "%autoreload 2\n",
    "\n",
    "import numpy as np\n",
    "import pandas as pd\n",
    "import scipy as sp\n",
    "from carbonplan_forest_risks import load, setup, plot, fit, utils, prepare, collect\n",
    "import xarray as xr\n",
    "from carbonplan_forest_risks.utils import get_store\n",
    "import altair as alt\n",
    "from carbonplan.data import cat\n",
    "import rioxarray\n",
    "\n",
    "\n",
    "alt.themes.enable(\"carbonplan_light\")"
   ]
  },
  {
   "cell_type": "code",
   "execution_count": null,
   "id": "phantom-camera",
   "metadata": {},
   "outputs": [],
   "source": [
    "alt.data_transformers.disable_max_rows()"
   ]
  },
  {
   "cell_type": "code",
   "execution_count": null,
   "id": "romance-treat",
   "metadata": {},
   "outputs": [],
   "source": [
    "coarsen = 4\n",
    "mask = (\n",
    "    (\n",
    "        load.nlcd(store=\"az\", year=2001).sel(band=[41, 42, 43, 90]).sum(\"band\")\n",
    "        > 0.25\n",
    "    )\n",
    "    .astype(\"float\")\n",
    "    .coarsen(x=coarsen, y=coarsen, boundary=\"trim\")\n",
    "    .mean()\n",
    ")"
   ]
  },
  {
   "cell_type": "code",
   "execution_count": null,
   "id": "successful-audio",
   "metadata": {},
   "outputs": [],
   "source": [
    "historical_fire = xr.open_zarr(\n",
    "    get_store(\"carbonplan-scratch\", \"data/fire_historical_v3.zarr\")\n",
    ").load()\n",
    "fire_mask = ~np.isnan(historical_fire.historical.isel(time=0).drop(\"time\"))"
   ]
  },
  {
   "cell_type": "code",
   "execution_count": null,
   "id": "reduced-guess",
   "metadata": {},
   "outputs": [],
   "source": [
    "ds = (\n",
    "    xr.open_zarr(get_store(\"carbonplan-scratch\", \"data/fire_future_v3.zarr\"))\n",
    "    .assign_coords({\"x\": mask.x, \"y\": mask.y})\n",
    "    .where(fire_mask)\n",
    "    .groupby(\"time.year\")\n",
    "    .sum()\n",
    "    .where(fire_mask)\n",
    "    .compute()\n",
    ")"
   ]
  },
  {
   "cell_type": "code",
   "execution_count": null,
   "id": "future-friendly",
   "metadata": {},
   "outputs": [],
   "source": [
    "ds_remaining = (\n",
    "    xr.open_zarr(\n",
    "        get_store(\"carbonplan-scratch\", \"data/fire_future_v3_remaining.zarr\")\n",
    "    )\n",
    "    .assign_coords({\"x\": mask.x, \"y\": mask.y})\n",
    "    .groupby(\"time.year\")\n",
    "    .sum()\n",
    "    .where(fire_mask)\n",
    "    .compute()\n",
    ")"
   ]
  },
  {
   "cell_type": "code",
   "execution_count": null,
   "id": "fifty-exhaust",
   "metadata": {},
   "outputs": [],
   "source": [
    "ds = xr.merge([ds, ds_remaining])"
   ]
  },
  {
   "cell_type": "code",
   "execution_count": null,
   "id": "chronic-planet",
   "metadata": {},
   "outputs": [],
   "source": [
    "future_maps = {}\n",
    "future_maps[\"fire\"] = (\n",
    "    ds.sel(year=slice(\"2060\", \"2089\")).mean(dim=\"year\").compute()\n",
    ")"
   ]
  },
  {
   "cell_type": "markdown",
   "id": "excellent-capacity",
   "metadata": {},
   "source": [
    "### load insects\n"
   ]
  },
  {
   "cell_type": "code",
   "execution_count": null,
   "id": "fluid-personality",
   "metadata": {},
   "outputs": [],
   "source": [
    "insect_url_template = \"https://carbonplan.blob.core.windows.net/carbonplan-scratch/from_bill/InsectProjections_3-30/InsectModelProjection_{}.{}.{}-{}.{}-v14climate_3-30-2021.tif\""
   ]
  },
  {
   "cell_type": "code",
   "execution_count": null,
   "id": "portable-commerce",
   "metadata": {},
   "outputs": [],
   "source": [
    "insects = load_impacts(\n",
    "    insect_url_template, historical_fire, coarsen=coarsen\n",
    ").assign_coords({\"year\": np.arange(1975, 2100, 10)})\n",
    "future_maps[\"insects\"] = (\n",
    "    insects.sel(year=slice(2060, 2089)).mean(dim=\"year\") * 100\n",
    ")"
   ]
  },
  {
   "cell_type": "markdown",
   "id": "otherwise-royal",
   "metadata": {},
   "source": [
    "# load drought\n"
   ]
  },
  {
   "cell_type": "code",
   "execution_count": null,
   "id": "musical-fence",
   "metadata": {},
   "outputs": [],
   "source": [
    "drought_url_template = \"https://carbonplan.blob.core.windows.net/carbonplan-scratch/from_bill/DroughtProjections_3-31/DroughtModelProjection_{}.{}.{}-{}.{}-v14climate_3-30-2021.tif\"\n",
    "drought = load_impacts(\n",
    "    drought_url_template, historical_fire, coarsen=coarsen\n",
    ").assign_coords({\"year\": np.arange(1975, 2100, 10)})\n",
    "future_maps[\"drought\"] = (\n",
    "    drought.sel(year=slice(2060, 2089)).mean(dim=\"year\") * 100\n",
    ")"
   ]
  },
  {
   "cell_type": "code",
   "execution_count": null,
   "id": "tracked-banner",
   "metadata": {},
   "outputs": [],
   "source": [
    "gcms = [\n",
    "    (\"MRI-ESM2-0\", (0, 0)),\n",
    "    (\"MIROC-ES2L\", (1, 0)),\n",
    "    (\"MPI-ESM1-2-LR\", (2, 0)),\n",
    "    (\"ACCESS-ESM1-5\", (3, 0)),\n",
    "    (\"ACCESS-CM2\", (4, 0)),\n",
    "    (\"CanESM5-CanOE\", (5, 0)),\n",
    "]\n",
    "titles = [\n",
    "    \"Burn area\\n[fraction/year]\",\n",
    "    \"Drought mortality\\n[]\",\n",
    "    \"Biotic agent mortality\\n[]\",\n",
    "]"
   ]
  },
  {
   "cell_type": "code",
   "execution_count": null,
   "id": "pleasant-standard",
   "metadata": {},
   "outputs": [],
   "source": [
    "scenario_dict = {}\n",
    "for risk in [\"fire\"]:\n",
    "    scenario_dict[risk] = {}\n",
    "    for scenario in [\"ssp245\", \"ssp370\", \"ssp585\"]:\n",
    "        scenario_dict[risk][scenario] = (\n",
    "            future_maps[risk][[gcm + \"_\" + scenario for gcm, _x in gcms]]\n",
    "            .to_array(dim=\"vars\")\n",
    "            .mean(dim=\"vars\")\n",
    "        )\n",
    "for risk in [\"insects\", \"drought\"]:\n",
    "    scenario_dict[risk] = {}\n",
    "    for scenario in [\"ssp245\", \"ssp370\", \"ssp585\"]:\n",
    "        scenario_dict[risk][scenario] = (\n",
    "            future_maps[risk]\n",
    "            .sel(scenario=scenario)\n",
    "            .to_array(dim=\"vars\")\n",
    "            .mean(dim=\"vars\")\n",
    "        )"
   ]
  },
  {
   "cell_type": "code",
   "execution_count": null,
   "id": "consecutive-dominant",
   "metadata": {},
   "outputs": [],
   "source": [
    "fire_plots = alt.hconcat()\n",
    "for scenario in [\"ssp245\", \"ssp370\", \"ssp585\"]:\n",
    "    panel = plot.fire.simple_map(\n",
    "        scenario_dict[\"fire\"][scenario],\n",
    "        clim=(0.00, 0.03),\n",
    "        clabel=\"Burn area (fraction/year)\",\n",
    "        cmap=[\"#F9D3BD\", \"#E87A3D\", \"#752003\"],\n",
    "        title1=scenario,\n",
    "    )\n",
    "    fire_plots |= panel\n",
    "\n",
    "insects_plots = alt.hconcat()\n",
    "for scenario in [\"ssp245\", \"ssp370\", \"ssp585\"]:\n",
    "    panel = plot.fire.simple_map(\n",
    "        scenario_dict[\"insects\"][scenario],\n",
    "        clim=(0, 5),\n",
    "        clabel=\"Insect mortality (%/year)\",\n",
    "        cmap=[\"#CFE0F9\", \"#588EF9\", \"#0432A5\"],\n",
    "        title1=scenario,\n",
    "    )\n",
    "    insects_plots |= panel"
   ]
  },
  {
   "cell_type": "code",
   "execution_count": null,
   "id": "included-credit",
   "metadata": {},
   "outputs": [],
   "source": [
    "alt.vconcat(fire_plots, insects_plots).resolve_scale(color=\"independent\")"
   ]
  }
 ],
 "metadata": {
  "kernelspec": {
   "display_name": "Python [conda env:notebook] *",
   "language": "python",
   "name": "conda-env-notebook-py"
  },
  "language_info": {
   "codemirror_mode": {
    "name": "ipython",
    "version": 3
   },
   "file_extension": ".py",
   "mimetype": "text/x-python",
   "name": "python",
   "nbconvert_exporter": "python",
   "pygments_lexer": "ipython3",
   "version": "3.8.8"
  }
 },
 "nbformat": 4,
 "nbformat_minor": 5
}
