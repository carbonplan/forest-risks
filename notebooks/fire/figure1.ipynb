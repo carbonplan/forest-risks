{
 "cells": [
  {
   "cell_type": "markdown",
   "id": "removed-elements",
   "metadata": {},
   "source": [
    "<img width=\"50\" src=\"https://carbonplan-assets.s3.amazonaws.com/monogram/dark-small.png\" style=\"margin-left:0px;margin-top:20px\"/>\n",
    "\n",
    "# Figure 1: Observed and modelled forest risks\n",
    "\n",
    "_Authors: Oriana Chegwidden and Jeremy Freeman_\n",
    "\n",
    "The methods below conduct the analyses to recreate Figure 1 included the\n",
    "manuscript <<< insert doi >>>. They draw from a model data produced by running\n",
    "`../../../scripts/fire.py` to create a the file located at\n",
    "`az:carbonplan-scratch/data/fire.zarr`.\n"
   ]
  },
  {
   "cell_type": "code",
   "execution_count": null,
   "id": "swiss-africa",
   "metadata": {},
   "outputs": [],
   "source": [
    "%load_ext autoreload\n",
    "%autoreload 2\n",
    "\n",
    "import numpy as np\n",
    "import pandas as pd\n",
    "import scipy as sp\n",
    "from carbonplan_forests import load, setup, plot, fit, utils, prepare, collect\n",
    "import xarray as xr\n",
    "from carbonplan_forests.utils import get_store\n",
    "import altair as alt\n",
    "import rioxarray\n",
    "from carbonplan.data import cat\n",
    "alt.data_transformers.disable_max_rows()"
   ]
  },
  {
   "cell_type": "markdown",
   "id": "painted-participant",
   "metadata": {},
   "source": [
    "## Load in the fire data\n"
   ]
  },
  {
   "cell_type": "code",
   "execution_count": null,
   "id": "technical-province",
   "metadata": {},
   "outputs": [],
   "source": [
    "coarsen = 4\n",
    "store = \"az\"\n",
    "tlim = (\"1984\", \"2018\")"
   ]
  },
  {
   "cell_type": "markdown",
   "id": "motivated-petite",
   "metadata": {},
   "source": [
    "#### Historical simulation\n"
   ]
  },
  {
   "cell_type": "code",
   "execution_count": null,
   "id": "behind-chicago",
   "metadata": {},
   "outputs": [],
   "source": [
    "historical_ds = xr.open_zarr(\n",
    "    get_store(\"carbonplan-scratch\", \"data/fire_historical_v2.zarr\")\n",
    ")"
   ]
  },
  {
   "cell_type": "markdown",
   "id": "departmental-turtle",
   "metadata": {},
   "source": [
    "#### Observations\n"
   ]
  },
  {
   "cell_type": "code",
   "execution_count": null,
   "id": "unnecessary-drove",
   "metadata": {},
   "outputs": [],
   "source": [
    "mask = (\n",
    "    load.nlcd(store=store, year=2001).sel(band=[41, 42, 43, 90]).sum(\"band\")\n",
    "    > 0.25\n",
    ").astype(\"float\")\n",
    "mtbs = load.mtbs(store=store, coarsen=coarsen, tlim=tlim, mask=mask)\n",
    "mtbs = mtbs.assign_coords({\"x\": historical_ds.x, \"y\": historical_ds.y})"
   ]
  },
  {
   "cell_type": "markdown",
   "id": "entertaining-female",
   "metadata": {},
   "source": [
    "## Load in the drought data\n"
   ]
  },
  {
   "cell_type": "markdown",
   "id": "ruled-nebraska",
   "metadata": {},
   "source": [
    "#### Observations\n"
   ]
  },
  {
   "cell_type": "markdown",
   "id": "digital-cancellation",
   "metadata": {},
   "source": [
    "#### Historical simulation\n"
   ]
  },
  {
   "cell_type": "code",
   "execution_count": null,
   "id": "industrial-score",
   "metadata": {},
   "outputs": [],
   "source": [
    "target = cat.nlcd.raster.to_dask()\n",
    "source = xr.open_rasterio(\n",
    "    \"https://carbonplan.blob.core.windows.net/carbonplan-scratch/from_bill/Fig1D_AllMortModel_ModeledFIAlongHistMort_3-19-2021.tiff\"\n",
    ")\n",
    "source = source.where(source > -1)\n",
    "drought = source.rio.reproject_match(target)\n",
    "drought = (\n",
    "    drought.where(drought > -1)\n",
    "    .coarsen(x=coarsen, y=coarsen, boundary=\"trim\")\n",
    "    .mean()\n",
    "    .sel(band=1)\n",
    ")\n",
    "drought = drought.assign_coords({\"lat\": mtbs.lat, \"lon\": mtbs.lon})"
   ]
  },
  {
   "cell_type": "code",
   "execution_count": null,
   "id": "apart-money",
   "metadata": {},
   "outputs": [],
   "source": [
    "mtbs"
   ]
  },
  {
   "cell_type": "markdown",
   "id": "ruled-native",
   "metadata": {},
   "source": [
    "## Load in the biotic agents data\n"
   ]
  },
  {
   "cell_type": "markdown",
   "id": "considered-alignment",
   "metadata": {},
   "source": [
    "#### Observations\n"
   ]
  },
  {
   "cell_type": "markdown",
   "id": "empty-cambodia",
   "metadata": {},
   "source": [
    "#### Historical simulation\n"
   ]
  },
  {
   "cell_type": "markdown",
   "id": "silver-string",
   "metadata": {},
   "source": [
    "## Plot the figure for all three impacts\n"
   ]
  },
  {
   "cell_type": "code",
   "execution_count": null,
   "id": "falling-beginning",
   "metadata": {},
   "outputs": [],
   "source": [
    "full_plot = alt.vconcat().resolve_scale(color=\"independent\")\n",
    "fire_chart = plot.fire.simple_map(\n",
    "    mtbs[\"monthly\"].groupby(\"time.year\").sum().mean(dim=\"year\"),\n",
    "    data2=historical_ds[\"historical\"]\n",
    "    .groupby(\"time.year\")\n",
    "    .sum()\n",
    "    .mean(dim=\"year\"),\n",
    "    title1=\"Observed\",\n",
    "    title2=\"Modelled\",\n",
    "    clim=(0.001, 0.008),\n",
    "    clabel=\"Burn area (fraction/year)\",\n",
    "    cmap=[\"white\", \"#EA9755\"],\n",
    ")\n",
    "insects_chart = plot.fire.simple_map(\n",
    "    mtbs[\"monthly\"].groupby(\"time.year\").sum().mean(dim=\"year\"),\n",
    "    data2=historical_ds[\"historical\"]\n",
    "    .groupby(\"time.year\")\n",
    "    .sum()\n",
    "    .mean(dim=\"year\"),\n",
    "    title1=\"Observed\",\n",
    "    title2=\"Modelled\",\n",
    "    clim=(0.001, 0.008),\n",
    "    clabel=\"Biotic agents morality ()\",\n",
    "    cmap=[\"white\", \"#85A2F7\"],\n",
    ")\n",
    "drought_chart = plot.fire.simple_map(\n",
    "    mtbs[\"monthly\"].groupby(\"time.year\").sum().mean(dim=\"year\"),\n",
    "    data2=drought,\n",
    "    title1=\"Observed\",\n",
    "    title2=\"Modelled\",\n",
    "    clim=(0.001, 0.02),\n",
    "    clabel=\"Drought mortality ()\",\n",
    "    cmap=[\"white\", \"#E587B6\"],\n",
    ")\n",
    "\n",
    "full_plot &= fire_chart\n",
    "full_plot &= insects_chart\n",
    "full_plot &= drought_chart"
   ]
  },
  {
   "cell_type": "code",
   "execution_count": null,
   "id": "otherwise-convertible",
   "metadata": {},
   "outputs": [],
   "source": [
    "full_plot.configure_view(strokeOpacity=0)"
   ]
  },
  {
   "cell_type": "code",
   "execution_count": null,
   "id": "abandoned-adobe",
   "metadata": {},
   "outputs": [],
   "source": [
    "plot.fire.monthly(\n",
    "    mtbs,\n",
    "    \"monthly\",\n",
    "    clim=(0.0001, 0.002),\n",
    "    cmap=\"reds\",\n",
    "    clabel=\"Burn area [fraction/month]\",\n",
    ")"
   ]
  },
  {
   "cell_type": "code",
   "execution_count": null,
   "id": "attractive-capability",
   "metadata": {},
   "outputs": [],
   "source": [
    "plot.fire.monthly(\n",
    "    historical_ds,\n",
    "    \"historical\",\n",
    "    clim=(0.0001, 0.002),\n",
    "    cmap=\"reds\",\n",
    "    clabel=\"Burn area [fraction/month]\",\n",
    ")"
   ]
  }
 ],
 "metadata": {
  "kernelspec": {
   "display_name": "Python [conda env:notebook] *",
   "language": "python",
   "name": "conda-env-notebook-py"
  },
  "language_info": {
   "codemirror_mode": {
    "name": "ipython",
    "version": 3
   },
   "file_extension": ".py",
   "mimetype": "text/x-python",
   "name": "python",
   "nbconvert_exporter": "python",
   "pygments_lexer": "ipython3",
   "version": "3.8.8"
  }
 },
 "nbformat": 4,
 "nbformat_minor": 5
}
