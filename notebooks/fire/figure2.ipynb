{
 "cells": [
  {
   "cell_type": "markdown",
   "id": "middle-atmosphere",
   "metadata": {},
   "source": [
    "<img width=\"50\" src=\"https://carbonplan-assets.s3.amazonaws.com/monogram/dark-small.png\" style=\"margin-left:0px;margin-top:20px\"/>\n",
    "\n",
    "# Figure 2\n",
    "\n",
    "_Authors: Oriana Chegwidden and Jeremy Freeman_\n",
    "\n",
    "The methods below conduct the analyses to recreate Figure 2 included the\n",
    "manuscript <<< insert doi >>>.\n"
   ]
  },
  {
   "cell_type": "code",
   "execution_count": null,
   "id": "computational-consumer",
   "metadata": {},
   "outputs": [],
   "source": [
    "%load_ext autoreload\n",
    "%autoreload 2\n",
    "\n",
    "import numpy as np\n",
    "import pandas as pd\n",
    "import scipy as sp\n",
    "from carbonplan_forests import load, setup, plot, fit, utils, prepare, collect\n",
    "import xarray as xr\n",
    "from carbonplan_forests.utils import get_store\n"
   ]
  },
  {
   "cell_type": "code",
   "execution_count": null,
   "id": "centered-clause",
   "metadata": {},
   "outputs": [],
   "source": [
    "%matplotlib inline\n",
    "import matplotlib.pyplot as plt\n",
    "from carbonplan_forests import load, setup, plot, fit, utils, prepare, collect\n",
    "from showit import image\n",
    "import scipy as sp\n",
    "import numpy as np\n",
    "import pandas as pd\n",
    "import xarray as xr\n",
    "import geopandas as gpd\n",
    "import regionmask as rm\n",
    "from scipy.stats import binom\n",
    "import altair as alt\n",
    "\n",
    "from palettable.colorbrewer.sequential import YlOrRd_9"
   ]
  },
  {
   "cell_type": "code",
   "execution_count": null,
   "id": "addressed-domain",
   "metadata": {},
   "outputs": [],
   "source": [
    "coarsen = 8\n",
    "store = \"az\"\n",
    "tlim = (\"1984\", \"2018\")"
   ]
  },
  {
   "cell_type": "code",
   "execution_count": null,
   "id": "broke-pittsburgh",
   "metadata": {},
   "outputs": [],
   "source": [
    "historical_ds = xr.open_zarr(get_store(\"carbonplan-scratch\", \"data/fire.zarr\"))"
   ]
  },
  {
   "cell_type": "code",
   "execution_count": null,
   "id": "reverse-trade",
   "metadata": {},
   "outputs": [],
   "source": [
    "mask = load.mask(store=store, year=2001)"
   ]
  },
  {
   "cell_type": "code",
   "execution_count": null,
   "id": "heavy-nicholas",
   "metadata": {},
   "outputs": [],
   "source": [
    "nlcd = load.nlcd(store=store, year=2001, coarsen=coarsen, mask=mask)\n",
    "nftd = load.nftd(store=store, area_threshold=1500, coarsen=coarsen, mask=mask)"
   ]
  },
  {
   "cell_type": "code",
   "execution_count": null,
   "id": "proper-democrat",
   "metadata": {},
   "outputs": [],
   "source": [
    "mtbs = load.mtbs(store=store, coarsen=coarsen, tlim=tlim, mask=mask)\n",
    "# give it the same x/y coords as nftd (and nlcd and climate)\n",
    "# this re-assignment will help us with some masking lower down\n",
    "mtbs = mtbs.assign_coords({\"x\": nftd.x, \"y\": nftd.y})"
   ]
  },
  {
   "cell_type": "code",
   "execution_count": null,
   "id": "wrong-chapel",
   "metadata": {},
   "outputs": [],
   "source": [
    "alt.data_transformers.disable_max_rows()"
   ]
  },
  {
   "cell_type": "code",
   "execution_count": null,
   "id": "south-belize",
   "metadata": {},
   "outputs": [],
   "source": [
    "plot.fire.evaluation(\n",
    "    mtbs,\n",
    "    historical_ds,\n",
    "    data_var=\"monthly\",\n",
    "    model_var=\"historical\",\n",
    "    clim=(0.0001, 0.005),\n",
    "    add_map=False,\n",
    ")"
   ]
  },
  {
   "cell_type": "code",
   "execution_count": null,
   "id": "packed-nickname",
   "metadata": {},
   "outputs": [],
   "source": [
    "historical_ds = xr.open_zarr(\n",
    "    get_store(\"carbonplan-scratch\", \"data/fire_plus2.zarr\")\n",
    ")\n",
    "plot.fire.evaluation(\n",
    "    mtbs,\n",
    "    historical_ds,\n",
    "    data_var=\"monthly\",\n",
    "    model_var=\"historical\",\n",
    "    clim=(0.0001, 0.005),\n",
    "    add_map=False,\n",
    ")"
   ]
  },
  {
   "cell_type": "code",
   "execution_count": null,
   "id": "brown-applicant",
   "metadata": {},
   "outputs": [],
   "source": [
    "historical_ds = xr.open_zarr(\n",
    "    get_store(\"carbonplan-scratch\", \"data/fire_plus4.zarr\")\n",
    ")\n",
    "plot.fire.evaluation(\n",
    "    mtbs,\n",
    "    historical_ds,\n",
    "    data_var=\"monthly\",\n",
    "    model_var=\"historical\",\n",
    "    clim=(0.0001, 0.005),\n",
    "    add_map=False,\n",
    ")"
   ]
  },
  {
   "cell_type": "code",
   "execution_count": null,
   "id": "tribal-multiple",
   "metadata": {},
   "outputs": [],
   "source": [
    "future_ts = xr.open_zarr(\n",
    "    get_store(\"carbonplan-scratch\", \"data/fire_future_temp_precip.zarr\")\n",
    ")"
   ]
  },
  {
   "cell_type": "code",
   "execution_count": null,
   "id": "fantastic-marriage",
   "metadata": {},
   "outputs": [],
   "source": [
    "future_ts = future_ts.assign_coords({\"lat\": mtbs.lat, \"lon\": mtbs.lon})"
   ]
  },
  {
   "cell_type": "code",
   "execution_count": null,
   "id": "coated-stretch",
   "metadata": {},
   "outputs": [],
   "source": [
    "plot.fire.summary(future_ts[\"CanESM5_ssp245\"], clim=(0.0001, 0.02))"
   ]
  },
  {
   "cell_type": "code",
   "execution_count": null,
   "id": "tender-international",
   "metadata": {},
   "outputs": [],
   "source": [
    "plot.fire.summary(future_ts[\"MIROC-ES2L_ssp245\"], clim=(0.0001, 0.02))"
   ]
  },
  {
   "cell_type": "code",
   "execution_count": null,
   "id": "monetary-perry",
   "metadata": {},
   "outputs": [],
   "source": [
    "plot.fire.summary(future_ts[\"CanESM5_ssp370\"], clim=(0.0001, 0.02))"
   ]
  },
  {
   "cell_type": "code",
   "execution_count": null,
   "id": "visible-authentication",
   "metadata": {},
   "outputs": [],
   "source": [
    "plot.fire.summary(future_ts[\"CanESM5_ssp245\"], clim=(0.0001, 0.02))"
   ]
  },
  {
   "cell_type": "code",
   "execution_count": null,
   "id": "muslim-airport",
   "metadata": {},
   "outputs": [],
   "source": [
    "from scipy.stats import zscore"
   ]
  },
  {
   "cell_type": "code",
   "execution_count": null,
   "id": "anticipated-neighborhood",
   "metadata": {},
   "outputs": [],
   "source": [
    "avg = climate.mean(dim=[\"x\", \"y\"])\n",
    "plt.plot(zscore(avg.tmean.groupby(\"time.year\").mean()))\n",
    "plt.plot(\n",
    "    zscore(\n",
    "        future_ts[\"CanESM5_ssp370\"].groupby(\"time.year\").sum().mean([\"x\", \"y\"])\n",
    "    )\n",
    ")"
   ]
  },
  {
   "cell_type": "code",
   "execution_count": null,
   "id": "behind-might",
   "metadata": {},
   "outputs": [],
   "source": [
    "avg = climate.mean(dim=[\"x\", \"y\"])\n",
    "plt.plot(zscore(avg.tmean.groupby(\"time.year\").mean()))\n",
    "plt.plot(\n",
    "    zscore(\n",
    "        future_ts[\"CanESM5_ssp245\"].groupby(\"time.year\").sum().mean([\"x\", \"y\"])\n",
    "    )\n",
    ")"
   ]
  },
  {
   "cell_type": "code",
   "execution_count": null,
   "id": "considered-travel",
   "metadata": {},
   "outputs": [],
   "source": [
    "toplot = (\n",
    "    future_ts.groupby(\"time.year\")\n",
    "    .sum()\n",
    "    .coarsen(year=5)\n",
    "    .mean()\n",
    "    .mean(dim=[\"x\", \"y\"])\n",
    "    .compute()\n",
    ")  # ['MIROC-ES2L_ssp245']"
   ]
  },
  {
   "cell_type": "code",
   "execution_count": null,
   "id": "needed-clock",
   "metadata": {},
   "outputs": [],
   "source": [
    "line_style = {\"ssp245\": \"dotted\", \"ssp370\": \"dashed\", \"ssp585\": \"solid\"}\n",
    "colors = {\n",
    "    \"CanESM5\": \"black\",\n",
    "    \"MRI-ESM2-0\": \"red\",\n",
    "    \"MIROC-ES2L\": \"orange\",\n",
    "    \"MIROC6\": \"blue\",\n",
    "    \"FGOALS-g3\": \"green\",\n",
    "    \"HadGEM3-GC31-LL\": \"grey\",\n",
    "}\n",
    "plt.figure(figsize=(12, 8))\n",
    "for scenario in [\"ssp245\", \"ssp370\", \"ssp585\"]:\n",
    "    for gcm in [\n",
    "        \"CanESM5\",\n",
    "        \"MRI-ESM2-0\",\n",
    "        \"MIROC-ES2L\",\n",
    "        \"MIROC6\",\n",
    "        \"FGOALS-g3\",\n",
    "        \"HadGEM3-GC31-LL\",\n",
    "    ]:\n",
    "        run_name = \"{}_{}\".format(gcm, scenario)\n",
    "        try:\n",
    "            toplot[run_name].plot(\n",
    "                label=run_name,\n",
    "                linestyle=line_style[scenario],\n",
    "                color=colors[gcm],\n",
    "            )\n",
    "        except:\n",
    "            print(\"{} nope\".format(run_name))\n",
    "plt.ylabel(\"fire risk\")\n",
    "plt.ylim(0, 0.01)\n",
    "plt.legend()"
   ]
  },
  {
   "cell_type": "code",
   "execution_count": null,
   "id": "reflected-official",
   "metadata": {},
   "outputs": [],
   "source": [
    "figure = alt.vconcat()\n",
    "for scenario in [\"ssp245\", \"ssp370\", \"ssp585\"]:\n",
    "    for gcm in [\n",
    "        \"CanESM5\",\n",
    "        \"MRI-ESM2-0\",\n",
    "        \"MIROC-ES2L\",\n",
    "        \"MIROC6\",\n",
    "        \"FGOALS-g3\",\n",
    "        \"HadGEM3-GC31-LL\",\n",
    "    ]:\n",
    "        run_name = \"{}_{}\".format(gcm, scenario)\n",
    "        try:\n",
    "            panel = plot.fire.summary(\n",
    "                future_ts[run_name], clim=(0.0001, 0.08), title=run_name\n",
    "            )\n",
    "            figure &= panel\n",
    "        except:\n",
    "            print(\"nope!\")"
   ]
  },
  {
   "cell_type": "code",
   "execution_count": null,
   "id": "hindu-remedy",
   "metadata": {},
   "outputs": [],
   "source": [
    "figure"
   ]
  },
  {
   "cell_type": "markdown",
   "id": "attractive-vienna",
   "metadata": {},
   "source": [
    "# Let's check all the z-scores\n"
   ]
  },
  {
   "cell_type": "code",
   "execution_count": null,
   "id": "personal-essex",
   "metadata": {},
   "outputs": [],
   "source": [
    "for scenario in [\"ssp245\", \"ssp370\", \"ssp585\"]:\n",
    "    for (gcm, member) in [\n",
    "        (\"CanESM5\", \"r10i1p1f1\"),\n",
    "        (\"UKESM1-0-LL\", \"r10i1p1f2\"),\n",
    "        (\"MRI-ESM2-0\", \"r1i1p1f1\"),\n",
    "        (\"MIROC-ES2L\", \"r1i1p1f2\"),\n",
    "        (\"MIROC6\", \"r10i1p1f1\"),\n",
    "        (\"FGOALS-g3\", \"r1i1p1f1\"),\n",
    "        (\"HadGEM3-GC31-LL\", \"r1i1p1f3\"),\n",
    "    ]:\n",
    "        try:\n",
    "            run_name = \"{}_{}\".format(gcm, scenario)\n",
    "            #         try:\n",
    "            climate = load.cmip(\n",
    "                store=\"az\",\n",
    "                model=gcm,\n",
    "                coarsen=8,\n",
    "                scenario=scenario,\n",
    "                tlim=(\"2015\", \"2099\"),\n",
    "                variables=[\"tmean\", \"ppt\"],\n",
    "                sampling=\"monthly\",\n",
    "                member=member,\n",
    "            ).mean(dim=[\"x\", \"y\"])\n",
    "            plt.figure(figsize=(6, 5))\n",
    "            plt.plot(\n",
    "                zscore(climate.tmean.groupby(\"time.year\").mean()), label=\"temp\"\n",
    "            )\n",
    "            plt.plot(\n",
    "                zscore(climate.ppt.groupby(\"time.year\").mean()), label=\"ppt\"\n",
    "            )\n",
    "            plt.plot(\n",
    "                zscore(\n",
    "                    future_ts[run_name]\n",
    "                    .groupby(\"time.year\")\n",
    "                    .sum()\n",
    "                    .mean([\"x\", \"y\"])\n",
    "                ),\n",
    "                label=\"fire\",\n",
    "            )\n",
    "            plt.title(run_name)\n",
    "            plt.legend()\n",
    "        except:\n",
    "            print(\"nope\")"
   ]
  }
 ],
 "metadata": {
  "kernelspec": {
   "display_name": "Python [conda env:notebook] *",
   "language": "python",
   "name": "conda-env-notebook-py"
  },
  "language_info": {
   "codemirror_mode": {
    "name": "ipython",
    "version": 3
   },
   "file_extension": ".py",
   "mimetype": "text/x-python",
   "name": "python",
   "nbconvert_exporter": "python",
   "pygments_lexer": "ipython3",
   "version": "3.7.9"
  }
 },
 "nbformat": 4,
 "nbformat_minor": 5
}
