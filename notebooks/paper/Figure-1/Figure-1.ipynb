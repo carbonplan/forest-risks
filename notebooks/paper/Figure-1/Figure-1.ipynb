{
 "cells": [
  {
   "cell_type": "markdown",
   "id": "alternate-hunter",
   "metadata": {},
   "source": [
    "<img width=\"50\" src=\"https://carbonplan-assets.s3.amazonaws.com/monogram/dark-small.png\" style=\"margin-left:0px;margin-top:20px\"/>\n",
    "\n",
    "# Figure 1: Observed and modelled forest risks\n",
    "\n",
    "_Authors: Oriana Chegwidden and Jeremy Freeman_\n",
    "\n",
    "The methods below conduct the analyses to recreate Figure 1 included the\n",
    "manuscript <<< insert doi >>>. They draw from a model data produced by running\n",
    "`../../../scripts/fire.py` to create a the file located at\n",
    "`az:carbonplan-scratch/data/fire.zarr`.\n"
   ]
  },
  {
   "cell_type": "code",
   "execution_count": null,
   "id": "impressed-ribbon",
   "metadata": {},
   "outputs": [],
   "source": [
    "%load_ext autoreload\n",
    "%autoreload 2\n",
    "\n",
    "import numpy as np\n",
    "import pandas as pd\n",
    "import scipy as sp\n",
    "from carbonplan_forest_risks import load, setup, plot, fit, utils, prepare, collect\n",
    "import xarray as xr\n",
    "from carbonplan_forest_risks.utils import get_store\n",
    "import altair as alt\n",
    "import rioxarray\n",
    "from carbonplan.data import cat\n",
    "from carbonplan_styles.mpl import get_colormap\n",
    "import cartopy.crs as ccrs\n",
    "import cartopy\n",
    "import cartopy.feature as cfeature\n",
    "import matplotlib.pyplot as plt\n",
    "import matplotlib\n",
    "from mpl_toolkits.axes_grid1 import make_axes_locatable\n",
    "\n",
    "from carbonplan_data import utils\n",
    "alt.data_transformers.disable_max_rows()"
   ]
  },
  {
   "cell_type": "markdown",
   "id": "secondary-falls",
   "metadata": {},
   "source": [
    "### Initialize the dictionary where you'll store all of your datasets.\n"
   ]
  },
  {
   "cell_type": "code",
   "execution_count": null,
   "id": "australian-privacy",
   "metadata": {},
   "outputs": [],
   "source": [
    "ds_dict = {}"
   ]
  },
  {
   "cell_type": "markdown",
   "id": "champion-florist",
   "metadata": {},
   "source": [
    "## Load in the fire data\n"
   ]
  },
  {
   "cell_type": "code",
   "execution_count": null,
   "id": "recreational-modern",
   "metadata": {},
   "outputs": [],
   "source": [
    "coarsen = 4\n",
    "store = \"az\"\n",
    "tlim = (\"1984\", \"2018\")"
   ]
  },
  {
   "cell_type": "markdown",
   "id": "indirect-remark",
   "metadata": {},
   "source": [
    "#### Historical simulation\n"
   ]
  },
  {
   "cell_type": "code",
   "execution_count": null,
   "id": "representative-locking",
   "metadata": {},
   "outputs": [],
   "source": [
    "historical_fire = xr.open_zarr(\n",
    "    get_store(\n",
    "        \"carbonplan-forests\", \"risks/results/paper/fire_terraclimate.zarr\"\n",
    "    )\n",
    ")"
   ]
  },
  {
   "cell_type": "code",
   "execution_count": null,
   "id": "smaller-interference",
   "metadata": {},
   "outputs": [],
   "source": [
    "fire_mask = ~np.isnan(historical_fire.historical.isel(time=0).drop(\"time\"))"
   ]
  },
  {
   "cell_type": "code",
   "execution_count": null,
   "id": "alert-laptop",
   "metadata": {},
   "outputs": [],
   "source": [
    "ds_dict[\"Fire_modeled\"] = (\n",
    "    xr.open_zarr(\n",
    "        get_store(\n",
    "            \"carbonplan-forests\",\n",
    "            \"risks/results/paper/fire_terraclimate.zarr\",\n",
    "        )\n",
    "    )\n",
    "    .groupby(\"time.year\")\n",
    "    .sum()\n",
    "    .where(fire_mask)\n",
    "    .mean(dim=\"year\")\n",
    ").compute()[\"historical\"]"
   ]
  },
  {
   "cell_type": "markdown",
   "id": "informal-running",
   "metadata": {},
   "source": [
    "#### Observations\n"
   ]
  },
  {
   "cell_type": "code",
   "execution_count": null,
   "id": "soviet-contributor",
   "metadata": {},
   "outputs": [],
   "source": [
    "mask = (\n",
    "    load.nlcd(store=store, year=2001).sel(band=[41, 42, 43, 90]).sum(\"band\")\n",
    "    > 0.25\n",
    ").astype(\"float\")"
   ]
  },
  {
   "cell_type": "code",
   "execution_count": null,
   "id": "internal-adapter",
   "metadata": {},
   "outputs": [],
   "source": [
    "ds_dict[\"Fire_observed\"] = load.mtbs(\n",
    "    store=store, coarsen=coarsen, tlim=tlim, mask=mask\n",
    ")\n",
    "ds_dict[\"Fire_observed\"] = (\n",
    "    ds_dict[\"Fire_observed\"]\n",
    "    .assign_coords(\n",
    "        {\"x\": ds_dict[\"Fire_modeled\"].x, \"y\": ds_dict[\"Fire_modeled\"].y}\n",
    "    )\n",
    "    .assign_coords(\n",
    "        {\n",
    "            \"lat\": ds_dict[\"Fire_modeled\"].lat,\n",
    "            \"lon\": ds_dict[\"Fire_modeled\"].lon,\n",
    "        }\n",
    "    )\n",
    "    .groupby(\"time.year\")\n",
    "    .sum()\n",
    "    .where(fire_mask)\n",
    "    .mean(dim=\"year\")\n",
    ").compute()[\"monthly\"]"
   ]
  },
  {
   "cell_type": "markdown",
   "id": "national-address",
   "metadata": {},
   "source": [
    "### Load in insect and drought data\n"
   ]
  },
  {
   "cell_type": "code",
   "execution_count": null,
   "id": "static-madonna",
   "metadata": {},
   "outputs": [],
   "source": [
    "base_url_tempate = \"https://carbonplan.blob.core.windows.net/carbonplan-forests/risks/results/paper/insects_and_drought_eval/{}\"\n",
    "dataset_urls = {\n",
    "    \"Drought\": {\n",
    "        \"modeled\": base_url_tempate.format(\n",
    "            \"Fig1D_DroughtModel_ModeledFIAlongEnsembleHistMort_04-22-2021.tiff\"\n",
    "        ),\n",
    "        \"observed\": base_url_tempate.format(\n",
    "            \"Fig1C_DroughtModel_FIAwide-ObsMort_05-08-2021.tiff\"\n",
    "        ),\n",
    "    },\n",
    "    \"Insects\": {\n",
    "        \"modeled\": base_url_tempate.format(\n",
    "            \"Fig1F_InsectModel_ModeledFIAlongEnsembleHistMort_04-22-2021.tiff\"\n",
    "        ),\n",
    "        \"observed\": base_url_tempate.format(\n",
    "            #             \"Fig1E_InsectModel_ObservedHistMort_3-30-2021.tif\"\n",
    "            #             \"Fig1E_InsectModel_ObservedHistMort_04-09-2021.tif\"\n",
    "            \"Fig1E_InsectModel_FIAwide-ObsMort_05-08-2021.tiff\"\n",
    "        ),\n",
    "    },\n",
    "}"
   ]
  },
  {
   "cell_type": "markdown",
   "id": "seventh-scope",
   "metadata": {},
   "source": [
    "## Load in the drought and insect data\n"
   ]
  },
  {
   "cell_type": "markdown",
   "id": "overall-cincinnati",
   "metadata": {},
   "source": [
    "#### Observations and Historical simulations\n"
   ]
  },
  {
   "cell_type": "code",
   "execution_count": null,
   "id": "pressing-rwanda",
   "metadata": {},
   "outputs": [],
   "source": [
    "for mechanism, url_dict in dataset_urls.items():\n",
    "    for setup, url in url_dict.items():\n",
    "        print(url)\n",
    "        ds_dict[mechanism + \"_\" + setup] = load.tiff(url, mask, coarsen=1) * 100"
   ]
  },
  {
   "cell_type": "markdown",
   "id": "charming-spencer",
   "metadata": {},
   "source": [
    "## Plot the figure for all three impacts\n"
   ]
  },
  {
   "cell_type": "code",
   "execution_count": null,
   "id": "impressive-election",
   "metadata": {},
   "outputs": [],
   "source": [
    "plot_params = {\n",
    "    \"Fire\": {\n",
    "        \"cmap\": get_colormap(\"reds\"),\n",
    "        \"var_lims\": (0, 0.004),\n",
    "        \"label\": \"Burn area\\n(fraction/year)\",\n",
    "        \"panel\": [\"A\", \"B\"],\n",
    "        \"cbar_ylocation\": 0.76,\n",
    "    },\n",
    "    \"Drought\": {\n",
    "        \"cmap\": get_colormap(\"pinks\"),\n",
    "        \"var_lims\": (0, 2),\n",
    "        \"label\": \"Drought-related\\nmortality (%/year)\",\n",
    "        \"panel\": [\"C\", \"D\"],\n",
    "        \"cbar_ylocation\": 0.4,\n",
    "    },\n",
    "    \"Insects\": {\n",
    "        \"cmap\": get_colormap(\"blues\"),\n",
    "        \"var_lims\": (0, 0.4),\n",
    "        \"label\": \"Insect-related\\nmortality (%/year)\",\n",
    "        \"panel\": [\"E\", \"F\"],\n",
    "        \"cbar_ylocation\": 0.04,\n",
    "    },\n",
    "}"
   ]
  },
  {
   "cell_type": "code",
   "execution_count": null,
   "id": "optical-athens",
   "metadata": {},
   "outputs": [],
   "source": [
    "matplotlib.rc(\"font\", family=\"sans-serif\")\n",
    "matplotlib.rc(\"font\", serif=\"Helvetica Neue\")\n",
    "matplotlib.rc(\"text\", usetex=\"false\")\n",
    "matplotlib.rcParams.update({\"font.size\": 14, \"svg.fonttype\": \"none\"})"
   ]
  },
  {
   "cell_type": "code",
   "execution_count": null,
   "id": "impressive-finnish",
   "metadata": {},
   "outputs": [],
   "source": [
    "fig, axarr = plt.subplots(\n",
    "    nrows=3,\n",
    "    ncols=2,\n",
    "    figsize=(10, 12),\n",
    "    subplot_kw={\"projection\": plot.cartopy_proj_albers()},\n",
    ")\n",
    "for row, impact in enumerate([\"Fire\", \"Drought\", \"Insects\"]):\n",
    "    for column, setup in enumerate([\"observed\", \"modeled\"]):\n",
    "        vmin, vmax = (\n",
    "            plot_params[impact][\"var_lims\"][0],\n",
    "            plot_params[impact][\"var_lims\"][1],\n",
    "        )\n",
    "        map_plot = ds_dict[\"{}_{}\".format(impact, setup)].plot.imshow(\n",
    "            ax=axarr[row, column],\n",
    "            cmap=plot_params[impact][\"cmap\"],\n",
    "            vmin=vmin,\n",
    "            vmax=vmax,\n",
    "            add_colorbar=False,\n",
    "        )\n",
    "        plot.map_pretty(axarr[row, column], title=setup.capitalize())\n",
    "        axarr[row, column].text(\n",
    "            0.12,\n",
    "            1.05,\n",
    "            plot_params[impact][\"panel\"][column],\n",
    "            transform=axarr[row, column].transAxes,\n",
    "            fontsize=18,\n",
    "        )\n",
    "    plot.add_colorbar(\n",
    "        fig,\n",
    "        to_plot=map_plot,\n",
    "        y_location=plot_params[impact][\"cbar_ylocation\"],\n",
    "        vmin=plot_params[impact][\"var_lims\"][0],\n",
    "        vmax=plot_params[impact][\"var_lims\"][1],\n",
    "        cbar_label=plot_params[impact][\"label\"],\n",
    "    )\n",
    "plt.tight_layout(pad=-6)"
   ]
  }
 ],
 "metadata": {
  "kernelspec": {
   "display_name": "Python [conda env:notebook] *",
   "language": "python",
   "name": "conda-env-notebook-py"
  },
  "language_info": {
   "codemirror_mode": {
    "name": "ipython",
    "version": 3
   },
   "file_extension": ".py",
   "mimetype": "text/x-python",
   "name": "python",
   "nbconvert_exporter": "python",
   "pygments_lexer": "ipython3",
   "version": "3.8.8"
  }
 },
 "nbformat": 4,
 "nbformat_minor": 5
}
