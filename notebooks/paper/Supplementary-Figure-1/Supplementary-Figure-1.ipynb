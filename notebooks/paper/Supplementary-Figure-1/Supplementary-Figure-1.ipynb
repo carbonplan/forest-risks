{
 "cells": [
  {
   "cell_type": "code",
   "execution_count": null,
   "id": "geological-bedroom",
   "metadata": {},
   "outputs": [],
   "source": [
    "import numpy as np\n",
    "import pandas as pd\n",
    "import matplotlib.pyplot as plt"
   ]
  },
  {
   "cell_type": "code",
   "execution_count": null,
   "id": "initial-bonus",
   "metadata": {},
   "outputs": [],
   "source": [
    "plt.rcParams.update({\"font.size\": 14, \"svg.fonttype\": \"none\"})"
   ]
  },
  {
   "cell_type": "code",
   "execution_count": null,
   "id": "helpful-enough",
   "metadata": {},
   "outputs": [],
   "source": [
    "df = pd.read_csv(\"StankeSFigData.csv\")"
   ]
  },
  {
   "cell_type": "code",
   "execution_count": null,
   "id": "industrial-oasis",
   "metadata": {},
   "outputs": [],
   "source": [
    "fig, ax = plt.subplots(1, 1, figsize=(4, 4))\n",
    "ax.plot(df[\"StankeFSI\"], df[\"DrtMort\"], \"k.\", markersize=12)\n",
    "ax.spines[\"top\"].set_visible(False)\n",
    "ax.spines[\"right\"].set_visible(False)\n",
    "ax.set_xlim(-2.25, 1.25)\n",
    "ax.set_xticks([-2, -1, 0, 1])\n",
    "ax.set_ylim([0, 0.025])\n",
    "ax.set_yticks([0, 0.01, 0.02])\n",
    "ax.set_ylabel(\"Mortality (%/year)\")\n",
    "ax.set_xlabel(\"Forest stability index\")\n",
    "m, b = np.polyfit(df[\"StankeFSI\"], df[\"DrtMort\"], 1)\n",
    "plt.plot(df[\"StankeFSI\"], m * df[\"StankeFSI\"] + b, \"gray\")\n",
    "for i, code in enumerate(df[\"SP.CD\"]):\n",
    "    ax.annotate(code, (df[\"StankeFSI\"][i] - 0.25, df[\"DrtMort\"][i] + 0.001))\n",
    "plt.savefig(\"Supplementary-Figure-1.svg\")"
   ]
  }
 ],
 "metadata": {
  "kernelspec": {
   "display_name": "Python 3",
   "language": "python",
   "name": "python3"
  },
  "language_info": {
   "codemirror_mode": {
    "name": "ipython",
    "version": 3
   },
   "file_extension": ".py",
   "mimetype": "text/x-python",
   "name": "python",
   "nbconvert_exporter": "python",
   "pygments_lexer": "ipython3",
   "version": "3.8.6"
  }
 },
 "nbformat": 4,
 "nbformat_minor": 5
}
