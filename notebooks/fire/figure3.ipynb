{
 "cells": [
  {
   "cell_type": "markdown",
   "id": "brazilian-serbia",
   "metadata": {},
   "source": [
    "<img width=\"50\" src=\"https://carbonplan-assets.s3.amazonaws.com/monogram/dark-small.png\" style=\"margin-left:0px;margin-top:20px\"/>\n",
    "\n",
    "# Figure 3: Future projections for each impact\n",
    "\n",
    "_Authors: Oriana Chegwidden and Jeremy Freeman_\n",
    "\n",
    "The methods below conduct the analyses to recreate Figure 4 included the\n",
    "manuscript <<< insert doi >>>. Future risks for fire. We show median changes in\n",
    "risk with respect to the historic.\n"
   ]
  },
  {
   "cell_type": "code",
   "execution_count": null,
   "id": "attended-generic",
   "metadata": {},
   "outputs": [],
   "source": [
    "%load_ext autoreload\n",
    "%autoreload 2\n",
    "\n",
    "import numpy as np\n",
    "import pandas as pd\n",
    "import scipy as sp\n",
    "from carbonplan_forests import load, setup, plot, fit, utils, prepare, collect\n",
    "import xarray as xr\n",
    "from carbonplan_forests.utils import get_store\n"
   ]
  },
  {
   "cell_type": "code",
   "execution_count": null,
   "id": "perceived-affect",
   "metadata": {},
   "outputs": [],
   "source": [
    "%matplotlib inline\n",
    "import matplotlib.pyplot as plt\n",
    "from carbonplan_forests import load, setup, plot, fit, utils, prepare, collect\n",
    "from showit import image\n",
    "import scipy as sp\n",
    "import numpy as np\n",
    "import pandas as pd\n",
    "import xarray as xr\n",
    "import geopandas as gpd\n",
    "import regionmask as rm\n",
    "import altair as alt\n",
    "alt.themes.enable(\"carbonplan_light\")"
   ]
  },
  {
   "cell_type": "code",
   "execution_count": null,
   "id": "corrected-fetish",
   "metadata": {},
   "outputs": [],
   "source": [
    "alt.data_transformers.disable_max_rows()"
   ]
  },
  {
   "cell_type": "code",
   "execution_count": null,
   "id": "governmental-provincial",
   "metadata": {},
   "outputs": [],
   "source": [
    "coarsen = 4"
   ]
  },
  {
   "cell_type": "code",
   "execution_count": null,
   "id": "satellite-wagner",
   "metadata": {},
   "outputs": [],
   "source": [
    "mask = (\n",
    "    (\n",
    "        load.nlcd(store=\"az\", year=2001).sel(band=[41, 42, 43, 90]).sum(\"band\")\n",
    "        > 0.25\n",
    "    )\n",
    "    .astype(\"float\")\n",
    "    .coarsen(x=coarsen, y=coarsen, boundary=\"trim\")\n",
    "    .mean()\n",
    ")  # this right? or just on/off"
   ]
  },
  {
   "cell_type": "code",
   "execution_count": null,
   "id": "essential-postcard",
   "metadata": {},
   "outputs": [],
   "source": [
    "ds = (\n",
    "    xr.open_zarr(get_store(\"carbonplan-scratch\", \"data/fire_future_v2.zarr\"))\n",
    "    .assign_coords({\"x\": mask.x, \"y\": mask.y})\n",
    "    .where(mask)\n",
    "    .groupby(\"time.year\")\n",
    "    .sum()\n",
    "    .where(mask)\n",
    "    .compute()\n",
    ")"
   ]
  },
  {
   "cell_type": "code",
   "execution_count": null,
   "id": "classical-protein",
   "metadata": {},
   "outputs": [],
   "source": [
    "ds_remaining = (\n",
    "    xr.open_zarr(\n",
    "        get_store(\"carbonplan-scratch\", \"data/fire_future_v2_remaining.zarr\")\n",
    "    )\n",
    "    .assign_coords({\"x\": mask.x, \"y\": mask.y})\n",
    "    .groupby(\"time.year\")\n",
    "    .sum()\n",
    "    .where(mask)\n",
    "    .compute()\n",
    ")"
   ]
  },
  {
   "cell_type": "code",
   "execution_count": null,
   "id": "decimal-seating",
   "metadata": {},
   "outputs": [],
   "source": [
    "ds = xr.merge([ds, ds_remaining])"
   ]
  },
  {
   "cell_type": "code",
   "execution_count": null,
   "id": "initial-texture",
   "metadata": {},
   "outputs": [],
   "source": [
    "historical_annual = (\n",
    "    xr.open_zarr(\n",
    "        get_store(\"carbonplan-scratch\", \"data/fire_historical_v2.zarr\")\n",
    "    )\n",
    "    .assign_coords({\"x\": mask.x, \"y\": mask.y})\n",
    "    .groupby(\"time.year\")\n",
    "    .sum()\n",
    "    .where(mask)\n",
    "    .mean(dim=[\"x\", \"y\"])\n",
    "    .compute()\n",
    ")"
   ]
  },
  {
   "cell_type": "code",
   "execution_count": null,
   "id": "banned-interest",
   "metadata": {},
   "outputs": [],
   "source": [
    "future_maps = ds.sel(year=slice(\"2070\", \"2099\")).mean(dim=\"year\").compute()\n",
    "future_ts = ds.mean(dim=[\"x\", \"y\"]).compute()"
   ]
  },
  {
   "cell_type": "markdown",
   "id": "tired-senate",
   "metadata": {},
   "source": [
    "## Plot the figure\n"
   ]
  },
  {
   "cell_type": "code",
   "execution_count": null,
   "id": "macro-agreement",
   "metadata": {},
   "outputs": [],
   "source": [
    "gcms = [\n",
    "    (\"MRI-ESM2-0\", (0, 0)),\n",
    "    (\"MIROC-ES2L\", (1, 0)),\n",
    "    (\"MPI-ESM1-2-LR\", (2, 0)),\n",
    "    (\"ACCESS-ESM1-5\", (3, 0)),\n",
    "    (\"ACCESS-CM2\", (4, 0)),\n",
    "    (\"CanESM5-CanOE\", (5, 0)),\n",
    "]\n",
    "scenario_colors = {\n",
    "    \"ssp245\": \"#7eb36a\",\n",
    "    \"ssp370\": \"#ea9755\",\n",
    "    \"ssp585\": \"#f07071\",\n",
    "}\n",
    "titles = [\n",
    "    \"Burn area\\n[fraction/year]\",\n",
    "    \"Drought mortality\\n[]\",\n",
    "    \"Biotic agent mortality\\n[]\",\n",
    "]"
   ]
  },
  {
   "cell_type": "code",
   "execution_count": null,
   "id": "black-occasions",
   "metadata": {},
   "outputs": [],
   "source": [
    "fig, axarr = plt.subplots(\n",
    "    ncols=3, nrows=6, figsize=(6, 10), sharey=True, sharex=True\n",
    ")\n",
    "for (gcm, location) in gcms:\n",
    "    historical_annual[\"historical\"].plot(\n",
    "        ax=axarr[location], color=\"k\", linestyle=\"--\", label=\"Historical\"\n",
    "    )\n",
    "\n",
    "    future_ts[\"{}_{}\".format(gcm, \"ssp245\")].sel(\n",
    "        year=slice(\"1971\", \"2015\")\n",
    "    ).plot(ax=axarr[location], color=\"k\", alpha=0.5)\n",
    "    future_ts[\"{}_{}\".format(gcm, \"ssp245\")].sel(\n",
    "        year=slice(\"1971\", \"2015\")\n",
    "    ).rolling(dim={\"year\": 10}).mean().plot(\n",
    "        ax=axarr[location], color=\"k\", label=\"Control\"\n",
    "    )\n",
    "\n",
    "    for scenario in [\"ssp245\", \"ssp370\", \"ssp585\"]:\n",
    "        try:\n",
    "            future_ts[\"{}_{}\".format(gcm, scenario)].sel(\n",
    "                year=slice(\"2015\", \"2099\")\n",
    "            ).plot(\n",
    "                ax=axarr[location], color=scenario_colors[scenario], alpha=0.5\n",
    "            )\n",
    "            future_ts[\"{}_{}\".format(gcm, scenario)].sel(\n",
    "                year=slice(\"2015\", \"2099\")\n",
    "            ).rolling(dim={\"year\": 10}).mean().plot(\n",
    "                ax=axarr[location],\n",
    "                color=scenario_colors[scenario],\n",
    "                label=scenario,\n",
    "            )\n",
    "        except:\n",
    "            print(\"oops!\")\n",
    "    axarr[location].set_xlabel(\"\")\n",
    "    axarr[location].set_yticks([0, 0.04, 0.08])\n",
    "    #     axarr[location].set_yscale('log')\n",
    "    axarr[location].set_ylim(0, 0.08)\n",
    "    if location[1] == 0:\n",
    "        axarr[location].set_ylabel(gcm)\n",
    "\n",
    "for i, title in enumerate(titles):\n",
    "    axarr[0, i].title.set_text(title)\n",
    "for ax in axarr.flatten():\n",
    "    for side in [\"top\", \"bottom\", \"right\", \"left\"]:\n",
    "        ax.spines[side].set_visible(False)\n",
    "plt.tight_layout()\n",
    "plt.legend()\n",
    "plt.savefig(\"futuretraces.png\", dpi=300)"
   ]
  },
  {
   "cell_type": "code",
   "execution_count": null,
   "id": "sustainable-banner",
   "metadata": {},
   "outputs": [],
   "source": [
    "ds_rolling = future_ts.rolling(dim={\"year\": 10}).mean()"
   ]
  },
  {
   "cell_type": "code",
   "execution_count": null,
   "id": "thirty-unknown",
   "metadata": {},
   "outputs": [],
   "source": [
    "fig, axarr = plt.subplots(ncols=3, nrows=2, figsize=(14, 6), sharey=True)\n",
    "historical_annual[\"historical\"].plot(\n",
    "    ax=axarr[0, 0], color=\"k\", linestyle=\"--\", label=\"Historical\"\n",
    ")\n",
    "for scenario in [\"ssp245\", \"ssp370\", \"ssp585\"]:\n",
    "    for (gcm, location) in gcms:\n",
    "        ds_rolling[\"{}_{}\".format(gcm, scenario)].sel(\n",
    "            year=slice(\"2015\", \"2099\")\n",
    "        ).plot(ax=axarr[0, 0], color=scenario_colors[scenario], alpha=0.2)\n",
    "\n",
    "    ds_rolling[[\"{}_{}\".format(gcm[0], scenario) for gcm in gcms]].to_array(\n",
    "        dim=\"vars\"\n",
    "    ).mean(\"vars\").plot(\n",
    "        ax=axarr[0, 0], color=scenario_colors[scenario], label=scenario\n",
    "    )\n",
    "axarr[0, 0].set_xlabel(\"\")\n",
    "axarr[0, 0].set_ylim(0, 0.05)\n",
    "\n",
    "axarr[0, 0].legend()\n",
    "\n",
    "for i, impact in enumerate(titles):\n",
    "    axarr[0, i].set_ylabel(impact)\n",
    "impacts = [\"Fire\", \"Drought\", \"Biotic Agents\"]\n",
    "for i, impact in enumerate(impacts):\n",
    "    axarr[0, i].set_title(impact)"
   ]
  },
  {
   "cell_type": "code",
   "execution_count": null,
   "id": "christian-invitation",
   "metadata": {},
   "outputs": [],
   "source": [
    "map_2090s = future_maps.to_array(dim=\"vars\")  # .mean('vars')"
   ]
  },
  {
   "cell_type": "code",
   "execution_count": null,
   "id": "built-chuck",
   "metadata": {},
   "outputs": [],
   "source": [
    "panels = map_2090s.plot(x=\"x\", y=\"y\", col=\"vars\", col_wrap=3, vmin=0, vmax=0.2)"
   ]
  }
 ],
 "metadata": {
  "kernelspec": {
   "display_name": "Python [conda env:notebook] *",
   "language": "python",
   "name": "conda-env-notebook-py"
  },
  "language_info": {
   "codemirror_mode": {
    "name": "ipython",
    "version": 3
   },
   "file_extension": ".py",
   "mimetype": "text/x-python",
   "name": "python",
   "nbconvert_exporter": "python",
   "pygments_lexer": "ipython3",
   "version": "3.8.8"
  }
 },
 "nbformat": 4,
 "nbformat_minor": 5
}
