{
 "cells": [
  {
   "cell_type": "markdown",
   "id": "surface-novel",
   "metadata": {},
   "source": [
    "<img width=\"50\" src=\"https://carbonplan-assets.s3.amazonaws.com/monogram/dark-small.png\" style=\"margin-left:0px;margin-top:20px\"/>\n",
    "\n",
    "# Figure 3: Future projections for each impact\n",
    "\n",
    "_Authors: Oriana Chegwidden and Jeremy Freeman_\n",
    "\n",
    "The methods below conduct the analyses to recreate Figure 4 included the\n",
    "manuscript <<< insert doi >>>. Future risks for fire. We show median changes in\n",
    "risk with respect to the historic.\n"
   ]
  },
  {
   "cell_type": "code",
   "execution_count": null,
   "id": "worth-convergence",
   "metadata": {},
   "outputs": [],
   "source": [
    "%load_ext autoreload\n",
    "%autoreload 2\n",
    "%matplotlib inline\n",
    "import matplotlib.pyplot as plt\n",
    "import numpy as np\n",
    "import pandas as pd\n",
    "import scipy as sp\n",
    "from carbonplan_forest_risks import load, setup, plot, fit, utils, prepare, collect\n",
    "import xarray as xr\n",
    "from carbonplan_forest_risks.utils import get_store\n",
    "import rioxarray\n",
    "from carbonplan.data import cat\n",
    "import matplotlib.gridspec as gridspec"
   ]
  },
  {
   "cell_type": "code",
   "execution_count": null,
   "id": "optical-vinyl",
   "metadata": {},
   "outputs": [],
   "source": [
    "import warnings\n",
    "\n",
    "warnings.filterwarnings(\"ignore\")"
   ]
  },
  {
   "cell_type": "code",
   "execution_count": null,
   "id": "forbidden-claim",
   "metadata": {},
   "outputs": [],
   "source": [
    "coarsen = 4"
   ]
  },
  {
   "cell_type": "code",
   "execution_count": null,
   "id": "arabic-intelligence",
   "metadata": {},
   "outputs": [],
   "source": [
    "mask = (\n",
    "    (\n",
    "        load.nlcd(store=\"az\", year=2001).sel(band=[41, 42, 43, 90]).sum(\"band\")\n",
    "        > 0.25\n",
    "    )\n",
    "    .astype(\"float\")\n",
    "    .coarsen(x=coarsen, y=coarsen, boundary=\"trim\")\n",
    "    .mean()\n",
    ")"
   ]
  },
  {
   "cell_type": "code",
   "execution_count": null,
   "id": "advised-biodiversity",
   "metadata": {},
   "outputs": [],
   "source": [
    "region_bboxes = {\n",
    "    \"PNW\": {\"x\": slice(-2.5e6, -1e6), \"y\": slice(3.5e6, 2.4e6)},\n",
    "    \"Southwest\": {\"x\": slice(-1.8e6, -0.9e6), \"y\": slice(1.8e6, 0.9e6)},\n",
    "    \"California\": {\"x\": slice(-2.3e6, -1.8e6), \"y\": slice(2.5e6, 1.2e6)},\n",
    "    \"Southeast\": {\"x\": slice(0.6e6, 1.8e6), \"y\": slice(1.6e6, 0.3e6)},\n",
    "}"
   ]
  },
  {
   "cell_type": "markdown",
   "id": "heated-revelation",
   "metadata": {},
   "source": [
    "# Load in fire data\n"
   ]
  },
  {
   "cell_type": "code",
   "execution_count": null,
   "id": "loaded-supervisor",
   "metadata": {},
   "outputs": [],
   "source": [
    "historical_fire = xr.open_zarr(\n",
    "    get_store(\n",
    "        \"carbonplan-forests\", \"risks/results/paper/fire_terraclimate.zarr\"\n",
    "    )\n",
    ").load()\n",
    "fire_mask = ~np.isnan(historical_fire.historical.isel(time=0).drop(\"time\"))"
   ]
  },
  {
   "cell_type": "code",
   "execution_count": null,
   "id": "little-injury",
   "metadata": {},
   "outputs": [],
   "source": [
    "ds = (\n",
    "    xr.open_zarr(\n",
    "        get_store(\"carbonplan-forests\", \"risks/results/paper/fire_cmip.zarr\")\n",
    "    )\n",
    "    .assign_coords({\"x\": mask.x, \"y\": mask.y})\n",
    "    .where(fire_mask)\n",
    "    .groupby(\"time.year\")\n",
    "    .sum()\n",
    "    .where(fire_mask)\n",
    "    .compute()\n",
    ")"
   ]
  },
  {
   "cell_type": "code",
   "execution_count": null,
   "id": "further-smile",
   "metadata": {},
   "outputs": [],
   "source": [
    "historical_annual = (\n",
    "    xr.open_zarr(\n",
    "        get_store(\n",
    "            \"carbonplan-forests\",\n",
    "            \"risks/results/paper/fire_terraclimate.zarr\",\n",
    "        )\n",
    "    )\n",
    "    .assign_coords({\"x\": mask.x, \"y\": mask.y})\n",
    "    .groupby(\"time.year\")\n",
    "    .sum()\n",
    "    .where(fire_mask)\n",
    "    .compute()\n",
    ")"
   ]
  },
  {
   "cell_type": "code",
   "execution_count": null,
   "id": "modified-entrepreneur",
   "metadata": {},
   "outputs": [],
   "source": [
    "def load_regional_results(ds, timestep, region):\n",
    "    selected = ds.sel(**region)\n",
    "    if timestep == \"annual\":\n",
    "        return (\n",
    "            selected.mean(dim=[\"x\", \"y\"])\n",
    "            .rolling(dim={\"year\": 10})\n",
    "            .mean()\n",
    "            .compute()\n",
    "        )\n",
    "    elif timestep == \"decadal\":\n",
    "        return selected.mean(dim=[\"x\", \"y\"]).compute()"
   ]
  },
  {
   "cell_type": "code",
   "execution_count": null,
   "id": "settled-plaza",
   "metadata": {},
   "outputs": [],
   "source": [
    "results_dict = {\"fire\": {}, \"insects\": {}, \"drought\": {}}"
   ]
  },
  {
   "cell_type": "code",
   "execution_count": null,
   "id": "clear-commodity",
   "metadata": {},
   "outputs": [],
   "source": [
    "for region, bbox in region_bboxes.items():\n",
    "    results_dict[\"fire\"][region] = {}\n",
    "    results_dict[\"fire\"][region][\"future\"] = (\n",
    "        load_regional_results(ds, \"annual\", region_bboxes[region])\n",
    "        .sel(year=slice(1970, 2099))\n",
    "        .probability\n",
    "    )\n",
    "    results_dict[\"fire\"][region][\"historical\"] = load_regional_results(\n",
    "        historical_annual, \"annual\", region_bboxes[region]\n",
    "    ).historical"
   ]
  },
  {
   "cell_type": "markdown",
   "id": "combined-millennium",
   "metadata": {},
   "source": [
    "### Load in insect and drought data\n"
   ]
  },
  {
   "cell_type": "code",
   "execution_count": null,
   "id": "comic-third",
   "metadata": {},
   "outputs": [],
   "source": [
    "for impact in [\"insects\", \"drought\"]:\n",
    "    historical_ds = (\n",
    "        xr.open_zarr(\n",
    "            get_store(\n",
    "                \"carbonplan-forests\",\n",
    "                \"risks/results/paper/{}_terraclimate.zarr\".format(impact),\n",
    "            )\n",
    "        )\n",
    "        .assign_coords({\"year\": np.arange(1995, 2020, 10)})\n",
    "        .compute()\n",
    "    )\n",
    "    future_ds = (\n",
    "        xr.open_zarr(\n",
    "            get_store(\n",
    "                \"carbonplan-forests\",\n",
    "                \"risks/results/paper/{}_cmip.zarr\".format(impact),\n",
    "            )\n",
    "        )\n",
    "        .assign_coords({\"year\": np.arange(1975, 2100, 10)})\n",
    "        .compute()\n",
    "    )\n",
    "\n",
    "    for region, bbox in region_bboxes.items():\n",
    "        results_dict[impact][region] = {}\n",
    "        results_dict[impact][region][\"future\"] = (\n",
    "            load_regional_results(future_ds, \"decadal\", region_bboxes[region])\n",
    "            .sel(year=slice(1970, 2099))\n",
    "            .probability\n",
    "        )\n",
    "        results_dict[impact][region][\"historical\"] = load_regional_results(\n",
    "            historical_ds, \"decadal\", region_bboxes[region]\n",
    "        ).probability"
   ]
  },
  {
   "cell_type": "markdown",
   "id": "decent-baltimore",
   "metadata": {},
   "source": [
    "## Plot the figure\n"
   ]
  },
  {
   "cell_type": "code",
   "execution_count": null,
   "id": "obvious-thursday",
   "metadata": {},
   "outputs": [],
   "source": [
    "plot.multipanel_ts(results_dict, region_bboxes, \"Figure-4\")"
   ]
  }
 ],
 "metadata": {
  "kernelspec": {
   "display_name": "Python [conda env:notebook] *",
   "language": "python",
   "name": "conda-env-notebook-py"
  },
  "language_info": {
   "codemirror_mode": {
    "name": "ipython",
    "version": 3
   },
   "file_extension": ".py",
   "mimetype": "text/x-python",
   "name": "python",
   "nbconvert_exporter": "python",
   "pygments_lexer": "ipython3",
   "version": "3.8.8"
  }
 },
 "nbformat": 4,
 "nbformat_minor": 5
}
