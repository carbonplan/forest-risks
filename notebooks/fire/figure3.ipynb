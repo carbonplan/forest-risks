{
 "cells": [
  {
   "cell_type": "markdown",
   "id": "specified-roots",
   "metadata": {},
   "source": [
    "<img width=\"50\" src=\"https://carbonplan-assets.s3.amazonaws.com/monogram/dark-small.png\" style=\"margin-left:0px;margin-top:20px\"/>\n",
    "\n",
    "# Figure 3: Future projections for each impact\n",
    "\n",
    "_Authors: Oriana Chegwidden and Jeremy Freeman_\n",
    "\n",
    "The methods below conduct the analyses to recreate Figure 4 included the\n",
    "manuscript <<< insert doi >>>. Future risks for fire. We show median changes in\n",
    "risk with respect to the historic.\n"
   ]
  },
  {
   "cell_type": "code",
   "execution_count": null,
   "id": "forced-toronto",
   "metadata": {},
   "outputs": [],
   "source": [
    "%load_ext autoreload\n",
    "%autoreload 2\n",
    "\n",
    "import numpy as np\n",
    "import pandas as pd\n",
    "import scipy as sp\n",
    "from carbonplan_forest_risks import load, setup, plot, fit, utils, prepare, collect\n",
    "import xarray as xr\n",
    "from carbonplan_forest_risks.utils import get_store\n",
    "import rioxarray"
   ]
  },
  {
   "cell_type": "code",
   "execution_count": null,
   "id": "emerging-aspect",
   "metadata": {},
   "outputs": [],
   "source": [
    "%matplotlib inline\n",
    "import matplotlib.pyplot as plt\n",
    "from showit import image\n",
    "import scipy as sp\n",
    "import geopandas as gpd\n",
    "import regionmask as rm\n",
    "import altair as alt\n",
    "alt.themes.enable(\"carbonplan_light\")"
   ]
  },
  {
   "cell_type": "code",
   "execution_count": null,
   "id": "musical-catholic",
   "metadata": {},
   "outputs": [],
   "source": [
    "import warnings\n",
    "\n",
    "warnings.filterwarnings(\"ignore\")"
   ]
  },
  {
   "cell_type": "code",
   "execution_count": null,
   "id": "overhead-profile",
   "metadata": {},
   "outputs": [],
   "source": [
    "alt.data_transformers.disable_max_rows()"
   ]
  },
  {
   "cell_type": "code",
   "execution_count": null,
   "id": "amended-wisconsin",
   "metadata": {},
   "outputs": [],
   "source": [
    "coarsen = 4"
   ]
  },
  {
   "cell_type": "code",
   "execution_count": null,
   "id": "graphic-television",
   "metadata": {},
   "outputs": [],
   "source": [
    "mask = (\n",
    "    (\n",
    "        load.nlcd(store=\"az\", year=2001).sel(band=[41, 42, 43, 90]).sum(\"band\")\n",
    "        > 0.25\n",
    "    )\n",
    "    .astype(\"float\")\n",
    "    .coarsen(x=coarsen, y=coarsen, boundary=\"trim\")\n",
    "    .mean()\n",
    ")"
   ]
  },
  {
   "cell_type": "code",
   "execution_count": null,
   "id": "soviet-shooting",
   "metadata": {},
   "outputs": [],
   "source": [
    "historical_fire = xr.open_zarr(\n",
    "    get_store(\"carbonplan-scratch\", \"data/fire_historical_v3.zarr\")\n",
    ").load()\n",
    "fire_mask = ~np.isnan(historical_fire.historical.isel(time=0).drop(\"time\"))"
   ]
  },
  {
   "cell_type": "code",
   "execution_count": null,
   "id": "global-sequence",
   "metadata": {},
   "outputs": [],
   "source": [
    "ds = (\n",
    "    xr.open_zarr(get_store(\"carbonplan-scratch\", \"data/fire_future_v3.zarr\"))\n",
    "    .assign_coords({\"x\": mask.x, \"y\": mask.y})\n",
    "    .where(fire_mask)\n",
    "    .groupby(\"time.year\")\n",
    "    .sum()\n",
    "    .where(fire_mask)\n",
    "    .compute()\n",
    ")"
   ]
  },
  {
   "cell_type": "code",
   "execution_count": null,
   "id": "major-cycle",
   "metadata": {},
   "outputs": [],
   "source": [
    "ds_remaining = (\n",
    "    xr.open_zarr(\n",
    "        get_store(\"carbonplan-scratch\", \"data/fire_future_v3_remaining.zarr\")\n",
    "    )\n",
    "    .assign_coords({\"x\": mask.x, \"y\": mask.y})\n",
    "    .groupby(\"time.year\")\n",
    "    .sum()\n",
    "    .where(fire_mask)\n",
    "    .compute()\n",
    ")"
   ]
  },
  {
   "cell_type": "code",
   "execution_count": null,
   "id": "relevant-chess",
   "metadata": {},
   "outputs": [],
   "source": [
    "ds = xr.merge([ds, ds_remaining])"
   ]
  },
  {
   "cell_type": "code",
   "execution_count": null,
   "id": "underlying-advantage",
   "metadata": {},
   "outputs": [],
   "source": [
    "historical_annual = (\n",
    "    xr.open_zarr(\n",
    "        get_store(\"carbonplan-scratch\", \"data/fire_historical_v3.zarr\")\n",
    "    )\n",
    "    .assign_coords({\"x\": mask.x, \"y\": mask.y})\n",
    "    .groupby(\"time.year\")\n",
    "    .sum()\n",
    "    .where(fire_mask)\n",
    "    .mean(dim=[\"x\", \"y\"])\n",
    "    .compute()\n",
    ")"
   ]
  },
  {
   "cell_type": "code",
   "execution_count": null,
   "id": "spiritual-filename",
   "metadata": {},
   "outputs": [],
   "source": [
    "future_ts = {}\n",
    "future_ts[\"fire\"] = (\n",
    "    ds.mean(dim=[\"x\", \"y\"]).rolling(dim={\"year\": 10}).mean().compute()\n",
    ")"
   ]
  },
  {
   "cell_type": "code",
   "execution_count": null,
   "id": "incomplete-synthetic",
   "metadata": {},
   "outputs": [],
   "source": [
    "gcms = [\n",
    "    (\"ACCESS-CM2\", \"r1i1p1f1\"),\n",
    "    (\"ACCESS-ESM1-5\", \"r10i1p1f1\"),\n",
    "    (\"MRI-ESM2-0\", \"r1i1p1f1\"),\n",
    "    (\"MIROC-ES2L\", \"r1i1p1f2\"),\n",
    "    (\"MPI-ESM1-2-LR\", \"r10i1p1f1\"),\n",
    "    (\"CanESM5-CanOE\", \"r3i1p2f1\"),\n",
    "]"
   ]
  },
  {
   "cell_type": "markdown",
   "id": "natural-federation",
   "metadata": {},
   "source": [
    "### Load in insect data\n"
   ]
  },
  {
   "cell_type": "code",
   "execution_count": null,
   "id": "worldwide-brown",
   "metadata": {},
   "outputs": [],
   "source": [
    "insect_url_template = \"https://carbonplan.blob.core.windows.net/carbonplan-scratch/from_bill/InsectProjections_3-30/InsectModelProjection_{}.{}.{}-{}.{}-v14climate_3-30-2021.tif\""
   ]
  },
  {
   "cell_type": "code",
   "execution_count": null,
   "id": "processed-jason",
   "metadata": {},
   "outputs": [],
   "source": [
    "insects = load_impacts(\n",
    "    insect_url_template, historical_fire, coarsen=coarsen\n",
    ").assign_coords({\"year\": np.arange(1975, 2100, 10)})\n",
    "future_ts[\"insects\"] = insects.mean(dim=[\"x\", \"y\"]).compute() * 100"
   ]
  },
  {
   "cell_type": "markdown",
   "id": "widespread-trunk",
   "metadata": {},
   "source": [
    "### Load in drought data\n"
   ]
  },
  {
   "cell_type": "code",
   "execution_count": null,
   "id": "silent-holder",
   "metadata": {},
   "outputs": [],
   "source": [
    "drought_url_template = \"https://carbonplan.blob.core.windows.net/carbonplan-scratch/from_bill/DroughtProjections_3-31/DroughtModelProjection_{}.{}.{}-{}.{}-v14climate_3-30-2021.tif\"\n",
    "drought = load_impacts(\n",
    "    drought_url_template, historical_fire, coarsen=coarsen\n",
    ").assign_coords({\"year\": np.arange(1975, 2100, 10)})\n",
    "future_ts[\"drought\"] = drought.mean(dim=[\"x\", \"y\"]).compute() * 100"
   ]
  },
  {
   "cell_type": "markdown",
   "id": "resident-metallic",
   "metadata": {},
   "source": [
    "## Plot the figure\n"
   ]
  },
  {
   "cell_type": "code",
   "execution_count": null,
   "id": "matched-postage",
   "metadata": {},
   "outputs": [],
   "source": [
    "gcms = [\n",
    "    (\"MRI-ESM2-0\", (0, 0)),\n",
    "    (\"MIROC-ES2L\", (1, 0)),\n",
    "    (\"MPI-ESM1-2-LR\", (2, 0)),\n",
    "    (\"ACCESS-ESM1-5\", (3, 0)),\n",
    "    (\"ACCESS-CM2\", (4, 0)),\n",
    "    (\"CanESM5-CanOE\", (5, 0)),\n",
    "]\n",
    "scenario_colors = {\n",
    "    \"ssp245\": \"#59A82F\",\n",
    "    \"ssp370\": \"#D8B525\",\n",
    "    \"ssp585\": \"#D83232\",\n",
    "}\n",
    "scenario_colors_light = {\n",
    "    \"ssp245\": \"#DEEED5\",\n",
    "    \"ssp370\": \"#F7F0D3\",\n",
    "    \"ssp585\": \"#F7D6D6\",\n",
    "}\n",
    "titles = [\n",
    "    \"Burn area\\n[fraction/year]\",\n",
    "    \"Drought mortality\\n[]\",\n",
    "    \"Insect mortality\\n[%/year]\",\n",
    "]"
   ]
  },
  {
   "cell_type": "code",
   "execution_count": null,
   "id": "tested-connecticut",
   "metadata": {},
   "outputs": [],
   "source": [
    "plt.rcParams.update({\"font.size\": 14, \"svg.fonttype\": \"none\"})\n",
    "\n",
    "fig, axarr = plt.subplots(nrows=3, figsize=(6, 10), sharex=True)\n",
    "\n",
    "## Fire\n",
    "\n",
    "for scenario in [\"ssp245\", \"ssp370\", \"ssp585\"]:\n",
    "    for (gcm, location) in gcms:\n",
    "        future_ts[\"fire\"][\"{}_{}\".format(gcm, scenario)].sel(\n",
    "            year=slice(\"1970\", \"2099\")\n",
    "        ).plot(ax=axarr[0], color=scenario_colors_light[scenario], alpha=1)\n",
    "\n",
    "for scenario in [\"ssp245\", \"ssp370\", \"ssp585\"]:\n",
    "    future_ts[\"fire\"][\n",
    "        [\"{}_{}\".format(gcm[0], scenario) for gcm in gcms]\n",
    "    ].to_array(dim=\"vars\").mean(\"vars\").plot(\n",
    "        ax=axarr[0], color=scenario_colors[scenario], label=scenario\n",
    "    )\n",
    "historical_annual[\"historical\"].rolling(dim={\"year\": 10}).mean().plot(\n",
    "    ax=axarr[0], color=\"k\", linestyle=\"-\", label=\"Historical\"\n",
    ")\n",
    "axarr[0].set_xlabel(\"\")\n",
    "axarr[0].set_ylim(0, 0.015)\n",
    "axarr[0].set_ylim(0, 0.015)\n",
    "\n",
    "axarr[0].legend()\n",
    "\n",
    "## Insects\n",
    "\n",
    "for scenario in [\"ssp245\", \"ssp370\", \"ssp585\"]:\n",
    "    for (gcm, location) in gcms:\n",
    "        future_ts[\"insects\"].sel(scenario=scenario)[gcm].sel(\n",
    "            year=slice(1970, 2099)\n",
    "        ).plot(ax=axarr[2], color=scenario_colors_light[scenario], alpha=1)\n",
    "\n",
    "for scenario in [\"ssp245\", \"ssp370\", \"ssp585\"]:\n",
    "    future_ts[\"insects\"].sel(scenario=scenario).to_array(dim=\"vars\").mean(\n",
    "        \"vars\"\n",
    "    ).plot(ax=axarr[2], color=scenario_colors[scenario], label=scenario)\n",
    "\n",
    "## Drought\n",
    "\n",
    "for scenario in [\"ssp245\", \"ssp370\", \"ssp585\"]:\n",
    "    for (gcm, location) in gcms:\n",
    "        future_ts[\"drought\"].sel(scenario=scenario)[gcm].sel(\n",
    "            year=slice(1970, 2099)\n",
    "        ).plot(\n",
    "            ax=axarr[1], color=scenario_colors_light[scenario], alpha=1\n",
    "        )  # , alpha=0.5, #marker='.', linestyle='None'\n",
    "\n",
    "for scenario in [\"ssp245\", \"ssp370\", \"ssp585\"]:\n",
    "    future_ts[\"drought\"].sel(scenario=scenario).to_array(dim=\"vars\").mean(\n",
    "        \"vars\"\n",
    "    ).plot(\n",
    "        ax=axarr[1],\n",
    "        color=scenario_colors[scenario],\n",
    "        label=scenario,  # marker='.', markersize=12, linestyle='None'\n",
    "    )\n",
    "\n",
    "for i, impact in enumerate(titles):\n",
    "    axarr[i].set_ylabel(impact)\n",
    "impacts = [\"Fire\", \"Drought\", \"Insects\"]\n",
    "for i, impact in enumerate(impacts):\n",
    "    axarr[i].set_title(impact)\n",
    "plt.tight_layout()\n",
    "plt.savefig(\"future_traces.svg\", format=\"svg\")"
   ]
  }
 ],
 "metadata": {
  "kernelspec": {
   "display_name": "Python [conda env:notebook] *",
   "language": "python",
   "name": "conda-env-notebook-py"
  },
  "language_info": {
   "codemirror_mode": {
    "name": "ipython",
    "version": 3
   },
   "file_extension": ".py",
   "mimetype": "text/x-python",
   "name": "python",
   "nbconvert_exporter": "python",
   "pygments_lexer": "ipython3",
   "version": "3.8.8"
  }
 },
 "nbformat": 4,
 "nbformat_minor": 5
}
