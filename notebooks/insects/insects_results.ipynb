{
 "cells": [
  {
   "cell_type": "markdown",
   "metadata": {},
   "source": [
    "<img width=\"50\" src=\"https://carbonplan-assets.s3.amazonaws.com/monogram/dark-small.png\" style=\"margin-left:0px;margin-top:20px\"/>\n",
    "\n",
    "# FIA Insects Results\n",
    "\n",
    "_by Jeremy Freeman (CarbonPlan), October 26, 2020_\n",
    "\n",
    "This notebook loads insects results.\n"
   ]
  },
  {
   "cell_type": "code",
   "execution_count": null,
   "metadata": {},
   "outputs": [],
   "source": [
    "import numpy as np\n",
    "import pandas as pd\n",
    "from carbonplan_forests import setup, plot, load, fit, utils, prepare"
   ]
  },
  {
   "cell_type": "code",
   "execution_count": null,
   "metadata": {},
   "outputs": [],
   "source": [
    "setup.plotting(remote=False)"
   ]
  },
  {
   "cell_type": "markdown",
   "metadata": {},
   "source": [
    "Load the raw FIA grouped data\n"
   ]
  },
  {
   "cell_type": "code",
   "execution_count": null,
   "metadata": {},
   "outputs": [],
   "source": [
    "pf = pd.read_parquet(\"/Users/freeman/github/carbonplan/forests/scripts/data/insects.parquet\")"
   ]
  },
  {
   "cell_type": "markdown",
   "metadata": {},
   "source": [
    "Filter out bad values\n"
   ]
  },
  {
   "cell_type": "code",
   "execution_count": null,
   "metadata": {},
   "outputs": [],
   "source": [
    "badinds = (pf[\"historical\"] > 1) | (np.isnan(pf[\"historical\"]))\n",
    "for key in pf.columns:\n",
    "    if key not in [\"lat\", \"lon\", \"type_code\", \"r2\"]:\n",
    "        badinds = badinds | ((pf[key] > 1) | (np.isnan(pf[key])))\n",
    "pf = pf[~badinds]"
   ]
  },
  {
   "cell_type": "code",
   "execution_count": null,
   "metadata": {},
   "outputs": [],
   "source": [
    "pf.columns"
   ]
  },
  {
   "cell_type": "markdown",
   "metadata": {},
   "source": [
    "Make a map of the historical prediction (from the period used for fitting)\n"
   ]
  },
  {
   "cell_type": "code",
   "execution_count": null,
   "metadata": {},
   "outputs": [],
   "source": [
    "plot.carto(\n",
    "    lat=pf[\"lat\"],\n",
    "    lon=pf[\"lon\"],\n",
    "    color=pf[\"historical\"],\n",
    "    cmap=\"reds\",\n",
    "    clim=(0, 0.3),\n",
    "    size=2,\n",
    ")"
   ]
  },
  {
   "cell_type": "markdown",
   "metadata": {},
   "source": [
    "Make a time series of spatially averaged projections\n"
   ]
  },
  {
   "cell_type": "code",
   "execution_count": null,
   "metadata": {},
   "outputs": [],
   "source": [
    "years = np.arange(2020, 2120, 20)\n",
    "y1 = [pf[\"BCC-CSM2-MR_ssp245_\" + str(year)].mean() for year in years]\n",
    "y2 = [pf[\"BCC-CSM2-MR_ssp370_\" + str(year)].mean() for year in years]\n",
    "y3 = [pf[\"BCC-CSM2-MR_ssp585_\" + str(year)].mean() for year in years]\n",
    "opts = {\n",
    "    \"color\": \"rgb(164,69,70)\",\n",
    "    \"ylabel\": \"fraction insects\",\n",
    "    \"xlabel\": \"year\",\n",
    "}\n",
    "(\n",
    "    plot.line(x=years, y=y1, opacity=0.5, ylim=[0, 0.02], **opts)\n",
    "    + plot.line(x=years, y=y2, opacity=0.75, **opts)\n",
    "    + plot.line(x=years, y=y3, opacity=1, **opts)\n",
    ")"
   ]
  }
 ],
 "metadata": {
  "kernelspec": {
   "display_name": "Python 3",
   "language": "python",
   "name": "python3"
  },
  "language_info": {
   "codemirror_mode": {
    "name": "ipython",
    "version": 3
   },
   "file_extension": ".py",
   "mimetype": "text/x-python",
   "name": "python",
   "nbconvert_exporter": "python",
   "pygments_lexer": "ipython3",
   "version": "3.8.5"
  }
 },
 "nbformat": 4,
 "nbformat_minor": 4
}
