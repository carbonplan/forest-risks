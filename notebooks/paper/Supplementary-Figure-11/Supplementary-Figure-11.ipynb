{
 "cells": [
  {
   "cell_type": "code",
   "execution_count": null,
   "id": "utility-appeal",
   "metadata": {},
   "outputs": [],
   "source": [
    "%load_ext autoreload\n",
    "%autoreload 2\n",
    "\n",
    "import numpy as np\n",
    "import pandas as pd\n",
    "import scipy as sp\n",
    "from carbonplan_forest_risks import load, setup, plot, fit, utils, prepare, collect\n",
    "import xarray as xr\n",
    "from carbonplan_forest_risks.utils import get_store\n",
    "import altair as alt\n",
    "import rioxarray\n",
    "from carbonplan.data import cat\n",
    "from carbonplan_styles.mpl import get_colormap\n",
    "import cartopy.crs as ccrs\n",
    "import cartopy\n",
    "import cartopy.feature as cfeature\n",
    "import matplotlib.pyplot as plt\n",
    "import matplotlib\n",
    "from mpl_toolkits.axes_grid1 import make_axes_locatable\n",
    "\n",
    "from carbonplan_data import utils\n",
    "alt.data_transformers.disable_max_rows()"
   ]
  },
  {
   "cell_type": "code",
   "execution_count": null,
   "id": "measured-switzerland",
   "metadata": {},
   "outputs": [],
   "source": [
    "coarsen = 4\n",
    "store = \"az\"\n",
    "tlim = (\"1984\", \"2018\")"
   ]
  },
  {
   "cell_type": "code",
   "execution_count": null,
   "id": "comparable-insertion",
   "metadata": {},
   "outputs": [],
   "source": [
    "ds_dict = {\"Observed\": {}, \"Modeled\": {}}"
   ]
  },
  {
   "cell_type": "code",
   "execution_count": null,
   "id": "foster-nature",
   "metadata": {},
   "outputs": [],
   "source": [
    "ds_dict[\"Modeled\"][\"raw\"] = xr.open_zarr(\n",
    "    get_store(\n",
    "        \"carbonplan-forests\", \"risks/results/paper/fire_terraclimate_v6.zarr\"\n",
    "    )\n",
    ")"
   ]
  },
  {
   "cell_type": "code",
   "execution_count": null,
   "id": "inner-kennedy",
   "metadata": {},
   "outputs": [],
   "source": [
    "fire_mask = ~np.isnan(ds_dict[\"Modeled\"][\"raw\"].isel(time=0).drop(\"time\"))"
   ]
  },
  {
   "cell_type": "code",
   "execution_count": null,
   "id": "integral-fireplace",
   "metadata": {},
   "outputs": [],
   "source": [
    "forest_mask = (\n",
    "    load.nlcd(store=store, year=2001).sel(band=[41, 42, 43, 90]).sum(\"band\")\n",
    "    > 0.5\n",
    ").astype(\"float\")"
   ]
  },
  {
   "cell_type": "code",
   "execution_count": null,
   "id": "nearby-paradise",
   "metadata": {},
   "outputs": [],
   "source": [
    "ds_dict[\"Observed\"][\"raw\"] = load.mtbs(\n",
    "    store=store, coarsen=coarsen, tlim=tlim, mask=forest_mask\n",
    ")\n",
    "ds_dict[\"Observed\"][\"raw\"] = (\n",
    "    ds_dict[\"Observed\"][\"raw\"]\n",
    "    .assign_coords(\n",
    "        {\"x\": ds_dict[\"Modeled\"][\"raw\"].x, \"y\": ds_dict[\"Modeled\"][\"raw\"].y}\n",
    "    )\n",
    "    .assign_coords(\n",
    "        {\n",
    "            \"lat\": ds_dict[\"Modeled\"][\"raw\"].lat,\n",
    "            \"lon\": ds_dict[\"Modeled\"][\"raw\"].lon,\n",
    "        }\n",
    "    )[\"monthly\"]\n",
    ")"
   ]
  },
  {
   "cell_type": "code",
   "execution_count": null,
   "id": "constitutional-pursuit",
   "metadata": {},
   "outputs": [],
   "source": [
    "for setup in [\"Observed\", \"Modeled\"]:\n",
    "    ds_dict[setup][\"annual\"] = (\n",
    "        ds_dict[setup][\"raw\"]\n",
    "        .groupby(\"time.year\")\n",
    "        .sum()\n",
    "        .where(fire_mask)\n",
    "        .mean(dim=[\"x\", \"y\"])\n",
    "        .compute()\n",
    "    )\n",
    "    ds_dict[setup][\"seasonal\"] = (\n",
    "        ds_dict[setup][\"raw\"]\n",
    "        .groupby(\"time.month\")\n",
    "        .mean()\n",
    "        .where(fire_mask)\n",
    "        .mean(dim=[\"x\", \"y\"])\n",
    "        .compute()\n",
    "    )"
   ]
  },
  {
   "cell_type": "code",
   "execution_count": null,
   "id": "vocal-earthquake",
   "metadata": {},
   "outputs": [],
   "source": [
    "plot_params = {\n",
    "    \"annual\": {\"y_label\": \"Annual burn area\\n(fraction/year)\"},\n",
    "    \"seasonal\": {\"y_label\": \"Monthly burn area\\n(fraction/month)\"},\n",
    "    \"colors\": {\"Modeled\": \"#E87A3D\", \"Observed\": \"grey\"},\n",
    "}"
   ]
  },
  {
   "cell_type": "code",
   "execution_count": null,
   "id": "challenging-progressive",
   "metadata": {},
   "outputs": [],
   "source": [
    "matplotlib.rc(\"font\", family=\"sans-serif\")\n",
    "matplotlib.rc(\"font\", serif=\"Helvetica Neue\")\n",
    "matplotlib.rc(\"text\", usetex=\"false\")\n",
    "matplotlib.rcParams.update({\"font.size\": 14, \"svg.fonttype\": \"none\"})"
   ]
  },
  {
   "cell_type": "code",
   "execution_count": null,
   "id": "lucky-capability",
   "metadata": {},
   "outputs": [],
   "source": [
    "fig, axarr = plt.subplots(nrows=2, figsize=(8, 8))\n",
    "for setup in [\"Observed\", \"Modeled\"]:\n",
    "    ds_dict[setup][\"annual\"].historical.plot(\n",
    "        ax=axarr[0], color=plot_params[\"colors\"][setup], label=setup\n",
    "    )\n",
    "    axarr[0].set_ylabel(plot_params[\"annual\"][\"y_label\"])\n",
    "    ds_dict[setup][\"seasonal\"].historical.plot(\n",
    "        ax=axarr[1], color=plot_params[\"colors\"][setup], label=setup\n",
    "    )\n",
    "    axarr[1].set_ylabel(plot_params[\"seasonal\"][\"y_label\"])\n",
    "axarr[0].set_xlabel(\"\")\n",
    "axarr[1].set_xlabel(\"\")\n",
    "axarr[0].legend()\n",
    "axarr[1].set_xticks(np.arange(1, 13))\n",
    "axarr[1].set_xticklabels(\n",
    "    [\n",
    "        \"Jan\",\n",
    "        \"Feb\",\n",
    "        \"Mar\",\n",
    "        \"Apr\",\n",
    "        \"May\",\n",
    "        \"Jun\",\n",
    "        \"Jul\",\n",
    "        \"Aug\",\n",
    "        \"Sep\",\n",
    "        \"Oct\",\n",
    "        \"Nov\",\n",
    "        \"Dec\",\n",
    "    ]\n",
    ")\n",
    "plt.savefig(\"supp2.svg\", format=\"svg\", bbox_inches=\"tight\")"
   ]
  }
 ],
 "metadata": {
  "kernelspec": {
   "display_name": "Python [conda env:notebook] *",
   "language": "python",
   "name": "conda-env-notebook-py"
  },
  "language_info": {
   "codemirror_mode": {
    "name": "ipython",
    "version": 3
   },
   "file_extension": ".py",
   "mimetype": "text/x-python",
   "name": "python",
   "nbconvert_exporter": "python",
   "pygments_lexer": "ipython3",
   "version": "3.8.8"
  }
 },
 "nbformat": 4,
 "nbformat_minor": 5
}
