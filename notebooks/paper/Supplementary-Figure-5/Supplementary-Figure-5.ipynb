{
 "cells": [
  {
   "cell_type": "code",
   "execution_count": null,
   "id": "loaded-sullivan",
   "metadata": {},
   "outputs": [],
   "source": [
    "import pandas as pd\n",
    "import numpy as np\n",
    "import matplotlib.pyplot as plt"
   ]
  },
  {
   "cell_type": "code",
   "execution_count": null,
   "id": "comparable-revision",
   "metadata": {},
   "outputs": [],
   "source": [
    "plt.rcParams.update({\"font.size\": 14, \"svg.fonttype\": \"none\"})"
   ]
  },
  {
   "cell_type": "code",
   "execution_count": null,
   "id": "accessible-relations",
   "metadata": {},
   "outputs": [],
   "source": [
    "df_drought_coef = pd.read_csv(\n",
    "    \"SuppFig_DroughtModelCoefficients-WeightedUnweighted_4-26-21.csv\"\n",
    ")\n",
    "df_drought_pred = pd.read_csv(\n",
    "    \"SuppFig_DroughtModelMortPredictions-WeightedUnweighted_4-26-21.csv\"\n",
    ")\n",
    "df_insects_coef = pd.read_csv(\n",
    "    \"SuppFig_InsectModelCoefficients-WeightedUnweighted_4-26-21.csv\"\n",
    ")\n",
    "df_insects_pred = pd.read_csv(\n",
    "    \"SuppFig_InsectModelMortPredictions-WeightedUnweighted_4-26-21.csv\"\n",
    ")"
   ]
  },
  {
   "cell_type": "code",
   "execution_count": null,
   "id": "complimentary-efficiency",
   "metadata": {},
   "outputs": [],
   "source": [
    "fig, axs = plt.subplots(2, 2, figsize=(12, 12))\n",
    "\n",
    "\n",
    "def style(ax):\n",
    "    ax.spines[\"right\"].set_visible(False)\n",
    "    ax.spines[\"top\"].set_visible(False)\n",
    "\n",
    "\n",
    "axs[0][0].plot([-8, 8], [-8, 8], \"gray\")\n",
    "axs[0][0].plot(df_drought_coef[\"V1\"], df_drought_coef[\"V2\"], \"k.\")\n",
    "axs[0][0].set_ylim([-8, 8])\n",
    "axs[0][0].set_xlim([-8, 8])\n",
    "axs[0][0].set_xticks([-5, 0, 5])\n",
    "axs[0][0].set_yticks([-5, 0, 5])\n",
    "axs[0][0].set_ylabel(\"Weighted coefficient\")\n",
    "style(axs[0][0])\n",
    "\n",
    "axs[0][1].plot([-0.005, 0.04], [-0.005, 0.04], \"gray\")\n",
    "axs[0][1].plot(df_drought_pred[\"V1\"], df_drought_pred[\"V2\"], \"k.\")\n",
    "axs[0][1].set_ylim([-0.005, 0.04])\n",
    "axs[0][1].set_xlim([-0.005, 0.04])\n",
    "axs[0][1].set_xticks([0, 0.01, 0.02, 0.03, 0.04])\n",
    "axs[0][1].set_yticks([0, 0.01, 0.02, 0.03, 0.04])\n",
    "axs[0][1].set_ylabel(\"Weighted mortality (%/year)\")\n",
    "axs[0][1].plot([-8, -8], [8, 8], \"k\")\n",
    "style(axs[0][1])\n",
    "\n",
    "axs[1][0].plot([-8, 8], [-8, 8], \"gray\")\n",
    "axs[1][0].plot(df_insects_coef[\"V1\"], df_insects_coef[\"V2\"], \"k.\")\n",
    "axs[1][0].set_ylim([-8, 8])\n",
    "axs[1][0].set_xlim([-8, 8])\n",
    "axs[1][0].set_xticks([-5, 0, 5])\n",
    "axs[1][0].set_yticks([-5, 0, 5])\n",
    "axs[1][0].set_ylabel(\"Weighted coefficient\")\n",
    "axs[1][0].set_xlabel(\"Unweighted coefficient\")\n",
    "style(axs[1][0])\n",
    "\n",
    "axs[1][1].plot([-0.005, 0.04], [-0.005, 0.04], \"gray\")\n",
    "axs[1][1].plot(df_insects_pred[\"V1\"], df_insects_pred[\"V2\"], \"k.\")\n",
    "axs[1][1].set_ylim([-0.005, 0.04])\n",
    "axs[1][1].set_xlim([-0.005, 0.04])\n",
    "axs[1][1].set_xticks([0, 0.01, 0.02, 0.03, 0.04])\n",
    "axs[1][1].set_yticks([0, 0.01, 0.02, 0.03, 0.04])\n",
    "axs[1][1].set_ylabel(\"Weighted mortality (%/year)\")\n",
    "axs[1][1].set_xlabel(\"Unweighted mortality (%/year)\")\n",
    "style(axs[1][1])\n",
    "\n",
    "plt.savefig(\"Supplementary-Figure-5.svg\")"
   ]
  },
  {
   "cell_type": "code",
   "execution_count": null,
   "id": "whole-citation",
   "metadata": {},
   "outputs": [],
   "source": [
    "inds = ~np.isnan(df_insects_pred[\"V1\"]) & ~np.isnan(df_insects_pred[\"V2\"])\n",
    "np.corrcoef(df_insects_pred[\"V1\"][inds], df_insects_pred[\"V2\"][inds]) ** 2"
   ]
  }
 ],
 "metadata": {
  "kernelspec": {
   "display_name": "Python 3",
   "language": "python",
   "name": "python3"
  },
  "language_info": {
   "codemirror_mode": {
    "name": "ipython",
    "version": 3
   },
   "file_extension": ".py",
   "mimetype": "text/x-python",
   "name": "python",
   "nbconvert_exporter": "python",
   "pygments_lexer": "ipython3",
   "version": "3.8.6"
  }
 },
 "nbformat": 4,
 "nbformat_minor": 5
}
