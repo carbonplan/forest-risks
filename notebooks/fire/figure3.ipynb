{
 "cells": [
  {
   "cell_type": "markdown",
   "id": "attached-princeton",
   "metadata": {},
   "source": [
    "<img width=\"50\" src=\"https://carbonplan-assets.s3.amazonaws.com/monogram/dark-small.png\" style=\"margin-left:0px;margin-top:20px\"/>\n",
    "\n",
    "# Figure 3: Future projections for each impact\n",
    "\n",
    "_Authors: Oriana Chegwidden and Jeremy Freeman_\n",
    "\n",
    "The methods below conduct the analyses to recreate Figure 4 included the\n",
    "manuscript <<< insert doi >>>. Future risks for fire. We show median changes in\n",
    "risk with respect to the historic.\n"
   ]
  },
  {
   "cell_type": "code",
   "execution_count": null,
   "id": "traditional-sauce",
   "metadata": {},
   "outputs": [],
   "source": [
    "%load_ext autoreload\n",
    "%autoreload 2\n",
    "\n",
    "import numpy as np\n",
    "import pandas as pd\n",
    "import scipy as sp\n",
    "from carbonplan_forest_risks import load, setup, plot, fit, utils, prepare, collect\n",
    "import xarray as xr\n",
    "from carbonplan_forest_risks.utils import get_store\n",
    "import rioxarray"
   ]
  },
  {
   "cell_type": "code",
   "execution_count": null,
   "id": "handled-hierarchy",
   "metadata": {},
   "outputs": [],
   "source": [
    "%matplotlib inline\n",
    "import matplotlib.pyplot as plt\n",
    "from showit import image\n",
    "import scipy as sp\n",
    "import geopandas as gpd\n",
    "import regionmask as rm\n",
    "import altair as alt\n",
    "alt.themes.enable(\"carbonplan_light\")"
   ]
  },
  {
   "cell_type": "code",
   "execution_count": null,
   "id": "fuzzy-capital",
   "metadata": {},
   "outputs": [],
   "source": [
    "alt.data_transformers.disable_max_rows()"
   ]
  },
  {
   "cell_type": "code",
   "execution_count": null,
   "id": "available-algebra",
   "metadata": {},
   "outputs": [],
   "source": [
    "coarsen = 4"
   ]
  },
  {
   "cell_type": "code",
   "execution_count": null,
   "id": "viral-component",
   "metadata": {},
   "outputs": [],
   "source": [
    "mask = (\n",
    "    (\n",
    "        load.nlcd(store=\"az\", year=2001).sel(band=[41, 42, 43, 90]).sum(\"band\")\n",
    "        > 0.25\n",
    "    )\n",
    "    .astype(\"float\")\n",
    "    .coarsen(x=coarsen, y=coarsen, boundary=\"trim\")\n",
    "    .mean()\n",
    ")"
   ]
  },
  {
   "cell_type": "code",
   "execution_count": null,
   "id": "floral-doctor",
   "metadata": {},
   "outputs": [],
   "source": [
    "historical_fire = xr.open_zarr(\n",
    "    get_store(\"carbonplan-scratch\", \"data/fire_historical_v3.zarr\")\n",
    ")\n",
    "fire_mask = ~np.isnan(historical_fire.historical.isel(time=0).drop(\"time\"))"
   ]
  },
  {
   "cell_type": "code",
   "execution_count": null,
   "id": "european-cleaners",
   "metadata": {},
   "outputs": [],
   "source": [
    "ds = (\n",
    "    xr.open_zarr(get_store(\"carbonplan-scratch\", \"data/fire_future_v3.zarr\"))\n",
    "    .assign_coords({\"x\": mask.x, \"y\": mask.y})\n",
    "    .where(fire_mask)\n",
    "    .groupby(\"time.year\")\n",
    "    .sum()\n",
    "    .where(fire_mask)\n",
    "    .compute()\n",
    ")"
   ]
  },
  {
   "cell_type": "code",
   "execution_count": null,
   "id": "extra-dallas",
   "metadata": {},
   "outputs": [],
   "source": [
    "ds_remaining = (\n",
    "    xr.open_zarr(\n",
    "        get_store(\"carbonplan-scratch\", \"data/fire_future_v3_remaining.zarr\")\n",
    "    )\n",
    "    .assign_coords({\"x\": mask.x, \"y\": mask.y})\n",
    "    .groupby(\"time.year\")\n",
    "    .sum()\n",
    "    .where(fire_mask)\n",
    "    .compute()\n",
    ")"
   ]
  },
  {
   "cell_type": "code",
   "execution_count": null,
   "id": "spiritual-quarter",
   "metadata": {},
   "outputs": [],
   "source": [
    "ds = xr.merge([ds, ds_remaining])"
   ]
  },
  {
   "cell_type": "code",
   "execution_count": null,
   "id": "revolutionary-medicare",
   "metadata": {},
   "outputs": [],
   "source": [
    "historical_annual = (\n",
    "    xr.open_zarr(\n",
    "        get_store(\"carbonplan-scratch\", \"data/fire_historical_v3.zarr\")\n",
    "    )\n",
    "    .assign_coords({\"x\": mask.x, \"y\": mask.y})\n",
    "    .groupby(\"time.year\")\n",
    "    .sum()\n",
    "    .where(fire_mask)\n",
    "    .mean(dim=[\"x\", \"y\"])\n",
    "    .compute()\n",
    ")"
   ]
  },
  {
   "cell_type": "code",
   "execution_count": null,
   "id": "future-revision",
   "metadata": {},
   "outputs": [],
   "source": [
    "future_ts = {}\n",
    "future_ts[\"fire\"] = (\n",
    "    ds.mean(dim=[\"x\", \"y\"]).rolling(dim={\"year\": 10}).mean().compute()\n",
    ")"
   ]
  },
  {
   "cell_type": "markdown",
   "id": "pressed-constant",
   "metadata": {},
   "source": [
    "### Load in insect data\n"
   ]
  },
  {
   "cell_type": "code",
   "execution_count": null,
   "id": "olympic-quantum",
   "metadata": {},
   "outputs": [],
   "source": [
    "bill_url_template = \"https://carbonplan.blob.core.windows.net/carbonplan-scratch/from_bill/InsectProjections/InsectModelProjection_{}.{}.{}-{}.{}-v14climate_3-22-2021.tif\""
   ]
  },
  {
   "cell_type": "code",
   "execution_count": null,
   "id": "alleged-incentive",
   "metadata": {},
   "outputs": [],
   "source": [
    "start_years = np.arange(2000, 2100, 10)\n",
    "end_years = np.arange(2009, 2109, 10)"
   ]
  },
  {
   "cell_type": "code",
   "execution_count": null,
   "id": "major-awareness",
   "metadata": {},
   "outputs": [],
   "source": [
    "insects = xr.full_like(ds.isel(year=slice(None, 10)), np.nan)\n",
    "insects = insects.assign_coords({\"year\": np.arange(2005, 2105, 10)})"
   ]
  },
  {
   "cell_type": "code",
   "execution_count": null,
   "id": "separate-jamaica",
   "metadata": {},
   "outputs": [],
   "source": [
    "gcms = [\n",
    "    (\"ACCESS-CM2\", \"r1i1p1f1\"),\n",
    "    (\"ACCESS-ESM1-5\", \"r10i1p1f1\"),\n",
    "    (\"MRI-ESM2-0\", \"r1i1p1f1\"),\n",
    "    (\"MIROC-ES2L\", \"r1i1p1f2\"),\n",
    "    (\"MPI-ESM1-2-LR\", \"r10i1p1f1\"),\n",
    "    (\"CanESM5-CanOE\", \"r3i1p2f1\"),\n",
    "]\n",
    "\n",
    "for (gcm, ensemble_member) in gcms:\n",
    "    for ssp in [\"ssp245\", \"ssp370\", \"ssp585\"]:\n",
    "        for start_year, end_year in zip(start_years, end_years):\n",
    "            try:\n",
    "                # first load in the individual traces\n",
    "\n",
    "                url = bill_url_template.format(\n",
    "                    gcm, ssp, ensemble_member, start_year, end_year\n",
    "                )\n",
    "                insects[gcm + \"_\" + ssp].loc[start_year + 5] = load.tiff(\n",
    "                    url,\n",
    "                    historical_fire.lat,\n",
    "                    historical_fire.lon,\n",
    "                    historical_fire.x.values,\n",
    "                    historical_fire.y.values,\n",
    "                ).load()\n",
    "\n",
    "            except:\n",
    "                continue\n",
    "        # then add each control time point\n",
    "        url = bill_url_template.format(\n",
    "            gcm, \"historical\", ensemble_member, 2000, 2009\n",
    "        )\n",
    "        insects[gcm + \"_\" + ssp].loc[2005] = load.tiff(\n",
    "            url,\n",
    "            historical_fire.lat,\n",
    "            historical_fire.lon,\n",
    "            historical_fire.x.values,\n",
    "            historical_fire.y.values,\n",
    "        ).load()\n",
    "future_ts[\"insects\"] = insects.mean(dim=[\"x\", \"y\"]).compute() * 100"
   ]
  },
  {
   "cell_type": "markdown",
   "id": "narrow-fancy",
   "metadata": {},
   "source": [
    "## Plot the figure\n"
   ]
  },
  {
   "cell_type": "code",
   "execution_count": null,
   "id": "numeric-construction",
   "metadata": {},
   "outputs": [],
   "source": [
    "gcms = [\n",
    "    (\"MRI-ESM2-0\", (0, 0)),\n",
    "    (\"MIROC-ES2L\", (1, 0)),\n",
    "    (\"MPI-ESM1-2-LR\", (2, 0)),\n",
    "    (\"ACCESS-ESM1-5\", (3, 0)),\n",
    "    (\"ACCESS-CM2\", (4, 0)),\n",
    "    (\"CanESM5-CanOE\", (5, 0)),\n",
    "]\n",
    "scenario_colors = {\n",
    "    \"ssp245\": \"#59A82F\",\n",
    "    \"ssp370\": \"#D8B525\",\n",
    "    \"ssp585\": \"#D83232\",\n",
    "}\n",
    "scenario_colors_light = {\n",
    "    \"ssp245\": \"#DEEED5\",\n",
    "    \"ssp370\": \"#F7F0D3\",\n",
    "    \"ssp585\": \"#F7D6D6\",\n",
    "}\n",
    "titles = [\n",
    "    \"Burn area\\n[fraction/year]\",\n",
    "    \"Drought mortality\\n[]\",\n",
    "    \"Insect mortality\\n[%/year]\",\n",
    "]"
   ]
  },
  {
   "cell_type": "code",
   "execution_count": null,
   "id": "occupied-quarterly",
   "metadata": {},
   "outputs": [],
   "source": [
    "plt.rcParams.update({\"font.size\": 14, \"svg.fonttype\": \"none\"})\n",
    "\n",
    "fig, axarr = plt.subplots(nrows=3, figsize=(6, 10), sharex=True)\n",
    "\n",
    "## Fire\n",
    "\n",
    "for scenario in [\"ssp245\", \"ssp370\", \"ssp585\"]:\n",
    "    for (gcm, location) in gcms:\n",
    "        future_ts[\"fire\"][\"{}_{}\".format(gcm, scenario)].sel(\n",
    "            year=slice(\"1970\", \"2099\")\n",
    "        ).plot(ax=axarr[0], color=scenario_colors_light[scenario], alpha=1)\n",
    "\n",
    "for scenario in [\"ssp245\", \"ssp370\", \"ssp585\"]:\n",
    "    future_ts[\"fire\"][\n",
    "        [\"{}_{}\".format(gcm[0], scenario) for gcm in gcms]\n",
    "    ].to_array(dim=\"vars\").mean(\"vars\").plot(\n",
    "        ax=axarr[0], color=scenario_colors[scenario], label=scenario\n",
    "    )\n",
    "historical_annual[\"historical\"].rolling(dim={\"year\": 10}).mean().plot(\n",
    "    ax=axarr[0], color=\"k\", linestyle=\"-\", label=\"Historical\"\n",
    ")\n",
    "axarr[0].set_xlabel(\"\")\n",
    "axarr[0].set_ylim(0, 0.015)\n",
    "axarr[0].set_ylim(0, 0.015)\n",
    "\n",
    "axarr[0].legend()\n",
    "\n",
    "## Insects\n",
    "\n",
    "for scenario in [\"ssp245\", \"ssp370\", \"ssp585\"]:\n",
    "    for (gcm, location) in gcms:\n",
    "        future_ts[\"insects\"][\"{}_{}\".format(gcm, scenario)].sel(\n",
    "            year=slice(1970, 2099)\n",
    "        ).plot(\n",
    "            ax=axarr[2], color=scenario_colors_light[scenario], alpha=1\n",
    "        )  # , alpha=0.5, #marker='.', linestyle='None'\n",
    "\n",
    "for scenario in [\"ssp245\", \"ssp370\", \"ssp585\"]:\n",
    "    future_ts[\"insects\"][\n",
    "        [\"{}_{}\".format(gcm[0], scenario) for gcm in gcms]\n",
    "    ].to_array(dim=\"vars\").mean(\"vars\").plot(\n",
    "        ax=axarr[2],\n",
    "        color=scenario_colors[scenario],\n",
    "        label=scenario,  # marker='.', markersize=12, linestyle='None'\n",
    "    )\n",
    "\n",
    "for i, impact in enumerate(titles):\n",
    "    axarr[i].set_ylabel(impact)\n",
    "impacts = [\"Fire\", \"Drought\", \"Insects\"]\n",
    "for i, impact in enumerate(impacts):\n",
    "    axarr[i].set_title(impact)\n",
    "plt.tight_layout()\n",
    "plt.savefig(\"future_traces.svg\", format=\"svg\")"
   ]
  }
 ],
 "metadata": {
  "kernelspec": {
   "display_name": "Python [conda env:notebook] *",
   "language": "python",
   "name": "conda-env-notebook-py"
  },
  "language_info": {
   "codemirror_mode": {
    "name": "ipython",
    "version": 3
   },
   "file_extension": ".py",
   "mimetype": "text/x-python",
   "name": "python",
   "nbconvert_exporter": "python",
   "pygments_lexer": "ipython3",
   "version": "3.8.8"
  }
 },
 "nbformat": 4,
 "nbformat_minor": 5
}
