{
 "cells": [
  {
   "cell_type": "code",
   "execution_count": null,
   "id": "947b0886",
   "metadata": {},
   "outputs": [],
   "source": [
    "import xarray as xr\n",
    "import numpy as np\n",
    "import pandas as pd\n",
    "from showit import image\n",
    "from scipy.stats import binom\n",
    "import matplotlib.pyplot as plt\n",
    "import geopandas\n",
    "import rasterio\n",
    "from rasterio import Affine\n",
    "from tqdm import tqdm"
   ]
  },
  {
   "cell_type": "code",
   "execution_count": null,
   "id": "efe27b80",
   "metadata": {},
   "outputs": [],
   "source": [
    "def integrated_risk(p):\n",
    "    return (1 - binom.cdf(0, 20, p)) * 100"
   ]
  },
  {
   "cell_type": "code",
   "execution_count": null,
   "id": "6da00394",
   "metadata": {},
   "outputs": [],
   "source": [
    "ds = xr.open_zarr(\n",
    "    \"https://carbonplan.blob.core.windows.net/carbonplan-forests/risks/results/web/fire.zarr\"\n",
    ").load()"
   ]
  },
  {
   "cell_type": "code",
   "execution_count": null,
   "id": "0fa21c48",
   "metadata": {},
   "outputs": [],
   "source": [
    "counties = geopandas.read_file(\"cb_2021_us_county_500k/cb_2021_us_county_500k.shp\")"
   ]
  },
  {
   "cell_type": "code",
   "execution_count": null,
   "id": "5bae54f7",
   "metadata": {},
   "outputs": [],
   "source": [
    "exclude = list([\"02\", \"15\", \"60\", \"66\", \"69\", \"72\", \"78\"])\n",
    "counties = counties[list(map(lambda x: x not in exclude, counties[\"STATEFP\"]))]"
   ]
  },
  {
   "cell_type": "code",
   "execution_count": null,
   "id": "3e356a4d",
   "metadata": {},
   "outputs": [],
   "source": [
    "counties = counties.to_crs(\"EPSG:5070\").reset_index()"
   ]
  },
  {
   "cell_type": "code",
   "execution_count": null,
   "id": "c3363b94",
   "metadata": {},
   "outputs": [],
   "source": [
    "get_mask = lambda geometry: rasterio.features.geometry_mask(\n",
    "    [geometry],\n",
    "    out_shape=ds.lat.shape,\n",
    "    transform=Affine(4000, 0.0, -2493045.0, 0.0, -4000, 3310005.0),\n",
    "    all_touched=False,\n",
    "    invert=True,\n",
    ")"
   ]
  },
  {
   "cell_type": "code",
   "execution_count": null,
   "id": "cd56a44c",
   "metadata": {},
   "outputs": [],
   "source": [
    "scenarios = [\"ssp245\", \"ssp370\", \"ssp585\"]\n",
    "columns = [\"state_code\", \"state_name\", \"county_code\", \"county_name\"] + list(ds.year.values)\n",
    "data = {key: [] for key in scenarios}\n",
    "dfs = {key: [] for key in scenarios}\n",
    "\n",
    "for index, county in tqdm(counties.iterrows()):\n",
    "    mask = np.tile(get_mask(county[\"geometry\"]), [12, 1, 1])\n",
    "    means = ds.where(mask).mean([\"x\", \"y\"])\n",
    "    for scenario in scenarios:\n",
    "        values = integrated_risk(means[scenario].values)\n",
    "        data[scenario].append(\n",
    "            [\n",
    "                county[\"STATEFP\"],\n",
    "                county[\"STUSPS\"],\n",
    "                county[\"COUNTYFP\"],\n",
    "                county[\"NAME\"],\n",
    "            ]\n",
    "            + list(values)\n",
    "        )\n",
    "\n",
    "for scenario in scenarios:\n",
    "    dfs[scenario] = pd.DataFrame(data[scenario], columns=columns)"
   ]
  },
  {
   "cell_type": "code",
   "execution_count": null,
   "id": "44b0b5be",
   "metadata": {},
   "outputs": [],
   "source": [
    "dfs[\"ssp245\"].dropna().reset_index(drop=True).to_csv(\n",
    "    \"CarbonPlan-Fire-Risk-SSP-4.5.csv\", index=False, header=True\n",
    ")\n",
    "dfs[\"ssp370\"].dropna().reset_index(drop=True).to_csv(\n",
    "    \"CarbonPlan-Fire-Risk-SSP-7.0.csv\", index=False, header=True\n",
    ")\n",
    "dfs[\"ssp585\"].dropna().reset_index(drop=True).to_csv(\n",
    "    \"CarbonPlan-Fire-Risk-SSP-8.5.csv\", index=False, header=True\n",
    ")"
   ]
  },
  {
   "cell_type": "code",
   "execution_count": null,
   "id": "f433c8a2",
   "metadata": {},
   "outputs": [],
   "source": [
    "len(dfs[\"ssp585\"])"
   ]
  },
  {
   "cell_type": "code",
   "execution_count": null,
   "id": "38573ebc",
   "metadata": {},
   "outputs": [],
   "source": [
    "counties[\"fire\"] = dfs[\"ssp585\"][\"2050\"]"
   ]
  },
  {
   "cell_type": "code",
   "execution_count": null,
   "id": "1e0701ae",
   "metadata": {},
   "outputs": [],
   "source": [
    "counties.plot(column=\"fire\", cmap=\"hot\", vmin=0, vmax=50, figsize=(15, 10), legend=True)"
   ]
  },
  {
   "cell_type": "code",
   "execution_count": null,
   "id": "7aa7c6a8",
   "metadata": {},
   "outputs": [],
   "source": [
    "counties.plot(column=\"fire\", cmap=\"hot\", figsize=(15, 10))"
   ]
  },
  {
   "cell_type": "code",
   "execution_count": null,
   "id": "d3f9b311",
   "metadata": {},
   "outputs": [],
   "source": [
    "counties.plot(column=\"fire\", vmin=0, vmax=25)"
   ]
  }
 ],
 "metadata": {
  "kernelspec": {
   "display_name": "Python [conda env:notebook] *",
   "language": "python",
   "name": "conda-env-notebook-py"
  },
  "language_info": {
   "codemirror_mode": {
    "name": "ipython",
    "version": 3
   },
   "file_extension": ".py",
   "mimetype": "text/x-python",
   "name": "python",
   "nbconvert_exporter": "python",
   "pygments_lexer": "ipython3",
   "version": "3.8.12"
  }
 },
 "nbformat": 4,
 "nbformat_minor": 5
}
