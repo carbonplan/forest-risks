{
 "cells": [
  {
   "cell_type": "code",
   "execution_count": null,
   "id": "40c064a4",
   "metadata": {},
   "outputs": [],
   "source": [
    "import pandas as pd\n",
    "import numpy as np\n",
    "import matplotlib.pyplot as plt"
   ]
  },
  {
   "cell_type": "code",
   "execution_count": null,
   "id": "f29d0150",
   "metadata": {},
   "outputs": [],
   "source": [
    "plt.rcParams.update({\"font.size\": 14, \"svg.fonttype\": \"none\"})"
   ]
  },
  {
   "cell_type": "code",
   "execution_count": null,
   "id": "2e47be5a",
   "metadata": {},
   "outputs": [],
   "source": [
    "df = pd.read_csv(\"noanalog_ssp370_4-5-22.csv\")"
   ]
  },
  {
   "cell_type": "code",
   "execution_count": null,
   "id": "fcbc3d1d",
   "metadata": {},
   "outputs": [],
   "source": [
    "fields = [\"tempall\", \"pcpall\", \"pdsiall\", \"cwdall\", \"petall\", \"vpdall\"]\n",
    "labels = {\n",
    "    \"tempall\": {\"x\": \"Percent novel climate (temperature)\"},\n",
    "    \"pcpall\": {\"x\": \"Percent novel climate (precipitation)\"},\n",
    "    \"pdsiall\": {\"x\": \"Percent novel climate (PDSI)\"},\n",
    "    \"cwdall\": {\"x\": \"Percent novel climate (CWD)\"},\n",
    "    \"petall\": {\"x\": \"Percent novel climate (PET)\"},\n",
    "    \"vpdall\": {\"x\": \"Percent novel climate (VPD)\"},\n",
    "}\n",
    "plt.figure(figsize=(16, 8))\n",
    "\n",
    "for i, f in enumerate(fields):\n",
    "    ax = plt.subplot(2, 3, i + 1)\n",
    "    plt.hist(df[f], rwidth=0.8, bins=np.arange(0, 100, 5))\n",
    "    ax.spines[\"top\"].set_visible(False)\n",
    "    ax.spines[\"right\"].set_visible(False)\n",
    "    ax.spines[\"top\"].set_visible(False)\n",
    "    ax.spines[\"right\"].set_visible(False)\n",
    "    if i == 0 or i == 3:\n",
    "        ax.set_ylabel(\"Frequency\")\n",
    "    ax.set_xlabel(labels[f][\"x\"])\n",
    "    ax.set_xlim((-5, 105))\n",
    "\n",
    "plt.savefig(\"Supplementary-Figure-06.svg\")"
   ]
  }
 ],
 "metadata": {
  "kernelspec": {
   "display_name": "Python 3 (ipykernel)",
   "language": "python",
   "name": "python3"
  },
  "language_info": {
   "codemirror_mode": {
    "name": "ipython",
    "version": 3
   },
   "file_extension": ".py",
   "mimetype": "text/x-python",
   "name": "python",
   "nbconvert_exporter": "python",
   "pygments_lexer": "ipython3",
   "version": "3.8.6"
  }
 },
 "nbformat": 4,
 "nbformat_minor": 5
}
