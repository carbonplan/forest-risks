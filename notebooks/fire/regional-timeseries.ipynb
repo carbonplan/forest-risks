{
 "cells": [
  {
   "cell_type": "markdown",
   "id": "advisory-donna",
   "metadata": {},
   "source": [
    "<img width=\"50\" src=\"https://carbonplan-assets.s3.amazonaws.com/monogram/dark-small.png\" style=\"margin-left:0px;margin-top:20px\"/>\n",
    "\n",
    "# Figure 3: Future projections for each impact\n",
    "\n",
    "_Authors: Oriana Chegwidden and Jeremy Freeman_\n",
    "\n",
    "The methods below conduct the analyses to recreate Figure 4 included the\n",
    "manuscript <<< insert doi >>>. Future risks for fire. We show median changes in\n",
    "risk with respect to the historic.\n"
   ]
  },
  {
   "cell_type": "code",
   "execution_count": null,
   "id": "strong-cancer",
   "metadata": {},
   "outputs": [],
   "source": [
    "%load_ext autoreload\n",
    "%autoreload 2\n",
    "\n",
    "import numpy as np\n",
    "import pandas as pd\n",
    "import scipy as sp\n",
    "from carbonplan_forest_risks import load, setup, plot, fit, utils, prepare, collect\n",
    "import xarray as xr\n",
    "from carbonplan_forest_risks.utils import get_store\n",
    "import rioxarray\n",
    "from carbonplan.data import cat\n"
   ]
  },
  {
   "cell_type": "code",
   "execution_count": null,
   "id": "alternative-wallpaper",
   "metadata": {},
   "outputs": [],
   "source": [
    "%matplotlib inline\n",
    "import matplotlib.pyplot as plt\n",
    "from showit import image\n",
    "import scipy as sp\n",
    "import geopandas as gpd\n",
    "import regionmask as rm\n",
    "import altair as alt\n",
    "alt.themes.enable(\"carbonplan_light\")"
   ]
  },
  {
   "cell_type": "code",
   "execution_count": null,
   "id": "electrical-league",
   "metadata": {},
   "outputs": [],
   "source": [
    "import warnings\n",
    "\n",
    "warnings.filterwarnings(\"ignore\")"
   ]
  },
  {
   "cell_type": "code",
   "execution_count": null,
   "id": "macro-license",
   "metadata": {},
   "outputs": [],
   "source": [
    "alt.data_transformers.disable_max_rows()"
   ]
  },
  {
   "cell_type": "code",
   "execution_count": null,
   "id": "primary-papua",
   "metadata": {},
   "outputs": [],
   "source": [
    "coarsen = 4"
   ]
  },
  {
   "cell_type": "code",
   "execution_count": null,
   "id": "administrative-champagne",
   "metadata": {},
   "outputs": [],
   "source": [
    "mask = (\n",
    "    (\n",
    "        load.nlcd(store=\"az\", year=2001).sel(band=[41, 42, 43, 90]).sum(\"band\")\n",
    "        > 0.25\n",
    "    )\n",
    "    .astype(\"float\")\n",
    "    .coarsen(x=coarsen, y=coarsen, boundary=\"trim\")\n",
    "    .mean()\n",
    ")"
   ]
  },
  {
   "cell_type": "code",
   "execution_count": null,
   "id": "grateful-marriage",
   "metadata": {},
   "outputs": [],
   "source": [
    "region_bboxes = {\n",
    "    \"CONUS\": {\"x\": slice(-3e6, 3e6), \"y\": slice(4e6, 0)},\n",
    "    \"PNW\": {\"x\": slice(-2.5e6, -1e6), \"y\": slice(3.5e6, 2.4e6)},\n",
    "    \"Southwest\": {\"x\": slice(-1.8e6, 0.9e6), \"y\": slice(1.8e6, 0.9e6)},\n",
    "    \"Midwest\": {\"x\": slice(-0.7e6, 0.5e6), \"y\": slice(3e6, 1.2e6)},\n",
    "    \"California\": {\"x\": slice(-2.3e6, -1.8e6), \"y\": slice(2.5e6, 1.2e6)},\n",
    "    \"Southeast\": {\n",
    "        \"x\": slice(0.6e6, 1.8e6),\n",
    "        \"y\": slice(1.6e6, 0.3e6),\n",
    "    },\n",
    "}"
   ]
  },
  {
   "cell_type": "markdown",
   "id": "employed-criticism",
   "metadata": {},
   "source": [
    "# Load in fire data\n"
   ]
  },
  {
   "cell_type": "code",
   "execution_count": null,
   "id": "municipal-klein",
   "metadata": {},
   "outputs": [],
   "source": [
    "historical_fire = xr.open_zarr(\n",
    "    get_store(\n",
    "        \"carbonplan-forests\", \"risks/results/paper/fire_terraclimate_v6.zarr\"\n",
    "    )\n",
    ").load()\n",
    "fire_mask = ~np.isnan(historical_fire.historical.isel(time=0).drop(\"time\"))"
   ]
  },
  {
   "cell_type": "code",
   "execution_count": null,
   "id": "manual-trust",
   "metadata": {},
   "outputs": [],
   "source": [
    "ds = (\n",
    "    xr.open_zarr(\n",
    "        get_store(\"carbonplan-forests\", \"risks/results/paper/fire_cmip_v6.zarr\")\n",
    "    )\n",
    "    .assign_coords({\"x\": mask.x, \"y\": mask.y})\n",
    "    .where(fire_mask)\n",
    "    .groupby(\"time.year\")\n",
    "    .sum()\n",
    "    .where(fire_mask)\n",
    "    .compute()\n",
    ")"
   ]
  },
  {
   "cell_type": "code",
   "execution_count": null,
   "id": "vocal-saturn",
   "metadata": {},
   "outputs": [],
   "source": [
    "historical_annual = (\n",
    "    xr.open_zarr(\n",
    "        get_store(\n",
    "            \"carbonplan-forests\",\n",
    "            \"risks/results/paper/fire_terraclimate_v6.zarr\",\n",
    "        )\n",
    "    )\n",
    "    .assign_coords({\"x\": mask.x, \"y\": mask.y})\n",
    "    .groupby(\"time.year\")\n",
    "    .sum()\n",
    "    .where(fire_mask)\n",
    "    .compute()\n",
    ")"
   ]
  },
  {
   "cell_type": "code",
   "execution_count": null,
   "id": "reduced-ebony",
   "metadata": {},
   "outputs": [],
   "source": [
    "results_dict = {\"fire\": {}, \"insects\": {}, \"drought\": {}}\n",
    "for region, bbox in region_bboxes.items():\n",
    "    results_dict[\"fire\"][region] = {}\n",
    "    selected = ds.sel(**region_bboxes[region])\n",
    "    selected_historical = historical_annual.sel(**region_bboxes[region])\n",
    "    results_dict[\"fire\"][region][\"future\"] = (\n",
    "        selected.mean(dim=[\"x\", \"y\"]).rolling(dim={\"year\": 10}).mean().compute()\n",
    "    )\n",
    "    results_dict[\"fire\"][region][\"historical\"] = (\n",
    "        selected_historical.mean(dim=[\"x\", \"y\"])\n",
    "        .rolling(dim={\"year\": 10})\n",
    "        .mean()\n",
    "        .compute()\n",
    "    )"
   ]
  },
  {
   "cell_type": "code",
   "execution_count": null,
   "id": "brave-horror",
   "metadata": {},
   "outputs": [],
   "source": [
    "gcms = [\n",
    "    (\"ACCESS-CM2\", \"r1i1p1f1\"),\n",
    "    (\"ACCESS-ESM1-5\", \"r10i1p1f1\"),\n",
    "    (\"MRI-ESM2-0\", \"r1i1p1f1\"),\n",
    "    (\"MIROC-ES2L\", \"r1i1p1f2\"),\n",
    "    (\"MPI-ESM1-2-LR\", \"r10i1p1f1\"),\n",
    "    (\"CanESM5-CanOE\", \"r3i1p2f1\"),\n",
    "]"
   ]
  },
  {
   "cell_type": "markdown",
   "id": "transsexual-kingdom",
   "metadata": {},
   "source": [
    "### Load in insect and drought data\n"
   ]
  },
  {
   "cell_type": "code",
   "execution_count": null,
   "id": "another-parish",
   "metadata": {},
   "outputs": [],
   "source": [
    "for impact in [\"insects\", \"drought\"]:\n",
    "    historical_ds = (\n",
    "        xr.open_zarr(\n",
    "            get_store(\n",
    "                \"carbonplan-forests\",\n",
    "                \"risks/results/paper/{}_terraclimate.zarr\".format(impact),\n",
    "            )\n",
    "        )\n",
    "        .assign_coords({\"year\": np.arange(1995, 2020, 10)})\n",
    "        .compute()\n",
    "    )\n",
    "    future_ds = (\n",
    "        xr.open_zarr(\n",
    "            get_store(\n",
    "                \"carbonplan-forests\",\n",
    "                \"risks/results/paper/{}_cmip_v5.zarr\".format(impact),\n",
    "            )\n",
    "        )\n",
    "        .assign_coords({\"year\": np.arange(1975, 2100, 10)})\n",
    "        .compute()\n",
    "    )\n",
    "\n",
    "    for region, bbox in region_bboxes.items():\n",
    "        results_dict[impact][region] = {}\n",
    "        selected_future = future_ds.sel(**region_bboxes[region])\n",
    "        selected_historical = historical_ds.sel(**region_bboxes[region])\n",
    "        results_dict[impact][region][\"future\"] = selected_future.mean(\n",
    "            dim=[\"x\", \"y\"]\n",
    "        ).compute()\n",
    "        results_dict[impact][region][\"historical\"] = selected_historical.mean(\n",
    "            dim=[\"x\", \"y\"]\n",
    "        ).compute()"
   ]
  },
  {
   "cell_type": "markdown",
   "id": "knowing-notion",
   "metadata": {},
   "source": [
    "## Plot the figure\n"
   ]
  },
  {
   "cell_type": "code",
   "execution_count": null,
   "id": "popular-rocket",
   "metadata": {},
   "outputs": [],
   "source": [
    "gcms = [\n",
    "    (\"MRI-ESM2-0\", (0, 0)),\n",
    "    (\"MIROC-ES2L\", (1, 0)),\n",
    "    (\"MPI-ESM1-2-LR\", (2, 0)),\n",
    "    (\"ACCESS-ESM1-5\", (3, 0)),\n",
    "    (\"ACCESS-CM2\", (4, 0)),\n",
    "    (\"CanESM5-CanOE\", (5, 0)),\n",
    "]\n",
    "scenario_colors = {\n",
    "    \"ssp245\": \"#59A82F\",\n",
    "    \"ssp370\": \"#D8B525\",\n",
    "    \"ssp585\": \"#D83232\",\n",
    "}\n",
    "scenario_colors_light = {\n",
    "    \"ssp245\": \"#DEEED5\",\n",
    "    \"ssp370\": \"#F7F0D3\",\n",
    "    \"ssp585\": \"#F7D6D6\",\n",
    "}\n",
    "titles = {\n",
    "    \"fire\": \"Burn area\\n(fraction/year)\",\n",
    "    \"drought\": \"Drought-related\\nmortality (%/year)\",\n",
    "    \"insects\": \"Insect-related\\nmortality (%/year)\",\n",
    "}\n",
    "ylims = {\n",
    "    \"fire\": (0, 0.05),\n",
    "    \"drought\": (0, 2.5),\n",
    "    \"insects\": (0, 1),\n",
    "}\n",
    "ssp_rename = {\"ssp245\": \"SSP2-4.5\", \"ssp370\": \"SSP3-7.0\", \"ssp585\": \"SSP5-8.5\"}"
   ]
  },
  {
   "cell_type": "code",
   "execution_count": null,
   "id": "economic-terror",
   "metadata": {},
   "outputs": [],
   "source": [
    "plt.rcParams.update({\"font.size\": 14, \"svg.fonttype\": \"none\"})\n",
    "\n",
    "fig, axarr = plt.subplots(\n",
    "    nrows=3,\n",
    "    ncols=len(region_bboxes),\n",
    "    figsize=(24, 10),\n",
    "    sharex=True,\n",
    "    sharey=\"row\",\n",
    ")\n",
    "\n",
    "## Fire\n",
    "for j, region in enumerate(region_bboxes.keys()):\n",
    "    for scenario in [\"ssp245\", \"ssp370\", \"ssp585\"]:\n",
    "        for (gcm, location) in gcms:\n",
    "            results_dict[\"fire\"][region][\"future\"].probability.sel(\n",
    "                gcm=gcm, scenario=scenario\n",
    "            ).sel(year=slice(\"1970\", \"2099\")).plot(\n",
    "                ax=axarr[0, j], color=scenario_colors_light[scenario], alpha=1\n",
    "            )\n",
    "\n",
    "    for scenario in [\"ssp245\", \"ssp370\", \"ssp585\"]:\n",
    "        results_dict[\"fire\"][region][\"future\"].probability.sel(\n",
    "            scenario=scenario\n",
    "        ).mean(dim=\"gcm\").plot(\n",
    "            ax=axarr[0, j],\n",
    "            color=scenario_colors[scenario],\n",
    "            label=ssp_rename[scenario],\n",
    "        )\n",
    "    results_dict[\"fire\"][region][\"historical\"].historical.plot(\n",
    "        ax=axarr[0, j], color=\"k\", linestyle=\"-\", label=\"Historical\"\n",
    "    )\n",
    "\n",
    "    # Drought and insects\n",
    "    for i, impact in enumerate([\"drought\", \"insects\"]):\n",
    "        results_dict[impact][region][\"historical\"].probability.plot(\n",
    "            ax=axarr[i + 1, j], color=\"k\", zorder=50\n",
    "        )\n",
    "\n",
    "        for scenario in [\"ssp245\", \"ssp370\", \"ssp585\"]:\n",
    "            for (gcm, location) in gcms:\n",
    "                results_dict[impact][region][\"future\"].probability.sel(\n",
    "                    scenario=scenario, gcm=gcm\n",
    "                ).sel(year=slice(1970, 2099)).plot(\n",
    "                    ax=axarr[i + 1, j],\n",
    "                    color=scenario_colors_light[scenario],\n",
    "                )\n",
    "\n",
    "        for scenario in [\"ssp245\", \"ssp370\", \"ssp585\"]:\n",
    "            results_dict[impact][region][\"future\"].probability.sel(\n",
    "                scenario=scenario\n",
    "            ).mean(dim=\"gcm\").plot(\n",
    "                ax=axarr[i + 1, j],\n",
    "                color=scenario_colors[scenario],\n",
    "                label=ssp_rename[scenario],\n",
    "            )\n",
    "\n",
    "    for i, (impact, title) in enumerate(titles.items()):\n",
    "        axarr[i, j].set_xlim(1970, 2100)\n",
    "        axarr[i, j].set_xlabel(\"\")\n",
    "        axarr[i, j].set_ylabel(\"\")\n",
    "        axarr[i, j].set_ylim(ylims[impact])\n",
    "        axarr[i, j].set_title(\"\")\n",
    "for i, (impact, title) in enumerate(titles.items()):\n",
    "    axarr[i, 0].set_ylabel(title)\n",
    "for j, region in enumerate(region_bboxes):\n",
    "    axarr[0, j].set_title(region)\n",
    "axarr[0, 5].legend()\n",
    "plt.tight_layout()\n",
    "for format_string in [\"svg\", \"png\"]:\n",
    "    plt.savefig(\"fig4_v17.\" + format_string, format=format_string)"
   ]
  }
 ],
 "metadata": {
  "kernelspec": {
   "display_name": "Python [conda env:notebook] *",
   "language": "python",
   "name": "conda-env-notebook-py"
  },
  "language_info": {
   "codemirror_mode": {
    "name": "ipython",
    "version": 3
   },
   "file_extension": ".py",
   "mimetype": "text/x-python",
   "name": "python",
   "nbconvert_exporter": "python",
   "pygments_lexer": "ipython3",
   "version": "3.8.8"
  }
 },
 "nbformat": 4,
 "nbformat_minor": 5
}
